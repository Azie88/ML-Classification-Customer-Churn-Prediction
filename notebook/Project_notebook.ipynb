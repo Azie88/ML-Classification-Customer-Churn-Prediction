{
 "cells": [
  {
   "cell_type": "markdown",
   "metadata": {},
   "source": [
    "# Customer Churn Prediction in Telecommunication: Proactive Strategies for Sustainable Growth\n",
    "\n",
    "## Introduction\n",
    "\n",
    "In the dynamic world of telecommunications, customer churn remains a pressing challenge for companies striving to achieve sustained success. Customers have alot of options and evolving preferences, accurately predicting churn has become important to retain and satisfy them. Customer churn is basically the loss of customers.\n",
    "\n",
    "In this project, we use Supervised Machine Learning (classification) to explore the significance of churn analytics as a strategic tool for telecommunication companies to proactively identify potential risk factors for churn, optimize retention efforts, and cultivate lasting customer relationships. By leveraging data-driven insights and advanced analytics, companies can gain a competitive edge and ensure sustainable growth in an ever-changing industry.\n",
    "\n",
    "## 1. Business Understanding\n",
    "The churn analytics predictive model is a data-driven solution designed to address the persistent challenge of customer churn in subscription-based industries. This model aims to identify customers at risk of churn, enabling businesses to take proactive measures and implement targeted retention strategies. \n",
    "\n",
    "The primary objective is to reduce customer churn rates and retain valuable customers by providing insights into customer behavior, preferences, and patterns. Utilizing machine learning models such as logistic regression and decision trees, the model evaluates the data to build accurate predictions. \n",
    "\n",
    "Its performance is assessed through metrics like accuracy, precision, recall and F1-score. Armed with the model's insights, businesses can create personalized offers, marketing campaigns, and proactive customer support initiatives, thus improving customer satisfaction and fostering loyalty. \n",
    "\n",
    "### Hypothesis\n",
    "\n",
    "**Null Hypothesis (H0)**:\n",
    "\"There is no significant relationship between customer tenure, monthly charges, total charges, and churn rate in the telecom company.\"\n",
    "\n",
    "**Alternative Hypothesis (Ha)**:\n",
    "\"There is a significant relationship between customer tenure, monthly charges, total charges, and churn rate in the telecom company.\"\n",
    "\n",
    "### Research Questions\n",
    "\n",
    "1. How does customer tenure relate to churn rates? Are long-tenured customers more likely to stay with the company, and do new customers exhibit higher churn behavior?\n",
    "\n",
    "2. Is there a correlation between the total charges and churn rates? Do customers with higher total charges exhibit different churn behavior compared to those with lower total charges\n",
    "\n",
    "3. What is the impact of contract type on churn rates? Do customers on long-term contracts have significantly lower churn rates compared to those on short-term contracts?\n",
    "\n",
    "4. Are there significant differences in churn behavior between customers who have device protection and those who don't?\n",
    "\n",
    "5. What is the relationship between the availability of tech support and churn rates? Are customers with access to tech support more likely to remain with the company?\n",
    "\n",
    "6. Do streaming services play a role in customer churn? Are customers with streaming services, such as StreamingTV and StreamingMovies, more likely to stay with the company?\n",
    "\n",
    "7. How does the choice of payment method impact churn rates? Are customers with specific payment methods more prone to churn than others?\n",
    "\n",
    "\n"
   ]
  },
  {
   "cell_type": "markdown",
   "metadata": {},
   "source": [
    "## 2. Data Understanding"
   ]
  },
  {
   "cell_type": "markdown",
   "metadata": {},
   "source": [
    "## Installing libraries  and Packages\n",
    "Here is the section to import all the packages/libraries that will be used through this notebook."
   ]
  },
  {
   "cell_type": "code",
   "execution_count": 1,
   "metadata": {},
   "outputs": [],
   "source": [
    "# %pip install pyodbc\n",
    "# %pip install python-dotenv \n",
    "# %pip install openpyxl\n",
    "# %pip install imbalanced-learn"
   ]
  },
  {
   "cell_type": "code",
   "execution_count": 2,
   "metadata": {},
   "outputs": [],
   "source": [
    "# Database connections\n",
    "\n",
    "import pyodbc \n",
    "from dotenv import dotenv_values #import the dotenv_values function from the dotenv package\n",
    "import warnings \n",
    "warnings.filterwarnings('ignore')\n",
    "\n",
    "# Data handling\n",
    "import pandas as pd\n",
    "pd.set_option('display.max_columns', None)\n",
    "import openpyxl\n",
    "import numpy as np\n",
    "\n",
    "# Vizualisation (Matplotlib, Plotly, Seaborn, etc. )\n",
    "import seaborn as sns\n",
    "sns.set_style('whitegrid')\n",
    "import matplotlib.pyplot as plt\n",
    "import matplotlib.ticker as ticker\n",
    "import plotly.express as px\n",
    "import plotly.graph_objects as go\n",
    "import plotly.io as pio\n",
    "import plotly.colors as colors\n",
    "from plotly.subplots import make_subplots\n",
    "\n",
    "# EDA (pandas-profiling, etc. )\n",
    "from statsmodels.genmod.families import Binomial\n",
    "from scipy.stats import pointbiserialr\n",
    "\n",
    "# Feature Processing (Scikit-learn processing, etc. )\n",
    "from sklearn.model_selection import train_test_split\n",
    "from sklearn.preprocessing import LabelEncoder\n",
    "\n",
    "# Machine Learning (Scikit-learn Estimators, Catboost, LightGBM, etc. )\n",
    "...\n",
    "\n",
    "# Hyperparameters Fine-tuning (Scikit-learn hp search, cross-validation, etc. )\n",
    "...\n",
    "\n",
    "# Other packages\n",
    "import os, pickle"
   ]
  },
  {
   "cell_type": "markdown",
   "metadata": {},
   "source": [
    "## Data Loading\n",
    "### Accessing first dataset from the database\n",
    "The first 3000 records of the dataset can be found in a remote database.\n",
    "\n",
    "-   **pyodbc**: A package for creating connection strings to your remote database\n",
    "-   **python-dotenv**: A package for creating environment variables that will help you hide sensitve configuration informantion such as database credentials and API keys\n",
    "\n",
    "The second dataset (2000 records) is already available as a .xlsx file. **This is the test dataset**\n",
    "\n",
    "The third dataset is already available as a .csv file."
   ]
  },
  {
   "cell_type": "code",
   "execution_count": 3,
   "metadata": {},
   "outputs": [],
   "source": [
    "# # Load environment variables from .env file into a dictionary\n",
    "environment_variables = dotenv_values('.env')\n",
    "\n",
    "\n",
    "# # Get the values for the credentials you set in the '.env' file\n",
    "database = environment_variables.get(\"DATABASE\")\n",
    "server = environment_variables.get(\"SERVER\")\n",
    "username = environment_variables.get(\"USERNAME\")\n",
    "password = environment_variables.get(\"PASSWORD\")\n",
    "\n",
    "\n",
    "connection_string = f\"DRIVER={{SQL Server}};SERVER=tcp:{server};DATABASE={database};UID={username};PWD={password}\""
   ]
  },
  {
   "cell_type": "code",
   "execution_count": 4,
   "metadata": {},
   "outputs": [],
   "source": [
    "# Use the connect method of the pyodbc library and pass in the connection string.\n",
    "# This will connect to the server and might take a few seconds to be complete. \n",
    "# Check your internet connection if it takes more time than necessary\n",
    "\n",
    "connection = pyodbc.connect(connection_string)"
   ]
  },
  {
   "cell_type": "code",
   "execution_count": 5,
   "metadata": {},
   "outputs": [
    {
     "name": "stdout",
     "output_type": "stream",
     "text": [
      "LP2_Telco_churn_first_3000\n",
      "trace_xe_action_map\n",
      "trace_xe_event_map\n"
     ]
    }
   ],
   "source": [
    "# Get the cursor\n",
    "cursor = connection.cursor()\n",
    "\n",
    "# Retrieve the table names\n",
    "table_names = cursor.tables(tableType='TABLE')\n",
    "\n",
    "# Fetch all the table names\n",
    "tables = table_names.fetchall()\n",
    "\n",
    "# Print the table names\n",
    "for table in tables:\n",
    "    print(table.table_name)"
   ]
  },
  {
   "cell_type": "code",
   "execution_count": 6,
   "metadata": {},
   "outputs": [],
   "source": [
    "# sql query to get the data\n",
    "\n",
    "query = \"SELECT * FROM LP2_Telco_churn_first_3000\"\n",
    "data=pd.read_sql(query,connection)"
   ]
  },
  {
   "cell_type": "code",
   "execution_count": 7,
   "metadata": {},
   "outputs": [
    {
     "data": {
      "text/html": [
       "<div>\n",
       "<style scoped>\n",
       "    .dataframe tbody tr th:only-of-type {\n",
       "        vertical-align: middle;\n",
       "    }\n",
       "\n",
       "    .dataframe tbody tr th {\n",
       "        vertical-align: top;\n",
       "    }\n",
       "\n",
       "    .dataframe thead th {\n",
       "        text-align: right;\n",
       "    }\n",
       "</style>\n",
       "<table border=\"1\" class=\"dataframe\">\n",
       "  <thead>\n",
       "    <tr style=\"text-align: right;\">\n",
       "      <th></th>\n",
       "      <th>customerID</th>\n",
       "      <th>gender</th>\n",
       "      <th>SeniorCitizen</th>\n",
       "      <th>Partner</th>\n",
       "      <th>Dependents</th>\n",
       "      <th>tenure</th>\n",
       "      <th>PhoneService</th>\n",
       "      <th>MultipleLines</th>\n",
       "      <th>InternetService</th>\n",
       "      <th>OnlineSecurity</th>\n",
       "      <th>OnlineBackup</th>\n",
       "      <th>DeviceProtection</th>\n",
       "      <th>TechSupport</th>\n",
       "      <th>StreamingTV</th>\n",
       "      <th>StreamingMovies</th>\n",
       "      <th>Contract</th>\n",
       "      <th>PaperlessBilling</th>\n",
       "      <th>PaymentMethod</th>\n",
       "      <th>MonthlyCharges</th>\n",
       "      <th>TotalCharges</th>\n",
       "      <th>Churn</th>\n",
       "    </tr>\n",
       "  </thead>\n",
       "  <tbody>\n",
       "    <tr>\n",
       "      <th>0</th>\n",
       "      <td>7590-VHVEG</td>\n",
       "      <td>Female</td>\n",
       "      <td>False</td>\n",
       "      <td>True</td>\n",
       "      <td>False</td>\n",
       "      <td>1</td>\n",
       "      <td>False</td>\n",
       "      <td>None</td>\n",
       "      <td>DSL</td>\n",
       "      <td>False</td>\n",
       "      <td>True</td>\n",
       "      <td>False</td>\n",
       "      <td>False</td>\n",
       "      <td>False</td>\n",
       "      <td>False</td>\n",
       "      <td>Month-to-month</td>\n",
       "      <td>True</td>\n",
       "      <td>Electronic check</td>\n",
       "      <td>29.850000</td>\n",
       "      <td>29.850000</td>\n",
       "      <td>False</td>\n",
       "    </tr>\n",
       "    <tr>\n",
       "      <th>1</th>\n",
       "      <td>5575-GNVDE</td>\n",
       "      <td>Male</td>\n",
       "      <td>False</td>\n",
       "      <td>False</td>\n",
       "      <td>False</td>\n",
       "      <td>34</td>\n",
       "      <td>True</td>\n",
       "      <td>False</td>\n",
       "      <td>DSL</td>\n",
       "      <td>True</td>\n",
       "      <td>False</td>\n",
       "      <td>True</td>\n",
       "      <td>False</td>\n",
       "      <td>False</td>\n",
       "      <td>False</td>\n",
       "      <td>One year</td>\n",
       "      <td>False</td>\n",
       "      <td>Mailed check</td>\n",
       "      <td>56.950001</td>\n",
       "      <td>1889.500000</td>\n",
       "      <td>False</td>\n",
       "    </tr>\n",
       "    <tr>\n",
       "      <th>2</th>\n",
       "      <td>3668-QPYBK</td>\n",
       "      <td>Male</td>\n",
       "      <td>False</td>\n",
       "      <td>False</td>\n",
       "      <td>False</td>\n",
       "      <td>2</td>\n",
       "      <td>True</td>\n",
       "      <td>False</td>\n",
       "      <td>DSL</td>\n",
       "      <td>True</td>\n",
       "      <td>True</td>\n",
       "      <td>False</td>\n",
       "      <td>False</td>\n",
       "      <td>False</td>\n",
       "      <td>False</td>\n",
       "      <td>Month-to-month</td>\n",
       "      <td>True</td>\n",
       "      <td>Mailed check</td>\n",
       "      <td>53.849998</td>\n",
       "      <td>108.150002</td>\n",
       "      <td>True</td>\n",
       "    </tr>\n",
       "    <tr>\n",
       "      <th>3</th>\n",
       "      <td>7795-CFOCW</td>\n",
       "      <td>Male</td>\n",
       "      <td>False</td>\n",
       "      <td>False</td>\n",
       "      <td>False</td>\n",
       "      <td>45</td>\n",
       "      <td>False</td>\n",
       "      <td>None</td>\n",
       "      <td>DSL</td>\n",
       "      <td>True</td>\n",
       "      <td>False</td>\n",
       "      <td>True</td>\n",
       "      <td>True</td>\n",
       "      <td>False</td>\n",
       "      <td>False</td>\n",
       "      <td>One year</td>\n",
       "      <td>False</td>\n",
       "      <td>Bank transfer (automatic)</td>\n",
       "      <td>42.299999</td>\n",
       "      <td>1840.750000</td>\n",
       "      <td>False</td>\n",
       "    </tr>\n",
       "    <tr>\n",
       "      <th>4</th>\n",
       "      <td>9237-HQITU</td>\n",
       "      <td>Female</td>\n",
       "      <td>False</td>\n",
       "      <td>False</td>\n",
       "      <td>False</td>\n",
       "      <td>2</td>\n",
       "      <td>True</td>\n",
       "      <td>False</td>\n",
       "      <td>Fiber optic</td>\n",
       "      <td>False</td>\n",
       "      <td>False</td>\n",
       "      <td>False</td>\n",
       "      <td>False</td>\n",
       "      <td>False</td>\n",
       "      <td>False</td>\n",
       "      <td>Month-to-month</td>\n",
       "      <td>True</td>\n",
       "      <td>Electronic check</td>\n",
       "      <td>70.699997</td>\n",
       "      <td>151.649994</td>\n",
       "      <td>True</td>\n",
       "    </tr>\n",
       "  </tbody>\n",
       "</table>\n",
       "</div>"
      ],
      "text/plain": [
       "   customerID  gender  SeniorCitizen  Partner  Dependents  tenure   \n",
       "0  7590-VHVEG  Female          False     True       False       1  \\\n",
       "1  5575-GNVDE    Male          False    False       False      34   \n",
       "2  3668-QPYBK    Male          False    False       False       2   \n",
       "3  7795-CFOCW    Male          False    False       False      45   \n",
       "4  9237-HQITU  Female          False    False       False       2   \n",
       "\n",
       "   PhoneService MultipleLines InternetService OnlineSecurity OnlineBackup   \n",
       "0         False          None             DSL          False         True  \\\n",
       "1          True         False             DSL           True        False   \n",
       "2          True         False             DSL           True         True   \n",
       "3         False          None             DSL           True        False   \n",
       "4          True         False     Fiber optic          False        False   \n",
       "\n",
       "  DeviceProtection TechSupport StreamingTV StreamingMovies        Contract   \n",
       "0            False       False       False           False  Month-to-month  \\\n",
       "1             True       False       False           False        One year   \n",
       "2            False       False       False           False  Month-to-month   \n",
       "3             True        True       False           False        One year   \n",
       "4            False       False       False           False  Month-to-month   \n",
       "\n",
       "   PaperlessBilling              PaymentMethod  MonthlyCharges  TotalCharges   \n",
       "0              True           Electronic check       29.850000     29.850000  \\\n",
       "1             False               Mailed check       56.950001   1889.500000   \n",
       "2              True               Mailed check       53.849998    108.150002   \n",
       "3             False  Bank transfer (automatic)       42.299999   1840.750000   \n",
       "4              True           Electronic check       70.699997    151.649994   \n",
       "\n",
       "   Churn  \n",
       "0  False  \n",
       "1  False  \n",
       "2   True  \n",
       "3  False  \n",
       "4   True  "
      ]
     },
     "execution_count": 7,
     "metadata": {},
     "output_type": "execute_result"
    }
   ],
   "source": [
    "# preview the data\n",
    "\n",
    "data.head()"
   ]
  },
  {
   "cell_type": "code",
   "execution_count": 8,
   "metadata": {},
   "outputs": [
    {
     "name": "stdout",
     "output_type": "stream",
     "text": [
      "<class 'pandas.core.frame.DataFrame'>\n",
      "RangeIndex: 3000 entries, 0 to 2999\n",
      "Data columns (total 21 columns):\n",
      " #   Column            Non-Null Count  Dtype  \n",
      "---  ------            --------------  -----  \n",
      " 0   customerID        3000 non-null   object \n",
      " 1   gender            3000 non-null   object \n",
      " 2   SeniorCitizen     3000 non-null   bool   \n",
      " 3   Partner           3000 non-null   bool   \n",
      " 4   Dependents        3000 non-null   bool   \n",
      " 5   tenure            3000 non-null   int64  \n",
      " 6   PhoneService      3000 non-null   bool   \n",
      " 7   MultipleLines     2731 non-null   object \n",
      " 8   InternetService   3000 non-null   object \n",
      " 9   OnlineSecurity    2349 non-null   object \n",
      " 10  OnlineBackup      2349 non-null   object \n",
      " 11  DeviceProtection  2349 non-null   object \n",
      " 12  TechSupport       2349 non-null   object \n",
      " 13  StreamingTV       2349 non-null   object \n",
      " 14  StreamingMovies   2349 non-null   object \n",
      " 15  Contract          3000 non-null   object \n",
      " 16  PaperlessBilling  3000 non-null   bool   \n",
      " 17  PaymentMethod     3000 non-null   object \n",
      " 18  MonthlyCharges    3000 non-null   float64\n",
      " 19  TotalCharges      2995 non-null   float64\n",
      " 20  Churn             2999 non-null   object \n",
      "dtypes: bool(5), float64(2), int64(1), object(13)\n",
      "memory usage: 389.8+ KB\n"
     ]
    }
   ],
   "source": [
    "data.info()"
   ]
  },
  {
   "cell_type": "code",
   "execution_count": 9,
   "metadata": {},
   "outputs": [
    {
     "data": {
      "text/html": [
       "<div>\n",
       "<style scoped>\n",
       "    .dataframe tbody tr th:only-of-type {\n",
       "        vertical-align: middle;\n",
       "    }\n",
       "\n",
       "    .dataframe tbody tr th {\n",
       "        vertical-align: top;\n",
       "    }\n",
       "\n",
       "    .dataframe thead th {\n",
       "        text-align: right;\n",
       "    }\n",
       "</style>\n",
       "<table border=\"1\" class=\"dataframe\">\n",
       "  <thead>\n",
       "    <tr style=\"text-align: right;\">\n",
       "      <th></th>\n",
       "      <th>customerID</th>\n",
       "      <th>gender</th>\n",
       "      <th>SeniorCitizen</th>\n",
       "      <th>Partner</th>\n",
       "      <th>Dependents</th>\n",
       "      <th>tenure</th>\n",
       "      <th>PhoneService</th>\n",
       "      <th>MultipleLines</th>\n",
       "      <th>InternetService</th>\n",
       "      <th>OnlineSecurity</th>\n",
       "      <th>OnlineBackup</th>\n",
       "      <th>DeviceProtection</th>\n",
       "      <th>TechSupport</th>\n",
       "      <th>StreamingTV</th>\n",
       "      <th>StreamingMovies</th>\n",
       "      <th>Contract</th>\n",
       "      <th>PaperlessBilling</th>\n",
       "      <th>PaymentMethod</th>\n",
       "      <th>MonthlyCharges</th>\n",
       "      <th>TotalCharges</th>\n",
       "    </tr>\n",
       "  </thead>\n",
       "  <tbody>\n",
       "    <tr>\n",
       "      <th>0</th>\n",
       "      <td>7613-LLQFO</td>\n",
       "      <td>Male</td>\n",
       "      <td>0</td>\n",
       "      <td>No</td>\n",
       "      <td>No</td>\n",
       "      <td>12</td>\n",
       "      <td>Yes</td>\n",
       "      <td>Yes</td>\n",
       "      <td>Fiber optic</td>\n",
       "      <td>No</td>\n",
       "      <td>No</td>\n",
       "      <td>No</td>\n",
       "      <td>No</td>\n",
       "      <td>Yes</td>\n",
       "      <td>No</td>\n",
       "      <td>Month-to-month</td>\n",
       "      <td>Yes</td>\n",
       "      <td>Electronic check</td>\n",
       "      <td>84.45</td>\n",
       "      <td>1059.55</td>\n",
       "    </tr>\n",
       "    <tr>\n",
       "      <th>1</th>\n",
       "      <td>4568-TTZRT</td>\n",
       "      <td>Male</td>\n",
       "      <td>0</td>\n",
       "      <td>No</td>\n",
       "      <td>No</td>\n",
       "      <td>9</td>\n",
       "      <td>Yes</td>\n",
       "      <td>No</td>\n",
       "      <td>No</td>\n",
       "      <td>No internet service</td>\n",
       "      <td>No internet service</td>\n",
       "      <td>No internet service</td>\n",
       "      <td>No internet service</td>\n",
       "      <td>No internet service</td>\n",
       "      <td>No internet service</td>\n",
       "      <td>Month-to-month</td>\n",
       "      <td>No</td>\n",
       "      <td>Mailed check</td>\n",
       "      <td>20.40</td>\n",
       "      <td>181.8</td>\n",
       "    </tr>\n",
       "    <tr>\n",
       "      <th>2</th>\n",
       "      <td>9513-DXHDA</td>\n",
       "      <td>Male</td>\n",
       "      <td>0</td>\n",
       "      <td>No</td>\n",
       "      <td>No</td>\n",
       "      <td>27</td>\n",
       "      <td>Yes</td>\n",
       "      <td>No</td>\n",
       "      <td>DSL</td>\n",
       "      <td>Yes</td>\n",
       "      <td>No</td>\n",
       "      <td>Yes</td>\n",
       "      <td>Yes</td>\n",
       "      <td>Yes</td>\n",
       "      <td>Yes</td>\n",
       "      <td>One year</td>\n",
       "      <td>No</td>\n",
       "      <td>Electronic check</td>\n",
       "      <td>81.70</td>\n",
       "      <td>2212.55</td>\n",
       "    </tr>\n",
       "    <tr>\n",
       "      <th>3</th>\n",
       "      <td>2640-PMGFL</td>\n",
       "      <td>Male</td>\n",
       "      <td>0</td>\n",
       "      <td>No</td>\n",
       "      <td>Yes</td>\n",
       "      <td>27</td>\n",
       "      <td>Yes</td>\n",
       "      <td>Yes</td>\n",
       "      <td>Fiber optic</td>\n",
       "      <td>No</td>\n",
       "      <td>No</td>\n",
       "      <td>No</td>\n",
       "      <td>Yes</td>\n",
       "      <td>No</td>\n",
       "      <td>No</td>\n",
       "      <td>Month-to-month</td>\n",
       "      <td>Yes</td>\n",
       "      <td>Electronic check</td>\n",
       "      <td>79.50</td>\n",
       "      <td>2180.55</td>\n",
       "    </tr>\n",
       "    <tr>\n",
       "      <th>4</th>\n",
       "      <td>3801-HMYNL</td>\n",
       "      <td>Male</td>\n",
       "      <td>0</td>\n",
       "      <td>Yes</td>\n",
       "      <td>Yes</td>\n",
       "      <td>1</td>\n",
       "      <td>Yes</td>\n",
       "      <td>No</td>\n",
       "      <td>Fiber optic</td>\n",
       "      <td>No</td>\n",
       "      <td>No</td>\n",
       "      <td>No</td>\n",
       "      <td>No</td>\n",
       "      <td>Yes</td>\n",
       "      <td>Yes</td>\n",
       "      <td>Month-to-month</td>\n",
       "      <td>No</td>\n",
       "      <td>Mailed check</td>\n",
       "      <td>89.15</td>\n",
       "      <td>89.15</td>\n",
       "    </tr>\n",
       "  </tbody>\n",
       "</table>\n",
       "</div>"
      ],
      "text/plain": [
       "   customerID gender  SeniorCitizen Partner Dependents  tenure PhoneService   \n",
       "0  7613-LLQFO   Male              0      No         No      12          Yes  \\\n",
       "1  4568-TTZRT   Male              0      No         No       9          Yes   \n",
       "2  9513-DXHDA   Male              0      No         No      27          Yes   \n",
       "3  2640-PMGFL   Male              0      No        Yes      27          Yes   \n",
       "4  3801-HMYNL   Male              0     Yes        Yes       1          Yes   \n",
       "\n",
       "  MultipleLines InternetService       OnlineSecurity         OnlineBackup   \n",
       "0           Yes     Fiber optic                   No                   No  \\\n",
       "1            No              No  No internet service  No internet service   \n",
       "2            No             DSL                  Yes                   No   \n",
       "3           Yes     Fiber optic                   No                   No   \n",
       "4            No     Fiber optic                   No                   No   \n",
       "\n",
       "      DeviceProtection          TechSupport          StreamingTV   \n",
       "0                   No                   No                  Yes  \\\n",
       "1  No internet service  No internet service  No internet service   \n",
       "2                  Yes                  Yes                  Yes   \n",
       "3                   No                  Yes                   No   \n",
       "4                   No                   No                  Yes   \n",
       "\n",
       "       StreamingMovies        Contract PaperlessBilling     PaymentMethod   \n",
       "0                   No  Month-to-month              Yes  Electronic check  \\\n",
       "1  No internet service  Month-to-month               No      Mailed check   \n",
       "2                  Yes        One year               No  Electronic check   \n",
       "3                   No  Month-to-month              Yes  Electronic check   \n",
       "4                  Yes  Month-to-month               No      Mailed check   \n",
       "\n",
       "   MonthlyCharges TotalCharges  \n",
       "0           84.45      1059.55  \n",
       "1           20.40        181.8  \n",
       "2           81.70      2212.55  \n",
       "3           79.50      2180.55  \n",
       "4           89.15        89.15  "
      ]
     },
     "execution_count": 9,
     "metadata": {},
     "output_type": "execute_result"
    }
   ],
   "source": [
    "# Load Telco second 2000 data with openpyxl\n",
    "\n",
    "data_xls = pd.read_excel('Telco-churn-second-2000.xlsx')\n",
    "data_xls.head()"
   ]
  },
  {
   "cell_type": "code",
   "execution_count": 10,
   "metadata": {},
   "outputs": [
    {
     "name": "stdout",
     "output_type": "stream",
     "text": [
      "<class 'pandas.core.frame.DataFrame'>\n",
      "RangeIndex: 2000 entries, 0 to 1999\n",
      "Data columns (total 20 columns):\n",
      " #   Column            Non-Null Count  Dtype  \n",
      "---  ------            --------------  -----  \n",
      " 0   customerID        2000 non-null   object \n",
      " 1   gender            2000 non-null   object \n",
      " 2   SeniorCitizen     2000 non-null   int64  \n",
      " 3   Partner           2000 non-null   object \n",
      " 4   Dependents        2000 non-null   object \n",
      " 5   tenure            2000 non-null   int64  \n",
      " 6   PhoneService      2000 non-null   object \n",
      " 7   MultipleLines     2000 non-null   object \n",
      " 8   InternetService   2000 non-null   object \n",
      " 9   OnlineSecurity    2000 non-null   object \n",
      " 10  OnlineBackup      2000 non-null   object \n",
      " 11  DeviceProtection  2000 non-null   object \n",
      " 12  TechSupport       2000 non-null   object \n",
      " 13  StreamingTV       2000 non-null   object \n",
      " 14  StreamingMovies   2000 non-null   object \n",
      " 15  Contract          2000 non-null   object \n",
      " 16  PaperlessBilling  2000 non-null   object \n",
      " 17  PaymentMethod     2000 non-null   object \n",
      " 18  MonthlyCharges    2000 non-null   float64\n",
      " 19  TotalCharges      2000 non-null   object \n",
      "dtypes: float64(1), int64(2), object(17)\n",
      "memory usage: 312.6+ KB\n"
     ]
    }
   ],
   "source": [
    "# this is our test dataset to be used later\n",
    "\n",
    "data_xls.info()"
   ]
  },
  {
   "cell_type": "code",
   "execution_count": 11,
   "metadata": {},
   "outputs": [],
   "source": [
    "# save to csv\n",
    "\n",
    "data_xls.to_csv (\"Telco-churn-second-2000.csv\", \n",
    "                  index = None,\n",
    "                  header=True)"
   ]
  },
  {
   "cell_type": "code",
   "execution_count": 12,
   "metadata": {},
   "outputs": [
    {
     "data": {
      "text/html": [
       "<div>\n",
       "<style scoped>\n",
       "    .dataframe tbody tr th:only-of-type {\n",
       "        vertical-align: middle;\n",
       "    }\n",
       "\n",
       "    .dataframe tbody tr th {\n",
       "        vertical-align: top;\n",
       "    }\n",
       "\n",
       "    .dataframe thead th {\n",
       "        text-align: right;\n",
       "    }\n",
       "</style>\n",
       "<table border=\"1\" class=\"dataframe\">\n",
       "  <thead>\n",
       "    <tr style=\"text-align: right;\">\n",
       "      <th></th>\n",
       "      <th>customerID</th>\n",
       "      <th>gender</th>\n",
       "      <th>SeniorCitizen</th>\n",
       "      <th>Partner</th>\n",
       "      <th>Dependents</th>\n",
       "      <th>tenure</th>\n",
       "      <th>PhoneService</th>\n",
       "      <th>MultipleLines</th>\n",
       "      <th>InternetService</th>\n",
       "      <th>OnlineSecurity</th>\n",
       "      <th>OnlineBackup</th>\n",
       "      <th>DeviceProtection</th>\n",
       "      <th>TechSupport</th>\n",
       "      <th>StreamingTV</th>\n",
       "      <th>StreamingMovies</th>\n",
       "      <th>Contract</th>\n",
       "      <th>PaperlessBilling</th>\n",
       "      <th>PaymentMethod</th>\n",
       "      <th>MonthlyCharges</th>\n",
       "      <th>TotalCharges</th>\n",
       "      <th>Churn</th>\n",
       "    </tr>\n",
       "  </thead>\n",
       "  <tbody>\n",
       "    <tr>\n",
       "      <th>0</th>\n",
       "      <td>5600-PDUJF</td>\n",
       "      <td>Male</td>\n",
       "      <td>0</td>\n",
       "      <td>No</td>\n",
       "      <td>No</td>\n",
       "      <td>6</td>\n",
       "      <td>Yes</td>\n",
       "      <td>No</td>\n",
       "      <td>DSL</td>\n",
       "      <td>No</td>\n",
       "      <td>No</td>\n",
       "      <td>No</td>\n",
       "      <td>Yes</td>\n",
       "      <td>No</td>\n",
       "      <td>No</td>\n",
       "      <td>Month-to-month</td>\n",
       "      <td>Yes</td>\n",
       "      <td>Credit card (automatic)</td>\n",
       "      <td>49.50</td>\n",
       "      <td>312.7</td>\n",
       "      <td>No</td>\n",
       "    </tr>\n",
       "    <tr>\n",
       "      <th>1</th>\n",
       "      <td>8292-TYSPY</td>\n",
       "      <td>Male</td>\n",
       "      <td>0</td>\n",
       "      <td>No</td>\n",
       "      <td>No</td>\n",
       "      <td>19</td>\n",
       "      <td>Yes</td>\n",
       "      <td>No</td>\n",
       "      <td>DSL</td>\n",
       "      <td>No</td>\n",
       "      <td>No</td>\n",
       "      <td>Yes</td>\n",
       "      <td>Yes</td>\n",
       "      <td>No</td>\n",
       "      <td>No</td>\n",
       "      <td>Month-to-month</td>\n",
       "      <td>Yes</td>\n",
       "      <td>Credit card (automatic)</td>\n",
       "      <td>55.00</td>\n",
       "      <td>1046.5</td>\n",
       "      <td>Yes</td>\n",
       "    </tr>\n",
       "    <tr>\n",
       "      <th>2</th>\n",
       "      <td>0567-XRHCU</td>\n",
       "      <td>Female</td>\n",
       "      <td>0</td>\n",
       "      <td>Yes</td>\n",
       "      <td>Yes</td>\n",
       "      <td>69</td>\n",
       "      <td>No</td>\n",
       "      <td>No phone service</td>\n",
       "      <td>DSL</td>\n",
       "      <td>Yes</td>\n",
       "      <td>No</td>\n",
       "      <td>Yes</td>\n",
       "      <td>No</td>\n",
       "      <td>No</td>\n",
       "      <td>Yes</td>\n",
       "      <td>Two year</td>\n",
       "      <td>Yes</td>\n",
       "      <td>Credit card (automatic)</td>\n",
       "      <td>43.95</td>\n",
       "      <td>2960.1</td>\n",
       "      <td>No</td>\n",
       "    </tr>\n",
       "    <tr>\n",
       "      <th>3</th>\n",
       "      <td>1867-BDVFH</td>\n",
       "      <td>Male</td>\n",
       "      <td>0</td>\n",
       "      <td>Yes</td>\n",
       "      <td>Yes</td>\n",
       "      <td>11</td>\n",
       "      <td>Yes</td>\n",
       "      <td>Yes</td>\n",
       "      <td>Fiber optic</td>\n",
       "      <td>No</td>\n",
       "      <td>No</td>\n",
       "      <td>No</td>\n",
       "      <td>No</td>\n",
       "      <td>No</td>\n",
       "      <td>No</td>\n",
       "      <td>Month-to-month</td>\n",
       "      <td>Yes</td>\n",
       "      <td>Electronic check</td>\n",
       "      <td>74.35</td>\n",
       "      <td>834.2</td>\n",
       "      <td>Yes</td>\n",
       "    </tr>\n",
       "    <tr>\n",
       "      <th>4</th>\n",
       "      <td>2067-QYTCF</td>\n",
       "      <td>Female</td>\n",
       "      <td>0</td>\n",
       "      <td>Yes</td>\n",
       "      <td>No</td>\n",
       "      <td>64</td>\n",
       "      <td>Yes</td>\n",
       "      <td>Yes</td>\n",
       "      <td>Fiber optic</td>\n",
       "      <td>No</td>\n",
       "      <td>Yes</td>\n",
       "      <td>Yes</td>\n",
       "      <td>Yes</td>\n",
       "      <td>Yes</td>\n",
       "      <td>Yes</td>\n",
       "      <td>Month-to-month</td>\n",
       "      <td>Yes</td>\n",
       "      <td>Electronic check</td>\n",
       "      <td>111.15</td>\n",
       "      <td>6953.4</td>\n",
       "      <td>No</td>\n",
       "    </tr>\n",
       "  </tbody>\n",
       "</table>\n",
       "</div>"
      ],
      "text/plain": [
       "   customerID  gender  SeniorCitizen Partner Dependents  tenure PhoneService   \n",
       "0  5600-PDUJF    Male              0      No         No       6          Yes  \\\n",
       "1  8292-TYSPY    Male              0      No         No      19          Yes   \n",
       "2  0567-XRHCU  Female              0     Yes        Yes      69           No   \n",
       "3  1867-BDVFH    Male              0     Yes        Yes      11          Yes   \n",
       "4  2067-QYTCF  Female              0     Yes         No      64          Yes   \n",
       "\n",
       "      MultipleLines InternetService OnlineSecurity OnlineBackup   \n",
       "0                No             DSL             No           No  \\\n",
       "1                No             DSL             No           No   \n",
       "2  No phone service             DSL            Yes           No   \n",
       "3               Yes     Fiber optic             No           No   \n",
       "4               Yes     Fiber optic             No          Yes   \n",
       "\n",
       "  DeviceProtection TechSupport StreamingTV StreamingMovies        Contract   \n",
       "0               No         Yes          No              No  Month-to-month  \\\n",
       "1              Yes         Yes          No              No  Month-to-month   \n",
       "2              Yes          No          No             Yes        Two year   \n",
       "3               No          No          No              No  Month-to-month   \n",
       "4              Yes         Yes         Yes             Yes  Month-to-month   \n",
       "\n",
       "  PaperlessBilling            PaymentMethod  MonthlyCharges TotalCharges Churn  \n",
       "0              Yes  Credit card (automatic)           49.50        312.7    No  \n",
       "1              Yes  Credit card (automatic)           55.00       1046.5   Yes  \n",
       "2              Yes  Credit card (automatic)           43.95       2960.1    No  \n",
       "3              Yes         Electronic check           74.35        834.2   Yes  \n",
       "4              Yes         Electronic check          111.15       6953.4    No  "
      ]
     },
     "execution_count": 12,
     "metadata": {},
     "output_type": "execute_result"
    }
   ],
   "source": [
    "# load and preview last dataset\n",
    "\n",
    "data2 = pd.read_csv('LP2_Telco-churn-last-2000.csv')\n",
    "data2.head()"
   ]
  },
  {
   "cell_type": "code",
   "execution_count": 13,
   "metadata": {},
   "outputs": [
    {
     "name": "stdout",
     "output_type": "stream",
     "text": [
      "<class 'pandas.core.frame.DataFrame'>\n",
      "RangeIndex: 2043 entries, 0 to 2042\n",
      "Data columns (total 21 columns):\n",
      " #   Column            Non-Null Count  Dtype  \n",
      "---  ------            --------------  -----  \n",
      " 0   customerID        2043 non-null   object \n",
      " 1   gender            2043 non-null   object \n",
      " 2   SeniorCitizen     2043 non-null   int64  \n",
      " 3   Partner           2043 non-null   object \n",
      " 4   Dependents        2043 non-null   object \n",
      " 5   tenure            2043 non-null   int64  \n",
      " 6   PhoneService      2043 non-null   object \n",
      " 7   MultipleLines     2043 non-null   object \n",
      " 8   InternetService   2043 non-null   object \n",
      " 9   OnlineSecurity    2043 non-null   object \n",
      " 10  OnlineBackup      2043 non-null   object \n",
      " 11  DeviceProtection  2043 non-null   object \n",
      " 12  TechSupport       2043 non-null   object \n",
      " 13  StreamingTV       2043 non-null   object \n",
      " 14  StreamingMovies   2043 non-null   object \n",
      " 15  Contract          2043 non-null   object \n",
      " 16  PaperlessBilling  2043 non-null   object \n",
      " 17  PaymentMethod     2043 non-null   object \n",
      " 18  MonthlyCharges    2043 non-null   float64\n",
      " 19  TotalCharges      2043 non-null   object \n",
      " 20  Churn             2043 non-null   object \n",
      "dtypes: float64(1), int64(2), object(18)\n",
      "memory usage: 335.3+ KB\n"
     ]
    }
   ],
   "source": [
    "data2.info()"
   ]
  },
  {
   "cell_type": "code",
   "execution_count": 14,
   "metadata": {},
   "outputs": [
    {
     "data": {
      "text/plain": [
       "((3000, 21), (2000, 20), (2043, 21))"
      ]
     },
     "execution_count": 14,
     "metadata": {},
     "output_type": "execute_result"
    }
   ],
   "source": [
    "(data.shape,data_xls.shape,data2.shape)"
   ]
  },
  {
   "cell_type": "markdown",
   "metadata": {},
   "source": [
    "<a id='3'></a>\n",
    "# 3 Descriptive Analysis"
   ]
  },
  {
   "cell_type": "markdown",
   "metadata": {},
   "source": [
    "<table>\n",
    "<thead><tr>\n",
    "<th><strong>Feature Name</strong></th>\n",
    "<th><strong>Description</strong></th>\n",
    "<th><strong>Data Type</strong></th>\n",
    "</tr>\n",
    "</thead>\n",
    "<tbody>\n",
    "<tr>\n",
    "<td>customerID</td>\n",
    "<td>Contains customer ID</td>\n",
    "<td>categorical</td>\n",
    "</tr>\n",
    "<tr>\n",
    "<td>gender</td>\n",
    "<td>whether the customer female or male</td>\n",
    "<td>categorical</td>\n",
    "</tr>\n",
    "<tr>\n",
    "<td>SeniorCitizen</td>\n",
    "<td>Whether the customer is a senior citizen or not (1, 0)</td>\n",
    "<td>numeric, int</td>\n",
    "</tr>\n",
    "<tr>\n",
    "<td>Partner</td>\n",
    "<td>Whether the customer has a partner or not (Yes, No)</td>\n",
    "<td>categorical</td>\n",
    "</tr>\n",
    "<tr>\n",
    "<td>Dependents</td>\n",
    "<td>Whether the customer has dependents or not (Yes, No)</td>\n",
    "<td>categorical</td>\n",
    "</tr>\n",
    "<tr>\n",
    "<td>tenure</td>\n",
    "<td>Number of months the customer has stayed with the company</td>\n",
    "<td>numeric, int</td>\n",
    "</tr>\n",
    "<tr>\n",
    "<td>PhoneService</td>\n",
    "<td>Whether the customer has a phone service or not (Yes, No)</td>\n",
    "<td>categorical</td>\n",
    "</tr>\n",
    "<tr>\n",
    "<td>MultipleLines</td>\n",
    "<td>Whether the customer has multiple lines r not (Yes, No, No phone service)</td>\n",
    "<td>categorical</td>\n",
    "</tr>\n",
    "<tr>\n",
    "<td>InternetService</td>\n",
    "<td>Customer’s internet service provider (DSL, Fiber optic, No)</td>\n",
    "<td>categorical</td>\n",
    "</tr>\n",
    "<tr>\n",
    "<td>OnlineSecurity</td>\n",
    "<td>Whether the customer has online security or not (Yes, No, No internet service)</td>\n",
    "<td>categorical</td>\n",
    "</tr>\n",
    "<tr>\n",
    "<td>OnlineBackup</td>\n",
    "<td>Whether the customer has online backup or not (Yes, No, No internet service)</td>\n",
    "<td>categorical</td>\n",
    "</tr>\n",
    "<tr>\n",
    "<td>DeviceProtection</td>\n",
    "<td>Whether the customer has device protection or not (Yes, No, No internet service)</td>\n",
    "<td>categorical</td>\n",
    "</tr>\n",
    "<tr>\n",
    "<td>TechSupport</td>\n",
    "<td>Whether the customer has tech support or not (Yes, No, No internet service)</td>\n",
    "<td>categorical</td>\n",
    "</tr>\n",
    "<tr>\n",
    "<td>streamingTV</td>\n",
    "<td>Whether the customer has streaming TV or not (Yes, No, No internet service)</td>\n",
    "<td>categorical</td>\n",
    "</tr>\n",
    "<tr>\n",
    "<td>streamingMovies</td>\n",
    "<td>Whether the customer has streaming movies or not (Yes, No, No internet service)</td>\n",
    "<td>categorical</td>\n",
    "</tr>\n",
    "<tr>\n",
    "<td>Contract</td>\n",
    "<td>The contract term of the customer (Month-to-month, One year, Two year)</td>\n",
    "<td>categorical</td>\n",
    "</tr>\n",
    "<tr>\n",
    "<td>PaperlessBilling</td>\n",
    "<td>Whether the customer has paperless billing or not (Yes, No)</td>\n",
    "<td>categorical</td>\n",
    "</tr>\n",
    "<tr>\n",
    "<td>PaymentMethod</td>\n",
    "<td>The customer’s payment method (Electronic check, Mailed check, Bank transfer, Credit card)</td>\n",
    "<td>categorical</td>\n",
    "</tr>\n",
    "<tr>\n",
    "<td>MonthlyCharges</td>\n",
    "<td>The amount charged to the customer monthly </td>\n",
    "<td> numeric , int</td>\n",
    "</tr>\n",
    "<tr>\n",
    "<td>TotalCharges</td>\n",
    "<td>The total amount charged to the customer </td>\n",
    "<td>object</td>\n",
    "</tr>\n",
    "<tr>\n",
    "<td>Churn</td>\n",
    "<td>Whether the customer churned or not (Yes or No)</td>\n",
    "<td>categorical</td>\n",
    "</tr>\n",
    "</tbody>\n",
    "</table>"
   ]
  },
  {
   "cell_type": "markdown",
   "metadata": {},
   "source": [
    "#### Issues with data\n",
    "-  First 3000 dataset and last 2000 dataset need to be merged, however they have inconsistent Dtypes that need to be synchronized\n",
    "-  We need to remove the Customer ID column as it is not necessary for our analysis\n",
    "-  Missing values in First 3000 dataset need to be sorted out\n",
    "-  TotalCharges Column needs to be changed to numeric Dtype"
   ]
  },
  {
   "cell_type": "code",
   "execution_count": 15,
   "metadata": {},
   "outputs": [],
   "source": [
    "# Deleting Customer ID column\n",
    "\n",
    "del data[\"customerID\"]"
   ]
  },
  {
   "cell_type": "code",
   "execution_count": 16,
   "metadata": {},
   "outputs": [],
   "source": [
    "# convert bool columns to object Dtypes\n",
    "\n",
    "bool_to_obj = {'Partner': object,\n",
    "               'SeniorCitizen': object,\n",
    "               'Dependents': object, \n",
    "               'PhoneService': object,\n",
    "               'PaperlessBilling': object}\n",
    "\n",
    "data = data.astype(bool_to_obj)"
   ]
  },
  {
   "cell_type": "code",
   "execution_count": 17,
   "metadata": {},
   "outputs": [],
   "source": [
    "# Replace True and False values with Yes and No in Object columns\n",
    "\n",
    "replace_values = {True: 'Yes', False: 'No'}\n",
    "\n",
    "# Use replace() method\n",
    "data['Partner'] = data['Partner'].replace(replace_values)\n",
    "data['SeniorCitizen'] = data['SeniorCitizen'].replace(replace_values)\n",
    "data['Dependents'] = data['Dependents'].replace(replace_values)\n",
    "data['PhoneService'] = data['PhoneService'].replace(replace_values)\n",
    "data['MultipleLines'] = data['MultipleLines'].replace(replace_values)\n",
    "data['OnlineSecurity'] = data['OnlineSecurity'].replace(replace_values)\n",
    "data['OnlineBackup'] = data['OnlineBackup'].replace(replace_values)\n",
    "data['DeviceProtection'] = data['DeviceProtection'].replace(replace_values)\n",
    "data['TechSupport'] = data['TechSupport'].replace(replace_values)\n",
    "data['StreamingTV'] = data['StreamingTV'].replace(replace_values)\n",
    "data['StreamingMovies'] = data['StreamingMovies'].replace(replace_values)\n",
    "data['PaperlessBilling'] = data['PaperlessBilling'].replace(replace_values)\n",
    "data['Churn'] = data['Churn'].replace(replace_values)"
   ]
  },
  {
   "cell_type": "code",
   "execution_count": 18,
   "metadata": {},
   "outputs": [
    {
     "data": {
      "text/plain": [
       "array(['No', 'Yes', None], dtype=object)"
      ]
     },
     "execution_count": 18,
     "metadata": {},
     "output_type": "execute_result"
    }
   ],
   "source": [
    "# unique values in target column (Churn)\n",
    "\n",
    "data['Churn'].unique()"
   ]
  },
  {
   "cell_type": "code",
   "execution_count": 19,
   "metadata": {},
   "outputs": [
    {
     "data": {
      "text/plain": [
       "1"
      ]
     },
     "execution_count": 19,
     "metadata": {},
     "output_type": "execute_result"
    }
   ],
   "source": [
    "# check for missing values in target column\n",
    "\n",
    "data['Churn'].isna().sum()"
   ]
  },
  {
   "cell_type": "code",
   "execution_count": 20,
   "metadata": {},
   "outputs": [],
   "source": [
    "# Drop missing value in the Churn column\n",
    "\n",
    "data.dropna(subset='Churn', inplace=True)"
   ]
  },
  {
   "cell_type": "code",
   "execution_count": 21,
   "metadata": {},
   "outputs": [
    {
     "data": {
      "text/plain": [
       "gender                0\n",
       "SeniorCitizen         0\n",
       "Partner               0\n",
       "Dependents            0\n",
       "tenure                0\n",
       "PhoneService          0\n",
       "MultipleLines       269\n",
       "InternetService       0\n",
       "OnlineSecurity      651\n",
       "OnlineBackup        651\n",
       "DeviceProtection    651\n",
       "TechSupport         651\n",
       "StreamingTV         651\n",
       "StreamingMovies     651\n",
       "Contract              0\n",
       "PaperlessBilling      0\n",
       "PaymentMethod         0\n",
       "MonthlyCharges        0\n",
       "TotalCharges          5\n",
       "Churn                 0\n",
       "dtype: int64"
      ]
     },
     "execution_count": 21,
     "metadata": {},
     "output_type": "execute_result"
    }
   ],
   "source": [
    "# view all missing values\n",
    "\n",
    "data.isnull().sum()"
   ]
  },
  {
   "cell_type": "code",
   "execution_count": 22,
   "metadata": {},
   "outputs": [
    {
     "data": {
      "text/html": [
       "<div>\n",
       "<style scoped>\n",
       "    .dataframe tbody tr th:only-of-type {\n",
       "        vertical-align: middle;\n",
       "    }\n",
       "\n",
       "    .dataframe tbody tr th {\n",
       "        vertical-align: top;\n",
       "    }\n",
       "\n",
       "    .dataframe thead th {\n",
       "        text-align: right;\n",
       "    }\n",
       "</style>\n",
       "<table border=\"1\" class=\"dataframe\">\n",
       "  <thead>\n",
       "    <tr style=\"text-align: right;\">\n",
       "      <th></th>\n",
       "      <th>gender</th>\n",
       "      <th>SeniorCitizen</th>\n",
       "      <th>Partner</th>\n",
       "      <th>Dependents</th>\n",
       "      <th>tenure</th>\n",
       "      <th>PhoneService</th>\n",
       "      <th>MultipleLines</th>\n",
       "      <th>InternetService</th>\n",
       "      <th>OnlineSecurity</th>\n",
       "      <th>OnlineBackup</th>\n",
       "      <th>DeviceProtection</th>\n",
       "      <th>TechSupport</th>\n",
       "      <th>StreamingTV</th>\n",
       "      <th>StreamingMovies</th>\n",
       "      <th>Contract</th>\n",
       "      <th>PaperlessBilling</th>\n",
       "      <th>PaymentMethod</th>\n",
       "      <th>MonthlyCharges</th>\n",
       "      <th>TotalCharges</th>\n",
       "      <th>Churn</th>\n",
       "    </tr>\n",
       "  </thead>\n",
       "  <tbody>\n",
       "    <tr>\n",
       "      <th>488</th>\n",
       "      <td>Female</td>\n",
       "      <td>No</td>\n",
       "      <td>Yes</td>\n",
       "      <td>Yes</td>\n",
       "      <td>0</td>\n",
       "      <td>No</td>\n",
       "      <td>None</td>\n",
       "      <td>DSL</td>\n",
       "      <td>Yes</td>\n",
       "      <td>No</td>\n",
       "      <td>Yes</td>\n",
       "      <td>Yes</td>\n",
       "      <td>Yes</td>\n",
       "      <td>No</td>\n",
       "      <td>Two year</td>\n",
       "      <td>Yes</td>\n",
       "      <td>Bank transfer (automatic)</td>\n",
       "      <td>52.549999</td>\n",
       "      <td>NaN</td>\n",
       "      <td>No</td>\n",
       "    </tr>\n",
       "    <tr>\n",
       "      <th>753</th>\n",
       "      <td>Male</td>\n",
       "      <td>No</td>\n",
       "      <td>No</td>\n",
       "      <td>Yes</td>\n",
       "      <td>0</td>\n",
       "      <td>Yes</td>\n",
       "      <td>No</td>\n",
       "      <td>No</td>\n",
       "      <td>None</td>\n",
       "      <td>None</td>\n",
       "      <td>None</td>\n",
       "      <td>None</td>\n",
       "      <td>None</td>\n",
       "      <td>None</td>\n",
       "      <td>Two year</td>\n",
       "      <td>No</td>\n",
       "      <td>Mailed check</td>\n",
       "      <td>20.250000</td>\n",
       "      <td>NaN</td>\n",
       "      <td>No</td>\n",
       "    </tr>\n",
       "    <tr>\n",
       "      <th>936</th>\n",
       "      <td>Female</td>\n",
       "      <td>No</td>\n",
       "      <td>Yes</td>\n",
       "      <td>Yes</td>\n",
       "      <td>0</td>\n",
       "      <td>Yes</td>\n",
       "      <td>No</td>\n",
       "      <td>DSL</td>\n",
       "      <td>Yes</td>\n",
       "      <td>Yes</td>\n",
       "      <td>Yes</td>\n",
       "      <td>No</td>\n",
       "      <td>Yes</td>\n",
       "      <td>Yes</td>\n",
       "      <td>Two year</td>\n",
       "      <td>No</td>\n",
       "      <td>Mailed check</td>\n",
       "      <td>80.849998</td>\n",
       "      <td>NaN</td>\n",
       "      <td>No</td>\n",
       "    </tr>\n",
       "    <tr>\n",
       "      <th>1082</th>\n",
       "      <td>Male</td>\n",
       "      <td>No</td>\n",
       "      <td>Yes</td>\n",
       "      <td>Yes</td>\n",
       "      <td>0</td>\n",
       "      <td>Yes</td>\n",
       "      <td>Yes</td>\n",
       "      <td>No</td>\n",
       "      <td>None</td>\n",
       "      <td>None</td>\n",
       "      <td>None</td>\n",
       "      <td>None</td>\n",
       "      <td>None</td>\n",
       "      <td>None</td>\n",
       "      <td>Two year</td>\n",
       "      <td>No</td>\n",
       "      <td>Mailed check</td>\n",
       "      <td>25.750000</td>\n",
       "      <td>NaN</td>\n",
       "      <td>No</td>\n",
       "    </tr>\n",
       "    <tr>\n",
       "      <th>1340</th>\n",
       "      <td>Female</td>\n",
       "      <td>No</td>\n",
       "      <td>Yes</td>\n",
       "      <td>Yes</td>\n",
       "      <td>0</td>\n",
       "      <td>No</td>\n",
       "      <td>None</td>\n",
       "      <td>DSL</td>\n",
       "      <td>Yes</td>\n",
       "      <td>Yes</td>\n",
       "      <td>Yes</td>\n",
       "      <td>Yes</td>\n",
       "      <td>Yes</td>\n",
       "      <td>No</td>\n",
       "      <td>Two year</td>\n",
       "      <td>No</td>\n",
       "      <td>Credit card (automatic)</td>\n",
       "      <td>56.049999</td>\n",
       "      <td>NaN</td>\n",
       "      <td>No</td>\n",
       "    </tr>\n",
       "  </tbody>\n",
       "</table>\n",
       "</div>"
      ],
      "text/plain": [
       "      gender SeniorCitizen Partner Dependents  tenure PhoneService   \n",
       "488   Female            No     Yes        Yes       0           No  \\\n",
       "753     Male            No      No        Yes       0          Yes   \n",
       "936   Female            No     Yes        Yes       0          Yes   \n",
       "1082    Male            No     Yes        Yes       0          Yes   \n",
       "1340  Female            No     Yes        Yes       0           No   \n",
       "\n",
       "     MultipleLines InternetService OnlineSecurity OnlineBackup   \n",
       "488           None             DSL            Yes           No  \\\n",
       "753             No              No           None         None   \n",
       "936             No             DSL            Yes          Yes   \n",
       "1082           Yes              No           None         None   \n",
       "1340          None             DSL            Yes          Yes   \n",
       "\n",
       "     DeviceProtection TechSupport StreamingTV StreamingMovies  Contract   \n",
       "488               Yes         Yes         Yes              No  Two year  \\\n",
       "753              None        None        None            None  Two year   \n",
       "936               Yes          No         Yes             Yes  Two year   \n",
       "1082             None        None        None            None  Two year   \n",
       "1340              Yes         Yes         Yes              No  Two year   \n",
       "\n",
       "     PaperlessBilling              PaymentMethod  MonthlyCharges   \n",
       "488               Yes  Bank transfer (automatic)       52.549999  \\\n",
       "753                No               Mailed check       20.250000   \n",
       "936                No               Mailed check       80.849998   \n",
       "1082               No               Mailed check       25.750000   \n",
       "1340               No    Credit card (automatic)       56.049999   \n",
       "\n",
       "      TotalCharges Churn  \n",
       "488            NaN    No  \n",
       "753            NaN    No  \n",
       "936            NaN    No  \n",
       "1082           NaN    No  \n",
       "1340           NaN    No  "
      ]
     },
     "execution_count": 22,
     "metadata": {},
     "output_type": "execute_result"
    }
   ],
   "source": [
    "# view the missing values in TotalCharges column\n",
    "\n",
    "data[np.isnan(data['TotalCharges'])]"
   ]
  },
  {
   "cell_type": "markdown",
   "metadata": {},
   "source": [
    "The missing values in **TotalCharges** have a **tenure** of 0, even though there are values in the **MonthlyCharges** column. We can simply drop those rows"
   ]
  },
  {
   "cell_type": "code",
   "execution_count": 23,
   "metadata": {},
   "outputs": [],
   "source": [
    "# Drop rows where tenure = 0\n",
    "\n",
    "data.drop(labels=data[data['tenure'] == 0].index, axis=0, inplace=True)"
   ]
  },
  {
   "cell_type": "code",
   "execution_count": 24,
   "metadata": {},
   "outputs": [],
   "source": [
    "# replace the remaining missing values with the mode of their respective columns\n",
    "\n",
    "columns_to_replace = ['MultipleLines', 'OnlineSecurity', 'OnlineBackup',\n",
    "           'DeviceProtection', 'TechSupport', 'StreamingTV',\n",
    "           'StreamingMovies']\n",
    "\n",
    "for column in columns_to_replace:\n",
    "    data[column].fillna(data[column].mode()[0], inplace=True)"
   ]
  },
  {
   "cell_type": "code",
   "execution_count": 25,
   "metadata": {},
   "outputs": [],
   "source": [
    "data.reset_index(drop=True, inplace=True)"
   ]
  },
  {
   "cell_type": "code",
   "execution_count": 26,
   "metadata": {},
   "outputs": [
    {
     "name": "stdout",
     "output_type": "stream",
     "text": [
      "<class 'pandas.core.frame.DataFrame'>\n",
      "RangeIndex: 2994 entries, 0 to 2993\n",
      "Data columns (total 20 columns):\n",
      " #   Column            Non-Null Count  Dtype  \n",
      "---  ------            --------------  -----  \n",
      " 0   gender            2994 non-null   object \n",
      " 1   SeniorCitizen     2994 non-null   object \n",
      " 2   Partner           2994 non-null   object \n",
      " 3   Dependents        2994 non-null   object \n",
      " 4   tenure            2994 non-null   int64  \n",
      " 5   PhoneService      2994 non-null   object \n",
      " 6   MultipleLines     2994 non-null   object \n",
      " 7   InternetService   2994 non-null   object \n",
      " 8   OnlineSecurity    2994 non-null   object \n",
      " 9   OnlineBackup      2994 non-null   object \n",
      " 10  DeviceProtection  2994 non-null   object \n",
      " 11  TechSupport       2994 non-null   object \n",
      " 12  StreamingTV       2994 non-null   object \n",
      " 13  StreamingMovies   2994 non-null   object \n",
      " 14  Contract          2994 non-null   object \n",
      " 15  PaperlessBilling  2994 non-null   object \n",
      " 16  PaymentMethod     2994 non-null   object \n",
      " 17  MonthlyCharges    2994 non-null   float64\n",
      " 18  TotalCharges      2994 non-null   float64\n",
      " 19  Churn             2994 non-null   object \n",
      "dtypes: float64(2), int64(1), object(17)\n",
      "memory usage: 467.9+ KB\n"
     ]
    }
   ],
   "source": [
    "data.info()"
   ]
  },
  {
   "cell_type": "code",
   "execution_count": 27,
   "metadata": {},
   "outputs": [
    {
     "name": "stdout",
     "output_type": "stream",
     "text": [
      "<class 'pandas.core.frame.DataFrame'>\n",
      "RangeIndex: 2043 entries, 0 to 2042\n",
      "Data columns (total 21 columns):\n",
      " #   Column            Non-Null Count  Dtype  \n",
      "---  ------            --------------  -----  \n",
      " 0   customerID        2043 non-null   object \n",
      " 1   gender            2043 non-null   object \n",
      " 2   SeniorCitizen     2043 non-null   int64  \n",
      " 3   Partner           2043 non-null   object \n",
      " 4   Dependents        2043 non-null   object \n",
      " 5   tenure            2043 non-null   int64  \n",
      " 6   PhoneService      2043 non-null   object \n",
      " 7   MultipleLines     2043 non-null   object \n",
      " 8   InternetService   2043 non-null   object \n",
      " 9   OnlineSecurity    2043 non-null   object \n",
      " 10  OnlineBackup      2043 non-null   object \n",
      " 11  DeviceProtection  2043 non-null   object \n",
      " 12  TechSupport       2043 non-null   object \n",
      " 13  StreamingTV       2043 non-null   object \n",
      " 14  StreamingMovies   2043 non-null   object \n",
      " 15  Contract          2043 non-null   object \n",
      " 16  PaperlessBilling  2043 non-null   object \n",
      " 17  PaymentMethod     2043 non-null   object \n",
      " 18  MonthlyCharges    2043 non-null   float64\n",
      " 19  TotalCharges      2043 non-null   object \n",
      " 20  Churn             2043 non-null   object \n",
      "dtypes: float64(1), int64(2), object(18)\n",
      "memory usage: 335.3+ KB\n"
     ]
    }
   ],
   "source": [
    "data2.info()"
   ]
  },
  {
   "cell_type": "code",
   "execution_count": 28,
   "metadata": {},
   "outputs": [],
   "source": [
    "# Drop Customer ID column\n",
    "\n",
    "data2.drop(columns='customerID', inplace=True)"
   ]
  },
  {
   "cell_type": "code",
   "execution_count": 29,
   "metadata": {},
   "outputs": [],
   "source": [
    "# change Dtype of TotalCharges column from object to numeric\n",
    "\n",
    "data2['TotalCharges'] = pd.to_numeric(data2['TotalCharges'], errors='coerce')"
   ]
  },
  {
   "cell_type": "code",
   "execution_count": 30,
   "metadata": {},
   "outputs": [
    {
     "name": "stdout",
     "output_type": "stream",
     "text": [
      "<class 'pandas.core.frame.DataFrame'>\n",
      "RangeIndex: 5037 entries, 0 to 5036\n",
      "Data columns (total 20 columns):\n",
      " #   Column            Non-Null Count  Dtype  \n",
      "---  ------            --------------  -----  \n",
      " 0   gender            5037 non-null   object \n",
      " 1   SeniorCitizen     5037 non-null   object \n",
      " 2   Partner           5037 non-null   object \n",
      " 3   Dependents        5037 non-null   object \n",
      " 4   tenure            5037 non-null   int64  \n",
      " 5   PhoneService      5037 non-null   object \n",
      " 6   MultipleLines     5037 non-null   object \n",
      " 7   InternetService   5037 non-null   object \n",
      " 8   OnlineSecurity    5037 non-null   object \n",
      " 9   OnlineBackup      5037 non-null   object \n",
      " 10  DeviceProtection  5037 non-null   object \n",
      " 11  TechSupport       5037 non-null   object \n",
      " 12  StreamingTV       5037 non-null   object \n",
      " 13  StreamingMovies   5037 non-null   object \n",
      " 14  Contract          5037 non-null   object \n",
      " 15  PaperlessBilling  5037 non-null   object \n",
      " 16  PaymentMethod     5037 non-null   object \n",
      " 17  MonthlyCharges    5037 non-null   float64\n",
      " 18  TotalCharges      5034 non-null   float64\n",
      " 19  Churn             5037 non-null   object \n",
      "dtypes: float64(2), int64(1), object(17)\n",
      "memory usage: 787.2+ KB\n"
     ]
    }
   ],
   "source": [
    "# merge the test datasets\n",
    "\n",
    "Data_All= pd.concat([data, data2], ignore_index=True)\n",
    "Data_All.info()"
   ]
  },
  {
   "cell_type": "code",
   "execution_count": 31,
   "metadata": {},
   "outputs": [
    {
     "data": {
      "text/html": [
       "<div>\n",
       "<style scoped>\n",
       "    .dataframe tbody tr th:only-of-type {\n",
       "        vertical-align: middle;\n",
       "    }\n",
       "\n",
       "    .dataframe tbody tr th {\n",
       "        vertical-align: top;\n",
       "    }\n",
       "\n",
       "    .dataframe thead th {\n",
       "        text-align: right;\n",
       "    }\n",
       "</style>\n",
       "<table border=\"1\" class=\"dataframe\">\n",
       "  <thead>\n",
       "    <tr style=\"text-align: right;\">\n",
       "      <th></th>\n",
       "      <th>gender</th>\n",
       "      <th>SeniorCitizen</th>\n",
       "      <th>Partner</th>\n",
       "      <th>Dependents</th>\n",
       "      <th>tenure</th>\n",
       "      <th>PhoneService</th>\n",
       "      <th>MultipleLines</th>\n",
       "      <th>InternetService</th>\n",
       "      <th>OnlineSecurity</th>\n",
       "      <th>OnlineBackup</th>\n",
       "      <th>DeviceProtection</th>\n",
       "      <th>TechSupport</th>\n",
       "      <th>StreamingTV</th>\n",
       "      <th>StreamingMovies</th>\n",
       "      <th>Contract</th>\n",
       "      <th>PaperlessBilling</th>\n",
       "      <th>PaymentMethod</th>\n",
       "      <th>MonthlyCharges</th>\n",
       "      <th>TotalCharges</th>\n",
       "      <th>Churn</th>\n",
       "    </tr>\n",
       "  </thead>\n",
       "  <tbody>\n",
       "    <tr>\n",
       "      <th>3212</th>\n",
       "      <td>Male</td>\n",
       "      <td>0</td>\n",
       "      <td>Yes</td>\n",
       "      <td>Yes</td>\n",
       "      <td>0</td>\n",
       "      <td>Yes</td>\n",
       "      <td>No</td>\n",
       "      <td>No</td>\n",
       "      <td>No internet service</td>\n",
       "      <td>No internet service</td>\n",
       "      <td>No internet service</td>\n",
       "      <td>No internet service</td>\n",
       "      <td>No internet service</td>\n",
       "      <td>No internet service</td>\n",
       "      <td>One year</td>\n",
       "      <td>Yes</td>\n",
       "      <td>Mailed check</td>\n",
       "      <td>19.70</td>\n",
       "      <td>NaN</td>\n",
       "      <td>No</td>\n",
       "    </tr>\n",
       "    <tr>\n",
       "      <th>4664</th>\n",
       "      <td>Female</td>\n",
       "      <td>0</td>\n",
       "      <td>Yes</td>\n",
       "      <td>Yes</td>\n",
       "      <td>0</td>\n",
       "      <td>Yes</td>\n",
       "      <td>Yes</td>\n",
       "      <td>DSL</td>\n",
       "      <td>No</td>\n",
       "      <td>Yes</td>\n",
       "      <td>Yes</td>\n",
       "      <td>Yes</td>\n",
       "      <td>Yes</td>\n",
       "      <td>No</td>\n",
       "      <td>Two year</td>\n",
       "      <td>No</td>\n",
       "      <td>Mailed check</td>\n",
       "      <td>73.35</td>\n",
       "      <td>NaN</td>\n",
       "      <td>No</td>\n",
       "    </tr>\n",
       "    <tr>\n",
       "      <th>4748</th>\n",
       "      <td>Male</td>\n",
       "      <td>0</td>\n",
       "      <td>No</td>\n",
       "      <td>Yes</td>\n",
       "      <td>0</td>\n",
       "      <td>Yes</td>\n",
       "      <td>Yes</td>\n",
       "      <td>DSL</td>\n",
       "      <td>Yes</td>\n",
       "      <td>Yes</td>\n",
       "      <td>No</td>\n",
       "      <td>Yes</td>\n",
       "      <td>No</td>\n",
       "      <td>No</td>\n",
       "      <td>Two year</td>\n",
       "      <td>Yes</td>\n",
       "      <td>Bank transfer (automatic)</td>\n",
       "      <td>61.90</td>\n",
       "      <td>NaN</td>\n",
       "      <td>No</td>\n",
       "    </tr>\n",
       "  </tbody>\n",
       "</table>\n",
       "</div>"
      ],
      "text/plain": [
       "      gender SeniorCitizen Partner Dependents  tenure PhoneService   \n",
       "3212    Male             0     Yes        Yes       0          Yes  \\\n",
       "4664  Female             0     Yes        Yes       0          Yes   \n",
       "4748    Male             0      No        Yes       0          Yes   \n",
       "\n",
       "     MultipleLines InternetService       OnlineSecurity         OnlineBackup   \n",
       "3212            No              No  No internet service  No internet service  \\\n",
       "4664           Yes             DSL                   No                  Yes   \n",
       "4748           Yes             DSL                  Yes                  Yes   \n",
       "\n",
       "         DeviceProtection          TechSupport          StreamingTV   \n",
       "3212  No internet service  No internet service  No internet service  \\\n",
       "4664                  Yes                  Yes                  Yes   \n",
       "4748                   No                  Yes                   No   \n",
       "\n",
       "          StreamingMovies  Contract PaperlessBilling   \n",
       "3212  No internet service  One year              Yes  \\\n",
       "4664                   No  Two year               No   \n",
       "4748                   No  Two year              Yes   \n",
       "\n",
       "                  PaymentMethod  MonthlyCharges  TotalCharges Churn  \n",
       "3212               Mailed check           19.70           NaN    No  \n",
       "4664               Mailed check           73.35           NaN    No  \n",
       "4748  Bank transfer (automatic)           61.90           NaN    No  "
      ]
     },
     "execution_count": 31,
     "metadata": {},
     "output_type": "execute_result"
    }
   ],
   "source": [
    "# view Missing Values in TotalCharges column\n",
    "\n",
    "Data_All[np.isnan(Data_All['TotalCharges'])]"
   ]
  },
  {
   "cell_type": "markdown",
   "metadata": {},
   "source": [
    "We have some more missing values in **TotalCharges** columns. Let us delete the rows with a **tenure** of 0"
   ]
  },
  {
   "cell_type": "code",
   "execution_count": 32,
   "metadata": {},
   "outputs": [],
   "source": [
    "# Drop rows where tenure = 0\n",
    "\n",
    "Data_All.drop(labels=Data_All[Data_All['tenure'] == 0].index, axis=0, inplace=True)"
   ]
  },
  {
   "cell_type": "code",
   "execution_count": 33,
   "metadata": {},
   "outputs": [
    {
     "data": {
      "text/html": [
       "<div>\n",
       "<style scoped>\n",
       "    .dataframe tbody tr th:only-of-type {\n",
       "        vertical-align: middle;\n",
       "    }\n",
       "\n",
       "    .dataframe tbody tr th {\n",
       "        vertical-align: top;\n",
       "    }\n",
       "\n",
       "    .dataframe thead th {\n",
       "        text-align: right;\n",
       "    }\n",
       "</style>\n",
       "<table border=\"1\" class=\"dataframe\">\n",
       "  <thead>\n",
       "    <tr style=\"text-align: right;\">\n",
       "      <th></th>\n",
       "      <th>count</th>\n",
       "      <th>unique</th>\n",
       "      <th>top</th>\n",
       "      <th>freq</th>\n",
       "    </tr>\n",
       "  </thead>\n",
       "  <tbody>\n",
       "    <tr>\n",
       "      <th>gender</th>\n",
       "      <td>5034</td>\n",
       "      <td>2</td>\n",
       "      <td>Male</td>\n",
       "      <td>2554</td>\n",
       "    </tr>\n",
       "    <tr>\n",
       "      <th>SeniorCitizen</th>\n",
       "      <td>5034</td>\n",
       "      <td>4</td>\n",
       "      <td>No</td>\n",
       "      <td>2519</td>\n",
       "    </tr>\n",
       "    <tr>\n",
       "      <th>Partner</th>\n",
       "      <td>5034</td>\n",
       "      <td>2</td>\n",
       "      <td>No</td>\n",
       "      <td>2583</td>\n",
       "    </tr>\n",
       "    <tr>\n",
       "      <th>Dependents</th>\n",
       "      <td>5034</td>\n",
       "      <td>2</td>\n",
       "      <td>No</td>\n",
       "      <td>3481</td>\n",
       "    </tr>\n",
       "    <tr>\n",
       "      <th>PhoneService</th>\n",
       "      <td>5034</td>\n",
       "      <td>2</td>\n",
       "      <td>Yes</td>\n",
       "      <td>4547</td>\n",
       "    </tr>\n",
       "    <tr>\n",
       "      <th>MultipleLines</th>\n",
       "      <td>5034</td>\n",
       "      <td>3</td>\n",
       "      <td>No</td>\n",
       "      <td>2688</td>\n",
       "    </tr>\n",
       "    <tr>\n",
       "      <th>InternetService</th>\n",
       "      <td>5034</td>\n",
       "      <td>3</td>\n",
       "      <td>Fiber optic</td>\n",
       "      <td>2247</td>\n",
       "    </tr>\n",
       "    <tr>\n",
       "      <th>OnlineSecurity</th>\n",
       "      <td>5034</td>\n",
       "      <td>3</td>\n",
       "      <td>No</td>\n",
       "      <td>3155</td>\n",
       "    </tr>\n",
       "    <tr>\n",
       "      <th>OnlineBackup</th>\n",
       "      <td>5034</td>\n",
       "      <td>3</td>\n",
       "      <td>No</td>\n",
       "      <td>2879</td>\n",
       "    </tr>\n",
       "    <tr>\n",
       "      <th>DeviceProtection</th>\n",
       "      <td>5034</td>\n",
       "      <td>3</td>\n",
       "      <td>No</td>\n",
       "      <td>2867</td>\n",
       "    </tr>\n",
       "    <tr>\n",
       "      <th>TechSupport</th>\n",
       "      <td>5034</td>\n",
       "      <td>3</td>\n",
       "      <td>No</td>\n",
       "      <td>3119</td>\n",
       "    </tr>\n",
       "    <tr>\n",
       "      <th>StreamingTV</th>\n",
       "      <td>5034</td>\n",
       "      <td>3</td>\n",
       "      <td>No</td>\n",
       "      <td>2666</td>\n",
       "    </tr>\n",
       "    <tr>\n",
       "      <th>StreamingMovies</th>\n",
       "      <td>5034</td>\n",
       "      <td>3</td>\n",
       "      <td>Yes</td>\n",
       "      <td>2629</td>\n",
       "    </tr>\n",
       "    <tr>\n",
       "      <th>Contract</th>\n",
       "      <td>5034</td>\n",
       "      <td>3</td>\n",
       "      <td>Month-to-month</td>\n",
       "      <td>2744</td>\n",
       "    </tr>\n",
       "    <tr>\n",
       "      <th>PaperlessBilling</th>\n",
       "      <td>5034</td>\n",
       "      <td>2</td>\n",
       "      <td>Yes</td>\n",
       "      <td>2992</td>\n",
       "    </tr>\n",
       "    <tr>\n",
       "      <th>PaymentMethod</th>\n",
       "      <td>5034</td>\n",
       "      <td>4</td>\n",
       "      <td>Electronic check</td>\n",
       "      <td>1699</td>\n",
       "    </tr>\n",
       "    <tr>\n",
       "      <th>Churn</th>\n",
       "      <td>5034</td>\n",
       "      <td>2</td>\n",
       "      <td>No</td>\n",
       "      <td>3698</td>\n",
       "    </tr>\n",
       "  </tbody>\n",
       "</table>\n",
       "</div>"
      ],
      "text/plain": [
       "                 count unique               top  freq\n",
       "gender            5034      2              Male  2554\n",
       "SeniorCitizen     5034      4                No  2519\n",
       "Partner           5034      2                No  2583\n",
       "Dependents        5034      2                No  3481\n",
       "PhoneService      5034      2               Yes  4547\n",
       "MultipleLines     5034      3                No  2688\n",
       "InternetService   5034      3       Fiber optic  2247\n",
       "OnlineSecurity    5034      3                No  3155\n",
       "OnlineBackup      5034      3                No  2879\n",
       "DeviceProtection  5034      3                No  2867\n",
       "TechSupport       5034      3                No  3119\n",
       "StreamingTV       5034      3                No  2666\n",
       "StreamingMovies   5034      3               Yes  2629\n",
       "Contract          5034      3    Month-to-month  2744\n",
       "PaperlessBilling  5034      2               Yes  2992\n",
       "PaymentMethod     5034      4  Electronic check  1699\n",
       "Churn             5034      2                No  3698"
      ]
     },
     "execution_count": 33,
     "metadata": {},
     "output_type": "execute_result"
    }
   ],
   "source": [
    "## checking categorical values\n",
    "Data_All.describe(include=['object']).T"
   ]
  },
  {
   "cell_type": "code",
   "execution_count": 34,
   "metadata": {},
   "outputs": [],
   "source": [
    "Data_All['SeniorCitizen'] = Data_All['SeniorCitizen'].replace({'No': 0, 'Yes': 1})"
   ]
  },
  {
   "cell_type": "code",
   "execution_count": 35,
   "metadata": {},
   "outputs": [
    {
     "name": "stdout",
     "output_type": "stream",
     "text": [
      "Known observations: 5034\n",
      "Unique observations: 5024\n",
      "**No duplicates Found!**\n"
     ]
    }
   ],
   "source": [
    "## checking duplicates\n",
    "print('Known observations: {}\\nUnique observations: {}'.format(len(Data_All.index),len(Data_All.drop_duplicates().index)))\n",
    "\n",
    "print(\"**No duplicates Found!**\")\n"
   ]
  },
  {
   "cell_type": "code",
   "execution_count": 36,
   "metadata": {},
   "outputs": [
    {
     "name": "stdout",
     "output_type": "stream",
     "text": [
      "Column: gender - Unique Values: ['Female' 'Male']\n",
      "Column: SeniorCitizen - Unique Values: [0 1]\n",
      "Column: Partner - Unique Values: ['Yes' 'No']\n",
      "Column: Dependents - Unique Values: ['No' 'Yes']\n",
      "Column: tenure - Unique Values: [ 1 34  2 45  8 22 10 28 62 13 16 58 49 25 69 52 71 21 12 30 47 72 17 27\n",
      "  5 46 11 70 63 43 15 60 18 66  9  3 31 50 64 56  7 42 35 48 29 65 38 68\n",
      " 32 55 37 36 41  6  4 33 67 23 57 61 14 20 53 40 59 24 44 19 54 51 26 39]\n",
      "Column: PhoneService - Unique Values: ['No' 'Yes']\n",
      "Column: MultipleLines - Unique Values: ['No' 'Yes' 'No phone service']\n",
      "Column: InternetService - Unique Values: ['DSL' 'Fiber optic' 'No']\n",
      "Column: OnlineSecurity - Unique Values: ['No' 'Yes' 'No internet service']\n",
      "Column: OnlineBackup - Unique Values: ['Yes' 'No' 'No internet service']\n",
      "Column: DeviceProtection - Unique Values: ['No' 'Yes' 'No internet service']\n",
      "Column: TechSupport - Unique Values: ['No' 'Yes' 'No internet service']\n",
      "Column: StreamingTV - Unique Values: ['No' 'Yes' 'No internet service']\n",
      "Column: StreamingMovies - Unique Values: ['No' 'Yes' 'No internet service']\n",
      "Column: Contract - Unique Values: ['Month-to-month' 'One year' 'Two year']\n",
      "Column: PaperlessBilling - Unique Values: ['Yes' 'No']\n",
      "Column: PaymentMethod - Unique Values: ['Electronic check' 'Mailed check' 'Bank transfer (automatic)'\n",
      " 'Credit card (automatic)']\n",
      "Column: MonthlyCharges - Unique Values: [ 29.85000038  56.95000076  53.84999847 ...  78.7         60.65\n",
      " 103.2       ]\n",
      "Column: TotalCharges - Unique Values: [  29.85000038 1889.5         108.15000153 ...  346.45        306.6\n",
      " 6844.5       ]\n",
      "Column: Churn - Unique Values: ['No' 'Yes']\n"
     ]
    }
   ],
   "source": [
    "# check unique values of each column\n",
    "for column in Data_All.columns:\n",
    "    print('Column: {} - Unique Values: {}'.format(column, Data_All[column].unique()))"
   ]
  },
  {
   "cell_type": "code",
   "execution_count": 37,
   "metadata": {},
   "outputs": [
    {
     "data": {
      "text/plain": [
       "gender              0\n",
       "SeniorCitizen       0\n",
       "Partner             0\n",
       "Dependents          0\n",
       "tenure              0\n",
       "PhoneService        0\n",
       "MultipleLines       0\n",
       "InternetService     0\n",
       "OnlineSecurity      0\n",
       "OnlineBackup        0\n",
       "DeviceProtection    0\n",
       "TechSupport         0\n",
       "StreamingTV         0\n",
       "StreamingMovies     0\n",
       "Contract            0\n",
       "PaperlessBilling    0\n",
       "PaymentMethod       0\n",
       "MonthlyCharges      0\n",
       "TotalCharges        0\n",
       "Churn               0\n",
       "dtype: int64"
      ]
     },
     "execution_count": 37,
     "metadata": {},
     "output_type": "execute_result"
    }
   ],
   "source": [
    "##missing values\n",
    "Data_All.isna().sum()\n"
   ]
  },
  {
   "cell_type": "code",
   "execution_count": 38,
   "metadata": {},
   "outputs": [
    {
     "data": {
      "text/html": [
       "<div>\n",
       "<style scoped>\n",
       "    .dataframe tbody tr th:only-of-type {\n",
       "        vertical-align: middle;\n",
       "    }\n",
       "\n",
       "    .dataframe tbody tr th {\n",
       "        vertical-align: top;\n",
       "    }\n",
       "\n",
       "    .dataframe thead th {\n",
       "        text-align: right;\n",
       "    }\n",
       "</style>\n",
       "<table border=\"1\" class=\"dataframe\">\n",
       "  <thead>\n",
       "    <tr style=\"text-align: right;\">\n",
       "      <th></th>\n",
       "      <th>SeniorCitizen</th>\n",
       "      <th>tenure</th>\n",
       "      <th>MonthlyCharges</th>\n",
       "      <th>TotalCharges</th>\n",
       "    </tr>\n",
       "  </thead>\n",
       "  <tbody>\n",
       "    <tr>\n",
       "      <th>count</th>\n",
       "      <td>5034.000000</td>\n",
       "      <td>5034.000000</td>\n",
       "      <td>5034.000000</td>\n",
       "      <td>5034.000000</td>\n",
       "    </tr>\n",
       "    <tr>\n",
       "      <th>mean</th>\n",
       "      <td>0.162694</td>\n",
       "      <td>32.620580</td>\n",
       "      <td>65.107251</td>\n",
       "      <td>2300.954758</td>\n",
       "    </tr>\n",
       "    <tr>\n",
       "      <th>std</th>\n",
       "      <td>0.369123</td>\n",
       "      <td>24.511015</td>\n",
       "      <td>30.068019</td>\n",
       "      <td>2268.346402</td>\n",
       "    </tr>\n",
       "    <tr>\n",
       "      <th>min</th>\n",
       "      <td>0.000000</td>\n",
       "      <td>1.000000</td>\n",
       "      <td>18.400000</td>\n",
       "      <td>18.799999</td>\n",
       "    </tr>\n",
       "    <tr>\n",
       "      <th>25%</th>\n",
       "      <td>0.000000</td>\n",
       "      <td>9.000000</td>\n",
       "      <td>35.799999</td>\n",
       "      <td>417.662498</td>\n",
       "    </tr>\n",
       "    <tr>\n",
       "      <th>50%</th>\n",
       "      <td>0.000000</td>\n",
       "      <td>29.000000</td>\n",
       "      <td>70.599998</td>\n",
       "      <td>1401.000000</td>\n",
       "    </tr>\n",
       "    <tr>\n",
       "      <th>75%</th>\n",
       "      <td>0.000000</td>\n",
       "      <td>56.000000</td>\n",
       "      <td>90.050003</td>\n",
       "      <td>3860.599976</td>\n",
       "    </tr>\n",
       "    <tr>\n",
       "      <th>max</th>\n",
       "      <td>1.000000</td>\n",
       "      <td>72.000000</td>\n",
       "      <td>118.650002</td>\n",
       "      <td>8670.100000</td>\n",
       "    </tr>\n",
       "  </tbody>\n",
       "</table>\n",
       "</div>"
      ],
      "text/plain": [
       "       SeniorCitizen       tenure  MonthlyCharges  TotalCharges\n",
       "count    5034.000000  5034.000000     5034.000000   5034.000000\n",
       "mean        0.162694    32.620580       65.107251   2300.954758\n",
       "std         0.369123    24.511015       30.068019   2268.346402\n",
       "min         0.000000     1.000000       18.400000     18.799999\n",
       "25%         0.000000     9.000000       35.799999    417.662498\n",
       "50%         0.000000    29.000000       70.599998   1401.000000\n",
       "75%         0.000000    56.000000       90.050003   3860.599976\n",
       "max         1.000000    72.000000      118.650002   8670.100000"
      ]
     },
     "execution_count": 38,
     "metadata": {},
     "output_type": "execute_result"
    }
   ],
   "source": [
    "Data_All.describe()"
   ]
  },
  {
   "cell_type": "code",
   "execution_count": 39,
   "metadata": {},
   "outputs": [
    {
     "name": "stdout",
     "output_type": "stream",
     "text": [
      "tenure\n"
     ]
    },
    {
     "data": {
      "image/png": "[encoded data removed]",
      "text/plain": [
       "<Figure size 640x480 with 1 Axes>"
      ]
     },
     "metadata": {},
     "output_type": "display_data"
    },
    {
     "name": "stdout",
     "output_type": "stream",
     "text": [
      "MonthlyCharges\n"
     ]
    },
    {
     "data": {
      "image/png": "[encoded data removed]",
      "text/plain": [
       "<Figure size 640x480 with 1 Axes>"
      ]
     },
     "metadata": {},
     "output_type": "display_data"
    },
    {
     "name": "stdout",
     "output_type": "stream",
     "text": [
      "TotalCharges\n"
     ]
    },
    {
     "data": {
      "image/png": "[encoded data removed]",
      "text/plain": [
       "<Figure size 640x480 with 1 Axes>"
      ]
     },
     "metadata": {},
     "output_type": "display_data"
    }
   ],
   "source": [
    "#Check for outliers in the numerical variables\n",
    "for col in ['tenure','MonthlyCharges','TotalCharges']:\n",
    "    print(col)\n",
    "    plt.boxplot(Data_All[col])\n",
    "    plt.show()"
   ]
  },
  {
   "cell_type": "markdown",
   "metadata": {},
   "source": [
    "#### Saving Train data set"
   ]
  },
  {
   "cell_type": "code",
   "execution_count": 40,
   "metadata": {},
   "outputs": [
    {
     "name": "stdout",
     "output_type": "stream",
     "text": [
      "<class 'pandas.core.frame.DataFrame'>\n",
      "Index: 5034 entries, 0 to 5036\n",
      "Data columns (total 20 columns):\n",
      " #   Column            Non-Null Count  Dtype  \n",
      "---  ------            --------------  -----  \n",
      " 0   gender            5034 non-null   object \n",
      " 1   SeniorCitizen     5034 non-null   int64  \n",
      " 2   Partner           5034 non-null   object \n",
      " 3   Dependents        5034 non-null   object \n",
      " 4   tenure            5034 non-null   int64  \n",
      " 5   PhoneService      5034 non-null   object \n",
      " 6   MultipleLines     5034 non-null   object \n",
      " 7   InternetService   5034 non-null   object \n",
      " 8   OnlineSecurity    5034 non-null   object \n",
      " 9   OnlineBackup      5034 non-null   object \n",
      " 10  DeviceProtection  5034 non-null   object \n",
      " 11  TechSupport       5034 non-null   object \n",
      " 12  StreamingTV       5034 non-null   object \n",
      " 13  StreamingMovies   5034 non-null   object \n",
      " 14  Contract          5034 non-null   object \n",
      " 15  PaperlessBilling  5034 non-null   object \n",
      " 16  PaymentMethod     5034 non-null   object \n",
      " 17  MonthlyCharges    5034 non-null   float64\n",
      " 18  TotalCharges      5034 non-null   float64\n",
      " 19  Churn             5034 non-null   object \n",
      "dtypes: float64(2), int64(2), object(16)\n",
      "memory usage: 825.9+ KB\n"
     ]
    }
   ],
   "source": [
    "Data_All.info()"
   ]
  },
  {
   "cell_type": "code",
   "execution_count": 41,
   "metadata": {},
   "outputs": [],
   "source": [
    "Data_All.reset_index(drop=True, inplace=True)"
   ]
  },
  {
   "cell_type": "code",
   "execution_count": 42,
   "metadata": {},
   "outputs": [],
   "source": [
    "# save to csv\n",
    "\n",
    "Data_All.to_csv('Train_Data.csv', index=False)"
   ]
  },
  {
   "cell_type": "code",
   "execution_count": 43,
   "metadata": {},
   "outputs": [
    {
     "name": "stdout",
     "output_type": "stream",
     "text": [
      "**Data Types**<br>\n"
     ]
    },
    {
     "data": {
      "text/plain": [
       "object     16\n",
       "int64       2\n",
       "float64     2\n",
       "Name: count, dtype: int64"
      ]
     },
     "execution_count": 43,
     "metadata": {},
     "output_type": "execute_result"
    }
   ],
   "source": [
    "## Data Types\n",
    "print(\"**Data Types**<br>\")\n",
    "Data_All.dtypes.value_counts()"
   ]
  },
  {
   "cell_type": "markdown",
   "metadata": {},
   "source": [
    "#### clean test data"
   ]
  },
  {
   "cell_type": "code",
   "execution_count": 44,
   "metadata": {},
   "outputs": [
    {
     "name": "stdout",
     "output_type": "stream",
     "text": [
      "<class 'pandas.core.frame.DataFrame'>\n",
      "RangeIndex: 2000 entries, 0 to 1999\n",
      "Data columns (total 20 columns):\n",
      " #   Column            Non-Null Count  Dtype  \n",
      "---  ------            --------------  -----  \n",
      " 0   customerID        2000 non-null   object \n",
      " 1   gender            2000 non-null   object \n",
      " 2   SeniorCitizen     2000 non-null   int64  \n",
      " 3   Partner           2000 non-null   object \n",
      " 4   Dependents        2000 non-null   object \n",
      " 5   tenure            2000 non-null   int64  \n",
      " 6   PhoneService      2000 non-null   object \n",
      " 7   MultipleLines     2000 non-null   object \n",
      " 8   InternetService   2000 non-null   object \n",
      " 9   OnlineSecurity    2000 non-null   object \n",
      " 10  OnlineBackup      2000 non-null   object \n",
      " 11  DeviceProtection  2000 non-null   object \n",
      " 12  TechSupport       2000 non-null   object \n",
      " 13  StreamingTV       2000 non-null   object \n",
      " 14  StreamingMovies   2000 non-null   object \n",
      " 15  Contract          2000 non-null   object \n",
      " 16  PaperlessBilling  2000 non-null   object \n",
      " 17  PaymentMethod     2000 non-null   object \n",
      " 18  MonthlyCharges    2000 non-null   float64\n",
      " 19  TotalCharges      2000 non-null   object \n",
      "dtypes: float64(1), int64(2), object(17)\n",
      "memory usage: 312.6+ KB\n"
     ]
    }
   ],
   "source": [
    "data_xls.info()"
   ]
  },
  {
   "cell_type": "code",
   "execution_count": 45,
   "metadata": {},
   "outputs": [],
   "source": [
    "# Drop Customer ID column\n",
    "\n",
    "data_xls.drop(columns='customerID', inplace=True)"
   ]
  },
  {
   "cell_type": "code",
   "execution_count": 46,
   "metadata": {},
   "outputs": [],
   "source": [
    "# change Dtype of TotalCharges column from object to numeric\n",
    "\n",
    "data_xls['TotalCharges'] = pd.to_numeric(data_xls['TotalCharges'], errors='coerce')"
   ]
  },
  {
   "cell_type": "code",
   "execution_count": 47,
   "metadata": {},
   "outputs": [
    {
     "data": {
      "text/html": [
       "<div>\n",
       "<style scoped>\n",
       "    .dataframe tbody tr th:only-of-type {\n",
       "        vertical-align: middle;\n",
       "    }\n",
       "\n",
       "    .dataframe tbody tr th {\n",
       "        vertical-align: top;\n",
       "    }\n",
       "\n",
       "    .dataframe thead th {\n",
       "        text-align: right;\n",
       "    }\n",
       "</style>\n",
       "<table border=\"1\" class=\"dataframe\">\n",
       "  <thead>\n",
       "    <tr style=\"text-align: right;\">\n",
       "      <th></th>\n",
       "      <th>gender</th>\n",
       "      <th>SeniorCitizen</th>\n",
       "      <th>Partner</th>\n",
       "      <th>Dependents</th>\n",
       "      <th>tenure</th>\n",
       "      <th>PhoneService</th>\n",
       "      <th>MultipleLines</th>\n",
       "      <th>InternetService</th>\n",
       "      <th>OnlineSecurity</th>\n",
       "      <th>OnlineBackup</th>\n",
       "      <th>DeviceProtection</th>\n",
       "      <th>TechSupport</th>\n",
       "      <th>StreamingTV</th>\n",
       "      <th>StreamingMovies</th>\n",
       "      <th>Contract</th>\n",
       "      <th>PaperlessBilling</th>\n",
       "      <th>PaymentMethod</th>\n",
       "      <th>MonthlyCharges</th>\n",
       "      <th>TotalCharges</th>\n",
       "    </tr>\n",
       "  </thead>\n",
       "  <tbody>\n",
       "    <tr>\n",
       "      <th>331</th>\n",
       "      <td>Male</td>\n",
       "      <td>0</td>\n",
       "      <td>Yes</td>\n",
       "      <td>Yes</td>\n",
       "      <td>0</td>\n",
       "      <td>Yes</td>\n",
       "      <td>No</td>\n",
       "      <td>No</td>\n",
       "      <td>No internet service</td>\n",
       "      <td>No internet service</td>\n",
       "      <td>No internet service</td>\n",
       "      <td>No internet service</td>\n",
       "      <td>No internet service</td>\n",
       "      <td>No internet service</td>\n",
       "      <td>Two year</td>\n",
       "      <td>No</td>\n",
       "      <td>Mailed check</td>\n",
       "      <td>19.85</td>\n",
       "      <td>NaN</td>\n",
       "    </tr>\n",
       "    <tr>\n",
       "      <th>826</th>\n",
       "      <td>Male</td>\n",
       "      <td>0</td>\n",
       "      <td>Yes</td>\n",
       "      <td>Yes</td>\n",
       "      <td>0</td>\n",
       "      <td>Yes</td>\n",
       "      <td>Yes</td>\n",
       "      <td>No</td>\n",
       "      <td>No internet service</td>\n",
       "      <td>No internet service</td>\n",
       "      <td>No internet service</td>\n",
       "      <td>No internet service</td>\n",
       "      <td>No internet service</td>\n",
       "      <td>No internet service</td>\n",
       "      <td>Two year</td>\n",
       "      <td>No</td>\n",
       "      <td>Mailed check</td>\n",
       "      <td>25.35</td>\n",
       "      <td>NaN</td>\n",
       "    </tr>\n",
       "    <tr>\n",
       "      <th>1380</th>\n",
       "      <td>Female</td>\n",
       "      <td>0</td>\n",
       "      <td>Yes</td>\n",
       "      <td>Yes</td>\n",
       "      <td>0</td>\n",
       "      <td>Yes</td>\n",
       "      <td>No</td>\n",
       "      <td>No</td>\n",
       "      <td>No internet service</td>\n",
       "      <td>No internet service</td>\n",
       "      <td>No internet service</td>\n",
       "      <td>No internet service</td>\n",
       "      <td>No internet service</td>\n",
       "      <td>No internet service</td>\n",
       "      <td>Two year</td>\n",
       "      <td>No</td>\n",
       "      <td>Mailed check</td>\n",
       "      <td>20.00</td>\n",
       "      <td>NaN</td>\n",
       "    </tr>\n",
       "  </tbody>\n",
       "</table>\n",
       "</div>"
      ],
      "text/plain": [
       "      gender  SeniorCitizen Partner Dependents  tenure PhoneService   \n",
       "331     Male              0     Yes        Yes       0          Yes  \\\n",
       "826     Male              0     Yes        Yes       0          Yes   \n",
       "1380  Female              0     Yes        Yes       0          Yes   \n",
       "\n",
       "     MultipleLines InternetService       OnlineSecurity         OnlineBackup   \n",
       "331             No              No  No internet service  No internet service  \\\n",
       "826            Yes              No  No internet service  No internet service   \n",
       "1380            No              No  No internet service  No internet service   \n",
       "\n",
       "         DeviceProtection          TechSupport          StreamingTV   \n",
       "331   No internet service  No internet service  No internet service  \\\n",
       "826   No internet service  No internet service  No internet service   \n",
       "1380  No internet service  No internet service  No internet service   \n",
       "\n",
       "          StreamingMovies  Contract PaperlessBilling PaymentMethod   \n",
       "331   No internet service  Two year               No  Mailed check  \\\n",
       "826   No internet service  Two year               No  Mailed check   \n",
       "1380  No internet service  Two year               No  Mailed check   \n",
       "\n",
       "      MonthlyCharges  TotalCharges  \n",
       "331            19.85           NaN  \n",
       "826            25.35           NaN  \n",
       "1380           20.00           NaN  "
      ]
     },
     "execution_count": 47,
     "metadata": {},
     "output_type": "execute_result"
    }
   ],
   "source": [
    "# view Missing Values in TotalCharges column\n",
    "\n",
    "data_xls[np.isnan(data_xls['TotalCharges'])]"
   ]
  },
  {
   "cell_type": "code",
   "execution_count": 48,
   "metadata": {},
   "outputs": [],
   "source": [
    "# Drop rows where tenure = 0\n",
    "\n",
    "data_xls.drop(labels=data_xls[data_xls['tenure'] == 0].index, axis=0, inplace=True)"
   ]
  },
  {
   "cell_type": "code",
   "execution_count": 49,
   "metadata": {},
   "outputs": [
    {
     "name": "stdout",
     "output_type": "stream",
     "text": [
      "<class 'pandas.core.frame.DataFrame'>\n",
      "Index: 1997 entries, 0 to 1999\n",
      "Data columns (total 19 columns):\n",
      " #   Column            Non-Null Count  Dtype  \n",
      "---  ------            --------------  -----  \n",
      " 0   gender            1997 non-null   object \n",
      " 1   SeniorCitizen     1997 non-null   int64  \n",
      " 2   Partner           1997 non-null   object \n",
      " 3   Dependents        1997 non-null   object \n",
      " 4   tenure            1997 non-null   int64  \n",
      " 5   PhoneService      1997 non-null   object \n",
      " 6   MultipleLines     1997 non-null   object \n",
      " 7   InternetService   1997 non-null   object \n",
      " 8   OnlineSecurity    1997 non-null   object \n",
      " 9   OnlineBackup      1997 non-null   object \n",
      " 10  DeviceProtection  1997 non-null   object \n",
      " 11  TechSupport       1997 non-null   object \n",
      " 12  StreamingTV       1997 non-null   object \n",
      " 13  StreamingMovies   1997 non-null   object \n",
      " 14  Contract          1997 non-null   object \n",
      " 15  PaperlessBilling  1997 non-null   object \n",
      " 16  PaymentMethod     1997 non-null   object \n",
      " 17  MonthlyCharges    1997 non-null   float64\n",
      " 18  TotalCharges      1997 non-null   float64\n",
      "dtypes: float64(2), int64(2), object(15)\n",
      "memory usage: 312.0+ KB\n"
     ]
    }
   ],
   "source": [
    "data_xls.info()"
   ]
  },
  {
   "cell_type": "code",
   "execution_count": 50,
   "metadata": {},
   "outputs": [],
   "source": [
    "data_xls.reset_index(drop=True, inplace=True)"
   ]
  },
  {
   "cell_type": "code",
   "execution_count": 51,
   "metadata": {},
   "outputs": [
    {
     "data": {
      "text/plain": [
       "gender              0\n",
       "SeniorCitizen       0\n",
       "Partner             0\n",
       "Dependents          0\n",
       "tenure              0\n",
       "PhoneService        0\n",
       "MultipleLines       0\n",
       "InternetService     0\n",
       "OnlineSecurity      0\n",
       "OnlineBackup        0\n",
       "DeviceProtection    0\n",
       "TechSupport         0\n",
       "StreamingTV         0\n",
       "StreamingMovies     0\n",
       "Contract            0\n",
       "PaperlessBilling    0\n",
       "PaymentMethod       0\n",
       "MonthlyCharges      0\n",
       "TotalCharges        0\n",
       "dtype: int64"
      ]
     },
     "execution_count": 51,
     "metadata": {},
     "output_type": "execute_result"
    }
   ],
   "source": [
    "data_xls.isnull().sum()"
   ]
  },
  {
   "cell_type": "code",
   "execution_count": 52,
   "metadata": {},
   "outputs": [
    {
     "data": {
      "text/plain": [
       "array([0, 1], dtype=int64)"
      ]
     },
     "execution_count": 52,
     "metadata": {},
     "output_type": "execute_result"
    }
   ],
   "source": [
    "data_xls['SeniorCitizen'].unique()"
   ]
  },
  {
   "cell_type": "code",
   "execution_count": 53,
   "metadata": {},
   "outputs": [],
   "source": [
    "# save to csv\n",
    "\n",
    "data_xls.to_csv('Test_Data.csv', index=False)"
   ]
  },
  {
   "cell_type": "markdown",
   "metadata": {},
   "source": [
    "## Univariate Analysis\n",
    "Here is the section to explore, analyze, visualize each variable independently of the others."
   ]
  },
  {
   "cell_type": "markdown",
   "metadata": {},
   "source": [
    "#### Visualizations"
   ]
  },
  {
   "cell_type": "markdown",
   "metadata": {},
   "source": [
    "####  What is the Distibution of Churn Rate"
   ]
  },
  {
   "cell_type": "code",
   "execution_count": 54,
   "metadata": {},
   "outputs": [
    {
     "data": {
      "text/plain": [
       "Churn\n",
       "No     3698\n",
       "Yes    1336\n",
       "Name: count, dtype: int64"
      ]
     },
     "execution_count": 54,
     "metadata": {},
     "output_type": "execute_result"
    }
   ],
   "source": [
    "churn_data = Data_All['Churn'].value_counts()\n",
    "churn_data"
   ]
  },
  {
   "cell_type": "code",
   "execution_count": 55,
   "metadata": {},
   "outputs": [
    {
     "data": {
      "image/png": "[encoded data removed]",
      "text/plain": [
       "<Figure size 400x400 with 1 Axes>"
      ]
     },
     "metadata": {},
     "output_type": "display_data"
    }
   ],
   "source": [
    "# Create a pie chart using Seaborn to visulaize churn rate\n",
    "plt.figure(figsize=(4, 4))\n",
    "\n",
    "plt.pie(churn_data, labels=['Not Churned','Churned'], colors=['LightBlue','LightSkyBlue'], startangle=50, shadow=True, radius=2,\n",
    "     explode=(0,0.2),autopct='%1.0f%%', pctdistance=0.75 ,  )\n",
    "Circle=plt.Circle((0,0), 1, color='white')\n",
    "c= plt.gcf()\n",
    "\n",
    "c.gca().add_artist(Circle)\n",
    "plt.axis('equal')  # Equal aspect ratio ensures that the pie chart is drawn as a circle.\n",
    "plt.title('Churn rate among customers')\n",
    "plt.show()\n"
   ]
  },
  {
   "cell_type": "markdown",
   "metadata": {},
   "source": [
    "## Bivariate & Multivariate Analysis\n",
    "Here is the section to explore, analyze, visualize each variable in relation to the others."
   ]
  },
  {
   "cell_type": "markdown",
   "metadata": {},
   "source": [
    "Let's look at the relationship between Churn and Gender"
   ]
  },
  {
   "cell_type": "code",
   "execution_count": 56,
   "metadata": {},
   "outputs": [
    {
     "data": {
      "image/png": "[encoded data removed]",
      "text/plain": [
       "<Figure size 640x480 with 1 Axes>"
      ]
     },
     "metadata": {},
     "output_type": "display_data"
    }
   ],
   "source": [
    "sns.countplot(x='gender',data=Data_All,hue='Churn')\n",
    "plt.title('Distribution Gender')\n",
    "plt.xlabel('gender')\n",
    "plt.ylabel('Count')\n",
    "plt.show()"
   ]
  },
  {
   "cell_type": "markdown",
   "metadata": {},
   "source": [
    "- The customer gender split is about 50/50 between males and females. no significant relationship between gender and churn rate"
   ]
  },
  {
   "cell_type": "markdown",
   "metadata": {},
   "source": [
    "##### 1. How does customer tenure relate to churn rates? Are long-tenured customers more likely to stay with the company, and do new customers exhibit higher churn behavior?"
   ]
  },
  {
   "cell_type": "code",
   "execution_count": 57,
   "metadata": {},
   "outputs": [
    {
     "data": {
      "image/png": "[encoded data removed]",
      "text/plain": [
       "<Figure size 800x600 with 1 Axes>"
      ]
     },
     "metadata": {},
     "output_type": "display_data"
    }
   ],
   "source": [
    "# We use a probability density distribution to show distribution of churn related to tenure\n",
    "\n",
    "def kdeplot(x):\n",
    "    plt.figure(figsize=(8,6))\n",
    "    plt.title('Probability of churn by tenure')\n",
    "    ax0= sns.kdeplot(Data_All[Data_All['Churn'] == 'Yes'][x], color='navy', label='Churn:Yes', fill =True, cut=0)\n",
    "    ax1= sns.kdeplot(Data_All[Data_All['Churn'] == 'No'][x], color='orange', label='Churn:No', fill=True, cut=0)\n",
    "    plt.legend(['Churned', 'Not Churned'], loc='upper right')\n",
    "kdeplot('tenure')"
   ]
  },
  {
   "cell_type": "code",
   "execution_count": 58,
   "metadata": {},
   "outputs": [
    {
     "data": {
      "image/png": "[encoded data removed]",
      "text/plain": [
       "<Figure size 640x480 with 1 Axes>"
      ]
     },
     "metadata": {},
     "output_type": "display_data"
    }
   ],
   "source": [
    "sns.histplot(x='tenure', hue='Churn', data=Data_All, bins=14, alpha=0.8, multiple='stack')\n",
    "plt.title('Churn Count by Tenure')\n",
    "plt.show()"
   ]
  },
  {
   "cell_type": "markdown",
   "metadata": {},
   "source": [
    "- Customers with a lower tenure (recent customers) are more likely to churn.\n",
    "- Customers on a longer tenure are less likely to churn."
   ]
  },
  {
   "cell_type": "markdown",
   "metadata": {},
   "source": [
    "##### 2. Is there a correlation between the total charges and churn rates? Do customers with higher total charges exhibit different churn behavior compared to those with lower total charges"
   ]
  },
  {
   "cell_type": "code",
   "execution_count": 59,
   "metadata": {},
   "outputs": [
    {
     "name": "stdout",
     "output_type": "stream",
     "text": [
      "Correlation coefficient: -0.19462794572064998\n",
      "P-value: 3.6678433707849766e-44\n"
     ]
    },
    {
     "data": {
      "image/png": "[encoded data removed]",
      "text/plain": [
       "<Figure size 500x500 with 1 Axes>"
      ]
     },
     "metadata": {},
     "output_type": "display_data"
    }
   ],
   "source": [
    "df_temp = pd.DataFrame(Data_All)\n",
    "\n",
    "# Convert \"TotalCharges\" column to numeric type and then to integers\n",
    "df_temp[\"TotalCharges\"] = pd.to_numeric(df_temp[\"TotalCharges\"], errors=\"coerce\", downcast=\"integer\")\n",
    "\n",
    "# Convert \"Churn\" column to integers (1 for 'Yes' and 0 for 'No') only for this analysis\n",
    "df_temp[\"Churn\"] = df_temp[\"Churn\"].map({\"Yes\": 1, \"No\": 0})\n",
    "\n",
    "# Calculate the point-biserial correlation between TotalCharges and Churn\n",
    "corr, p_value = pointbiserialr(df_temp[\"TotalCharges\"], df_temp[\"Churn\"])\n",
    "\n",
    "# Print the correlation coefficient and p-value\n",
    "print(\"Correlation coefficient:\", corr)\n",
    "print(\"P-value:\", p_value)\n",
    "\n",
    "# Plot the data points and visualize the relationship between TotalCharges and Churn\n",
    "sns.lmplot(data=df_temp, x=\"TotalCharges\", y=\"Churn\", logistic=True, y_jitter=.03)\n",
    "plt.xlabel(\"Total Charges\")\n",
    "plt.ylabel(\"Churn (1=Churned, 0=Not Churned)\")\n",
    "plt.title(\"Total Charges vs Churn\")\n",
    "plt.show()"
   ]
  },
  {
   "cell_type": "markdown",
   "metadata": {},
   "source": [
    "The analysis shows a weak negative correlation between total charges and churn rates. As total charges increase, the likelihood of churn slightly decreases. The relationship is statistically significant (P-value < 0.05), but the effect is not very strong. Other factors may have a more significant impact on churn behavior."
   ]
  },
  {
   "cell_type": "markdown",
   "metadata": {},
   "source": [
    "##### 3. What is the impact of contract type on churn rates? Do customers on long-term contracts have significantly lower churn rates compared to those on short-term contracts?\n",
    "\n"
   ]
  },
  {
   "cell_type": "code",
   "execution_count": 60,
   "metadata": {},
   "outputs": [
    {
     "data": {
      "image/png": "[encoded data removed]",
      "text/plain": [
       "<Figure size 1000x600 with 1 Axes>"
      ]
     },
     "metadata": {},
     "output_type": "display_data"
    }
   ],
   "source": [
    "# Create a cross-tabulation (crosstab) of the categorical column and 'Churn' column\n",
    "cross_tab = pd.crosstab(Data_All['Contract'], Data_All['Churn'])\n",
    "\n",
    "# Plot the stacked bar plot using Seaborn\n",
    "\n",
    "ax = cross_tab.plot(kind=\"bar\", stacked=True, figsize=(10, 6))\n",
    "plt.title(\"Contract Duration by Churn\")\n",
    "plt.xlabel(\"Contract Duration\")\n",
    "plt.xticks(rotation=0)\n",
    "plt.ylabel(\"Count\")\n",
    "plt.legend(title=\"Churn\", loc=\"upper right\")\n",
    "plt.show()\n"
   ]
  },
  {
   "cell_type": "markdown",
   "metadata": {},
   "source": [
    "- Customers with short term (month-to-month) contracts have higher churn rates than customers with long term (one year+ contracts) \n",
    "- Possible reasons could include price sensitivity, competition, ineffective onboarding, and changing needs. To reduce short-term churn, focus on personalized experiences, competitive pricing, and improving onboarding processes. Building strong customer relationships and demonstrating long-term value can encourage customer loyalty."
   ]
  },
  {
   "cell_type": "markdown",
   "metadata": {},
   "source": [
    "##### 4. Are there significant differences in churn behavior between customers who have device protection and those who don't?"
   ]
  },
  {
   "cell_type": "code",
   "execution_count": 61,
   "metadata": {},
   "outputs": [
    {
     "data": {
      "image/png": "[encoded data removed]",
      "text/plain": [
       "<Figure size 1000x600 with 1 Axes>"
      ]
     },
     "metadata": {},
     "output_type": "display_data"
    }
   ],
   "source": [
    "# Create a cross-tabulation (crosstab) of the categorical column and 'Churn' column\n",
    "cross_tab = pd.crosstab(Data_All['DeviceProtection'], Data_All['Churn'])\n",
    "\n",
    "# Plot the stacked bar plot using Seaborn\n",
    "percentages = cross_tab.div(cross_tab.sum(1), axis=0) * 100\n",
    "\n",
    "# Plot the stacked bar plot using Seaborn\n",
    "sns.set(style=\"whitegrid\")\n",
    "ax = percentages.plot(kind=\"bar\", stacked=True, figsize=(10, 6))\n",
    "plt.title(\"Device Protection by Churn\")\n",
    "plt.xlabel(\"Device Protection\")\n",
    "plt.xticks(rotation=0)\n",
    "plt.ylabel(\"%\")\n",
    "plt.legend(title=\"Churn\", loc=\"upper right\")\n",
    "\n",
    "\n",
    "plt.show()"
   ]
  },
  {
   "cell_type": "markdown",
   "metadata": {},
   "source": [
    "- Customers without device protection are slightly more likelt to churn, although not significantly enough"
   ]
  },
  {
   "cell_type": "markdown",
   "metadata": {},
   "source": [
    "##### 5. What is the relationship between the availability of tech support and churn rates? Are customers with access to tech support more likely to remain with the company?"
   ]
  },
  {
   "cell_type": "code",
   "execution_count": 62,
   "metadata": {},
   "outputs": [
    {
     "data": {
      "image/png": "[encoded data removed]",
      "text/plain": [
       "<Figure size 1000x600 with 1 Axes>"
      ]
     },
     "metadata": {},
     "output_type": "display_data"
    }
   ],
   "source": [
    "# Create a cross-tabulation (crosstab) of the categorical column and 'Churn' column\n",
    "cross_tab = pd.crosstab(Data_All['TechSupport'], Data_All['Churn'])\n",
    "\n",
    "# Plot the stacked bar plot using Seaborn\n",
    "sns.set(style=\"whitegrid\")\n",
    "ax = cross_tab.plot(kind=\"bar\", stacked=True, figsize=(10, 6))\n",
    "plt.title(\"TechSupport by Churn\")\n",
    "plt.xlabel(\"TechSupport\")\n",
    "plt.xticks(rotation=0)\n",
    "plt.ylabel(\"count\")\n",
    "plt.legend(title=\"Churn\", loc=\"upper right\")\n",
    "\n",
    "\n",
    "plt.show()"
   ]
  },
  {
   "cell_type": "markdown",
   "metadata": {},
   "source": [
    "- Customers with no tech support were more likely to churn"
   ]
  },
  {
   "cell_type": "markdown",
   "metadata": {},
   "source": [
    "6. Do streaming services play a role in customer churn? Are customers with streaming services, such as StreamingTV and StreamingMovies, more likely to stay with the company?"
   ]
  },
  {
   "cell_type": "code",
   "execution_count": 63,
   "metadata": {},
   "outputs": [
    {
     "data": {
      "image/png": "[encoded data removed]",
      "text/plain": [
       "<Figure size 1500x600 with 2 Axes>"
      ]
     },
     "metadata": {},
     "output_type": "display_data"
    }
   ],
   "source": [
    "# Create a cross-tabulation (crosstab) of the two categorical columns and 'Churn' column\n",
    "cross_tab1 = pd.crosstab(Data_All['StreamingTV'], Data_All['Churn'])\n",
    "cross_tab2 = pd.crosstab(Data_All['StreamingMovies'], Data_All['Churn'])\n",
    "\n",
    "# Set up the subplots\n",
    "fig, axes = plt.subplots(1, 2, figsize=(15, 6))\n",
    "\n",
    "# Plot the first stacked bar chart\n",
    "cross_tab1.plot(kind=\"bar\", stacked=True, ax=axes[0])\n",
    "axes[0].set_title(\"Streaming TV by Churn\", fontsize=16)\n",
    "axes[0].set_xlabel(\"Streaming TV\", fontsize=15)\n",
    "axes[0].set_ylabel(\"Count\", fontsize=15)\n",
    "axes[0].legend(title=\"Churn\", loc=\"upper right\", fontsize=14)\n",
    "\n",
    "axes[0].set_xticklabels(axes[0].get_xticklabels(), rotation=45, ha='right', fontsize=13)\n",
    "# Plot the second stacked bar chart\n",
    "cross_tab2.plot(kind=\"bar\", stacked=True, ax=axes[1])\n",
    "axes[1].set_title(\"Streaming Movies by Churn\", fontsize=16)\n",
    "axes[1].set_xlabel(\"Streaming Movies\",fontsize=15)\n",
    "axes[1].set_ylabel(\"Count\", fontsize=15)\n",
    "axes[1].legend(title=\"Churn\", loc=\"upper right\", fontsize=14)\n",
    "\n",
    "axes[1].set_xticklabels(axes[1].get_xticklabels(), rotation=45, ha='right', fontsize=13)\n",
    "# Adjust layout and display\n",
    "plt.tight_layout()\n",
    "plt.show()"
   ]
  },
  {
   "cell_type": "markdown",
   "metadata": {},
   "source": [
    "- No significant relationship between streaming services and churn rates"
   ]
  },
  {
   "cell_type": "markdown",
   "metadata": {},
   "source": [
    "7. How does the choice of payment method impact churn rates? Are customers with specific payment methods more prone to churn than others?"
   ]
  },
  {
   "cell_type": "code",
   "execution_count": 64,
   "metadata": {},
   "outputs": [
    {
     "data": {
      "image/png": "[encoded data removed]",
      "text/plain": [
       "<Figure size 1000x600 with 1 Axes>"
      ]
     },
     "metadata": {},
     "output_type": "display_data"
    }
   ],
   "source": [
    "# Create a cross-tabulation (crosstab) of the categorical column and 'Churn' column\n",
    "cross_tab = pd.crosstab(Data_All['PaymentMethod'], Data_All['Churn'])\n",
    "\n",
    "# Plot the stacked bar plot using Seaborn\n",
    "sns.set(style=\"whitegrid\")\n",
    "ax = cross_tab.plot(kind=\"bar\", stacked=True, figsize=(10, 6))\n",
    "plt.title(\"Payment Method by Churn\")\n",
    "plt.xlabel(\"Payment Method\")\n",
    "plt.xticks(rotation=0)\n",
    "plt.ylabel(\"count\")\n",
    "plt.legend(title=\"Churn\", loc=\"upper right\")\n",
    "\n",
    "\n",
    "plt.show()"
   ]
  },
  {
   "cell_type": "markdown",
   "metadata": {},
   "source": [
    "- Customers who pay by electronic check were more likely to churn."
   ]
  },
  {
   "cell_type": "markdown",
   "metadata": {},
   "source": [
    "### Hypothesis Testing\n",
    "\n",
    "Is there a significant relationship between customer tenure, monthly charges, total charges, and churn rate in the telecom company?"
   ]
  },
  {
   "cell_type": "code",
   "execution_count": 65,
   "metadata": {},
   "outputs": [
    {
     "data": {
      "text/html": [
       "<div>\n",
       "<style scoped>\n",
       "    .dataframe tbody tr th:only-of-type {\n",
       "        vertical-align: middle;\n",
       "    }\n",
       "\n",
       "    .dataframe tbody tr th {\n",
       "        vertical-align: top;\n",
       "    }\n",
       "\n",
       "    .dataframe thead th {\n",
       "        text-align: right;\n",
       "    }\n",
       "</style>\n",
       "<table border=\"1\" class=\"dataframe\">\n",
       "  <thead>\n",
       "    <tr style=\"text-align: right;\">\n",
       "      <th></th>\n",
       "      <th>tenure</th>\n",
       "      <th>MonthlyCharges</th>\n",
       "      <th>TotalCharges</th>\n",
       "    </tr>\n",
       "  </thead>\n",
       "  <tbody>\n",
       "    <tr>\n",
       "      <th>tenure</th>\n",
       "      <td>1.000000</td>\n",
       "      <td>0.239642</td>\n",
       "      <td>0.826188</td>\n",
       "    </tr>\n",
       "    <tr>\n",
       "      <th>MonthlyCharges</th>\n",
       "      <td>0.239642</td>\n",
       "      <td>1.000000</td>\n",
       "      <td>0.646813</td>\n",
       "    </tr>\n",
       "    <tr>\n",
       "      <th>TotalCharges</th>\n",
       "      <td>0.826188</td>\n",
       "      <td>0.646813</td>\n",
       "      <td>1.000000</td>\n",
       "    </tr>\n",
       "  </tbody>\n",
       "</table>\n",
       "</div>"
      ],
      "text/plain": [
       "                  tenure  MonthlyCharges  TotalCharges\n",
       "tenure          1.000000        0.239642      0.826188\n",
       "MonthlyCharges  0.239642        1.000000      0.646813\n",
       "TotalCharges    0.826188        0.646813      1.000000"
      ]
     },
     "execution_count": 65,
     "metadata": {},
     "output_type": "execute_result"
    }
   ],
   "source": [
    "numeric_columns = Data_All.select_dtypes(include=['int64', 'float64']).drop('SeniorCitizen', axis=1)\n",
    "numeric_columns.corr()"
   ]
  },
  {
   "cell_type": "code",
   "execution_count": 66,
   "metadata": {},
   "outputs": [
    {
     "data": {
      "image/png": "[encoded data removed]",
      "text/plain": [
       "<Figure size 1200x1200 with 2 Axes>"
      ]
     },
     "metadata": {},
     "output_type": "display_data"
    }
   ],
   "source": [
    "plt.figure(figsize=(12,12))\n",
    "sns.heatmap(numeric_columns.corr(),annot=True,cmap='coolwarm')\n",
    "plt.title('Correlation Matrix')\n",
    "plt.show()"
   ]
  },
  {
   "cell_type": "markdown",
   "metadata": {},
   "source": [
    "We will perfom normality test on the three numeric variables ie Monthly Charges, Total charges and Tenure."
   ]
  },
  {
   "cell_type": "code",
   "execution_count": 67,
   "metadata": {},
   "outputs": [
    {
     "name": "stdout",
     "output_type": "stream",
     "text": [
      "Statistics=7510.47646, p=0.000\n",
      "the sample is not normaly distributed\n"
     ]
    }
   ],
   "source": [
    "import scipy.stats as stats\n",
    "\n",
    "## D’Agostino’s K^2 Test on monthly charges\n",
    "stat, p = stats.normaltest(Data_All['MonthlyCharges'])\n",
    "\n",
    "print('Statistics=%.5f, p=%.3f' % (stat, p))\n",
    "\n",
    "# interpret\n",
    "alpha = 0.05\n",
    "if p > alpha:\n",
    "\tprint('the sample is normally distributed')\n",
    "else:\n",
    "\tprint('the sample is not normaly distributed')"
   ]
  },
  {
   "cell_type": "code",
   "execution_count": 68,
   "metadata": {},
   "outputs": [
    {
     "name": "stdout",
     "output_type": "stream",
     "text": [
      "Statistics=53555.33858, p=0.000\n",
      "the sample is not normaly distributed\n"
     ]
    }
   ],
   "source": [
    "## D’Agostino’s K^2 Test on tenure\n",
    "stat, p = stats.normaltest(Data_All['tenure'])\n",
    "\n",
    "print('Statistics=%.5f, p=%.3f' % (stat, p))\n",
    "\n",
    "# interpret\n",
    "alpha = 0.05\n",
    "if p > alpha:\n",
    "\tprint('the sample is normally distributed')\n",
    "else:\n",
    "\tprint('the sample is not normaly distributed')"
   ]
  },
  {
   "cell_type": "code",
   "execution_count": 69,
   "metadata": {},
   "outputs": [
    {
     "name": "stdout",
     "output_type": "stream",
     "text": [
      "Statistics=569.05463, p=0.000\n",
      "the sample is not normaly distributed\n"
     ]
    }
   ],
   "source": [
    "## D’Agostino’s K^2 Test on TotalCharges\n",
    "stat, p = stats.normaltest(Data_All['TotalCharges'])\n",
    "\n",
    "print('Statistics=%.5f, p=%.3f' % (stat, p))\n",
    "\n",
    "# interpret\n",
    "alpha = 0.05\n",
    "if p > alpha:\n",
    "\tprint('the sample is normally distributed')\n",
    "else:\n",
    "\tprint('the sample is not normaly distributed')"
   ]
  },
  {
   "cell_type": "markdown",
   "metadata": {},
   "source": [
    "# Feature Processing & Engineering\n",
    "Here is the section to **clean**, **process** the dataset and **create new features**."
   ]
  },
  {
   "cell_type": "code",
   "execution_count": 70,
   "metadata": {},
   "outputs": [
    {
     "name": "stdout",
     "output_type": "stream",
     "text": [
      "<class 'pandas.core.frame.DataFrame'>\n",
      "RangeIndex: 5034 entries, 0 to 5033\n",
      "Data columns (total 20 columns):\n",
      " #   Column            Non-Null Count  Dtype  \n",
      "---  ------            --------------  -----  \n",
      " 0   gender            5034 non-null   object \n",
      " 1   SeniorCitizen     5034 non-null   int64  \n",
      " 2   Partner           5034 non-null   object \n",
      " 3   Dependents        5034 non-null   object \n",
      " 4   tenure            5034 non-null   int64  \n",
      " 5   PhoneService      5034 non-null   object \n",
      " 6   MultipleLines     5034 non-null   object \n",
      " 7   InternetService   5034 non-null   object \n",
      " 8   OnlineSecurity    5034 non-null   object \n",
      " 9   OnlineBackup      5034 non-null   object \n",
      " 10  DeviceProtection  5034 non-null   object \n",
      " 11  TechSupport       5034 non-null   object \n",
      " 12  StreamingTV       5034 non-null   object \n",
      " 13  StreamingMovies   5034 non-null   object \n",
      " 14  Contract          5034 non-null   object \n",
      " 15  PaperlessBilling  5034 non-null   object \n",
      " 16  PaymentMethod     5034 non-null   object \n",
      " 17  MonthlyCharges    5034 non-null   float64\n",
      " 18  TotalCharges      5034 non-null   float64\n",
      " 19  Churn             5034 non-null   object \n",
      "dtypes: float64(2), int64(2), object(16)\n",
      "memory usage: 786.7+ KB\n"
     ]
    }
   ],
   "source": [
    "Data_All.info()"
   ]
  },
  {
   "cell_type": "code",
   "execution_count": 71,
   "metadata": {},
   "outputs": [
    {
     "data": {
      "text/html": [
       "<div>\n",
       "<style scoped>\n",
       "    .dataframe tbody tr th:only-of-type {\n",
       "        vertical-align: middle;\n",
       "    }\n",
       "\n",
       "    .dataframe tbody tr th {\n",
       "        vertical-align: top;\n",
       "    }\n",
       "\n",
       "    .dataframe thead th {\n",
       "        text-align: right;\n",
       "    }\n",
       "</style>\n",
       "<table border=\"1\" class=\"dataframe\">\n",
       "  <thead>\n",
       "    <tr style=\"text-align: right;\">\n",
       "      <th></th>\n",
       "      <th>gender</th>\n",
       "      <th>SeniorCitizen</th>\n",
       "      <th>Partner</th>\n",
       "      <th>Dependents</th>\n",
       "      <th>tenure</th>\n",
       "      <th>PhoneService</th>\n",
       "      <th>MultipleLines</th>\n",
       "      <th>InternetService</th>\n",
       "      <th>OnlineSecurity</th>\n",
       "      <th>OnlineBackup</th>\n",
       "      <th>DeviceProtection</th>\n",
       "      <th>TechSupport</th>\n",
       "      <th>StreamingTV</th>\n",
       "      <th>StreamingMovies</th>\n",
       "      <th>Contract</th>\n",
       "      <th>PaperlessBilling</th>\n",
       "      <th>PaymentMethod</th>\n",
       "      <th>MonthlyCharges</th>\n",
       "      <th>TotalCharges</th>\n",
       "      <th>Churn</th>\n",
       "    </tr>\n",
       "  </thead>\n",
       "  <tbody>\n",
       "    <tr>\n",
       "      <th>0</th>\n",
       "      <td>Female</td>\n",
       "      <td>0</td>\n",
       "      <td>Yes</td>\n",
       "      <td>No</td>\n",
       "      <td>1</td>\n",
       "      <td>No</td>\n",
       "      <td>No</td>\n",
       "      <td>DSL</td>\n",
       "      <td>No</td>\n",
       "      <td>Yes</td>\n",
       "      <td>No</td>\n",
       "      <td>No</td>\n",
       "      <td>No</td>\n",
       "      <td>No</td>\n",
       "      <td>Month-to-month</td>\n",
       "      <td>Yes</td>\n",
       "      <td>Electronic check</td>\n",
       "      <td>29.850000</td>\n",
       "      <td>29.850000</td>\n",
       "      <td>No</td>\n",
       "    </tr>\n",
       "    <tr>\n",
       "      <th>1</th>\n",
       "      <td>Male</td>\n",
       "      <td>0</td>\n",
       "      <td>No</td>\n",
       "      <td>No</td>\n",
       "      <td>34</td>\n",
       "      <td>Yes</td>\n",
       "      <td>No</td>\n",
       "      <td>DSL</td>\n",
       "      <td>Yes</td>\n",
       "      <td>No</td>\n",
       "      <td>Yes</td>\n",
       "      <td>No</td>\n",
       "      <td>No</td>\n",
       "      <td>No</td>\n",
       "      <td>One year</td>\n",
       "      <td>No</td>\n",
       "      <td>Mailed check</td>\n",
       "      <td>56.950001</td>\n",
       "      <td>1889.500000</td>\n",
       "      <td>No</td>\n",
       "    </tr>\n",
       "    <tr>\n",
       "      <th>2</th>\n",
       "      <td>Male</td>\n",
       "      <td>0</td>\n",
       "      <td>No</td>\n",
       "      <td>No</td>\n",
       "      <td>2</td>\n",
       "      <td>Yes</td>\n",
       "      <td>No</td>\n",
       "      <td>DSL</td>\n",
       "      <td>Yes</td>\n",
       "      <td>Yes</td>\n",
       "      <td>No</td>\n",
       "      <td>No</td>\n",
       "      <td>No</td>\n",
       "      <td>No</td>\n",
       "      <td>Month-to-month</td>\n",
       "      <td>Yes</td>\n",
       "      <td>Mailed check</td>\n",
       "      <td>53.849998</td>\n",
       "      <td>108.150002</td>\n",
       "      <td>Yes</td>\n",
       "    </tr>\n",
       "    <tr>\n",
       "      <th>3</th>\n",
       "      <td>Male</td>\n",
       "      <td>0</td>\n",
       "      <td>No</td>\n",
       "      <td>No</td>\n",
       "      <td>45</td>\n",
       "      <td>No</td>\n",
       "      <td>No</td>\n",
       "      <td>DSL</td>\n",
       "      <td>Yes</td>\n",
       "      <td>No</td>\n",
       "      <td>Yes</td>\n",
       "      <td>Yes</td>\n",
       "      <td>No</td>\n",
       "      <td>No</td>\n",
       "      <td>One year</td>\n",
       "      <td>No</td>\n",
       "      <td>Bank transfer (automatic)</td>\n",
       "      <td>42.299999</td>\n",
       "      <td>1840.750000</td>\n",
       "      <td>No</td>\n",
       "    </tr>\n",
       "    <tr>\n",
       "      <th>4</th>\n",
       "      <td>Female</td>\n",
       "      <td>0</td>\n",
       "      <td>No</td>\n",
       "      <td>No</td>\n",
       "      <td>2</td>\n",
       "      <td>Yes</td>\n",
       "      <td>No</td>\n",
       "      <td>Fiber optic</td>\n",
       "      <td>No</td>\n",
       "      <td>No</td>\n",
       "      <td>No</td>\n",
       "      <td>No</td>\n",
       "      <td>No</td>\n",
       "      <td>No</td>\n",
       "      <td>Month-to-month</td>\n",
       "      <td>Yes</td>\n",
       "      <td>Electronic check</td>\n",
       "      <td>70.699997</td>\n",
       "      <td>151.649994</td>\n",
       "      <td>Yes</td>\n",
       "    </tr>\n",
       "  </tbody>\n",
       "</table>\n",
       "</div>"
      ],
      "text/plain": [
       "   gender  SeniorCitizen Partner Dependents  tenure PhoneService   \n",
       "0  Female              0     Yes         No       1           No  \\\n",
       "1    Male              0      No         No      34          Yes   \n",
       "2    Male              0      No         No       2          Yes   \n",
       "3    Male              0      No         No      45           No   \n",
       "4  Female              0      No         No       2          Yes   \n",
       "\n",
       "  MultipleLines InternetService OnlineSecurity OnlineBackup DeviceProtection   \n",
       "0            No             DSL             No          Yes               No  \\\n",
       "1            No             DSL            Yes           No              Yes   \n",
       "2            No             DSL            Yes          Yes               No   \n",
       "3            No             DSL            Yes           No              Yes   \n",
       "4            No     Fiber optic             No           No               No   \n",
       "\n",
       "  TechSupport StreamingTV StreamingMovies        Contract PaperlessBilling   \n",
       "0          No          No              No  Month-to-month              Yes  \\\n",
       "1          No          No              No        One year               No   \n",
       "2          No          No              No  Month-to-month              Yes   \n",
       "3         Yes          No              No        One year               No   \n",
       "4          No          No              No  Month-to-month              Yes   \n",
       "\n",
       "               PaymentMethod  MonthlyCharges  TotalCharges Churn  \n",
       "0           Electronic check       29.850000     29.850000    No  \n",
       "1               Mailed check       56.950001   1889.500000    No  \n",
       "2               Mailed check       53.849998    108.150002   Yes  \n",
       "3  Bank transfer (automatic)       42.299999   1840.750000    No  \n",
       "4           Electronic check       70.699997    151.649994   Yes  "
      ]
     },
     "execution_count": 71,
     "metadata": {},
     "output_type": "execute_result"
    }
   ],
   "source": [
    "Data_All.head()"
   ]
  },
  {
   "cell_type": "code",
   "execution_count": 72,
   "metadata": {},
   "outputs": [
    {
     "name": "stdout",
     "output_type": "stream",
     "text": [
      "Column: gender - Unique Values: ['Female' 'Male']\n",
      "Column: SeniorCitizen - Unique Values: [0 1]\n",
      "Column: Partner - Unique Values: ['Yes' 'No']\n",
      "Column: Dependents - Unique Values: ['No' 'Yes']\n",
      "Column: tenure - Unique Values: [ 1 34  2 45  8 22 10 28 62 13 16 58 49 25 69 52 71 21 12 30 47 72 17 27\n",
      "  5 46 11 70 63 43 15 60 18 66  9  3 31 50 64 56  7 42 35 48 29 65 38 68\n",
      " 32 55 37 36 41  6  4 33 67 23 57 61 14 20 53 40 59 24 44 19 54 51 26 39]\n",
      "Column: PhoneService - Unique Values: ['No' 'Yes']\n",
      "Column: MultipleLines - Unique Values: ['No' 'Yes' 'No phone service']\n",
      "Column: InternetService - Unique Values: ['DSL' 'Fiber optic' 'No']\n",
      "Column: OnlineSecurity - Unique Values: ['No' 'Yes' 'No internet service']\n",
      "Column: OnlineBackup - Unique Values: ['Yes' 'No' 'No internet service']\n",
      "Column: DeviceProtection - Unique Values: ['No' 'Yes' 'No internet service']\n",
      "Column: TechSupport - Unique Values: ['No' 'Yes' 'No internet service']\n",
      "Column: StreamingTV - Unique Values: ['No' 'Yes' 'No internet service']\n",
      "Column: StreamingMovies - Unique Values: ['No' 'Yes' 'No internet service']\n",
      "Column: Contract - Unique Values: ['Month-to-month' 'One year' 'Two year']\n",
      "Column: PaperlessBilling - Unique Values: ['Yes' 'No']\n",
      "Column: PaymentMethod - Unique Values: ['Electronic check' 'Mailed check' 'Bank transfer (automatic)'\n",
      " 'Credit card (automatic)']\n",
      "Column: MonthlyCharges - Unique Values: [ 29.85000038  56.95000076  53.84999847 ...  78.7         60.65\n",
      " 103.2       ]\n",
      "Column: TotalCharges - Unique Values: [  29.85000038 1889.5         108.15000153 ...  346.45        306.6\n",
      " 6844.5       ]\n",
      "Column: Churn - Unique Values: ['No' 'Yes']\n"
     ]
    }
   ],
   "source": [
    "# check unique values of each column\n",
    "for column in Data_All.columns:\n",
    "    print('Column: {} - Unique Values: {}'.format(column, Data_All[column].unique()))"
   ]
  },
  {
   "cell_type": "code",
   "execution_count": 73,
   "metadata": {},
   "outputs": [
    {
     "name": "stdout",
     "output_type": "stream",
     "text": [
      "Feature: Contract, Mutual Information Score: 0.10284790516675524\n",
      "Feature: InternetService, Mutual Information Score: 0.05944428811167132\n",
      "Feature: PaymentMethod, Mutual Information Score: 0.04163984913943765\n",
      "Feature: TechSupport, Mutual Information Score: 0.030007109249305178\n",
      "Feature: OnlineSecurity, Mutual Information Score: 0.029670157336360276\n",
      "Feature: PaperlessBilling, Mutual Information Score: 0.019508874345666505\n",
      "Feature: OnlineBackup, Mutual Information Score: 0.015826778687180174\n",
      "Feature: Dependents, Mutual Information Score: 0.015615368107435551\n",
      "Feature: DeviceProtection, Mutual Information Score: 0.013717699147021103\n",
      "Feature: StreamingMovies, Mutual Information Score: 0.013349078621584257\n",
      "Feature: Partner, Mutual Information Score: 0.010018147440621322\n",
      "Feature: StreamingTV, Mutual Information Score: 0.009953736504141789\n",
      "Feature: MultipleLines, Mutual Information Score: 0.0008281912846177519\n",
      "Feature: PhoneService, Mutual Information Score: 0.00010045042468448395\n",
      "Feature: gender, Mutual Information Score: 3.2190163546386152e-06\n"
     ]
    }
   ],
   "source": [
    "# Lets find out feature dependency on the target variable using mutual information score\n",
    "\n",
    "from sklearn.metrics import mutual_info_score\n",
    "\n",
    "x_cat = Data_All.select_dtypes(include=object).drop('Churn', axis=1)\n",
    "y_cat = Data_All['Churn']\n",
    "\n",
    "mi_scores = []\n",
    "\n",
    "for column in x_cat.columns:\n",
    "    mi_score = mutual_info_score(x_cat[column], y_cat)\n",
    "    mi_scores.append((column, mi_score))\n",
    "\n",
    "mi_scores.sort(key=lambda x: x[1], reverse=True)\n",
    "\n",
    "for feature, score in mi_scores:\n",
    "    print(f\"Feature: {feature}, Mutual Information Score: {score}\")"
   ]
  },
  {
   "cell_type": "code",
   "execution_count": 74,
   "metadata": {},
   "outputs": [
    {
     "data": {
      "application/vnd.plotly.v1+json": {
       "config": {
        "plotlyServerURL": "https://plot.ly"
       },
       "data": [
        {
         "alignmentgroup": "True",
         "hovertemplate": "Mutual Information Score=%{x}<br>Features=%{y}<br>color=%{marker.color}<extra></extra>",
         "legendgroup": "",
         "marker": {
          "color": [
           0.10284790516675524,
           0.05944428811167132,
           0.04163984913943765,
           0.030007109249305178,
           0.029670157336360276,
           0.019508874345666505,
           0.015826778687180174,
           0.015615368107435551,
           0.013717699147021103,
           0.013349078621584257,
           0.010018147440621322,
           0.009953736504141789,
           0.0008281912846177519,
           0.00010045042468448395,
           0.0000032190163546386152
          ],
          "coloraxis": "coloraxis",
          "pattern": {
           "shape": ""
          }
         },
         "name": "",
         "offsetgroup": "",
         "orientation": "h",
         "showlegend": false,
         "textposition": "auto",
         "type": "bar",
         "x": [
          0.10284790516675524,
          0.05944428811167132,
          0.04163984913943765,
          0.030007109249305178,
          0.029670157336360276,
          0.019508874345666505,
          0.015826778687180174,
          0.015615368107435551,
          0.013717699147021103,
          0.013349078621584257,
          0.010018147440621322,
          0.009953736504141789,
          0.0008281912846177519,
          0.00010045042468448395,
          0.0000032190163546386152
         ],
         "xaxis": "x",
         "y": [
          "Contract",
          "InternetService",
          "PaymentMethod",
          "TechSupport",
          "OnlineSecurity",
          "PaperlessBilling",
          "OnlineBackup",
          "Dependents",
          "DeviceProtection",
          "StreamingMovies",
          "Partner",
          "StreamingTV",
          "MultipleLines",
          "PhoneService",
          "gender"
         ],
         "yaxis": "y"
        }
       ],
       "layout": {
        "barmode": "relative",
        "coloraxis": {
         "colorbar": {
          "title": {
           "text": "color"
          }
         },
         "colorscale": [
          [
           0,
           "#0d0887"
          ],
          [
           0.1111111111111111,
           "#46039f"
          ],
          [
           0.2222222222222222,
           "#7201a8"
          ],
          [
           0.3333333333333333,
           "#9c179e"
          ],
          [
           0.4444444444444444,
           "#bd3786"
          ],
          [
           0.5555555555555556,
           "#d8576b"
          ],
          [
           0.6666666666666666,
           "#ed7953"
          ],
          [
           0.7777777777777778,
           "#fb9f3a"
          ],
          [
           0.8888888888888888,
           "#fdca26"
          ],
          [
           1,
           "#f0f921"
          ]
         ]
        },
        "legend": {
         "tracegroupgap": 0
        },
        "template": {
         "data": {
          "bar": [
           {
            "error_x": {
             "color": "#2a3f5f"
            },
            "error_y": {
             "color": "#2a3f5f"
            },
            "marker": {
             "line": {
              "color": "#E5ECF6",
              "width": 0.5
             },
             "pattern": {
              "fillmode": "overlay",
              "size": 10,
              "solidity": 0.2
             }
            },
            "type": "bar"
           }
          ],
          "barpolar": [
           {
            "marker": {
             "line": {
              "color": "#E5ECF6",
              "width": 0.5
             },
             "pattern": {
              "fillmode": "overlay",
              "size": 10,
              "solidity": 0.2
             }
            },
            "type": "barpolar"
           }
          ],
          "carpet": [
           {
            "aaxis": {
             "endlinecolor": "#2a3f5f",
             "gridcolor": "white",
             "linecolor": "white",
             "minorgridcolor": "white",
             "startlinecolor": "#2a3f5f"
            },
            "baxis": {
             "endlinecolor": "#2a3f5f",
             "gridcolor": "white",
             "linecolor": "white",
             "minorgridcolor": "white",
             "startlinecolor": "#2a3f5f"
            },
            "type": "carpet"
           }
          ],
          "choropleth": [
           {
            "colorbar": {
             "outlinewidth": 0,
             "ticks": ""
            },
            "type": "choropleth"
           }
          ],
          "contour": [
           {
            "colorbar": {
             "outlinewidth": 0,
             "ticks": ""
            },
            "colorscale": [
             [
              0,
              "#0d0887"
             ],
             [
              0.1111111111111111,
              "#46039f"
             ],
             [
              0.2222222222222222,
              "#7201a8"
             ],
             [
              0.3333333333333333,
              "#9c179e"
             ],
             [
              0.4444444444444444,
              "#bd3786"
             ],
             [
              0.5555555555555556,
              "#d8576b"
             ],
             [
              0.6666666666666666,
              "#ed7953"
             ],
             [
              0.7777777777777778,
              "#fb9f3a"
             ],
             [
              0.8888888888888888,
              "#fdca26"
             ],
             [
              1,
              "#f0f921"
             ]
            ],
            "type": "contour"
           }
          ],
          "contourcarpet": [
           {
            "colorbar": {
             "outlinewidth": 0,
             "ticks": ""
            },
            "type": "contourcarpet"
           }
          ],
          "heatmap": [
           {
            "colorbar": {
             "outlinewidth": 0,
             "ticks": ""
            },
            "colorscale": [
             [
              0,
              "#0d0887"
             ],
             [
              0.1111111111111111,
              "#46039f"
             ],
             [
              0.2222222222222222,
              "#7201a8"
             ],
             [
              0.3333333333333333,
              "#9c179e"
             ],
             [
              0.4444444444444444,
              "#bd3786"
             ],
             [
              0.5555555555555556,
              "#d8576b"
             ],
             [
              0.6666666666666666,
              "#ed7953"
             ],
             [
              0.7777777777777778,
              "#fb9f3a"
             ],
             [
              0.8888888888888888,
              "#fdca26"
             ],
             [
              1,
              "#f0f921"
             ]
            ],
            "type": "heatmap"
           }
          ],
          "heatmapgl": [
           {
            "colorbar": {
             "outlinewidth": 0,
             "ticks": ""
            },
            "colorscale": [
             [
              0,
              "#0d0887"
             ],
             [
              0.1111111111111111,
              "#46039f"
             ],
             [
              0.2222222222222222,
              "#7201a8"
             ],
             [
              0.3333333333333333,
              "#9c179e"
             ],
             [
              0.4444444444444444,
              "#bd3786"
             ],
             [
              0.5555555555555556,
              "#d8576b"
             ],
             [
              0.6666666666666666,
              "#ed7953"
             ],
             [
              0.7777777777777778,
              "#fb9f3a"
             ],
             [
              0.8888888888888888,
              "#fdca26"
             ],
             [
              1,
              "#f0f921"
             ]
            ],
            "type": "heatmapgl"
           }
          ],
          "histogram": [
           {
            "marker": {
             "pattern": {
              "fillmode": "overlay",
              "size": 10,
              "solidity": 0.2
             }
            },
            "type": "histogram"
           }
          ],
          "histogram2d": [
           {
            "colorbar": {
             "outlinewidth": 0,
             "ticks": ""
            },
            "colorscale": [
             [
              0,
              "#0d0887"
             ],
             [
              0.1111111111111111,
              "#46039f"
             ],
             [
              0.2222222222222222,
              "#7201a8"
             ],
             [
              0.3333333333333333,
              "#9c179e"
             ],
             [
              0.4444444444444444,
              "#bd3786"
             ],
             [
              0.5555555555555556,
              "#d8576b"
             ],
             [
              0.6666666666666666,
              "#ed7953"
             ],
             [
              0.7777777777777778,
              "#fb9f3a"
             ],
             [
              0.8888888888888888,
              "#fdca26"
             ],
             [
              1,
              "#f0f921"
             ]
            ],
            "type": "histogram2d"
           }
          ],
          "histogram2dcontour": [
           {
            "colorbar": {
             "outlinewidth": 0,
             "ticks": ""
            },
            "colorscale": [
             [
              0,
              "#0d0887"
             ],
             [
              0.1111111111111111,
              "#46039f"
             ],
             [
              0.2222222222222222,
              "#7201a8"
             ],
             [
              0.3333333333333333,
              "#9c179e"
             ],
             [
              0.4444444444444444,
              "#bd3786"
             ],
             [
              0.5555555555555556,
              "#d8576b"
             ],
             [
              0.6666666666666666,
              "#ed7953"
             ],
             [
              0.7777777777777778,
              "#fb9f3a"
             ],
             [
              0.8888888888888888,
              "#fdca26"
             ],
             [
              1,
              "#f0f921"
             ]
            ],
            "type": "histogram2dcontour"
           }
          ],
          "mesh3d": [
           {
            "colorbar": {
             "outlinewidth": 0,
             "ticks": ""
            },
            "type": "mesh3d"
           }
          ],
          "parcoords": [
           {
            "line": {
             "colorbar": {
              "outlinewidth": 0,
              "ticks": ""
             }
            },
            "type": "parcoords"
           }
          ],
          "pie": [
           {
            "automargin": true,
            "type": "pie"
           }
          ],
          "scatter": [
           {
            "fillpattern": {
             "fillmode": "overlay",
             "size": 10,
             "solidity": 0.2
            },
            "type": "scatter"
           }
          ],
          "scatter3d": [
           {
            "line": {
             "colorbar": {
              "outlinewidth": 0,
              "ticks": ""
             }
            },
            "marker": {
             "colorbar": {
              "outlinewidth": 0,
              "ticks": ""
             }
            },
            "type": "scatter3d"
           }
          ],
          "scattercarpet": [
           {
            "marker": {
             "colorbar": {
              "outlinewidth": 0,
              "ticks": ""
             }
            },
            "type": "scattercarpet"
           }
          ],
          "scattergeo": [
           {
            "marker": {
             "colorbar": {
              "outlinewidth": 0,
              "ticks": ""
             }
            },
            "type": "scattergeo"
           }
          ],
          "scattergl": [
           {
            "marker": {
             "colorbar": {
              "outlinewidth": 0,
              "ticks": ""
             }
            },
            "type": "scattergl"
           }
          ],
          "scattermapbox": [
           {
            "marker": {
             "colorbar": {
              "outlinewidth": 0,
              "ticks": ""
             }
            },
            "type": "scattermapbox"
           }
          ],
          "scatterpolar": [
           {
            "marker": {
             "colorbar": {
              "outlinewidth": 0,
              "ticks": ""
             }
            },
            "type": "scatterpolar"
           }
          ],
          "scatterpolargl": [
           {
            "marker": {
             "colorbar": {
              "outlinewidth": 0,
              "ticks": ""
             }
            },
            "type": "scatterpolargl"
           }
          ],
          "scatterternary": [
           {
            "marker": {
             "colorbar": {
              "outlinewidth": 0,
              "ticks": ""
             }
            },
            "type": "scatterternary"
           }
          ],
          "surface": [
           {
            "colorbar": {
             "outlinewidth": 0,
             "ticks": ""
            },
            "colorscale": [
             [
              0,
              "#0d0887"
             ],
             [
              0.1111111111111111,
              "#46039f"
             ],
             [
              0.2222222222222222,
              "#7201a8"
             ],
             [
              0.3333333333333333,
              "#9c179e"
             ],
             [
              0.4444444444444444,
              "#bd3786"
             ],
             [
              0.5555555555555556,
              "#d8576b"
             ],
             [
              0.6666666666666666,
              "#ed7953"
             ],
             [
              0.7777777777777778,
              "#fb9f3a"
             ],
             [
              0.8888888888888888,
              "#fdca26"
             ],
             [
              1,
              "#f0f921"
             ]
            ],
            "type": "surface"
           }
          ],
          "table": [
           {
            "cells": {
             "fill": {
              "color": "#EBF0F8"
             },
             "line": {
              "color": "white"
             }
            },
            "header": {
             "fill": {
              "color": "#C8D4E3"
             },
             "line": {
              "color": "white"
             }
            },
            "type": "table"
           }
          ]
         },
         "layout": {
          "annotationdefaults": {
           "arrowcolor": "#2a3f5f",
           "arrowhead": 0,
           "arrowwidth": 1
          },
          "autotypenumbers": "strict",
          "coloraxis": {
           "colorbar": {
            "outlinewidth": 0,
            "ticks": ""
           }
          },
          "colorscale": {
           "diverging": [
            [
             0,
             "#8e0152"
            ],
            [
             0.1,
             "#c51b7d"
            ],
            [
             0.2,
             "#de77ae"
            ],
            [
             0.3,
             "#f1b6da"
            ],
            [
             0.4,
             "#fde0ef"
            ],
            [
             0.5,
             "#f7f7f7"
            ],
            [
             0.6,
             "#e6f5d0"
            ],
            [
             0.7,
             "#b8e186"
            ],
            [
             0.8,
             "#7fbc41"
            ],
            [
             0.9,
             "#4d9221"
            ],
            [
             1,
             "#276419"
            ]
           ],
           "sequential": [
            [
             0,
             "#0d0887"
            ],
            [
             0.1111111111111111,
             "#46039f"
            ],
            [
             0.2222222222222222,
             "#7201a8"
            ],
            [
             0.3333333333333333,
             "#9c179e"
            ],
            [
             0.4444444444444444,
             "#bd3786"
            ],
            [
             0.5555555555555556,
             "#d8576b"
            ],
            [
             0.6666666666666666,
             "#ed7953"
            ],
            [
             0.7777777777777778,
             "#fb9f3a"
            ],
            [
             0.8888888888888888,
             "#fdca26"
            ],
            [
             1,
             "#f0f921"
            ]
           ],
           "sequentialminus": [
            [
             0,
             "#0d0887"
            ],
            [
             0.1111111111111111,
             "#46039f"
            ],
            [
             0.2222222222222222,
             "#7201a8"
            ],
            [
             0.3333333333333333,
             "#9c179e"
            ],
            [
             0.4444444444444444,
             "#bd3786"
            ],
            [
             0.5555555555555556,
             "#d8576b"
            ],
            [
             0.6666666666666666,
             "#ed7953"
            ],
            [
             0.7777777777777778,
             "#fb9f3a"
            ],
            [
             0.8888888888888888,
             "#fdca26"
            ],
            [
             1,
             "#f0f921"
            ]
           ]
          },
          "colorway": [
           "#636efa",
           "#EF553B",
           "#00cc96",
           "#ab63fa",
           "#FFA15A",
           "#19d3f3",
           "#FF6692",
           "#B6E880",
           "#FF97FF",
           "#FECB52"
          ],
          "font": {
           "color": "#2a3f5f"
          },
          "geo": {
           "bgcolor": "white",
           "lakecolor": "white",
           "landcolor": "#E5ECF6",
           "showlakes": true,
           "showland": true,
           "subunitcolor": "white"
          },
          "hoverlabel": {
           "align": "left"
          },
          "hovermode": "closest",
          "mapbox": {
           "style": "light"
          },
          "paper_bgcolor": "white",
          "plot_bgcolor": "#E5ECF6",
          "polar": {
           "angularaxis": {
            "gridcolor": "white",
            "linecolor": "white",
            "ticks": ""
           },
           "bgcolor": "#E5ECF6",
           "radialaxis": {
            "gridcolor": "white",
            "linecolor": "white",
            "ticks": ""
           }
          },
          "scene": {
           "xaxis": {
            "backgroundcolor": "#E5ECF6",
            "gridcolor": "white",
            "gridwidth": 2,
            "linecolor": "white",
            "showbackground": true,
            "ticks": "",
            "zerolinecolor": "white"
           },
           "yaxis": {
            "backgroundcolor": "#E5ECF6",
            "gridcolor": "white",
            "gridwidth": 2,
            "linecolor": "white",
            "showbackground": true,
            "ticks": "",
            "zerolinecolor": "white"
           },
           "zaxis": {
            "backgroundcolor": "#E5ECF6",
            "gridcolor": "white",
            "gridwidth": 2,
            "linecolor": "white",
            "showbackground": true,
            "ticks": "",
            "zerolinecolor": "white"
           }
          },
          "shapedefaults": {
           "line": {
            "color": "#2a3f5f"
           }
          },
          "ternary": {
           "aaxis": {
            "gridcolor": "white",
            "linecolor": "white",
            "ticks": ""
           },
           "baxis": {
            "gridcolor": "white",
            "linecolor": "white",
            "ticks": ""
           },
           "bgcolor": "#E5ECF6",
           "caxis": {
            "gridcolor": "white",
            "linecolor": "white",
            "ticks": ""
           }
          },
          "title": {
           "x": 0.05
          },
          "xaxis": {
           "automargin": true,
           "gridcolor": "white",
           "linecolor": "white",
           "ticks": "",
           "title": {
            "standoff": 15
           },
           "zerolinecolor": "white",
           "zerolinewidth": 2
          },
          "yaxis": {
           "automargin": true,
           "gridcolor": "white",
           "linecolor": "white",
           "ticks": "",
           "title": {
            "standoff": 15
           },
           "zerolinecolor": "white",
           "zerolinewidth": 2
          }
         }
        },
        "title": {
         "text": "Categorical Features Relationship with Target (Churn)"
        },
        "xaxis": {
         "anchor": "y",
         "domain": [
          0,
          1
         ],
         "title": {
          "text": "Mutual Information Score"
         }
        },
        "yaxis": {
         "anchor": "x",
         "domain": [
          0,
          1
         ],
         "title": {
          "text": "Features"
         }
        }
       }
      }
     },
     "metadata": {},
     "output_type": "display_data"
    }
   ],
   "source": [
    "features = [score[0] for score in mi_scores]\n",
    "scores = [score[1] for score in mi_scores]\n",
    "\n",
    "# Create a bar plot using Plotly\n",
    "fig = px.bar(x=scores, y=features, orientation='h', color=scores,\n",
    "             labels={'x': 'Mutual Information Score', 'y': 'Features'},\n",
    "             title='Categorical Features Relationship with Target (Churn)',\n",
    "             template='plotly',\n",
    "             color_continuous_scale=px.colors.sequential.Plasma)\n",
    "\n",
    "fig.show()"
   ]
  },
  {
   "cell_type": "markdown",
   "metadata": {},
   "source": [
    "## Features Encoding"
   ]
  },
  {
   "cell_type": "code",
   "execution_count": 75,
   "metadata": {},
   "outputs": [],
   "source": [
    "df_encode = Data_All.copy()\n",
    "\n",
    "# label encoding (binary variables)\n",
    "label_encode_cols = ['gender', 'Partner', 'Dependents', 'PaperlessBilling', 'PhoneService', 'Churn']\n",
    "\n",
    "# encode categorical binary features using label encoding\n",
    "for column in label_encode_cols:\n",
    "    if column == 'gender':\n",
    "        df_encode[column] = df_encode[column].map({'Female': 1, 'Male': 0})\n",
    "    else: \n",
    "        df_encode[column] = df_encode[column].map({'Yes': 1, 'No': 0})"
   ]
  },
  {
   "cell_type": "code",
   "execution_count": 76,
   "metadata": {},
   "outputs": [
    {
     "data": {
      "text/html": [
       "<div>\n",
       "<style scoped>\n",
       "    .dataframe tbody tr th:only-of-type {\n",
       "        vertical-align: middle;\n",
       "    }\n",
       "\n",
       "    .dataframe tbody tr th {\n",
       "        vertical-align: top;\n",
       "    }\n",
       "\n",
       "    .dataframe thead th {\n",
       "        text-align: right;\n",
       "    }\n",
       "</style>\n",
       "<table border=\"1\" class=\"dataframe\">\n",
       "  <thead>\n",
       "    <tr style=\"text-align: right;\">\n",
       "      <th></th>\n",
       "      <th>gender</th>\n",
       "      <th>SeniorCitizen</th>\n",
       "      <th>Partner</th>\n",
       "      <th>Dependents</th>\n",
       "      <th>tenure</th>\n",
       "      <th>PhoneService</th>\n",
       "      <th>MultipleLines</th>\n",
       "      <th>InternetService</th>\n",
       "      <th>OnlineSecurity</th>\n",
       "      <th>OnlineBackup</th>\n",
       "      <th>DeviceProtection</th>\n",
       "      <th>TechSupport</th>\n",
       "      <th>StreamingTV</th>\n",
       "      <th>StreamingMovies</th>\n",
       "      <th>Contract</th>\n",
       "      <th>PaperlessBilling</th>\n",
       "      <th>PaymentMethod</th>\n",
       "      <th>MonthlyCharges</th>\n",
       "      <th>TotalCharges</th>\n",
       "      <th>Churn</th>\n",
       "    </tr>\n",
       "  </thead>\n",
       "  <tbody>\n",
       "    <tr>\n",
       "      <th>0</th>\n",
       "      <td>1</td>\n",
       "      <td>0</td>\n",
       "      <td>1</td>\n",
       "      <td>0</td>\n",
       "      <td>1</td>\n",
       "      <td>0</td>\n",
       "      <td>No</td>\n",
       "      <td>DSL</td>\n",
       "      <td>No</td>\n",
       "      <td>Yes</td>\n",
       "      <td>No</td>\n",
       "      <td>No</td>\n",
       "      <td>No</td>\n",
       "      <td>No</td>\n",
       "      <td>Month-to-month</td>\n",
       "      <td>1</td>\n",
       "      <td>Electronic check</td>\n",
       "      <td>29.850000</td>\n",
       "      <td>29.850000</td>\n",
       "      <td>0</td>\n",
       "    </tr>\n",
       "    <tr>\n",
       "      <th>1</th>\n",
       "      <td>0</td>\n",
       "      <td>0</td>\n",
       "      <td>0</td>\n",
       "      <td>0</td>\n",
       "      <td>34</td>\n",
       "      <td>1</td>\n",
       "      <td>No</td>\n",
       "      <td>DSL</td>\n",
       "      <td>Yes</td>\n",
       "      <td>No</td>\n",
       "      <td>Yes</td>\n",
       "      <td>No</td>\n",
       "      <td>No</td>\n",
       "      <td>No</td>\n",
       "      <td>One year</td>\n",
       "      <td>0</td>\n",
       "      <td>Mailed check</td>\n",
       "      <td>56.950001</td>\n",
       "      <td>1889.500000</td>\n",
       "      <td>0</td>\n",
       "    </tr>\n",
       "    <tr>\n",
       "      <th>2</th>\n",
       "      <td>0</td>\n",
       "      <td>0</td>\n",
       "      <td>0</td>\n",
       "      <td>0</td>\n",
       "      <td>2</td>\n",
       "      <td>1</td>\n",
       "      <td>No</td>\n",
       "      <td>DSL</td>\n",
       "      <td>Yes</td>\n",
       "      <td>Yes</td>\n",
       "      <td>No</td>\n",
       "      <td>No</td>\n",
       "      <td>No</td>\n",
       "      <td>No</td>\n",
       "      <td>Month-to-month</td>\n",
       "      <td>1</td>\n",
       "      <td>Mailed check</td>\n",
       "      <td>53.849998</td>\n",
       "      <td>108.150002</td>\n",
       "      <td>1</td>\n",
       "    </tr>\n",
       "    <tr>\n",
       "      <th>3</th>\n",
       "      <td>0</td>\n",
       "      <td>0</td>\n",
       "      <td>0</td>\n",
       "      <td>0</td>\n",
       "      <td>45</td>\n",
       "      <td>0</td>\n",
       "      <td>No</td>\n",
       "      <td>DSL</td>\n",
       "      <td>Yes</td>\n",
       "      <td>No</td>\n",
       "      <td>Yes</td>\n",
       "      <td>Yes</td>\n",
       "      <td>No</td>\n",
       "      <td>No</td>\n",
       "      <td>One year</td>\n",
       "      <td>0</td>\n",
       "      <td>Bank transfer (automatic)</td>\n",
       "      <td>42.299999</td>\n",
       "      <td>1840.750000</td>\n",
       "      <td>0</td>\n",
       "    </tr>\n",
       "    <tr>\n",
       "      <th>4</th>\n",
       "      <td>1</td>\n",
       "      <td>0</td>\n",
       "      <td>0</td>\n",
       "      <td>0</td>\n",
       "      <td>2</td>\n",
       "      <td>1</td>\n",
       "      <td>No</td>\n",
       "      <td>Fiber optic</td>\n",
       "      <td>No</td>\n",
       "      <td>No</td>\n",
       "      <td>No</td>\n",
       "      <td>No</td>\n",
       "      <td>No</td>\n",
       "      <td>No</td>\n",
       "      <td>Month-to-month</td>\n",
       "      <td>1</td>\n",
       "      <td>Electronic check</td>\n",
       "      <td>70.699997</td>\n",
       "      <td>151.649994</td>\n",
       "      <td>1</td>\n",
       "    </tr>\n",
       "  </tbody>\n",
       "</table>\n",
       "</div>"
      ],
      "text/plain": [
       "   gender  SeniorCitizen  Partner  Dependents  tenure  PhoneService   \n",
       "0       1              0        1           0       1             0  \\\n",
       "1       0              0        0           0      34             1   \n",
       "2       0              0        0           0       2             1   \n",
       "3       0              0        0           0      45             0   \n",
       "4       1              0        0           0       2             1   \n",
       "\n",
       "  MultipleLines InternetService OnlineSecurity OnlineBackup DeviceProtection   \n",
       "0            No             DSL             No          Yes               No  \\\n",
       "1            No             DSL            Yes           No              Yes   \n",
       "2            No             DSL            Yes          Yes               No   \n",
       "3            No             DSL            Yes           No              Yes   \n",
       "4            No     Fiber optic             No           No               No   \n",
       "\n",
       "  TechSupport StreamingTV StreamingMovies        Contract  PaperlessBilling   \n",
       "0          No          No              No  Month-to-month                 1  \\\n",
       "1          No          No              No        One year                 0   \n",
       "2          No          No              No  Month-to-month                 1   \n",
       "3         Yes          No              No        One year                 0   \n",
       "4          No          No              No  Month-to-month                 1   \n",
       "\n",
       "               PaymentMethod  MonthlyCharges  TotalCharges  Churn  \n",
       "0           Electronic check       29.850000     29.850000      0  \n",
       "1               Mailed check       56.950001   1889.500000      0  \n",
       "2               Mailed check       53.849998    108.150002      1  \n",
       "3  Bank transfer (automatic)       42.299999   1840.750000      0  \n",
       "4           Electronic check       70.699997    151.649994      1  "
      ]
     },
     "execution_count": 76,
     "metadata": {},
     "output_type": "execute_result"
    }
   ],
   "source": [
    "df_encode.head()"
   ]
  },
  {
   "cell_type": "code",
   "execution_count": 77,
   "metadata": {},
   "outputs": [],
   "source": [
    "# One hot encodimg for categorical columns\n",
    "\n",
    "from sklearn.preprocessing import OneHotEncoder\n",
    "from sklearn.compose import make_column_transformer\n",
    "\n",
    "categorical_columns = ['MultipleLines', 'InternetService', 'OnlineSecurity', 'OnlineBackup', 'DeviceProtection', \n",
    "                       'TechSupport', 'StreamingTV', 'StreamingMovies', 'Contract', 'PaymentMethod']\n",
    "\n",
    "# Create the transformer\n",
    "transformer = make_column_transformer(\n",
    "    (OneHotEncoder(sparse=False), categorical_columns)\n",
    ")\n",
    "\n",
    "# Transform the data\n",
    "transformed_data = transformer.fit_transform(df_encode[categorical_columns])"
   ]
  },
  {
   "cell_type": "code",
   "execution_count": 78,
   "metadata": {},
   "outputs": [
    {
     "data": {
      "text/html": [
       "<div>\n",
       "<style scoped>\n",
       "    .dataframe tbody tr th:only-of-type {\n",
       "        vertical-align: middle;\n",
       "    }\n",
       "\n",
       "    .dataframe tbody tr th {\n",
       "        vertical-align: top;\n",
       "    }\n",
       "\n",
       "    .dataframe thead th {\n",
       "        text-align: right;\n",
       "    }\n",
       "</style>\n",
       "<table border=\"1\" class=\"dataframe\">\n",
       "  <thead>\n",
       "    <tr style=\"text-align: right;\">\n",
       "      <th></th>\n",
       "      <th>gender</th>\n",
       "      <th>SeniorCitizen</th>\n",
       "      <th>Partner</th>\n",
       "      <th>Dependents</th>\n",
       "      <th>tenure</th>\n",
       "      <th>PhoneService</th>\n",
       "      <th>PaperlessBilling</th>\n",
       "      <th>MonthlyCharges</th>\n",
       "      <th>TotalCharges</th>\n",
       "      <th>Churn</th>\n",
       "      <th>onehotencoder__MultipleLines_No</th>\n",
       "      <th>onehotencoder__MultipleLines_No phone service</th>\n",
       "      <th>onehotencoder__MultipleLines_Yes</th>\n",
       "      <th>onehotencoder__InternetService_DSL</th>\n",
       "      <th>onehotencoder__InternetService_Fiber optic</th>\n",
       "      <th>onehotencoder__InternetService_No</th>\n",
       "      <th>onehotencoder__OnlineSecurity_No</th>\n",
       "      <th>onehotencoder__OnlineSecurity_No internet service</th>\n",
       "      <th>onehotencoder__OnlineSecurity_Yes</th>\n",
       "      <th>onehotencoder__OnlineBackup_No</th>\n",
       "      <th>onehotencoder__OnlineBackup_No internet service</th>\n",
       "      <th>onehotencoder__OnlineBackup_Yes</th>\n",
       "      <th>onehotencoder__DeviceProtection_No</th>\n",
       "      <th>onehotencoder__DeviceProtection_No internet service</th>\n",
       "      <th>onehotencoder__DeviceProtection_Yes</th>\n",
       "      <th>onehotencoder__TechSupport_No</th>\n",
       "      <th>onehotencoder__TechSupport_No internet service</th>\n",
       "      <th>onehotencoder__TechSupport_Yes</th>\n",
       "      <th>onehotencoder__StreamingTV_No</th>\n",
       "      <th>onehotencoder__StreamingTV_No internet service</th>\n",
       "      <th>onehotencoder__StreamingTV_Yes</th>\n",
       "      <th>onehotencoder__StreamingMovies_No</th>\n",
       "      <th>onehotencoder__StreamingMovies_No internet service</th>\n",
       "      <th>onehotencoder__StreamingMovies_Yes</th>\n",
       "      <th>onehotencoder__Contract_Month-to-month</th>\n",
       "      <th>onehotencoder__Contract_One year</th>\n",
       "      <th>onehotencoder__Contract_Two year</th>\n",
       "      <th>onehotencoder__PaymentMethod_Bank transfer (automatic)</th>\n",
       "      <th>onehotencoder__PaymentMethod_Credit card (automatic)</th>\n",
       "      <th>onehotencoder__PaymentMethod_Electronic check</th>\n",
       "      <th>onehotencoder__PaymentMethod_Mailed check</th>\n",
       "    </tr>\n",
       "  </thead>\n",
       "  <tbody>\n",
       "    <tr>\n",
       "      <th>0</th>\n",
       "      <td>1</td>\n",
       "      <td>0</td>\n",
       "      <td>1</td>\n",
       "      <td>0</td>\n",
       "      <td>1</td>\n",
       "      <td>0</td>\n",
       "      <td>1</td>\n",
       "      <td>29.850000</td>\n",
       "      <td>29.850000</td>\n",
       "      <td>0</td>\n",
       "      <td>1.0</td>\n",
       "      <td>0.0</td>\n",
       "      <td>0.0</td>\n",
       "      <td>1.0</td>\n",
       "      <td>0.0</td>\n",
       "      <td>0.0</td>\n",
       "      <td>1.0</td>\n",
       "      <td>0.0</td>\n",
       "      <td>0.0</td>\n",
       "      <td>0.0</td>\n",
       "      <td>0.0</td>\n",
       "      <td>1.0</td>\n",
       "      <td>1.0</td>\n",
       "      <td>0.0</td>\n",
       "      <td>0.0</td>\n",
       "      <td>1.0</td>\n",
       "      <td>0.0</td>\n",
       "      <td>0.0</td>\n",
       "      <td>1.0</td>\n",
       "      <td>0.0</td>\n",
       "      <td>0.0</td>\n",
       "      <td>1.0</td>\n",
       "      <td>0.0</td>\n",
       "      <td>0.0</td>\n",
       "      <td>1.0</td>\n",
       "      <td>0.0</td>\n",
       "      <td>0.0</td>\n",
       "      <td>0.0</td>\n",
       "      <td>0.0</td>\n",
       "      <td>1.0</td>\n",
       "      <td>0.0</td>\n",
       "    </tr>\n",
       "    <tr>\n",
       "      <th>1</th>\n",
       "      <td>0</td>\n",
       "      <td>0</td>\n",
       "      <td>0</td>\n",
       "      <td>0</td>\n",
       "      <td>34</td>\n",
       "      <td>1</td>\n",
       "      <td>0</td>\n",
       "      <td>56.950001</td>\n",
       "      <td>1889.500000</td>\n",
       "      <td>0</td>\n",
       "      <td>1.0</td>\n",
       "      <td>0.0</td>\n",
       "      <td>0.0</td>\n",
       "      <td>1.0</td>\n",
       "      <td>0.0</td>\n",
       "      <td>0.0</td>\n",
       "      <td>0.0</td>\n",
       "      <td>0.0</td>\n",
       "      <td>1.0</td>\n",
       "      <td>1.0</td>\n",
       "      <td>0.0</td>\n",
       "      <td>0.0</td>\n",
       "      <td>0.0</td>\n",
       "      <td>0.0</td>\n",
       "      <td>1.0</td>\n",
       "      <td>1.0</td>\n",
       "      <td>0.0</td>\n",
       "      <td>0.0</td>\n",
       "      <td>1.0</td>\n",
       "      <td>0.0</td>\n",
       "      <td>0.0</td>\n",
       "      <td>1.0</td>\n",
       "      <td>0.0</td>\n",
       "      <td>0.0</td>\n",
       "      <td>0.0</td>\n",
       "      <td>1.0</td>\n",
       "      <td>0.0</td>\n",
       "      <td>0.0</td>\n",
       "      <td>0.0</td>\n",
       "      <td>0.0</td>\n",
       "      <td>1.0</td>\n",
       "    </tr>\n",
       "    <tr>\n",
       "      <th>2</th>\n",
       "      <td>0</td>\n",
       "      <td>0</td>\n",
       "      <td>0</td>\n",
       "      <td>0</td>\n",
       "      <td>2</td>\n",
       "      <td>1</td>\n",
       "      <td>1</td>\n",
       "      <td>53.849998</td>\n",
       "      <td>108.150002</td>\n",
       "      <td>1</td>\n",
       "      <td>1.0</td>\n",
       "      <td>0.0</td>\n",
       "      <td>0.0</td>\n",
       "      <td>1.0</td>\n",
       "      <td>0.0</td>\n",
       "      <td>0.0</td>\n",
       "      <td>0.0</td>\n",
       "      <td>0.0</td>\n",
       "      <td>1.0</td>\n",
       "      <td>0.0</td>\n",
       "      <td>0.0</td>\n",
       "      <td>1.0</td>\n",
       "      <td>1.0</td>\n",
       "      <td>0.0</td>\n",
       "      <td>0.0</td>\n",
       "      <td>1.0</td>\n",
       "      <td>0.0</td>\n",
       "      <td>0.0</td>\n",
       "      <td>1.0</td>\n",
       "      <td>0.0</td>\n",
       "      <td>0.0</td>\n",
       "      <td>1.0</td>\n",
       "      <td>0.0</td>\n",
       "      <td>0.0</td>\n",
       "      <td>1.0</td>\n",
       "      <td>0.0</td>\n",
       "      <td>0.0</td>\n",
       "      <td>0.0</td>\n",
       "      <td>0.0</td>\n",
       "      <td>0.0</td>\n",
       "      <td>1.0</td>\n",
       "    </tr>\n",
       "    <tr>\n",
       "      <th>3</th>\n",
       "      <td>0</td>\n",
       "      <td>0</td>\n",
       "      <td>0</td>\n",
       "      <td>0</td>\n",
       "      <td>45</td>\n",
       "      <td>0</td>\n",
       "      <td>0</td>\n",
       "      <td>42.299999</td>\n",
       "      <td>1840.750000</td>\n",
       "      <td>0</td>\n",
       "      <td>1.0</td>\n",
       "      <td>0.0</td>\n",
       "      <td>0.0</td>\n",
       "      <td>1.0</td>\n",
       "      <td>0.0</td>\n",
       "      <td>0.0</td>\n",
       "      <td>0.0</td>\n",
       "      <td>0.0</td>\n",
       "      <td>1.0</td>\n",
       "      <td>1.0</td>\n",
       "      <td>0.0</td>\n",
       "      <td>0.0</td>\n",
       "      <td>0.0</td>\n",
       "      <td>0.0</td>\n",
       "      <td>1.0</td>\n",
       "      <td>0.0</td>\n",
       "      <td>0.0</td>\n",
       "      <td>1.0</td>\n",
       "      <td>1.0</td>\n",
       "      <td>0.0</td>\n",
       "      <td>0.0</td>\n",
       "      <td>1.0</td>\n",
       "      <td>0.0</td>\n",
       "      <td>0.0</td>\n",
       "      <td>0.0</td>\n",
       "      <td>1.0</td>\n",
       "      <td>0.0</td>\n",
       "      <td>1.0</td>\n",
       "      <td>0.0</td>\n",
       "      <td>0.0</td>\n",
       "      <td>0.0</td>\n",
       "    </tr>\n",
       "    <tr>\n",
       "      <th>4</th>\n",
       "      <td>1</td>\n",
       "      <td>0</td>\n",
       "      <td>0</td>\n",
       "      <td>0</td>\n",
       "      <td>2</td>\n",
       "      <td>1</td>\n",
       "      <td>1</td>\n",
       "      <td>70.699997</td>\n",
       "      <td>151.649994</td>\n",
       "      <td>1</td>\n",
       "      <td>1.0</td>\n",
       "      <td>0.0</td>\n",
       "      <td>0.0</td>\n",
       "      <td>0.0</td>\n",
       "      <td>1.0</td>\n",
       "      <td>0.0</td>\n",
       "      <td>1.0</td>\n",
       "      <td>0.0</td>\n",
       "      <td>0.0</td>\n",
       "      <td>1.0</td>\n",
       "      <td>0.0</td>\n",
       "      <td>0.0</td>\n",
       "      <td>1.0</td>\n",
       "      <td>0.0</td>\n",
       "      <td>0.0</td>\n",
       "      <td>1.0</td>\n",
       "      <td>0.0</td>\n",
       "      <td>0.0</td>\n",
       "      <td>1.0</td>\n",
       "      <td>0.0</td>\n",
       "      <td>0.0</td>\n",
       "      <td>1.0</td>\n",
       "      <td>0.0</td>\n",
       "      <td>0.0</td>\n",
       "      <td>1.0</td>\n",
       "      <td>0.0</td>\n",
       "      <td>0.0</td>\n",
       "      <td>0.0</td>\n",
       "      <td>0.0</td>\n",
       "      <td>1.0</td>\n",
       "      <td>0.0</td>\n",
       "    </tr>\n",
       "  </tbody>\n",
       "</table>\n",
       "</div>"
      ],
      "text/plain": [
       "   gender  SeniorCitizen  Partner  Dependents  tenure  PhoneService   \n",
       "0       1              0        1           0       1             0  \\\n",
       "1       0              0        0           0      34             1   \n",
       "2       0              0        0           0       2             1   \n",
       "3       0              0        0           0      45             0   \n",
       "4       1              0        0           0       2             1   \n",
       "\n",
       "   PaperlessBilling  MonthlyCharges  TotalCharges  Churn   \n",
       "0                 1       29.850000     29.850000      0  \\\n",
       "1                 0       56.950001   1889.500000      0   \n",
       "2                 1       53.849998    108.150002      1   \n",
       "3                 0       42.299999   1840.750000      0   \n",
       "4                 1       70.699997    151.649994      1   \n",
       "\n",
       "   onehotencoder__MultipleLines_No   \n",
       "0                              1.0  \\\n",
       "1                              1.0   \n",
       "2                              1.0   \n",
       "3                              1.0   \n",
       "4                              1.0   \n",
       "\n",
       "   onehotencoder__MultipleLines_No phone service   \n",
       "0                                            0.0  \\\n",
       "1                                            0.0   \n",
       "2                                            0.0   \n",
       "3                                            0.0   \n",
       "4                                            0.0   \n",
       "\n",
       "   onehotencoder__MultipleLines_Yes  onehotencoder__InternetService_DSL   \n",
       "0                               0.0                                 1.0  \\\n",
       "1                               0.0                                 1.0   \n",
       "2                               0.0                                 1.0   \n",
       "3                               0.0                                 1.0   \n",
       "4                               0.0                                 0.0   \n",
       "\n",
       "   onehotencoder__InternetService_Fiber optic   \n",
       "0                                         0.0  \\\n",
       "1                                         0.0   \n",
       "2                                         0.0   \n",
       "3                                         0.0   \n",
       "4                                         1.0   \n",
       "\n",
       "   onehotencoder__InternetService_No  onehotencoder__OnlineSecurity_No   \n",
       "0                                0.0                               1.0  \\\n",
       "1                                0.0                               0.0   \n",
       "2                                0.0                               0.0   \n",
       "3                                0.0                               0.0   \n",
       "4                                0.0                               1.0   \n",
       "\n",
       "   onehotencoder__OnlineSecurity_No internet service   \n",
       "0                                                0.0  \\\n",
       "1                                                0.0   \n",
       "2                                                0.0   \n",
       "3                                                0.0   \n",
       "4                                                0.0   \n",
       "\n",
       "   onehotencoder__OnlineSecurity_Yes  onehotencoder__OnlineBackup_No   \n",
       "0                                0.0                             0.0  \\\n",
       "1                                1.0                             1.0   \n",
       "2                                1.0                             0.0   \n",
       "3                                1.0                             1.0   \n",
       "4                                0.0                             1.0   \n",
       "\n",
       "   onehotencoder__OnlineBackup_No internet service   \n",
       "0                                              0.0  \\\n",
       "1                                              0.0   \n",
       "2                                              0.0   \n",
       "3                                              0.0   \n",
       "4                                              0.0   \n",
       "\n",
       "   onehotencoder__OnlineBackup_Yes  onehotencoder__DeviceProtection_No   \n",
       "0                              1.0                                 1.0  \\\n",
       "1                              0.0                                 0.0   \n",
       "2                              1.0                                 1.0   \n",
       "3                              0.0                                 0.0   \n",
       "4                              0.0                                 1.0   \n",
       "\n",
       "   onehotencoder__DeviceProtection_No internet service   \n",
       "0                                                0.0    \\\n",
       "1                                                0.0     \n",
       "2                                                0.0     \n",
       "3                                                0.0     \n",
       "4                                                0.0     \n",
       "\n",
       "   onehotencoder__DeviceProtection_Yes  onehotencoder__TechSupport_No   \n",
       "0                                  0.0                            1.0  \\\n",
       "1                                  1.0                            1.0   \n",
       "2                                  0.0                            1.0   \n",
       "3                                  1.0                            0.0   \n",
       "4                                  0.0                            1.0   \n",
       "\n",
       "   onehotencoder__TechSupport_No internet service   \n",
       "0                                             0.0  \\\n",
       "1                                             0.0   \n",
       "2                                             0.0   \n",
       "3                                             0.0   \n",
       "4                                             0.0   \n",
       "\n",
       "   onehotencoder__TechSupport_Yes  onehotencoder__StreamingTV_No   \n",
       "0                             0.0                            1.0  \\\n",
       "1                             0.0                            1.0   \n",
       "2                             0.0                            1.0   \n",
       "3                             1.0                            1.0   \n",
       "4                             0.0                            1.0   \n",
       "\n",
       "   onehotencoder__StreamingTV_No internet service   \n",
       "0                                             0.0  \\\n",
       "1                                             0.0   \n",
       "2                                             0.0   \n",
       "3                                             0.0   \n",
       "4                                             0.0   \n",
       "\n",
       "   onehotencoder__StreamingTV_Yes  onehotencoder__StreamingMovies_No   \n",
       "0                             0.0                                1.0  \\\n",
       "1                             0.0                                1.0   \n",
       "2                             0.0                                1.0   \n",
       "3                             0.0                                1.0   \n",
       "4                             0.0                                1.0   \n",
       "\n",
       "   onehotencoder__StreamingMovies_No internet service   \n",
       "0                                                0.0   \\\n",
       "1                                                0.0    \n",
       "2                                                0.0    \n",
       "3                                                0.0    \n",
       "4                                                0.0    \n",
       "\n",
       "   onehotencoder__StreamingMovies_Yes  onehotencoder__Contract_Month-to-month   \n",
       "0                                 0.0                                     1.0  \\\n",
       "1                                 0.0                                     0.0   \n",
       "2                                 0.0                                     1.0   \n",
       "3                                 0.0                                     0.0   \n",
       "4                                 0.0                                     1.0   \n",
       "\n",
       "   onehotencoder__Contract_One year  onehotencoder__Contract_Two year   \n",
       "0                               0.0                               0.0  \\\n",
       "1                               1.0                               0.0   \n",
       "2                               0.0                               0.0   \n",
       "3                               1.0                               0.0   \n",
       "4                               0.0                               0.0   \n",
       "\n",
       "   onehotencoder__PaymentMethod_Bank transfer (automatic)   \n",
       "0                                                0.0       \\\n",
       "1                                                0.0        \n",
       "2                                                0.0        \n",
       "3                                                1.0        \n",
       "4                                                0.0        \n",
       "\n",
       "   onehotencoder__PaymentMethod_Credit card (automatic)   \n",
       "0                                                0.0     \\\n",
       "1                                                0.0      \n",
       "2                                                0.0      \n",
       "3                                                0.0      \n",
       "4                                                0.0      \n",
       "\n",
       "   onehotencoder__PaymentMethod_Electronic check   \n",
       "0                                            1.0  \\\n",
       "1                                            0.0   \n",
       "2                                            0.0   \n",
       "3                                            0.0   \n",
       "4                                            1.0   \n",
       "\n",
       "   onehotencoder__PaymentMethod_Mailed check  \n",
       "0                                        0.0  \n",
       "1                                        1.0  \n",
       "2                                        1.0  \n",
       "3                                        0.0  \n",
       "4                                        0.0  "
      ]
     },
     "execution_count": 78,
     "metadata": {},
     "output_type": "execute_result"
    }
   ],
   "source": [
    "# Transformating back\n",
    "transformed_df = pd.DataFrame(transformed_data, columns=transformer.get_feature_names_out())\n",
    "# One-hot encoding removed an index. Let's put it back:\n",
    "transformed_df.index = df_encode.index\n",
    "# Joining tables\n",
    "df_encode = pd.concat([df_encode, transformed_df], axis=1)\n",
    "# Dropping old categorical columns\n",
    "df_encode.drop(categorical_columns, axis=1, inplace=True)\n",
    "# CHecking result\n",
    "df_encode.head()"
   ]
  },
  {
   "cell_type": "code",
   "execution_count": 79,
   "metadata": {},
   "outputs": [],
   "source": [
    "# # one-hot encoding for categorical columns\n",
    "# from sklearn.preprocessing import OneHotEncoder\n",
    "\n",
    "# one_hot_encode_cols = ['MultipleLines', 'InternetService', 'OnlineSecurity', 'OnlineBackup', 'DeviceProtection', \n",
    "#                             'TechSupport', 'StreamingTV', 'StreamingMovies', 'Contract', 'PaymentMethod']\n",
    "\n",
    "# # Apply one-hot encoding\n",
    "# cat_encoder=OneHotEncoder(drop='first', sparse=False)\n",
    "# train_cat_1hot=cat_encoder.fit_transform(df_encode[one_hot_encode_cols])\n",
    "\n",
    "# df_encode.drop(columns=one_hot_encode_cols, inplace=True)\n",
    "# df_encode = pd.concat([df_encode, pd.DataFrame(train_cat_1hot)], axis=1)"
   ]
  },
  {
   "cell_type": "code",
   "execution_count": 80,
   "metadata": {},
   "outputs": [
    {
     "name": "stdout",
     "output_type": "stream",
     "text": [
      "<class 'pandas.core.frame.DataFrame'>\n",
      "RangeIndex: 5034 entries, 0 to 5033\n",
      "Data columns (total 41 columns):\n",
      " #   Column                                                  Non-Null Count  Dtype  \n",
      "---  ------                                                  --------------  -----  \n",
      " 0   gender                                                  5034 non-null   int64  \n",
      " 1   SeniorCitizen                                           5034 non-null   int64  \n",
      " 2   Partner                                                 5034 non-null   int64  \n",
      " 3   Dependents                                              5034 non-null   int64  \n",
      " 4   tenure                                                  5034 non-null   int64  \n",
      " 5   PhoneService                                            5034 non-null   int64  \n",
      " 6   PaperlessBilling                                        5034 non-null   int64  \n",
      " 7   MonthlyCharges                                          5034 non-null   float64\n",
      " 8   TotalCharges                                            5034 non-null   float64\n",
      " 9   Churn                                                   5034 non-null   int64  \n",
      " 10  onehotencoder__MultipleLines_No                         5034 non-null   float64\n",
      " 11  onehotencoder__MultipleLines_No phone service           5034 non-null   float64\n",
      " 12  onehotencoder__MultipleLines_Yes                        5034 non-null   float64\n",
      " 13  onehotencoder__InternetService_DSL                      5034 non-null   float64\n",
      " 14  onehotencoder__InternetService_Fiber optic              5034 non-null   float64\n",
      " 15  onehotencoder__InternetService_No                       5034 non-null   float64\n",
      " 16  onehotencoder__OnlineSecurity_No                        5034 non-null   float64\n",
      " 17  onehotencoder__OnlineSecurity_No internet service       5034 non-null   float64\n",
      " 18  onehotencoder__OnlineSecurity_Yes                       5034 non-null   float64\n",
      " 19  onehotencoder__OnlineBackup_No                          5034 non-null   float64\n",
      " 20  onehotencoder__OnlineBackup_No internet service         5034 non-null   float64\n",
      " 21  onehotencoder__OnlineBackup_Yes                         5034 non-null   float64\n",
      " 22  onehotencoder__DeviceProtection_No                      5034 non-null   float64\n",
      " 23  onehotencoder__DeviceProtection_No internet service     5034 non-null   float64\n",
      " 24  onehotencoder__DeviceProtection_Yes                     5034 non-null   float64\n",
      " 25  onehotencoder__TechSupport_No                           5034 non-null   float64\n",
      " 26  onehotencoder__TechSupport_No internet service          5034 non-null   float64\n",
      " 27  onehotencoder__TechSupport_Yes                          5034 non-null   float64\n",
      " 28  onehotencoder__StreamingTV_No                           5034 non-null   float64\n",
      " 29  onehotencoder__StreamingTV_No internet service          5034 non-null   float64\n",
      " 30  onehotencoder__StreamingTV_Yes                          5034 non-null   float64\n",
      " 31  onehotencoder__StreamingMovies_No                       5034 non-null   float64\n",
      " 32  onehotencoder__StreamingMovies_No internet service      5034 non-null   float64\n",
      " 33  onehotencoder__StreamingMovies_Yes                      5034 non-null   float64\n",
      " 34  onehotencoder__Contract_Month-to-month                  5034 non-null   float64\n",
      " 35  onehotencoder__Contract_One year                        5034 non-null   float64\n",
      " 36  onehotencoder__Contract_Two year                        5034 non-null   float64\n",
      " 37  onehotencoder__PaymentMethod_Bank transfer (automatic)  5034 non-null   float64\n",
      " 38  onehotencoder__PaymentMethod_Credit card (automatic)    5034 non-null   float64\n",
      " 39  onehotencoder__PaymentMethod_Electronic check           5034 non-null   float64\n",
      " 40  onehotencoder__PaymentMethod_Mailed check               5034 non-null   float64\n",
      "dtypes: float64(33), int64(8)\n",
      "memory usage: 1.6 MB\n"
     ]
    }
   ],
   "source": [
    "df_encode.info()"
   ]
  },
  {
   "cell_type": "markdown",
   "metadata": {},
   "source": [
    "## Dataset Splitting"
   ]
  },
  {
   "cell_type": "code",
   "execution_count": 81,
   "metadata": {},
   "outputs": [],
   "source": [
    "X = df_encode.drop(columns=['Churn'])\n",
    "y = df_encode['Churn']\n",
    "\n",
    "# Split the data into training and testing sets\n",
    "X_train, X_test, y_train, y_test = train_test_split(X, y, test_size=0.2, random_state=42, stratify=y)"
   ]
  },
  {
   "cell_type": "markdown",
   "metadata": {},
   "source": [
    "## Features Scaling"
   ]
  },
  {
   "cell_type": "code",
   "execution_count": 84,
   "metadata": {},
   "outputs": [],
   "source": [
    "# standardization for numeric values\n",
    "\n",
    "from sklearn.preprocessing import StandardScaler\n",
    "\n",
    "cols = ['tenure', 'MonthlyCharges', 'TotalCharges']\n",
    "\n",
    "scaler = StandardScaler()\n",
    "\n",
    "# Fit the scaler on the training data and transform it\n",
    "X_train_scaled = scaler.fit_transform(X_train[cols])\n",
    "\n",
    "# Transform the test data using the already fitted scaler\n",
    "X_test_scaled = scaler.transform(X_test[cols])\n",
    "\n",
    "# Convert the transformed arrays back to DataFrames\n",
    "X_train_scaled_df = pd.DataFrame(X_train_scaled, columns=cols)\n",
    "X_test_scaled_df = pd.DataFrame(X_test_scaled, columns=cols)\n",
    "\n",
    "# Concatenate the scaled columns with the original DataFrames\n",
    "X_train = pd.concat([X_train.drop(cols, axis=1), X_train_scaled_df], axis=1)\n",
    "X_test = pd.concat([X_test.drop(cols, axis=1), X_test_scaled_df], axis=1)"
   ]
  },
  {
   "cell_type": "code",
   "execution_count": 98,
   "metadata": {},
   "outputs": [
    {
     "data": {
      "text/plain": [
       "((4808, 40), (1828, 40), (4027,), (1007,))"
      ]
     },
     "execution_count": 98,
     "metadata": {},
     "output_type": "execute_result"
    }
   ],
   "source": [
    "(X_train.shape,X_test.shape,y_train.shape, y_test.shape)"
   ]
  },
  {
   "cell_type": "markdown",
   "metadata": {},
   "source": [
    "## Train set Balancing (SMOTE Algorithm)"
   ]
  },
  {
   "cell_type": "code",
   "execution_count": 99,
   "metadata": {},
   "outputs": [
    {
     "ename": "ModuleNotFoundError",
     "evalue": "No module named 'imblearn'",
     "output_type": "error",
     "traceback": [
      "\u001b[1;31m---------------------------------------------------------------------------\u001b[0m",
      "\u001b[1;31mModuleNotFoundError\u001b[0m                       Traceback (most recent call last)",
      "Cell \u001b[1;32mIn[99], line 3\u001b[0m\n\u001b[0;32m      1\u001b[0m \u001b[39m# apply SMOTE to the training data\u001b[39;00m\n\u001b[1;32m----> 3\u001b[0m \u001b[39mfrom\u001b[39;00m \u001b[39mimblearn\u001b[39;00m\u001b[39m.\u001b[39;00m\u001b[39mover_sampling\u001b[39;00m \u001b[39mimport\u001b[39;00m SMOTE\n\u001b[0;32m      5\u001b[0m smote \u001b[39m=\u001b[39m SMOTE()\n",
      "\u001b[1;31mModuleNotFoundError\u001b[0m: No module named 'imblearn'"
     ]
    }
   ],
   "source": [
    "# apply SMOTE to the training data\n",
    "\n",
    "from imblearn.over_sampling import SMOTE\n",
    "\n",
    "smote = SMOTE()"
   ]
  },
  {
   "cell_type": "markdown",
   "metadata": {},
   "source": [
    "# Machine Learning Modeling \n",
    "Here is the section to **build**, **train**, **evaluate** and **compare** the models to each others."
   ]
  },
  {
   "cell_type": "markdown",
   "metadata": {},
   "source": [
    "## Simple Model #001\n",
    "\n",
    "Please, keep the following structure to try all the model you want."
   ]
  },
  {
   "cell_type": "markdown",
   "metadata": {},
   "source": [
    "### Create the Model"
   ]
  },
  {
   "cell_type": "code",
   "execution_count": 547,
   "metadata": {},
   "outputs": [],
   "source": [
    "# Code here"
   ]
  },
  {
   "cell_type": "markdown",
   "metadata": {},
   "source": [
    "### Train the Model"
   ]
  },
  {
   "cell_type": "code",
   "execution_count": 548,
   "metadata": {},
   "outputs": [],
   "source": [
    "# Use the .fit method"
   ]
  },
  {
   "cell_type": "markdown",
   "metadata": {},
   "source": [
    "### Evaluate the Model on the Evaluation dataset (Evalset)"
   ]
  },
  {
   "cell_type": "code",
   "execution_count": 549,
   "metadata": {},
   "outputs": [],
   "source": [
    "# Compute the valid metrics for the use case # Optional: show the classification report "
   ]
  },
  {
   "cell_type": "markdown",
   "metadata": {},
   "source": [
    "### Predict on a unknown dataset (Testset)"
   ]
  },
  {
   "cell_type": "code",
   "execution_count": 550,
   "metadata": {},
   "outputs": [],
   "source": [
    "# Use .predict method # .predict_proba is available just for classification"
   ]
  },
  {
   "cell_type": "markdown",
   "metadata": {},
   "source": [
    "## Simple Model #002"
   ]
  },
  {
   "cell_type": "markdown",
   "metadata": {},
   "source": [
    "### Create the Model"
   ]
  },
  {
   "cell_type": "code",
   "execution_count": 551,
   "metadata": {},
   "outputs": [],
   "source": [
    "# Code here"
   ]
  },
  {
   "cell_type": "markdown",
   "metadata": {},
   "source": [
    "### Train the Model"
   ]
  },
  {
   "cell_type": "code",
   "execution_count": 552,
   "metadata": {},
   "outputs": [],
   "source": [
    "# Use the .fit method"
   ]
  },
  {
   "cell_type": "markdown",
   "metadata": {},
   "source": [
    "### Evaluate the Model on the Evaluation dataset (Evalset)"
   ]
  },
  {
   "cell_type": "code",
   "execution_count": 553,
   "metadata": {},
   "outputs": [],
   "source": [
    "# Compute the valid metrics for the use case # Optional: show the classification report "
   ]
  },
  {
   "cell_type": "markdown",
   "metadata": {},
   "source": [
    "### Predict on a unknown dataset (Testset)"
   ]
  },
  {
   "cell_type": "code",
   "execution_count": 554,
   "metadata": {},
   "outputs": [],
   "source": [
    "# Use .predict method # .predict_proba is available just for classification"
   ]
  },
  {
   "cell_type": "markdown",
   "metadata": {},
   "source": [
    "## Models comparison\n",
    "Create a pandas dataframe that will allow you to compare your models.\n",
    "\n",
    "Find a sample frame below :\n",
    "\n",
    "|     | Model_Name     | Metric (metric_name)    | Details  |\n",
    "|:---:|:--------------:|:--------------:|:-----------------:|\n",
    "| 0   |  -             |  -             | -                 |\n",
    "| 1   |  -             |  -             | -                 |\n",
    "\n",
    "\n",
    "You might use the pandas dataframe method `.sort_values()` to sort the dataframe regarding the metric."
   ]
  },
  {
   "cell_type": "code",
   "execution_count": 555,
   "metadata": {},
   "outputs": [],
   "source": [
    "# Code here"
   ]
  },
  {
   "cell_type": "markdown",
   "metadata": {},
   "source": [
    "## Hyperparameters tuning \n",
    "\n",
    "Fine-tune the Top-k models (3 < k < 5) using a ` GridSearchCV`  (that is in sklearn.model_selection\n",
    ") to find the best hyperparameters and achieve the maximum performance of each of the Top-k models, then compare them again to select the best one."
   ]
  },
  {
   "cell_type": "code",
   "execution_count": 556,
   "metadata": {},
   "outputs": [],
   "source": [
    "# Code here"
   ]
  },
  {
   "cell_type": "markdown",
   "metadata": {},
   "source": [
    "# Export key components\n",
    "Here is the section to **export** the important ML objects that will be use to develop an app: *Encoder, Scaler, ColumnTransformer, Model, Pipeline, etc*."
   ]
  },
  {
   "cell_type": "code",
   "execution_count": 557,
   "metadata": {},
   "outputs": [],
   "source": [
    "# Use pickle : put all your key components in a python dictionary and save it as a file that will be loaded in an app"
   ]
  }
 ],
 "metadata": {
  "kernelspec": {
   "display_name": "Python 3 (ipykernel)",
   "language": "python",
   "name": "python3"
  },
  "language_info": {
   "codemirror_mode": {
    "name": "ipython",
    "version": 3
   },
   "file_extension": ".py",
   "mimetype": "text/x-python",
   "name": "python",
   "nbconvert_exporter": "python",
   "pygments_lexer": "ipython3",
   "version": "3.11.3"
  }
 },
 "nbformat": 4,
 "nbformat_minor": 4
}
