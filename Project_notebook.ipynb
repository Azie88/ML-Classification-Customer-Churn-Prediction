{
 "cells": [
  {
   "cell_type": "markdown",
   "metadata": {},
   "source": [
    "# Customer Churn Prediction in Telecommunication: Proactive Strategies for Sustainable Growth\n",
    "\n",
    "## 1. Business Understanding\n",
    "In the dynamic world of telecommunications, customer churn remains a pressing challenge for companies striving to achieve sustained success. Customers have alot of options and evolving preferences, accurately predicting churn has become important to retain and satisfy them. Customer churn is basically the loss of customers.\n",
    "\n",
    "In this project, we use Supervised Machine Learning (classification) to explore the significance of churn analytics as a strategic tool for telecommunication companies to proactively identify potential risk factors for churn, optimize retention efforts, and cultivate lasting customer relationships. By leveraging data-driven insights and advanced analytics, companies can gain a competitive edge and ensure sustainable growth in an ever-changing industry.\n",
    "\n",
    "The churn analytics predictive model is a data-driven solution designed to address the persistent challenge of customer churn in subscription-based industries. This model aims to identify customers at risk of churn, enabling businesses to take proactive measures and implement targeted retention strategies. \n",
    "\n",
    "The primary objective is to reduce customer churn rates and retain valuable customers by providing insights into customer behavior, preferences, and patterns. Utilizing machine learning models such as logistic regression and decision trees, the model evaluates the data to build accurate predictions. \n",
    "\n",
    "Its performance is assessed through metrics like accuracy, precision, recall and F1-score. Armed with the model's insights, businesses can create personalized offers, marketing campaigns, and proactive customer support initiatives, thus improving customer satisfaction and fostering loyalty. \n",
    "\n",
    "### Hypothesis\n",
    "\n",
    "**Null Hypothesis (H0)**:\n",
    "\"There is no significant relationship between customer tenure and churn rate in the telecom company.\"\n",
    "\n",
    "**Alternative Hypothesis (Ha)**:\n",
    "\"There is a significant relationship between customer tenure and churn rate in the telecom company.\"\n",
    "\n",
    "### Research Questions\n",
    "\n",
    "1. How does customer tenure relate to churn rates? Are long-tenured customers more likely to stay with the company, and do new customers exhibit higher churn behavior?\n",
    "\n",
    "2. Is there a correlation between the total charges and churn rates? Do customers with higher total charges exhibit different churn behavior compared to those with lower total charges\n",
    "\n",
    "3. What is the impact of contract type on churn rates? Do customers on long-term contracts have significantly lower churn rates compared to those on short-term contracts?\n",
    "\n",
    "4. Are there significant differences in churn behavior between customers who have device protection and those who don't?\n",
    "\n",
    "5. What is the relationship between the availability of tech support and churn rates? Are customers with access to tech support more likely to remain with the company?\n",
    "\n",
    "6. Do streaming services play a role in customer churn? Are customers with streaming services, such as StreamingTV and StreamingMovies, more likely to stay with the company?\n",
    "\n",
    "7. How does the choice of payment method impact churn rates? Are customers with specific payment methods more prone to churn than others?\n"
   ]
  },
  {
   "cell_type": "markdown",
   "metadata": {},
   "source": [
    "## 2. Data Understanding"
   ]
  },
  {
   "cell_type": "markdown",
   "metadata": {},
   "source": [
    "### Import libraries  and Packages\n",
    "Here is the section to import all the packages/libraries that will be used through this notebook."
   ]
  },
  {
   "cell_type": "code",
   "execution_count": 1,
   "metadata": {},
   "outputs": [],
   "source": [
    "# Database connections\n",
    "\n",
    "import pyodbc \n",
    "from dotenv import dotenv_values\n",
    "import warnings \n",
    "warnings.filterwarnings('ignore')\n",
    "\n",
    "# Data handling\n",
    "import pandas as pd\n",
    "pd.set_option('display.max_columns', None)\n",
    "import openpyxl\n",
    "import numpy as np\n",
    "\n",
    "# Vizualisation (Matplotlib, Plotly, Seaborn, etc. )\n",
    "import seaborn as sns\n",
    "sns.set_style('whitegrid')\n",
    "import matplotlib.pyplot as plt\n",
    "import matplotlib.ticker as ticker\n",
    "import plotly.express as px\n",
    "import plotly.graph_objects as go\n",
    "import plotly.io as pio\n",
    "import plotly.colors as colors\n",
    "from plotly.subplots import make_subplots\n",
    "\n",
    "# EDA (pandas-profiling, etc. )\n",
    "from statsmodels.genmod.families import Binomial\n",
    "from scipy.stats import pointbiserialr\n",
    "import scipy.stats as stats\n",
    "\n",
    "# Feature Processing (Scikit-learn processing, etc. )\n",
    "from sklearn.model_selection import train_test_split\n",
    "from sklearn.preprocessing import LabelEncoder, OneHotEncoder, StandardScaler\n",
    "from sklearn.metrics import mutual_info_score\n",
    "from sklearn.compose import make_column_transformer\n",
    "from imblearn.over_sampling import SMOTE\n",
    "\n",
    "# Machine Learning (Scikit-learn Estimators, Catboost, LightGBM, etc. )\n",
    "from sklearn.linear_model import LogisticRegression\n",
    "from sklearn.metrics import classification_report\n",
    "from sklearn.neighbors import KNeighborsClassifier\n",
    "from sklearn.ensemble import RandomForestClassifier, GradientBoostingClassifier\n",
    "from sklearn.svm import SVC\n",
    "import xgboost as xgb\n",
    "from xgboost import XGBClassifier\n",
    "from sklearn.metrics import accuracy_score, precision_score, recall_score, f1_score\n",
    "from sklearn.model_selection import KFold, cross_val_score\n",
    "\n",
    "# Hyperparameters Fine-tuning (Scikit-learn hp search, cross-validation, etc. )\n",
    "from sklearn.model_selection import RandomizedSearchCV\n",
    "from sklearn.metrics import confusion_matrix\n",
    "\n",
    "# Other packages\n",
    "import os, joblib\n",
    "from joblib import load"
   ]
  },
  {
   "cell_type": "markdown",
   "metadata": {},
   "source": [
    "### Data Loading\n",
    "#### Accessing first dataset from the database\n",
    "The first 3000 records of the dataset can be found in a remote database.\n",
    "\n",
    "-   **pyodbc**: A package for creating connection strings to your remote database\n",
    "-   **python-dotenv**: A package for creating environment variables that will help you hide sensitve configuration informantion such as database credentials and API keys\n",
    "\n",
    "The second dataset (2000 records) is already available as a .xlsx file. **This is the test dataset**\n",
    "\n",
    "The third dataset is already available as a .csv file."
   ]
  },
  {
   "cell_type": "code",
   "execution_count": 2,
   "metadata": {},
   "outputs": [],
   "source": [
    "# # Load environment variables from .env file into a dictionary\n",
    "# environment_variables = dotenv_values('.env')\n",
    "\n",
    "\n",
    "# # Get the values for the credentials you set in the '.env' file\n",
    "# database = environment_variables.get(\"DATABASE\")\n",
    "# server = environment_variables.get(\"SERVER\")\n",
    "# username = environment_variables.get(\"USERNAME\")\n",
    "# password = environment_variables.get(\"PASSWORD\")\n",
    "\n",
    "# # Create connection string to database\n",
    "# connection_string = f\"DRIVER={{SQL Server}};SERVER=tcp:{server};DATABASE={database};UID={username};PWD={password}\""
   ]
  },
  {
   "cell_type": "code",
   "execution_count": 3,
   "metadata": {},
   "outputs": [],
   "source": [
    "# # Use the connect method of the pyodbc library and pass in the connection string.\n",
    "# # This will connect to the server and might take a few seconds to be complete. \n",
    "# # Check your internet connection if it takes more time than necessary\n",
    "\n",
    "# connection = pyodbc.connect(connection_string)"
   ]
  },
  {
   "cell_type": "code",
   "execution_count": 4,
   "metadata": {},
   "outputs": [],
   "source": [
    "# # Get the cursor\n",
    "# # The connection cursor is used to execute statements to communicate with the MySQL database\n",
    "# cursor = connection.cursor()\n",
    "\n",
    "# # Retrieve the table names\n",
    "# table_names = cursor.tables(tableType='TABLE')\n",
    "\n",
    "# # Fetch all the table names\n",
    "# tables = table_names.fetchall()\n",
    "\n",
    "# # Print the table names\n",
    "# for table in tables:\n",
    "#     print(table.table_name)"
   ]
  },
  {
   "cell_type": "code",
   "execution_count": 5,
   "metadata": {},
   "outputs": [],
   "source": [
    "# # sql query to get the dataset\n",
    "\n",
    "# query = \"SELECT * FROM LP2_Telco_churn_first_3000\"\n",
    "# data=pd.read_sql(query,connection)"
   ]
  },
  {
   "cell_type": "markdown",
   "metadata": {},
   "source": [
    "##### First dataset"
   ]
  },
  {
   "cell_type": "code",
   "execution_count": 6,
   "metadata": {},
   "outputs": [],
   "source": [
    "# # preview the data\n",
    "\n",
    "# data.head()"
   ]
  },
  {
   "cell_type": "code",
   "execution_count": 7,
   "metadata": {},
   "outputs": [],
   "source": [
    "# data.info()"
   ]
  },
  {
   "cell_type": "markdown",
   "metadata": {},
   "source": [
    "##### Second dataset"
   ]
  },
  {
   "cell_type": "code",
   "execution_count": 8,
   "metadata": {},
   "outputs": [],
   "source": [
    "# # Load Telco second 2000 data with openpyxl\n",
    "# # Preview the data\n",
    "\n",
    "# data_xls = pd.read_excel('Telco-churn-second-2000.xlsx')\n",
    "# data_xls.head()"
   ]
  },
  {
   "cell_type": "markdown",
   "metadata": {},
   "source": [
    "- This is our test dataset to be used later"
   ]
  },
  {
   "cell_type": "code",
   "execution_count": 9,
   "metadata": {},
   "outputs": [],
   "source": [
    "# data_xls.info()"
   ]
  },
  {
   "cell_type": "code",
   "execution_count": 10,
   "metadata": {},
   "outputs": [],
   "source": [
    "# # Save to csv from xls\n",
    "\n",
    "# data_xls.to_csv (\"Telco-churn-second-2000.csv\", \n",
    "#                   index = None,\n",
    "#                   header=True)"
   ]
  },
  {
   "cell_type": "markdown",
   "metadata": {},
   "source": [
    "##### Third dataset"
   ]
  },
  {
   "cell_type": "code",
   "execution_count": 11,
   "metadata": {},
   "outputs": [],
   "source": [
    "# # Load and preview last dataset\n",
    "\n",
    "# data2 = pd.read_csv('LP2_Telco-churn-last-2000.csv')\n",
    "# data2.head()"
   ]
  },
  {
   "cell_type": "code",
   "execution_count": 12,
   "metadata": {},
   "outputs": [],
   "source": [
    "# data2.info()"
   ]
  },
  {
   "cell_type": "code",
   "execution_count": 13,
   "metadata": {},
   "outputs": [],
   "source": [
    "# # View columns and rows of datasets\n",
    "\n",
    "# (data.shape,data_xls.shape,data2.shape)"
   ]
  },
  {
   "cell_type": "markdown",
   "metadata": {},
   "source": [
    "#### Dataset Columns"
   ]
  },
  {
   "cell_type": "markdown",
   "metadata": {},
   "source": [
    "<table>\n",
    "<thead><tr>\n",
    "<th><strong>Feature Name</strong></th>\n",
    "<th><strong>Description</strong></th>\n",
    "<th><strong>Data Type</strong></th>\n",
    "</tr>\n",
    "</thead>\n",
    "<tbody>\n",
    "<tr>\n",
    "<td>customerID</td>\n",
    "<td>Contains customer ID</td>\n",
    "<td>categorical</td>\n",
    "</tr>\n",
    "<tr>\n",
    "<td>gender</td>\n",
    "<td>whether the customer female or male</td>\n",
    "<td>categorical</td>\n",
    "</tr>\n",
    "<tr>\n",
    "<td>SeniorCitizen</td>\n",
    "<td>Whether the customer is a senior citizen or not (1, 0)</td>\n",
    "<td>numeric, int</td>\n",
    "</tr>\n",
    "<tr>\n",
    "<td>Partner</td>\n",
    "<td>Whether the customer has a partner or not (Yes, No)</td>\n",
    "<td>categorical</td>\n",
    "</tr>\n",
    "<tr>\n",
    "<td>Dependents</td>\n",
    "<td>Whether the customer has dependents or not (Yes, No)</td>\n",
    "<td>categorical</td>\n",
    "</tr>\n",
    "<tr>\n",
    "<td>tenure</td>\n",
    "<td>Number of months the customer has stayed with the company</td>\n",
    "<td>numeric, int</td>\n",
    "</tr>\n",
    "<tr>\n",
    "<td>PhoneService</td>\n",
    "<td>Whether the customer has a phone service or not (Yes, No)</td>\n",
    "<td>categorical</td>\n",
    "</tr>\n",
    "<tr>\n",
    "<td>MultipleLines</td>\n",
    "<td>Whether the customer has multiple lines r not (Yes, No, No phone service)</td>\n",
    "<td>categorical</td>\n",
    "</tr>\n",
    "<tr>\n",
    "<td>InternetService</td>\n",
    "<td>Customer’s internet service provider (DSL, Fiber optic, No)</td>\n",
    "<td>categorical</td>\n",
    "</tr>\n",
    "<tr>\n",
    "<td>OnlineSecurity</td>\n",
    "<td>Whether the customer has online security or not (Yes, No, No internet service)</td>\n",
    "<td>categorical</td>\n",
    "</tr>\n",
    "<tr>\n",
    "<td>OnlineBackup</td>\n",
    "<td>Whether the customer has online backup or not (Yes, No, No internet service)</td>\n",
    "<td>categorical</td>\n",
    "</tr>\n",
    "<tr>\n",
    "<td>DeviceProtection</td>\n",
    "<td>Whether the customer has device protection or not (Yes, No, No internet service)</td>\n",
    "<td>categorical</td>\n",
    "</tr>\n",
    "<tr>\n",
    "<td>TechSupport</td>\n",
    "<td>Whether the customer has tech support or not (Yes, No, No internet service)</td>\n",
    "<td>categorical</td>\n",
    "</tr>\n",
    "<tr>\n",
    "<td>streamingTV</td>\n",
    "<td>Whether the customer has streaming TV or not (Yes, No, No internet service)</td>\n",
    "<td>categorical</td>\n",
    "</tr>\n",
    "<tr>\n",
    "<td>streamingMovies</td>\n",
    "<td>Whether the customer has streaming movies or not (Yes, No, No internet service)</td>\n",
    "<td>categorical</td>\n",
    "</tr>\n",
    "<tr>\n",
    "<td>Contract</td>\n",
    "<td>The contract term of the customer (Month-to-month, One year, Two year)</td>\n",
    "<td>categorical</td>\n",
    "</tr>\n",
    "<tr>\n",
    "<td>PaperlessBilling</td>\n",
    "<td>Whether the customer has paperless billing or not (Yes, No)</td>\n",
    "<td>categorical</td>\n",
    "</tr>\n",
    "<tr>\n",
    "<td>PaymentMethod</td>\n",
    "<td>The customer’s payment method (Electronic check, Mailed check, Bank transfer, Credit card)</td>\n",
    "<td>categorical</td>\n",
    "</tr>\n",
    "<tr>\n",
    "<td>MonthlyCharges</td>\n",
    "<td>The amount charged to the customer monthly </td>\n",
    "<td> numeric , int</td>\n",
    "</tr>\n",
    "<tr>\n",
    "<td>TotalCharges</td>\n",
    "<td>The total amount charged to the customer </td>\n",
    "<td>object</td>\n",
    "</tr>\n",
    "<tr>\n",
    "<td>Churn</td>\n",
    "<td>Whether the customer churned or not (Yes or No)</td>\n",
    "<td>categorical</td>\n",
    "</tr>\n",
    "</tbody>\n",
    "</table>"
   ]
  },
  {
   "cell_type": "markdown",
   "metadata": {},
   "source": [
    "#### Issues with data\n",
    "-  First dataset and third dataset need to be merged, however they have inconsistent Dtypes that need to be synchronized\n",
    "-  We need to remove the Customer ID column as it is not necessary for our analysis\n",
    "-  Missing values in First 3000 dataset need to be sorted out\n",
    "-  TotalCharges Column needs to be changed to numeric Dtype"
   ]
  },
  {
   "cell_type": "markdown",
   "metadata": {},
   "source": [
    "## 3. Data Preparation"
   ]
  },
  {
   "cell_type": "markdown",
   "metadata": {},
   "source": [
    "### Clean First Dataset"
   ]
  },
  {
   "cell_type": "code",
   "execution_count": 14,
   "metadata": {},
   "outputs": [],
   "source": [
    "data = pd.read_csv('Dataset\\LP2_Telco_churn_first_3000.csv')"
   ]
  },
  {
   "cell_type": "code",
   "execution_count": 15,
   "metadata": {},
   "outputs": [
    {
     "name": "stdout",
     "output_type": "stream",
     "text": [
      "<class 'pandas.core.frame.DataFrame'>\n",
      "RangeIndex: 3000 entries, 0 to 2999\n",
      "Data columns (total 21 columns):\n",
      " #   Column            Non-Null Count  Dtype  \n",
      "---  ------            --------------  -----  \n",
      " 0   customerID        3000 non-null   object \n",
      " 1   gender            3000 non-null   object \n",
      " 2   SeniorCitizen     3000 non-null   bool   \n",
      " 3   Partner           3000 non-null   bool   \n",
      " 4   Dependents        3000 non-null   bool   \n",
      " 5   tenure            3000 non-null   int64  \n",
      " 6   PhoneService      3000 non-null   bool   \n",
      " 7   MultipleLines     2731 non-null   object \n",
      " 8   InternetService   3000 non-null   object \n",
      " 9   OnlineSecurity    2349 non-null   object \n",
      " 10  OnlineBackup      2349 non-null   object \n",
      " 11  DeviceProtection  2349 non-null   object \n",
      " 12  TechSupport       2349 non-null   object \n",
      " 13  StreamingTV       2349 non-null   object \n",
      " 14  StreamingMovies   2349 non-null   object \n",
      " 15  Contract          3000 non-null   object \n",
      " 16  PaperlessBilling  3000 non-null   bool   \n",
      " 17  PaymentMethod     3000 non-null   object \n",
      " 18  MonthlyCharges    3000 non-null   float64\n",
      " 19  TotalCharges      2995 non-null   float64\n",
      " 20  Churn             2999 non-null   object \n",
      "dtypes: bool(5), float64(2), int64(1), object(13)\n",
      "memory usage: 389.8+ KB\n"
     ]
    }
   ],
   "source": [
    "data.info()"
   ]
  },
  {
   "cell_type": "code",
   "execution_count": 16,
   "metadata": {},
   "outputs": [],
   "source": [
    "# Deleting Customer ID column\n",
    "\n",
    "del data[\"customerID\"]"
   ]
  },
  {
   "cell_type": "code",
   "execution_count": 17,
   "metadata": {},
   "outputs": [],
   "source": [
    "# convert bool columns to object Dtypes\n",
    "\n",
    "bool_to_obj = {'Partner': object,\n",
    "               'SeniorCitizen': object,\n",
    "               'Dependents': object, \n",
    "               'PhoneService': object,\n",
    "               'PaperlessBilling': object}\n",
    "\n",
    "data = data.astype(bool_to_obj)"
   ]
  },
  {
   "cell_type": "code",
   "execution_count": 18,
   "metadata": {},
   "outputs": [],
   "source": [
    "# Replace True and False values with Yes and No in Object columns\n",
    "\n",
    "replace_values = {True: 'Yes', False: 'No'}\n",
    "\n",
    "# Use replace() method\n",
    "data['Partner'] = data['Partner'].replace(replace_values)\n",
    "data['SeniorCitizen'] = data['SeniorCitizen'].replace(replace_values)\n",
    "data['Dependents'] = data['Dependents'].replace(replace_values)\n",
    "data['PhoneService'] = data['PhoneService'].replace(replace_values)\n",
    "data['MultipleLines'] = data['MultipleLines'].replace(replace_values)\n",
    "data['OnlineSecurity'] = data['OnlineSecurity'].replace(replace_values)\n",
    "data['OnlineBackup'] = data['OnlineBackup'].replace(replace_values)\n",
    "data['DeviceProtection'] = data['DeviceProtection'].replace(replace_values)\n",
    "data['TechSupport'] = data['TechSupport'].replace(replace_values)\n",
    "data['StreamingTV'] = data['StreamingTV'].replace(replace_values)\n",
    "data['StreamingMovies'] = data['StreamingMovies'].replace(replace_values)\n",
    "data['PaperlessBilling'] = data['PaperlessBilling'].replace(replace_values)\n",
    "data['Churn'] = data['Churn'].replace(replace_values)"
   ]
  },
  {
   "cell_type": "code",
   "execution_count": 19,
   "metadata": {},
   "outputs": [
    {
     "data": {
      "text/plain": [
       "array(['No', 'Yes', nan], dtype=object)"
      ]
     },
     "execution_count": 19,
     "metadata": {},
     "output_type": "execute_result"
    }
   ],
   "source": [
    "# View unique values in target column (Churn)\n",
    "\n",
    "data['Churn'].unique()"
   ]
  },
  {
   "cell_type": "code",
   "execution_count": 20,
   "metadata": {},
   "outputs": [
    {
     "data": {
      "text/plain": [
       "1"
      ]
     },
     "execution_count": 20,
     "metadata": {},
     "output_type": "execute_result"
    }
   ],
   "source": [
    "# check the missing values in target column (Churn)\n",
    "\n",
    "data['Churn'].isna().sum()"
   ]
  },
  {
   "cell_type": "code",
   "execution_count": 21,
   "metadata": {},
   "outputs": [],
   "source": [
    "# Drop missing value in the Churn column\n",
    "\n",
    "data.dropna(subset='Churn', inplace=True)"
   ]
  },
  {
   "cell_type": "code",
   "execution_count": 22,
   "metadata": {},
   "outputs": [
    {
     "data": {
      "text/plain": [
       "gender                0\n",
       "SeniorCitizen         0\n",
       "Partner               0\n",
       "Dependents            0\n",
       "tenure                0\n",
       "PhoneService          0\n",
       "MultipleLines       269\n",
       "InternetService       0\n",
       "OnlineSecurity      651\n",
       "OnlineBackup        651\n",
       "DeviceProtection    651\n",
       "TechSupport         651\n",
       "StreamingTV         651\n",
       "StreamingMovies     651\n",
       "Contract              0\n",
       "PaperlessBilling      0\n",
       "PaymentMethod         0\n",
       "MonthlyCharges        0\n",
       "TotalCharges          5\n",
       "Churn                 0\n",
       "dtype: int64"
      ]
     },
     "execution_count": 22,
     "metadata": {},
     "output_type": "execute_result"
    }
   ],
   "source": [
    "# view all missing values in first dataset\n",
    "\n",
    "data.isnull().sum()"
   ]
  },
  {
   "cell_type": "code",
   "execution_count": 23,
   "metadata": {},
   "outputs": [
    {
     "data": {
      "text/html": [
       "<div>\n",
       "<style scoped>\n",
       "    .dataframe tbody tr th:only-of-type {\n",
       "        vertical-align: middle;\n",
       "    }\n",
       "\n",
       "    .dataframe tbody tr th {\n",
       "        vertical-align: top;\n",
       "    }\n",
       "\n",
       "    .dataframe thead th {\n",
       "        text-align: right;\n",
       "    }\n",
       "</style>\n",
       "<table border=\"1\" class=\"dataframe\">\n",
       "  <thead>\n",
       "    <tr style=\"text-align: right;\">\n",
       "      <th></th>\n",
       "      <th>gender</th>\n",
       "      <th>SeniorCitizen</th>\n",
       "      <th>Partner</th>\n",
       "      <th>Dependents</th>\n",
       "      <th>tenure</th>\n",
       "      <th>PhoneService</th>\n",
       "      <th>MultipleLines</th>\n",
       "      <th>InternetService</th>\n",
       "      <th>OnlineSecurity</th>\n",
       "      <th>OnlineBackup</th>\n",
       "      <th>DeviceProtection</th>\n",
       "      <th>TechSupport</th>\n",
       "      <th>StreamingTV</th>\n",
       "      <th>StreamingMovies</th>\n",
       "      <th>Contract</th>\n",
       "      <th>PaperlessBilling</th>\n",
       "      <th>PaymentMethod</th>\n",
       "      <th>MonthlyCharges</th>\n",
       "      <th>TotalCharges</th>\n",
       "      <th>Churn</th>\n",
       "    </tr>\n",
       "  </thead>\n",
       "  <tbody>\n",
       "    <tr>\n",
       "      <th>488</th>\n",
       "      <td>Female</td>\n",
       "      <td>No</td>\n",
       "      <td>Yes</td>\n",
       "      <td>Yes</td>\n",
       "      <td>0</td>\n",
       "      <td>No</td>\n",
       "      <td>NaN</td>\n",
       "      <td>DSL</td>\n",
       "      <td>Yes</td>\n",
       "      <td>No</td>\n",
       "      <td>Yes</td>\n",
       "      <td>Yes</td>\n",
       "      <td>Yes</td>\n",
       "      <td>No</td>\n",
       "      <td>Two year</td>\n",
       "      <td>Yes</td>\n",
       "      <td>Bank transfer (automatic)</td>\n",
       "      <td>52.549999</td>\n",
       "      <td>NaN</td>\n",
       "      <td>No</td>\n",
       "    </tr>\n",
       "    <tr>\n",
       "      <th>753</th>\n",
       "      <td>Male</td>\n",
       "      <td>No</td>\n",
       "      <td>No</td>\n",
       "      <td>Yes</td>\n",
       "      <td>0</td>\n",
       "      <td>Yes</td>\n",
       "      <td>No</td>\n",
       "      <td>No</td>\n",
       "      <td>NaN</td>\n",
       "      <td>NaN</td>\n",
       "      <td>NaN</td>\n",
       "      <td>NaN</td>\n",
       "      <td>NaN</td>\n",
       "      <td>NaN</td>\n",
       "      <td>Two year</td>\n",
       "      <td>No</td>\n",
       "      <td>Mailed check</td>\n",
       "      <td>20.250000</td>\n",
       "      <td>NaN</td>\n",
       "      <td>No</td>\n",
       "    </tr>\n",
       "    <tr>\n",
       "      <th>936</th>\n",
       "      <td>Female</td>\n",
       "      <td>No</td>\n",
       "      <td>Yes</td>\n",
       "      <td>Yes</td>\n",
       "      <td>0</td>\n",
       "      <td>Yes</td>\n",
       "      <td>No</td>\n",
       "      <td>DSL</td>\n",
       "      <td>Yes</td>\n",
       "      <td>Yes</td>\n",
       "      <td>Yes</td>\n",
       "      <td>No</td>\n",
       "      <td>Yes</td>\n",
       "      <td>Yes</td>\n",
       "      <td>Two year</td>\n",
       "      <td>No</td>\n",
       "      <td>Mailed check</td>\n",
       "      <td>80.849998</td>\n",
       "      <td>NaN</td>\n",
       "      <td>No</td>\n",
       "    </tr>\n",
       "    <tr>\n",
       "      <th>1082</th>\n",
       "      <td>Male</td>\n",
       "      <td>No</td>\n",
       "      <td>Yes</td>\n",
       "      <td>Yes</td>\n",
       "      <td>0</td>\n",
       "      <td>Yes</td>\n",
       "      <td>Yes</td>\n",
       "      <td>No</td>\n",
       "      <td>NaN</td>\n",
       "      <td>NaN</td>\n",
       "      <td>NaN</td>\n",
       "      <td>NaN</td>\n",
       "      <td>NaN</td>\n",
       "      <td>NaN</td>\n",
       "      <td>Two year</td>\n",
       "      <td>No</td>\n",
       "      <td>Mailed check</td>\n",
       "      <td>25.750000</td>\n",
       "      <td>NaN</td>\n",
       "      <td>No</td>\n",
       "    </tr>\n",
       "    <tr>\n",
       "      <th>1340</th>\n",
       "      <td>Female</td>\n",
       "      <td>No</td>\n",
       "      <td>Yes</td>\n",
       "      <td>Yes</td>\n",
       "      <td>0</td>\n",
       "      <td>No</td>\n",
       "      <td>NaN</td>\n",
       "      <td>DSL</td>\n",
       "      <td>Yes</td>\n",
       "      <td>Yes</td>\n",
       "      <td>Yes</td>\n",
       "      <td>Yes</td>\n",
       "      <td>Yes</td>\n",
       "      <td>No</td>\n",
       "      <td>Two year</td>\n",
       "      <td>No</td>\n",
       "      <td>Credit card (automatic)</td>\n",
       "      <td>56.049999</td>\n",
       "      <td>NaN</td>\n",
       "      <td>No</td>\n",
       "    </tr>\n",
       "  </tbody>\n",
       "</table>\n",
       "</div>"
      ],
      "text/plain": [
       "      gender SeniorCitizen Partner Dependents  tenure PhoneService  \\\n",
       "488   Female            No     Yes        Yes       0           No   \n",
       "753     Male            No      No        Yes       0          Yes   \n",
       "936   Female            No     Yes        Yes       0          Yes   \n",
       "1082    Male            No     Yes        Yes       0          Yes   \n",
       "1340  Female            No     Yes        Yes       0           No   \n",
       "\n",
       "     MultipleLines InternetService OnlineSecurity OnlineBackup  \\\n",
       "488            NaN             DSL            Yes           No   \n",
       "753             No              No            NaN          NaN   \n",
       "936             No             DSL            Yes          Yes   \n",
       "1082           Yes              No            NaN          NaN   \n",
       "1340           NaN             DSL            Yes          Yes   \n",
       "\n",
       "     DeviceProtection TechSupport StreamingTV StreamingMovies  Contract  \\\n",
       "488               Yes         Yes         Yes              No  Two year   \n",
       "753               NaN         NaN         NaN             NaN  Two year   \n",
       "936               Yes          No         Yes             Yes  Two year   \n",
       "1082              NaN         NaN         NaN             NaN  Two year   \n",
       "1340              Yes         Yes         Yes              No  Two year   \n",
       "\n",
       "     PaperlessBilling              PaymentMethod  MonthlyCharges  \\\n",
       "488               Yes  Bank transfer (automatic)       52.549999   \n",
       "753                No               Mailed check       20.250000   \n",
       "936                No               Mailed check       80.849998   \n",
       "1082               No               Mailed check       25.750000   \n",
       "1340               No    Credit card (automatic)       56.049999   \n",
       "\n",
       "      TotalCharges Churn  \n",
       "488            NaN    No  \n",
       "753            NaN    No  \n",
       "936            NaN    No  \n",
       "1082           NaN    No  \n",
       "1340           NaN    No  "
      ]
     },
     "execution_count": 23,
     "metadata": {},
     "output_type": "execute_result"
    }
   ],
   "source": [
    "# view the missing values in TotalCharges column\n",
    "\n",
    "data[np.isnan(data['TotalCharges'])]"
   ]
  },
  {
   "cell_type": "markdown",
   "metadata": {},
   "source": [
    "The missing values in **TotalCharges** have a **tenure** of 0, even though there are values in the **MonthlyCharges** column. We can simply drop those rows to avoid confusion."
   ]
  },
  {
   "cell_type": "code",
   "execution_count": 24,
   "metadata": {},
   "outputs": [],
   "source": [
    "# Drop rows where tenure = 0\n",
    "\n",
    "data.drop(labels=data[data['tenure'] == 0].index, axis=0, inplace=True)"
   ]
  },
  {
   "cell_type": "code",
   "execution_count": 25,
   "metadata": {},
   "outputs": [],
   "source": [
    "# impute missing values with the mode\n",
    "\n",
    "columns_to_replace = ['MultipleLines', 'OnlineSecurity', 'OnlineBackup',\n",
    "            'DeviceProtection', 'TechSupport', 'StreamingTV',\n",
    "            'StreamingMovies']\n",
    "\n",
    "for column in columns_to_replace:\n",
    "    data[column].fillna(data[column].mode()[0], inplace=True)"
   ]
  },
  {
   "cell_type": "markdown",
   "metadata": {},
   "source": [
    "### Clean Third Dataset"
   ]
  },
  {
   "cell_type": "code",
   "execution_count": 26,
   "metadata": {},
   "outputs": [],
   "source": [
    "data3 = pd.read_csv('Dataset\\LP2_Telco-churn-last-2000.csv')"
   ]
  },
  {
   "cell_type": "code",
   "execution_count": 27,
   "metadata": {},
   "outputs": [
    {
     "name": "stdout",
     "output_type": "stream",
     "text": [
      "<class 'pandas.core.frame.DataFrame'>\n",
      "RangeIndex: 2043 entries, 0 to 2042\n",
      "Data columns (total 21 columns):\n",
      " #   Column            Non-Null Count  Dtype  \n",
      "---  ------            --------------  -----  \n",
      " 0   customerID        2043 non-null   object \n",
      " 1   gender            2043 non-null   object \n",
      " 2   SeniorCitizen     2043 non-null   int64  \n",
      " 3   Partner           2043 non-null   object \n",
      " 4   Dependents        2043 non-null   object \n",
      " 5   tenure            2043 non-null   int64  \n",
      " 6   PhoneService      2043 non-null   object \n",
      " 7   MultipleLines     2043 non-null   object \n",
      " 8   InternetService   2043 non-null   object \n",
      " 9   OnlineSecurity    2043 non-null   object \n",
      " 10  OnlineBackup      2043 non-null   object \n",
      " 11  DeviceProtection  2043 non-null   object \n",
      " 12  TechSupport       2043 non-null   object \n",
      " 13  StreamingTV       2043 non-null   object \n",
      " 14  StreamingMovies   2043 non-null   object \n",
      " 15  Contract          2043 non-null   object \n",
      " 16  PaperlessBilling  2043 non-null   object \n",
      " 17  PaymentMethod     2043 non-null   object \n",
      " 18  MonthlyCharges    2043 non-null   float64\n",
      " 19  TotalCharges      2043 non-null   object \n",
      " 20  Churn             2043 non-null   object \n",
      "dtypes: float64(1), int64(2), object(18)\n",
      "memory usage: 335.3+ KB\n"
     ]
    }
   ],
   "source": [
    "data3.info()"
   ]
  },
  {
   "cell_type": "code",
   "execution_count": 28,
   "metadata": {},
   "outputs": [],
   "source": [
    "# Drop Customer ID column\n",
    "\n",
    "data3.drop(columns='customerID', inplace=True)"
   ]
  },
  {
   "cell_type": "code",
   "execution_count": 29,
   "metadata": {},
   "outputs": [],
   "source": [
    "# change Dtype of TotalCharges column from object to numeric\n",
    "\n",
    "data3['TotalCharges'] = pd.to_numeric(data3['TotalCharges'], errors='coerce')"
   ]
  },
  {
   "cell_type": "markdown",
   "metadata": {},
   "source": [
    "### Merge and clean test dataset"
   ]
  },
  {
   "cell_type": "code",
   "execution_count": 30,
   "metadata": {},
   "outputs": [
    {
     "name": "stdout",
     "output_type": "stream",
     "text": [
      "<class 'pandas.core.frame.DataFrame'>\n",
      "RangeIndex: 5037 entries, 0 to 5036\n",
      "Data columns (total 20 columns):\n",
      " #   Column            Non-Null Count  Dtype  \n",
      "---  ------            --------------  -----  \n",
      " 0   gender            5037 non-null   object \n",
      " 1   SeniorCitizen     5037 non-null   object \n",
      " 2   Partner           5037 non-null   object \n",
      " 3   Dependents        5037 non-null   object \n",
      " 4   tenure            5037 non-null   int64  \n",
      " 5   PhoneService      5037 non-null   object \n",
      " 6   MultipleLines     5037 non-null   object \n",
      " 7   InternetService   5037 non-null   object \n",
      " 8   OnlineSecurity    5037 non-null   object \n",
      " 9   OnlineBackup      5037 non-null   object \n",
      " 10  DeviceProtection  5037 non-null   object \n",
      " 11  TechSupport       5037 non-null   object \n",
      " 12  StreamingTV       5037 non-null   object \n",
      " 13  StreamingMovies   5037 non-null   object \n",
      " 14  Contract          5037 non-null   object \n",
      " 15  PaperlessBilling  5037 non-null   object \n",
      " 16  PaymentMethod     5037 non-null   object \n",
      " 17  MonthlyCharges    5037 non-null   float64\n",
      " 18  TotalCharges      5034 non-null   float64\n",
      " 19  Churn             5037 non-null   object \n",
      "dtypes: float64(2), int64(1), object(17)\n",
      "memory usage: 787.2+ KB\n"
     ]
    }
   ],
   "source": [
    "# merge the test datasets\n",
    "\n",
    "Data_All= pd.concat([data, data3], ignore_index=True)\n",
    "Data_All.info()"
   ]
  },
  {
   "cell_type": "markdown",
   "metadata": {},
   "source": [
    "- There are some missing values in the **TotalCharges** column"
   ]
  },
  {
   "cell_type": "code",
   "execution_count": 31,
   "metadata": {},
   "outputs": [
    {
     "data": {
      "text/html": [
       "<div>\n",
       "<style scoped>\n",
       "    .dataframe tbody tr th:only-of-type {\n",
       "        vertical-align: middle;\n",
       "    }\n",
       "\n",
       "    .dataframe tbody tr th {\n",
       "        vertical-align: top;\n",
       "    }\n",
       "\n",
       "    .dataframe thead th {\n",
       "        text-align: right;\n",
       "    }\n",
       "</style>\n",
       "<table border=\"1\" class=\"dataframe\">\n",
       "  <thead>\n",
       "    <tr style=\"text-align: right;\">\n",
       "      <th></th>\n",
       "      <th>gender</th>\n",
       "      <th>SeniorCitizen</th>\n",
       "      <th>Partner</th>\n",
       "      <th>Dependents</th>\n",
       "      <th>tenure</th>\n",
       "      <th>PhoneService</th>\n",
       "      <th>MultipleLines</th>\n",
       "      <th>InternetService</th>\n",
       "      <th>OnlineSecurity</th>\n",
       "      <th>OnlineBackup</th>\n",
       "      <th>DeviceProtection</th>\n",
       "      <th>TechSupport</th>\n",
       "      <th>StreamingTV</th>\n",
       "      <th>StreamingMovies</th>\n",
       "      <th>Contract</th>\n",
       "      <th>PaperlessBilling</th>\n",
       "      <th>PaymentMethod</th>\n",
       "      <th>MonthlyCharges</th>\n",
       "      <th>TotalCharges</th>\n",
       "      <th>Churn</th>\n",
       "    </tr>\n",
       "  </thead>\n",
       "  <tbody>\n",
       "    <tr>\n",
       "      <th>3212</th>\n",
       "      <td>Male</td>\n",
       "      <td>0</td>\n",
       "      <td>Yes</td>\n",
       "      <td>Yes</td>\n",
       "      <td>0</td>\n",
       "      <td>Yes</td>\n",
       "      <td>No</td>\n",
       "      <td>No</td>\n",
       "      <td>No internet service</td>\n",
       "      <td>No internet service</td>\n",
       "      <td>No internet service</td>\n",
       "      <td>No internet service</td>\n",
       "      <td>No internet service</td>\n",
       "      <td>No internet service</td>\n",
       "      <td>One year</td>\n",
       "      <td>Yes</td>\n",
       "      <td>Mailed check</td>\n",
       "      <td>19.70</td>\n",
       "      <td>NaN</td>\n",
       "      <td>No</td>\n",
       "    </tr>\n",
       "    <tr>\n",
       "      <th>4664</th>\n",
       "      <td>Female</td>\n",
       "      <td>0</td>\n",
       "      <td>Yes</td>\n",
       "      <td>Yes</td>\n",
       "      <td>0</td>\n",
       "      <td>Yes</td>\n",
       "      <td>Yes</td>\n",
       "      <td>DSL</td>\n",
       "      <td>No</td>\n",
       "      <td>Yes</td>\n",
       "      <td>Yes</td>\n",
       "      <td>Yes</td>\n",
       "      <td>Yes</td>\n",
       "      <td>No</td>\n",
       "      <td>Two year</td>\n",
       "      <td>No</td>\n",
       "      <td>Mailed check</td>\n",
       "      <td>73.35</td>\n",
       "      <td>NaN</td>\n",
       "      <td>No</td>\n",
       "    </tr>\n",
       "    <tr>\n",
       "      <th>4748</th>\n",
       "      <td>Male</td>\n",
       "      <td>0</td>\n",
       "      <td>No</td>\n",
       "      <td>Yes</td>\n",
       "      <td>0</td>\n",
       "      <td>Yes</td>\n",
       "      <td>Yes</td>\n",
       "      <td>DSL</td>\n",
       "      <td>Yes</td>\n",
       "      <td>Yes</td>\n",
       "      <td>No</td>\n",
       "      <td>Yes</td>\n",
       "      <td>No</td>\n",
       "      <td>No</td>\n",
       "      <td>Two year</td>\n",
       "      <td>Yes</td>\n",
       "      <td>Bank transfer (automatic)</td>\n",
       "      <td>61.90</td>\n",
       "      <td>NaN</td>\n",
       "      <td>No</td>\n",
       "    </tr>\n",
       "  </tbody>\n",
       "</table>\n",
       "</div>"
      ],
      "text/plain": [
       "      gender SeniorCitizen Partner Dependents  tenure PhoneService  \\\n",
       "3212    Male             0     Yes        Yes       0          Yes   \n",
       "4664  Female             0     Yes        Yes       0          Yes   \n",
       "4748    Male             0      No        Yes       0          Yes   \n",
       "\n",
       "     MultipleLines InternetService       OnlineSecurity         OnlineBackup  \\\n",
       "3212            No              No  No internet service  No internet service   \n",
       "4664           Yes             DSL                   No                  Yes   \n",
       "4748           Yes             DSL                  Yes                  Yes   \n",
       "\n",
       "         DeviceProtection          TechSupport          StreamingTV  \\\n",
       "3212  No internet service  No internet service  No internet service   \n",
       "4664                  Yes                  Yes                  Yes   \n",
       "4748                   No                  Yes                   No   \n",
       "\n",
       "          StreamingMovies  Contract PaperlessBilling  \\\n",
       "3212  No internet service  One year              Yes   \n",
       "4664                   No  Two year               No   \n",
       "4748                   No  Two year              Yes   \n",
       "\n",
       "                  PaymentMethod  MonthlyCharges  TotalCharges Churn  \n",
       "3212               Mailed check           19.70           NaN    No  \n",
       "4664               Mailed check           73.35           NaN    No  \n",
       "4748  Bank transfer (automatic)           61.90           NaN    No  "
      ]
     },
     "execution_count": 31,
     "metadata": {},
     "output_type": "execute_result"
    }
   ],
   "source": [
    "# view Missing Values in TotalCharges column\n",
    "\n",
    "Data_All[np.isnan(Data_All['TotalCharges'])]"
   ]
  },
  {
   "cell_type": "markdown",
   "metadata": {},
   "source": [
    "We have some more missing values in **TotalCharges** columns. Let us delete the rows with a **tenure** of 0"
   ]
  },
  {
   "cell_type": "code",
   "execution_count": 32,
   "metadata": {},
   "outputs": [],
   "source": [
    "# Drop rows where tenure = 0\n",
    "\n",
    "Data_All.drop(labels=Data_All[Data_All['tenure'] == 0].index, axis=0, inplace=True)"
   ]
  },
  {
   "cell_type": "code",
   "execution_count": 33,
   "metadata": {},
   "outputs": [
    {
     "data": {
      "text/html": [
       "<div>\n",
       "<style scoped>\n",
       "    .dataframe tbody tr th:only-of-type {\n",
       "        vertical-align: middle;\n",
       "    }\n",
       "\n",
       "    .dataframe tbody tr th {\n",
       "        vertical-align: top;\n",
       "    }\n",
       "\n",
       "    .dataframe thead th {\n",
       "        text-align: right;\n",
       "    }\n",
       "</style>\n",
       "<table border=\"1\" class=\"dataframe\">\n",
       "  <thead>\n",
       "    <tr style=\"text-align: right;\">\n",
       "      <th></th>\n",
       "      <th>count</th>\n",
       "      <th>unique</th>\n",
       "      <th>top</th>\n",
       "      <th>freq</th>\n",
       "    </tr>\n",
       "  </thead>\n",
       "  <tbody>\n",
       "    <tr>\n",
       "      <th>gender</th>\n",
       "      <td>5034</td>\n",
       "      <td>2</td>\n",
       "      <td>Male</td>\n",
       "      <td>2554</td>\n",
       "    </tr>\n",
       "    <tr>\n",
       "      <th>SeniorCitizen</th>\n",
       "      <td>5034</td>\n",
       "      <td>4</td>\n",
       "      <td>No</td>\n",
       "      <td>2519</td>\n",
       "    </tr>\n",
       "    <tr>\n",
       "      <th>Partner</th>\n",
       "      <td>5034</td>\n",
       "      <td>2</td>\n",
       "      <td>No</td>\n",
       "      <td>2583</td>\n",
       "    </tr>\n",
       "    <tr>\n",
       "      <th>Dependents</th>\n",
       "      <td>5034</td>\n",
       "      <td>2</td>\n",
       "      <td>No</td>\n",
       "      <td>3481</td>\n",
       "    </tr>\n",
       "    <tr>\n",
       "      <th>PhoneService</th>\n",
       "      <td>5034</td>\n",
       "      <td>2</td>\n",
       "      <td>Yes</td>\n",
       "      <td>4547</td>\n",
       "    </tr>\n",
       "    <tr>\n",
       "      <th>MultipleLines</th>\n",
       "      <td>5034</td>\n",
       "      <td>3</td>\n",
       "      <td>No</td>\n",
       "      <td>2688</td>\n",
       "    </tr>\n",
       "    <tr>\n",
       "      <th>InternetService</th>\n",
       "      <td>5034</td>\n",
       "      <td>3</td>\n",
       "      <td>Fiber optic</td>\n",
       "      <td>2247</td>\n",
       "    </tr>\n",
       "    <tr>\n",
       "      <th>OnlineSecurity</th>\n",
       "      <td>5034</td>\n",
       "      <td>3</td>\n",
       "      <td>No</td>\n",
       "      <td>3155</td>\n",
       "    </tr>\n",
       "    <tr>\n",
       "      <th>OnlineBackup</th>\n",
       "      <td>5034</td>\n",
       "      <td>3</td>\n",
       "      <td>No</td>\n",
       "      <td>2879</td>\n",
       "    </tr>\n",
       "    <tr>\n",
       "      <th>DeviceProtection</th>\n",
       "      <td>5034</td>\n",
       "      <td>3</td>\n",
       "      <td>No</td>\n",
       "      <td>2867</td>\n",
       "    </tr>\n",
       "    <tr>\n",
       "      <th>TechSupport</th>\n",
       "      <td>5034</td>\n",
       "      <td>3</td>\n",
       "      <td>No</td>\n",
       "      <td>3119</td>\n",
       "    </tr>\n",
       "    <tr>\n",
       "      <th>StreamingTV</th>\n",
       "      <td>5034</td>\n",
       "      <td>3</td>\n",
       "      <td>No</td>\n",
       "      <td>2666</td>\n",
       "    </tr>\n",
       "    <tr>\n",
       "      <th>StreamingMovies</th>\n",
       "      <td>5034</td>\n",
       "      <td>3</td>\n",
       "      <td>Yes</td>\n",
       "      <td>2629</td>\n",
       "    </tr>\n",
       "    <tr>\n",
       "      <th>Contract</th>\n",
       "      <td>5034</td>\n",
       "      <td>3</td>\n",
       "      <td>Month-to-month</td>\n",
       "      <td>2744</td>\n",
       "    </tr>\n",
       "    <tr>\n",
       "      <th>PaperlessBilling</th>\n",
       "      <td>5034</td>\n",
       "      <td>2</td>\n",
       "      <td>Yes</td>\n",
       "      <td>2992</td>\n",
       "    </tr>\n",
       "    <tr>\n",
       "      <th>PaymentMethod</th>\n",
       "      <td>5034</td>\n",
       "      <td>4</td>\n",
       "      <td>Electronic check</td>\n",
       "      <td>1699</td>\n",
       "    </tr>\n",
       "    <tr>\n",
       "      <th>Churn</th>\n",
       "      <td>5034</td>\n",
       "      <td>2</td>\n",
       "      <td>No</td>\n",
       "      <td>3698</td>\n",
       "    </tr>\n",
       "  </tbody>\n",
       "</table>\n",
       "</div>"
      ],
      "text/plain": [
       "                 count unique               top  freq\n",
       "gender            5034      2              Male  2554\n",
       "SeniorCitizen     5034      4                No  2519\n",
       "Partner           5034      2                No  2583\n",
       "Dependents        5034      2                No  3481\n",
       "PhoneService      5034      2               Yes  4547\n",
       "MultipleLines     5034      3                No  2688\n",
       "InternetService   5034      3       Fiber optic  2247\n",
       "OnlineSecurity    5034      3                No  3155\n",
       "OnlineBackup      5034      3                No  2879\n",
       "DeviceProtection  5034      3                No  2867\n",
       "TechSupport       5034      3                No  3119\n",
       "StreamingTV       5034      3                No  2666\n",
       "StreamingMovies   5034      3               Yes  2629\n",
       "Contract          5034      3    Month-to-month  2744\n",
       "PaperlessBilling  5034      2               Yes  2992\n",
       "PaymentMethod     5034      4  Electronic check  1699\n",
       "Churn             5034      2                No  3698"
      ]
     },
     "execution_count": 33,
     "metadata": {},
     "output_type": "execute_result"
    }
   ],
   "source": [
    "# checking all categorical values\n",
    "\n",
    "Data_All.describe(include=['object']).T"
   ]
  },
  {
   "cell_type": "markdown",
   "metadata": {},
   "source": [
    "- **Seniorcitizen** column has more unique values than expected"
   ]
  },
  {
   "cell_type": "code",
   "execution_count": 34,
   "metadata": {},
   "outputs": [
    {
     "data": {
      "text/plain": [
       "SeniorCitizen\n",
       "No     2519\n",
       "0      1696\n",
       "Yes     475\n",
       "1       344\n",
       "Name: count, dtype: int64"
      ]
     },
     "execution_count": 34,
     "metadata": {},
     "output_type": "execute_result"
    }
   ],
   "source": [
    "Data_All['SeniorCitizen'].value_counts()"
   ]
  },
  {
   "cell_type": "code",
   "execution_count": 35,
   "metadata": {},
   "outputs": [],
   "source": [
    "# Replace 0 values with 'No' and 1 values with 'Yes'\n",
    "\n",
    "Data_All['SeniorCitizen'] = Data_All['SeniorCitizen'].replace({0: 'No', 1: 'Yes'})"
   ]
  },
  {
   "cell_type": "code",
   "execution_count": 36,
   "metadata": {},
   "outputs": [],
   "source": [
    "Data_All['SeniorCitizen'] = Data_All['SeniorCitizen'].astype('object')"
   ]
  },
  {
   "cell_type": "code",
   "execution_count": 37,
   "metadata": {},
   "outputs": [
    {
     "name": "stdout",
     "output_type": "stream",
     "text": [
      "Known observations: 5034\n",
      "Unique observations: 5024\n"
     ]
    }
   ],
   "source": [
    "# checking for unique columns\n",
    "\n",
    "print('Known observations: {}\\nUnique observations: {}'.format(len(Data_All.index),len(Data_All.drop_duplicates().index)))\n"
   ]
  },
  {
   "cell_type": "code",
   "execution_count": 38,
   "metadata": {},
   "outputs": [
    {
     "name": "stdout",
     "output_type": "stream",
     "text": [
      "Column: gender - Unique Values: ['Female' 'Male']\n",
      "Column: SeniorCitizen - Unique Values: ['No' 'Yes']\n",
      "Column: Partner - Unique Values: ['Yes' 'No']\n",
      "Column: Dependents - Unique Values: ['No' 'Yes']\n",
      "Column: tenure - Unique Values: [ 1 34  2 45  8 22 10 28 62 13 16 58 49 25 69 52 71 21 12 30 47 72 17 27\n",
      "  5 46 11 70 63 43 15 60 18 66  9  3 31 50 64 56  7 42 35 48 29 65 38 68\n",
      " 32 55 37 36 41  6  4 33 67 23 57 61 14 20 53 40 59 24 44 19 54 51 26 39]\n",
      "Column: PhoneService - Unique Values: ['No' 'Yes']\n",
      "Column: MultipleLines - Unique Values: ['No' 'Yes' 'No phone service']\n",
      "Column: InternetService - Unique Values: ['DSL' 'Fiber optic' 'No']\n",
      "Column: OnlineSecurity - Unique Values: ['No' 'Yes' 'No internet service']\n",
      "Column: OnlineBackup - Unique Values: ['Yes' 'No' 'No internet service']\n",
      "Column: DeviceProtection - Unique Values: ['No' 'Yes' 'No internet service']\n",
      "Column: TechSupport - Unique Values: ['No' 'Yes' 'No internet service']\n",
      "Column: StreamingTV - Unique Values: ['No' 'Yes' 'No internet service']\n",
      "Column: StreamingMovies - Unique Values: ['No' 'Yes' 'No internet service']\n",
      "Column: Contract - Unique Values: ['Month-to-month' 'One year' 'Two year']\n",
      "Column: PaperlessBilling - Unique Values: ['Yes' 'No']\n",
      "Column: PaymentMethod - Unique Values: ['Electronic check' 'Mailed check' 'Bank transfer (automatic)'\n",
      " 'Credit card (automatic)']\n",
      "Column: MonthlyCharges - Unique Values: [ 29.85000038  56.95000076  53.84999847 ...  78.7         60.65\n",
      " 103.2       ]\n",
      "Column: TotalCharges - Unique Values: [  29.85000038 1889.5         108.15000153 ...  346.45        306.6\n",
      " 6844.5       ]\n",
      "Column: Churn - Unique Values: ['No' 'Yes']\n"
     ]
    }
   ],
   "source": [
    "# view unique values of each column\n",
    "\n",
    "for column in Data_All.columns:\n",
    "    print('Column: {} - Unique Values: {}'.format(column, Data_All[column].unique()))"
   ]
  },
  {
   "cell_type": "code",
   "execution_count": 40,
   "metadata": {},
   "outputs": [
    {
     "data": {
      "text/plain": [
       "gender              0\n",
       "SeniorCitizen       0\n",
       "Partner             0\n",
       "Dependents          0\n",
       "tenure              0\n",
       "PhoneService        0\n",
       "MultipleLines       0\n",
       "InternetService     0\n",
       "OnlineSecurity      0\n",
       "OnlineBackup        0\n",
       "DeviceProtection    0\n",
       "TechSupport         0\n",
       "StreamingTV         0\n",
       "StreamingMovies     0\n",
       "Contract            0\n",
       "PaperlessBilling    0\n",
       "PaymentMethod       0\n",
       "MonthlyCharges      0\n",
       "TotalCharges        0\n",
       "Churn               0\n",
       "dtype: int64"
      ]
     },
     "execution_count": 40,
     "metadata": {},
     "output_type": "execute_result"
    }
   ],
   "source": [
    "# check for missing values\n",
    "\n",
    "Data_All.isna().sum()\n"
   ]
  },
  {
   "cell_type": "code",
   "execution_count": 41,
   "metadata": {},
   "outputs": [
    {
     "data": {
      "text/html": [
       "<div>\n",
       "<style scoped>\n",
       "    .dataframe tbody tr th:only-of-type {\n",
       "        vertical-align: middle;\n",
       "    }\n",
       "\n",
       "    .dataframe tbody tr th {\n",
       "        vertical-align: top;\n",
       "    }\n",
       "\n",
       "    .dataframe thead th {\n",
       "        text-align: right;\n",
       "    }\n",
       "</style>\n",
       "<table border=\"1\" class=\"dataframe\">\n",
       "  <thead>\n",
       "    <tr style=\"text-align: right;\">\n",
       "      <th></th>\n",
       "      <th>tenure</th>\n",
       "      <th>MonthlyCharges</th>\n",
       "      <th>TotalCharges</th>\n",
       "    </tr>\n",
       "  </thead>\n",
       "  <tbody>\n",
       "    <tr>\n",
       "      <th>count</th>\n",
       "      <td>5034.000000</td>\n",
       "      <td>5034.000000</td>\n",
       "      <td>5034.000000</td>\n",
       "    </tr>\n",
       "    <tr>\n",
       "      <th>mean</th>\n",
       "      <td>32.620580</td>\n",
       "      <td>65.107251</td>\n",
       "      <td>2300.954758</td>\n",
       "    </tr>\n",
       "    <tr>\n",
       "      <th>std</th>\n",
       "      <td>24.511015</td>\n",
       "      <td>30.068019</td>\n",
       "      <td>2268.346402</td>\n",
       "    </tr>\n",
       "    <tr>\n",
       "      <th>min</th>\n",
       "      <td>1.000000</td>\n",
       "      <td>18.400000</td>\n",
       "      <td>18.799999</td>\n",
       "    </tr>\n",
       "    <tr>\n",
       "      <th>25%</th>\n",
       "      <td>9.000000</td>\n",
       "      <td>35.799999</td>\n",
       "      <td>417.662498</td>\n",
       "    </tr>\n",
       "    <tr>\n",
       "      <th>50%</th>\n",
       "      <td>29.000000</td>\n",
       "      <td>70.599998</td>\n",
       "      <td>1401.000000</td>\n",
       "    </tr>\n",
       "    <tr>\n",
       "      <th>75%</th>\n",
       "      <td>56.000000</td>\n",
       "      <td>90.050003</td>\n",
       "      <td>3860.599976</td>\n",
       "    </tr>\n",
       "    <tr>\n",
       "      <th>max</th>\n",
       "      <td>72.000000</td>\n",
       "      <td>118.650002</td>\n",
       "      <td>8670.100000</td>\n",
       "    </tr>\n",
       "  </tbody>\n",
       "</table>\n",
       "</div>"
      ],
      "text/plain": [
       "            tenure  MonthlyCharges  TotalCharges\n",
       "count  5034.000000     5034.000000   5034.000000\n",
       "mean     32.620580       65.107251   2300.954758\n",
       "std      24.511015       30.068019   2268.346402\n",
       "min       1.000000       18.400000     18.799999\n",
       "25%       9.000000       35.799999    417.662498\n",
       "50%      29.000000       70.599998   1401.000000\n",
       "75%      56.000000       90.050003   3860.599976\n",
       "max      72.000000      118.650002   8670.100000"
      ]
     },
     "execution_count": 41,
     "metadata": {},
     "output_type": "execute_result"
    }
   ],
   "source": [
    "Data_All.describe()"
   ]
  },
  {
   "cell_type": "code",
   "execution_count": 42,
   "metadata": {},
   "outputs": [
    {
     "name": "stdout",
     "output_type": "stream",
     "text": [
      "tenure\n"
     ]
    },
    {
     "data": {
      "image/png": "[encoded data removed]",
      "text/plain": [
       "<Figure size 640x480 with 1 Axes>"
      ]
     },
     "metadata": {},
     "output_type": "display_data"
    },
    {
     "name": "stdout",
     "output_type": "stream",
     "text": [
      "MonthlyCharges\n"
     ]
    },
    {
     "data": {
      "image/png": "[encoded data removed]",
      "text/plain": [
       "<Figure size 640x480 with 1 Axes>"
      ]
     },
     "metadata": {},
     "output_type": "display_data"
    },
    {
     "name": "stdout",
     "output_type": "stream",
     "text": [
      "TotalCharges\n"
     ]
    },
    {
     "data": {
      "image/png": "[encoded data removed]",
      "text/plain": [
       "<Figure size 640x480 with 1 Axes>"
      ]
     },
     "metadata": {},
     "output_type": "display_data"
    }
   ],
   "source": [
    "# Check for outliers in the numerical variables\n",
    "# Use boxplot\n",
    "\n",
    "for col in ['tenure','MonthlyCharges','TotalCharges']:\n",
    "    print(col)\n",
    "    plt.boxplot(Data_All[col])\n",
    "    plt.show()"
   ]
  },
  {
   "cell_type": "markdown",
   "metadata": {},
   "source": [
    "- **No outliers** in out Test Dataset numeric columns"
   ]
  },
  {
   "cell_type": "markdown",
   "metadata": {},
   "source": [
    "We will perfom normality test on the three numeric variables to look for signs of skewedness using the D’Agostino’s K^2 Test."
   ]
  },
  {
   "cell_type": "code",
   "execution_count": 43,
   "metadata": {},
   "outputs": [
    {
     "name": "stdout",
     "output_type": "stream",
     "text": [
      "Statistics=7510.47646, p=0.000\n",
      "the sample is skewed\n"
     ]
    }
   ],
   "source": [
    "# D’Agostino’s K^2 Test on monthly charges\n",
    "\n",
    "stat, p = stats.normaltest(Data_All['MonthlyCharges'])\n",
    "\n",
    "print('Statistics=%.5f, p=%.3f' % (stat, p))\n",
    "\n",
    "# significance level (5%) for the test\n",
    "alpha = 0.05\n",
    "\n",
    "if p > alpha:\n",
    "    print('the sample is normally distributed')\n",
    "else:\n",
    "    print('the sample is skewed')"
   ]
  },
  {
   "cell_type": "code",
   "execution_count": 44,
   "metadata": {},
   "outputs": [
    {
     "name": "stdout",
     "output_type": "stream",
     "text": [
      "Statistics=53555.33858, p=0.000\n",
      "the sample is skewed\n"
     ]
    }
   ],
   "source": [
    "# D’Agostino’s K^2 Test on tenure\n",
    "\n",
    "stat, p = stats.normaltest(Data_All['tenure'])\n",
    "\n",
    "print('Statistics=%.5f, p=%.3f' % (stat, p))\n",
    "\n",
    "# significance level (5%) for the test\n",
    "alpha = 0.05\n",
    "\n",
    "if p > alpha:\n",
    "\tprint('the sample is normally distributed')\n",
    "else:\n",
    "\tprint('the sample is skewed')"
   ]
  },
  {
   "cell_type": "code",
   "execution_count": 45,
   "metadata": {},
   "outputs": [
    {
     "name": "stdout",
     "output_type": "stream",
     "text": [
      "Statistics=569.05463, p=0.000\n",
      "the sample is skewed\n"
     ]
    }
   ],
   "source": [
    "## D’Agostino’s K^2 Test on TotalCharges\n",
    "stat, p = stats.normaltest(Data_All['TotalCharges'])\n",
    "\n",
    "print('Statistics=%.5f, p=%.3f' % (stat, p))\n",
    "\n",
    "# significance level (5%) for the test\n",
    "alpha = 0.05\n",
    "\n",
    "if p > alpha:\n",
    "\tprint('the sample is normally distributed')\n",
    "else:\n",
    "\tprint('the sample is skewed')"
   ]
  },
  {
   "cell_type": "code",
   "execution_count": 46,
   "metadata": {},
   "outputs": [],
   "source": [
    "# reset index and save to csv\n",
    "\n",
    "Data_All.reset_index(drop=True, inplace=True)\n",
    "Data_All.to_csv('Dataset\\Train_Data.csv', index=False)"
   ]
  },
  {
   "cell_type": "code",
   "execution_count": 47,
   "metadata": {},
   "outputs": [
    {
     "name": "stdout",
     "output_type": "stream",
     "text": [
      "**Data Types**\n"
     ]
    },
    {
     "data": {
      "text/plain": [
       "object     17\n",
       "float64     2\n",
       "int64       1\n",
       "Name: count, dtype: int64"
      ]
     },
     "execution_count": 47,
     "metadata": {},
     "output_type": "execute_result"
    }
   ],
   "source": [
    "# view Data Types\n",
    "\n",
    "print(\"**Data Types**\")\n",
    "Data_All.dtypes.value_counts()"
   ]
  },
  {
   "cell_type": "markdown",
   "metadata": {},
   "source": [
    "### clean test data"
   ]
  },
  {
   "cell_type": "code",
   "execution_count": 48,
   "metadata": {},
   "outputs": [],
   "source": [
    "data_test = pd.read_csv('Dataset\\Telco-churn-second-2000.csv')"
   ]
  },
  {
   "cell_type": "code",
   "execution_count": 49,
   "metadata": {},
   "outputs": [
    {
     "name": "stdout",
     "output_type": "stream",
     "text": [
      "<class 'pandas.core.frame.DataFrame'>\n",
      "RangeIndex: 2000 entries, 0 to 1999\n",
      "Data columns (total 20 columns):\n",
      " #   Column            Non-Null Count  Dtype  \n",
      "---  ------            --------------  -----  \n",
      " 0   customerID        2000 non-null   object \n",
      " 1   gender            2000 non-null   object \n",
      " 2   SeniorCitizen     2000 non-null   int64  \n",
      " 3   Partner           2000 non-null   object \n",
      " 4   Dependents        2000 non-null   object \n",
      " 5   tenure            2000 non-null   int64  \n",
      " 6   PhoneService      2000 non-null   object \n",
      " 7   MultipleLines     2000 non-null   object \n",
      " 8   InternetService   2000 non-null   object \n",
      " 9   OnlineSecurity    2000 non-null   object \n",
      " 10  OnlineBackup      2000 non-null   object \n",
      " 11  DeviceProtection  2000 non-null   object \n",
      " 12  TechSupport       2000 non-null   object \n",
      " 13  StreamingTV       2000 non-null   object \n",
      " 14  StreamingMovies   2000 non-null   object \n",
      " 15  Contract          2000 non-null   object \n",
      " 16  PaperlessBilling  2000 non-null   object \n",
      " 17  PaymentMethod     2000 non-null   object \n",
      " 18  MonthlyCharges    2000 non-null   float64\n",
      " 19  TotalCharges      2000 non-null   object \n",
      "dtypes: float64(1), int64(2), object(17)\n",
      "memory usage: 312.6+ KB\n"
     ]
    }
   ],
   "source": [
    "data_test.info()"
   ]
  },
  {
   "cell_type": "code",
   "execution_count": 50,
   "metadata": {},
   "outputs": [],
   "source": [
    "# change Dtype of TotalCharges column from object to numeric\n",
    "\n",
    "data_test['TotalCharges'] = pd.to_numeric(data_test['TotalCharges'], errors='coerce')"
   ]
  },
  {
   "cell_type": "code",
   "execution_count": 51,
   "metadata": {},
   "outputs": [
    {
     "data": {
      "text/html": [
       "<div>\n",
       "<style scoped>\n",
       "    .dataframe tbody tr th:only-of-type {\n",
       "        vertical-align: middle;\n",
       "    }\n",
       "\n",
       "    .dataframe tbody tr th {\n",
       "        vertical-align: top;\n",
       "    }\n",
       "\n",
       "    .dataframe thead th {\n",
       "        text-align: right;\n",
       "    }\n",
       "</style>\n",
       "<table border=\"1\" class=\"dataframe\">\n",
       "  <thead>\n",
       "    <tr style=\"text-align: right;\">\n",
       "      <th></th>\n",
       "      <th>customerID</th>\n",
       "      <th>gender</th>\n",
       "      <th>SeniorCitizen</th>\n",
       "      <th>Partner</th>\n",
       "      <th>Dependents</th>\n",
       "      <th>tenure</th>\n",
       "      <th>PhoneService</th>\n",
       "      <th>MultipleLines</th>\n",
       "      <th>InternetService</th>\n",
       "      <th>OnlineSecurity</th>\n",
       "      <th>OnlineBackup</th>\n",
       "      <th>DeviceProtection</th>\n",
       "      <th>TechSupport</th>\n",
       "      <th>StreamingTV</th>\n",
       "      <th>StreamingMovies</th>\n",
       "      <th>Contract</th>\n",
       "      <th>PaperlessBilling</th>\n",
       "      <th>PaymentMethod</th>\n",
       "      <th>MonthlyCharges</th>\n",
       "      <th>TotalCharges</th>\n",
       "    </tr>\n",
       "  </thead>\n",
       "  <tbody>\n",
       "    <tr>\n",
       "      <th>331</th>\n",
       "      <td>7644-OMVMY</td>\n",
       "      <td>Male</td>\n",
       "      <td>0</td>\n",
       "      <td>Yes</td>\n",
       "      <td>Yes</td>\n",
       "      <td>0</td>\n",
       "      <td>Yes</td>\n",
       "      <td>No</td>\n",
       "      <td>No</td>\n",
       "      <td>No internet service</td>\n",
       "      <td>No internet service</td>\n",
       "      <td>No internet service</td>\n",
       "      <td>No internet service</td>\n",
       "      <td>No internet service</td>\n",
       "      <td>No internet service</td>\n",
       "      <td>Two year</td>\n",
       "      <td>No</td>\n",
       "      <td>Mailed check</td>\n",
       "      <td>19.85</td>\n",
       "      <td>NaN</td>\n",
       "    </tr>\n",
       "    <tr>\n",
       "      <th>826</th>\n",
       "      <td>3213-VVOLG</td>\n",
       "      <td>Male</td>\n",
       "      <td>0</td>\n",
       "      <td>Yes</td>\n",
       "      <td>Yes</td>\n",
       "      <td>0</td>\n",
       "      <td>Yes</td>\n",
       "      <td>Yes</td>\n",
       "      <td>No</td>\n",
       "      <td>No internet service</td>\n",
       "      <td>No internet service</td>\n",
       "      <td>No internet service</td>\n",
       "      <td>No internet service</td>\n",
       "      <td>No internet service</td>\n",
       "      <td>No internet service</td>\n",
       "      <td>Two year</td>\n",
       "      <td>No</td>\n",
       "      <td>Mailed check</td>\n",
       "      <td>25.35</td>\n",
       "      <td>NaN</td>\n",
       "    </tr>\n",
       "    <tr>\n",
       "      <th>1380</th>\n",
       "      <td>2520-SGTTA</td>\n",
       "      <td>Female</td>\n",
       "      <td>0</td>\n",
       "      <td>Yes</td>\n",
       "      <td>Yes</td>\n",
       "      <td>0</td>\n",
       "      <td>Yes</td>\n",
       "      <td>No</td>\n",
       "      <td>No</td>\n",
       "      <td>No internet service</td>\n",
       "      <td>No internet service</td>\n",
       "      <td>No internet service</td>\n",
       "      <td>No internet service</td>\n",
       "      <td>No internet service</td>\n",
       "      <td>No internet service</td>\n",
       "      <td>Two year</td>\n",
       "      <td>No</td>\n",
       "      <td>Mailed check</td>\n",
       "      <td>20.00</td>\n",
       "      <td>NaN</td>\n",
       "    </tr>\n",
       "  </tbody>\n",
       "</table>\n",
       "</div>"
      ],
      "text/plain": [
       "      customerID  gender  SeniorCitizen Partner Dependents  tenure  \\\n",
       "331   7644-OMVMY    Male              0     Yes        Yes       0   \n",
       "826   3213-VVOLG    Male              0     Yes        Yes       0   \n",
       "1380  2520-SGTTA  Female              0     Yes        Yes       0   \n",
       "\n",
       "     PhoneService MultipleLines InternetService       OnlineSecurity  \\\n",
       "331           Yes            No              No  No internet service   \n",
       "826           Yes           Yes              No  No internet service   \n",
       "1380          Yes            No              No  No internet service   \n",
       "\n",
       "             OnlineBackup     DeviceProtection          TechSupport  \\\n",
       "331   No internet service  No internet service  No internet service   \n",
       "826   No internet service  No internet service  No internet service   \n",
       "1380  No internet service  No internet service  No internet service   \n",
       "\n",
       "              StreamingTV      StreamingMovies  Contract PaperlessBilling  \\\n",
       "331   No internet service  No internet service  Two year               No   \n",
       "826   No internet service  No internet service  Two year               No   \n",
       "1380  No internet service  No internet service  Two year               No   \n",
       "\n",
       "     PaymentMethod  MonthlyCharges  TotalCharges  \n",
       "331   Mailed check           19.85           NaN  \n",
       "826   Mailed check           25.35           NaN  \n",
       "1380  Mailed check           20.00           NaN  "
      ]
     },
     "execution_count": 51,
     "metadata": {},
     "output_type": "execute_result"
    }
   ],
   "source": [
    "# view Missing Values in TotalCharges column\n",
    "\n",
    "data_test[np.isnan(data_test['TotalCharges'])]"
   ]
  },
  {
   "cell_type": "code",
   "execution_count": 52,
   "metadata": {},
   "outputs": [],
   "source": [
    "# Drop rows where tenure = 0\n",
    "\n",
    "data_test.drop(labels=data_test[data_test['tenure'] == 0].index, axis=0, inplace=True)"
   ]
  },
  {
   "cell_type": "code",
   "execution_count": 53,
   "metadata": {},
   "outputs": [
    {
     "name": "stdout",
     "output_type": "stream",
     "text": [
      "<class 'pandas.core.frame.DataFrame'>\n",
      "Index: 1997 entries, 0 to 1999\n",
      "Data columns (total 20 columns):\n",
      " #   Column            Non-Null Count  Dtype  \n",
      "---  ------            --------------  -----  \n",
      " 0   customerID        1997 non-null   object \n",
      " 1   gender            1997 non-null   object \n",
      " 2   SeniorCitizen     1997 non-null   int64  \n",
      " 3   Partner           1997 non-null   object \n",
      " 4   Dependents        1997 non-null   object \n",
      " 5   tenure            1997 non-null   int64  \n",
      " 6   PhoneService      1997 non-null   object \n",
      " 7   MultipleLines     1997 non-null   object \n",
      " 8   InternetService   1997 non-null   object \n",
      " 9   OnlineSecurity    1997 non-null   object \n",
      " 10  OnlineBackup      1997 non-null   object \n",
      " 11  DeviceProtection  1997 non-null   object \n",
      " 12  TechSupport       1997 non-null   object \n",
      " 13  StreamingTV       1997 non-null   object \n",
      " 14  StreamingMovies   1997 non-null   object \n",
      " 15  Contract          1997 non-null   object \n",
      " 16  PaperlessBilling  1997 non-null   object \n",
      " 17  PaymentMethod     1997 non-null   object \n",
      " 18  MonthlyCharges    1997 non-null   float64\n",
      " 19  TotalCharges      1997 non-null   float64\n",
      "dtypes: float64(2), int64(2), object(16)\n",
      "memory usage: 327.6+ KB\n"
     ]
    }
   ],
   "source": [
    "data_test.info()"
   ]
  },
  {
   "cell_type": "code",
   "execution_count": 54,
   "metadata": {},
   "outputs": [],
   "source": [
    "# Reset index\n",
    "\n",
    "data_test.reset_index(drop=True, inplace=True)"
   ]
  },
  {
   "cell_type": "code",
   "execution_count": 55,
   "metadata": {},
   "outputs": [
    {
     "data": {
      "text/plain": [
       "customerID          0\n",
       "gender              0\n",
       "SeniorCitizen       0\n",
       "Partner             0\n",
       "Dependents          0\n",
       "tenure              0\n",
       "PhoneService        0\n",
       "MultipleLines       0\n",
       "InternetService     0\n",
       "OnlineSecurity      0\n",
       "OnlineBackup        0\n",
       "DeviceProtection    0\n",
       "TechSupport         0\n",
       "StreamingTV         0\n",
       "StreamingMovies     0\n",
       "Contract            0\n",
       "PaperlessBilling    0\n",
       "PaymentMethod       0\n",
       "MonthlyCharges      0\n",
       "TotalCharges        0\n",
       "dtype: int64"
      ]
     },
     "execution_count": 55,
     "metadata": {},
     "output_type": "execute_result"
    }
   ],
   "source": [
    "# check for null values\n",
    "\n",
    "data_test.isnull().sum()"
   ]
  },
  {
   "cell_type": "code",
   "execution_count": 56,
   "metadata": {},
   "outputs": [
    {
     "data": {
      "text/plain": [
       "dtype('int64')"
      ]
     },
     "execution_count": 56,
     "metadata": {},
     "output_type": "execute_result"
    }
   ],
   "source": [
    "# check dtype of SeniorCitizen column\n",
    "\n",
    "data_test['SeniorCitizen'].dtypes"
   ]
  },
  {
   "cell_type": "code",
   "execution_count": 57,
   "metadata": {},
   "outputs": [],
   "source": [
    "# Replace 0 values with 'No' and 1 values with 'Yes'\n",
    "\n",
    "data_test['SeniorCitizen'] = data_test['SeniorCitizen'].replace({0: 'No', 1: 'Yes'})"
   ]
  },
  {
   "cell_type": "code",
   "execution_count": 58,
   "metadata": {},
   "outputs": [],
   "source": [
    "# change dtype to object\n",
    "\n",
    "data_test['SeniorCitizen'] = data_test['SeniorCitizen'].astype('object')"
   ]
  },
  {
   "cell_type": "code",
   "execution_count": 59,
   "metadata": {},
   "outputs": [
    {
     "name": "stdout",
     "output_type": "stream",
     "text": [
      "Column: customerID - Unique Values: ['7613-LLQFO' '4568-TTZRT' '9513-DXHDA' ... '4816-JBHOV' '8920-NAVAY'\n",
      " '1699-TLDLZ']\n",
      "Column: gender - Unique Values: ['Male' 'Female']\n",
      "Column: SeniorCitizen - Unique Values: ['No' 'Yes']\n",
      "Column: Partner - Unique Values: ['No' 'Yes']\n",
      "Column: Dependents - Unique Values: ['No' 'Yes']\n",
      "Column: tenure - Unique Values: [12  9 27  1 24 14 32 11 38 54 29 44 59  3 18 67 22 33  5  2 72 16  8 23\n",
      " 50 17 68 25 71 46 48 61 37 65 49 64 21 10  6 51 47 52 35 45  4 60 28 39\n",
      " 30 55 58 26 43 56 36 13 70 69 41 15 19 31 34 66 40  7 53 63 42 57 62 20]\n",
      "Column: PhoneService - Unique Values: ['Yes' 'No']\n",
      "Column: MultipleLines - Unique Values: ['Yes' 'No' 'No phone service']\n",
      "Column: InternetService - Unique Values: ['Fiber optic' 'No' 'DSL']\n",
      "Column: OnlineSecurity - Unique Values: ['No' 'No internet service' 'Yes']\n",
      "Column: OnlineBackup - Unique Values: ['No' 'No internet service' 'Yes']\n",
      "Column: DeviceProtection - Unique Values: ['No' 'No internet service' 'Yes']\n",
      "Column: TechSupport - Unique Values: ['No' 'No internet service' 'Yes']\n",
      "Column: StreamingTV - Unique Values: ['Yes' 'No internet service' 'No']\n",
      "Column: StreamingMovies - Unique Values: ['No' 'No internet service' 'Yes']\n",
      "Column: Contract - Unique Values: ['Month-to-month' 'One year' 'Two year']\n",
      "Column: PaperlessBilling - Unique Values: ['Yes' 'No']\n",
      "Column: PaymentMethod - Unique Values: ['Electronic check' 'Mailed check' 'Credit card (automatic)'\n",
      " 'Bank transfer (automatic)']\n",
      "Column: MonthlyCharges - Unique Values: [ 84.45  20.4   81.7   79.5   89.15  20.3   74.95  74.4   20.    25.\n",
      "  80.45  19.75  65.65  71.    89.2   86.75  55.3   61.5   25.1   55.15\n",
      "  34.05  19.95  89.7   26.3   84.95  20.7   43.25  48.35  79.55  71.05\n",
      "  19.45 110.8   84.5   69.3   49.35  20.35 105.6   64.45 108.6   49.9\n",
      "  30.3   30.4   45.4  103.3   84.15  44.45  85.4   89.9   55.05 104.1\n",
      " 106.6   75.2   70.5   19.6   55.85  24.05  38.1  106.4   34.25 100.05\n",
      "  68.65  45.8   75.75  84.4   96.4   20.55  50.95  90.5   79.4   58.75\n",
      "  59.45 105.7   56.25  53.3   85.55  24.3   77.85  59.9   23.95  20.15\n",
      " 105.35  95.65  87.05  81.    82.45  53.5   20.5   54.4   58.6   84.8\n",
      "  61.4   79.65  94.45  79.8   54.2   74.05  49.15  19.4  113.65 106.\n",
      "  25.95  19.1  103.4  100.55  95.4   75.15 107.9   19.5   85.95  24.95\n",
      "  59.4   69.95  82.85  19.    38.85  30.6   95.    78.45  74.3   51.05\n",
      "  19.2   99.55  70.   109.1   45.3   29.85  76.45  95.1   19.8   72.8\n",
      "  18.95  76.65  99.15 101.75  75.45  64.1   25.65  75.1   95.85  72.75\n",
      "  19.85  19.05  44.95  49.55  94.85  46.25  19.35  69.6   90.7  101.4\n",
      "  20.25  48.8   74.35  68.75 100.2   20.85  95.9   45.    81.5   25.5\n",
      "  48.9   84.1   81.3   95.2   36.45  83.3   25.05  89.85  49.85  54.65\n",
      "  29.35  19.15  55.55  80.55  69.5  104.3   79.6   55.25  88.05 117.6\n",
      "  19.65  70.55  93.85  65.8   20.05  80.    35.4   80.25  50.45  20.45\n",
      "  24.7   77.3   29.75  44.9   29.8   74.65  71.95  20.75  56.3  105.25\n",
      "  94.2   19.55  53.65  29.9   19.7   43.7   49.45 106.55  20.1   39.7\n",
      "  54.5   83.8  111.6   86.65 106.75  62.1  104.5  101.8  110.6   84.9\n",
      "  93.2   24.4   85.    87.45  85.8   91.1   70.75  74.8   24.8  100.85\n",
      " 101.35  68.25 105.1   79.15  57.2   94.8  102.5   69.2   95.45 100.95\n",
      "  88.5   35.    64.    69.1   80.2   49.3   84.35 117.2  103.45  77.95\n",
      " 109.95  94.75  25.2   19.9   44.8   80.05 107.35  47.85  70.8   29.5\n",
      "  59.1   25.55  75.55  85.65  70.15  95.3   70.25  50.3   97.8   46.3\n",
      " 106.3   75.35  89.4   88.    83.15  43.8   62.05  74.15  84.05  20.9\n",
      " 105.9   99.5   44.15  53.9   85.45  85.05  44.1   90.2   50.85  59.2\n",
      "  53.45  83.2   54.9   57.5  103.9   93.8   89.25  94.15  55.6   48.7\n",
      "  19.25 104.9   54.85  19.3   79.85  75.5   73.75  96.05  68.4   20.65\n",
      "  70.6  107.6   61.55  99.25  91.7  100.7   84.3   88.95  86.8   20.95\n",
      "  50.7   53.4  101.9   59.5   87.8   41.9   83.    69.85 109.55  92.15\n",
      "  97.    58.35  50.6   89.5   70.4   69.8   94.3   95.95 101.05 107.75\n",
      "  54.6   71.3   94.7  104.15  90.55  60.8   98.8   98.15  35.35 103.15\n",
      "  81.4   61.45  95.7  104.8   70.95  97.65  35.65  85.25  88.8   55.7\n",
      "  85.2   91.15  83.85  45.9   91.4   91.5   51.3   21.1  104.75 106.15\n",
      "  85.75 100.75  78.55  77.8   83.45  73.25  90.1   29.2   46.6   85.35\n",
      "  54.   104.25  84.75  75.25  24.6   55.5   43.3  109.5   84.85 112.1\n",
      "  95.05  50.35  74.6   74.2   69.   105.2  109.2   45.15 108.65  40.65\n",
      "  55.35  90.05  68.05  96.2  102.1   23.4   92.2   43.9   80.5   89.8\n",
      "  90.45  50.75  84.6   89.65  51.7   23.3   65.4   65.1   81.2   72.9\n",
      "  74.5   60.3   75.    90.15  40.    99.45  69.05  59.7   86.25  45.65\n",
      "  70.1   40.75  70.2   84.2   66.15  45.85  49.8  103.95 100.15  99.65\n",
      "  73.7   50.05  60.25 105.75  87.3   54.25  85.3   50.    90.95  72.25\n",
      "  96.1   25.15  71.25 113.8   24.55  50.15 100.5   74.45  81.9   69.7\n",
      "  25.35  24.65  25.25  60.    24.1  109.9   35.5   87.55  88.4   50.8\n",
      "  99.    96.55  59.75 111.5   24.25  30.55 101.   100.    98.05  71.15\n",
      "  54.15  63.9   69.15  64.65 108.75  98.85  89.6   83.25  24.5   73.\n",
      "  80.4   78.5  102.    48.95  18.25  54.55  89.05  96.6   77.15  35.05\n",
      " 108.1   20.2   49.2   71.65 106.5   94.25  68.95  58.5   78.9   79.2\n",
      " 109.45  29.15  76.05  24.45  66.5   89.35  73.6   82.65  49.    80.35\n",
      "  25.45  55.8  110.9   77.75  26.2   79.05  80.85  98.4   56.35  50.4\n",
      " 109.75  91.25  54.75  81.45  49.1  100.3   65.25  94.1   73.55 104.65\n",
      "  44.55  54.45 105.    88.7   74.25  30.75 112.9   94.05  78.85  78.65\n",
      "  74.75 105.65  96.5   70.85  73.9   45.45 109.65  65.   114.1   86.95\n",
      " 105.45  25.4  102.55  24.    25.6   73.5   98.25 101.55 103.1   34.2\n",
      "  43.75 111.95 100.65  55.95 116.05  45.75  82.    65.15  88.85 106.85\n",
      "  80.15 109.25  56.1  118.6   24.15 115.5  111.3   80.6   20.8   35.2\n",
      "  78.8   89.95  49.4  115.25  81.25  93.55  86.4   66.3   94.65  82.05\n",
      "  72.1   34.7  109.4   40.25  42.9   44.    88.9   57.65 108.05 105.3\n",
      " 102.6   73.85  61.35  57.55  29.25  84.55 111.75 107.7   63.7   24.75\n",
      "  50.9   60.4   79.25 110.1   25.3   24.35  76.5   81.15  38.5   92.9\n",
      "  93.5   84.7   66.   101.5   74.9   99.75  67.8   25.7   56.15  86.7\n",
      "  50.55  54.35  45.35  59.    69.45  64.95  18.85 114.3   45.05  51.\n",
      " 110.45  84.65  60.05  44.65  93.25  20.6   34.8   60.75  51.35  64.05\n",
      "  94.6  100.25  98.9   97.7   40.3   46.2   24.9   65.7   63.35  50.1\n",
      "  74.    38.9   65.45  98.7   99.35  95.8   67.5   78.15  26.1   78.05\n",
      "  40.35  68.9   76.    82.3   29.45  59.15  44.75  90.8  106.7   67.95\n",
      "  77.4   99.7   78.95  95.55  62.85  71.55  94.95  86.1   39.3   36.25\n",
      "  23.9   98.6  103.65  99.9   39.85  60.5  103.85  24.85  89.    55.\n",
      "  76.15 117.35  45.2   89.75  49.95  67.05  87.95  75.7   62.15 101.25\n",
      " 115.15  86.55  28.6   56.4   73.3   98.65  33.6   79.9  104.05  70.05\n",
      "  23.05  59.95  78.6  116.8   43.55  65.2  102.95  90.6  108.2   92.\n",
      " 112.2   70.3   75.85  80.65  68.5  115.75  59.55  36.1   94.    61.15\n",
      " 110.2  106.35  65.9   52.5   88.75  75.3   26.    99.4   73.15  66.4\n",
      " 115.55 104.45  92.4   25.75  49.6   97.05 105.95  91.85  40.1  110.3\n",
      "  85.15  60.95  46.    58.55  86.35  69.75  65.6   82.1   79.1   90.65\n",
      " 110.    67.45  89.1   69.9   51.1   94.4   78.25  76.4   48.65  59.85\n",
      "  80.3   91.8   18.8   64.75  89.45  85.6   54.1   80.9   90.85  48.75\n",
      "  79.7  100.4   57.95  86.5   62.45  89.55  83.55  71.45  46.35  66.1\n",
      "  75.4   70.45  21.05  69.35  40.55  75.65  60.6  101.15  98.   104.7\n",
      "  93.9   86.45  98.5   78.2   88.45  69.55  83.75  98.1   53.35  69.4\n",
      "  40.15  70.35  53.85 115.6   97.95  78.3   96.8   77.35  66.05  68.15\n",
      "  92.45  45.55  93.4   88.15  79.35  79.75 105.15  79.3  105.5   92.7\n",
      "  26.25  96.95 115.8   67.75  90.35  55.75 114.6   66.8  104.85  74.1\n",
      " 118.75  85.9  101.3   21.2   24.2  102.8   99.95 115.85  35.1   99.1\n",
      "  67.25  55.1  117.8   45.25  95.35 116.6   65.05  92.5   18.75  93.6\n",
      " 104.4   70.7  108.95  26.45  86.2   51.2   75.8   36.15  61.2   99.85\n",
      "  58.4   88.3  108.9  107.4  106.65 104.35  55.45  61.3   96.85 108.25\n",
      " 105.05  66.9  110.7   38.25  54.95  79.    39.1  100.45  39.55  23.15\n",
      "  72.45  60.1   91.55  35.8  113.15  53.95  99.3   51.55  78.75  54.7\n",
      "  71.1  106.25 114.05 116.15  66.25  99.8   90.    54.05  97.25  83.05\n",
      "  41.1   74.55  40.2   78.35 109.7   33.45  39.4   76.25  46.4   59.6\n",
      " 108.5   58.95  63.05  64.4   83.9  117.45  59.05  76.55  62.5   29.4\n",
      "  94.9  111.65 106.05 113.45  92.55  49.7   30.2   85.7   74.7  107.55\n",
      "  23.85  76.1   39.2   39.15  59.8   49.75  35.75  60.15  84.   110.75\n",
      "  76.35  18.9   98.35  91.65  44.35  47.95  63.6   53.    36.85 103.75\n",
      "  56.75  59.65  45.5  106.45  30.05  44.7 ]\n",
      "Column: TotalCharges - Unique Values: [1059.55  181.8  2212.55 ...  552.95 7053.35  301.55]\n"
     ]
    }
   ],
   "source": [
    "# view unique values of each column\n",
    "\n",
    "for column in data_test.columns:\n",
    "    print('Column: {} - Unique Values: {}'.format(column, data_test[column].unique()))"
   ]
  },
  {
   "cell_type": "code",
   "execution_count": 60,
   "metadata": {},
   "outputs": [],
   "source": [
    "# save test data to csv\n",
    "\n",
    "data_test.to_csv('Dataset\\Test_Data.csv', index=False)"
   ]
  },
  {
   "cell_type": "markdown",
   "metadata": {},
   "source": [
    "### Hypothesis Testing"
   ]
  },
  {
   "cell_type": "markdown",
   "metadata": {},
   "source": [
    "**Null Hypothesis (H0)**:\n",
    "\"There is no significant relationship between customer tenure and churn rate in the telecom company.\"\n",
    "\n",
    "**Alternative Hypothesis (Ha)**:\n",
    "\"There is a significant relationship between customer tenure and churn rate in the telecom company.\""
   ]
  },
  {
   "cell_type": "markdown",
   "metadata": {},
   "source": [
    "We want to find the correlation between tenure and churn rates. Since churn rate is a binary outcome, we want to use a **point-biserial** correlation coefficient and assess its significance using a correlation test."
   ]
  },
  {
   "cell_type": "code",
   "execution_count": 61,
   "metadata": {},
   "outputs": [
    {
     "name": "stdout",
     "output_type": "stream",
     "text": [
      "Point-Biserial Correlation Coefficient: -0.3526\n",
      "P-value: 0.0000\n",
      "There is a significant correlation between customer tenure and churn rate.\n"
     ]
    }
   ],
   "source": [
    "# 'Churn' should be a binary variable (0 for no churn, 1 for churn)\n",
    "\n",
    "df_hypo = Data_All.copy()\n",
    "df_hypo['Churn'] = df_hypo['Churn'].replace({'No': 0, 'Yes': 1})\n",
    "\n",
    "# Calculate point-biserial correlation coefficient\n",
    "correlation_coefficient, p_value = stats.pointbiserialr(df_hypo['Churn'], df_hypo['tenure'])\n",
    "\n",
    "# Print the results\n",
    "print(f\"Point-Biserial Correlation Coefficient: {correlation_coefficient:.4f}\")\n",
    "print(f\"P-value: {p_value:.4f}\")\n",
    "\n",
    "# Set the significance level (5%)\n",
    "alpha = 0.05\n",
    "\n",
    "# Determine if the correlation is statistically significant\n",
    "if p_value < alpha:\n",
    "    print(\"There is a significant correlation between customer tenure and churn rate.\")\n",
    "else:\n",
    "    print(\"There is no significant correlation between customer tenure and churn rate.\")\n"
   ]
  },
  {
   "cell_type": "markdown",
   "metadata": {},
   "source": [
    "- The correlation coefficient of -0.3526 suggests a **moderate negative correlation**. This means that as customer tenure increases, the churn rate tends to decrease. Customers who have been with the company for a longer period are less likely to churn.\n",
    "\n",
    "- The p-value of 0.0000 suggests that there is a strong statistical evidence to **reject the null hypothesis** (no correlation) in favor of the alternative hypothesis (significant correlation)."
   ]
  },
  {
   "cell_type": "markdown",
   "metadata": {},
   "source": [
    "### Exploratory Data Analysis\n",
    "\n",
    "#### Univariate Analysis\n",
    "\n",
    "Here is the section to explore, analyze, visualize each variable independently of the others."
   ]
  },
  {
   "cell_type": "markdown",
   "metadata": {},
   "source": [
    "#####  What is the Distibution of Churn Rate"
   ]
  },
  {
   "cell_type": "code",
   "execution_count": 62,
   "metadata": {},
   "outputs": [
    {
     "data": {
      "text/plain": [
       "Churn\n",
       "No     3698\n",
       "Yes    1336\n",
       "Name: count, dtype: int64"
      ]
     },
     "execution_count": 62,
     "metadata": {},
     "output_type": "execute_result"
    }
   ],
   "source": [
    "churn_data = Data_All['Churn'].value_counts()\n",
    "churn_data"
   ]
  },
  {
   "cell_type": "code",
   "execution_count": 63,
   "metadata": {},
   "outputs": [
    {
     "data": {
      "image/png": "[encoded data removed]",
      "text/plain": [
       "<Figure size 400x400 with 1 Axes>"
      ]
     },
     "metadata": {},
     "output_type": "display_data"
    }
   ],
   "source": [
    "# Create a pie chart using pyplot to visulaize churn rate\n",
    "\n",
    "plt.figure(figsize=(4, 4))\n",
    "\n",
    "plt.pie(churn_data, labels=['Not Churned','Churned'], colors=['LightBlue','LightSkyBlue'], startangle=50, shadow=True, radius=2,\n",
    "     explode=(0,0.2),autopct='%1.0f%%', pctdistance=0.75 ,  )\n",
    "Circle=plt.Circle((0,0), 1, color='white')\n",
    "c= plt.gcf()\n",
    "\n",
    "c.gca().add_artist(Circle)\n",
    "plt.axis('equal')  # Equal aspect ratio ensures that the pie chart is drawn as a circle.\n",
    "plt.title('Churn rate among customers')\n",
    "plt.show()\n"
   ]
  },
  {
   "cell_type": "markdown",
   "metadata": {},
   "source": [
    "- The target variable is **imbalanced**\n",
    "\n",
    "- The percentage of customers that did not churn (most majority class) can be used as a baseline to evaluate the quality of the models generated. These models should outperform the baseline capabilities to be considered for future predictions."
   ]
  },
  {
   "cell_type": "markdown",
   "metadata": {},
   "source": [
    "### Bivariate & Multivariate Analysis\n",
    "Here is the section to explore, analyze, visualize each variable in relation to the others."
   ]
  },
  {
   "cell_type": "markdown",
   "metadata": {},
   "source": [
    "Let's look at the relationship between Churn and Gender"
   ]
  },
  {
   "cell_type": "code",
   "execution_count": 64,
   "metadata": {},
   "outputs": [
    {
     "data": {
      "image/png": "[encoded data removed]",
      "text/plain": [
       "<Figure size 640x480 with 1 Axes>"
      ]
     },
     "metadata": {},
     "output_type": "display_data"
    }
   ],
   "source": [
    "sns.countplot(x='gender',data=Data_All,hue='Churn')\n",
    "plt.title('Distribution of Gender')\n",
    "plt.xlabel('gender')\n",
    "plt.ylabel('Count')\n",
    "plt.show()"
   ]
  },
  {
   "cell_type": "markdown",
   "metadata": {},
   "source": [
    "- The customer gender split is about 50/50 between males and females. no significant difference between gender and churn rate"
   ]
  },
  {
   "cell_type": "markdown",
   "metadata": {},
   "source": [
    "##### 1. How does customer tenure relate to churn rates? Are long-tenured customers more likely to stay with the company, and do new customers exhibit higher churn behavior?"
   ]
  },
  {
   "cell_type": "code",
   "execution_count": 65,
   "metadata": {},
   "outputs": [
    {
     "data": {
      "image/png": "[encoded data removed]",
      "text/plain": [
       "<Figure size 800x600 with 1 Axes>"
      ]
     },
     "metadata": {},
     "output_type": "display_data"
    }
   ],
   "source": [
    "# We use a probability density distribution to show distribution of churn related to tenure\n",
    "\n",
    "def kdeplot(x):\n",
    "    plt.figure(figsize=(8,6))\n",
    "    plt.title('Probability of churn by tenure')\n",
    "    ax0= sns.kdeplot(Data_All[Data_All['Churn'] == 'Yes'][x], color='navy', label='Churn:Yes', fill =True, cut=0)\n",
    "    ax1= sns.kdeplot(Data_All[Data_All['Churn'] == 'No'][x], color='orange', label='Churn:No', fill=True, cut=0)\n",
    "    plt.legend(['Churned', 'Not Churned'], loc='upper right')\n",
    "kdeplot('tenure')"
   ]
  },
  {
   "cell_type": "code",
   "execution_count": 66,
   "metadata": {},
   "outputs": [
    {
     "data": {
      "image/png": "[encoded data removed]",
      "text/plain": [
       "<Figure size 640x480 with 1 Axes>"
      ]
     },
     "metadata": {},
     "output_type": "display_data"
    }
   ],
   "source": [
    "sns.histplot(x='tenure', hue='Churn', data=Data_All, bins=14, alpha=0.8, multiple='stack')\n",
    "plt.title('Churn Count by Tenure')\n",
    "plt.show()"
   ]
  },
  {
   "cell_type": "markdown",
   "metadata": {},
   "source": [
    "- Customers with a lower tenure (recent customers) are more likely to churn.\n",
    "- Customers on a longer tenure are less likely to churn."
   ]
  },
  {
   "cell_type": "markdown",
   "metadata": {},
   "source": [
    "##### 2. Is there a correlation between the total charges and churn rates? Do customers with higher total charges exhibit different churn behavior compared to those with lower total charges"
   ]
  },
  {
   "cell_type": "code",
   "execution_count": 67,
   "metadata": {},
   "outputs": [
    {
     "name": "stdout",
     "output_type": "stream",
     "text": [
      "Correlation coefficient: -0.19462794572064998\n",
      "P-value: 3.6678433707849766e-44\n"
     ]
    },
    {
     "data": {
      "image/png": "[encoded data removed]",
      "text/plain": [
       "<Figure size 500x500 with 1 Axes>"
      ]
     },
     "metadata": {},
     "output_type": "display_data"
    }
   ],
   "source": [
    "df_temp = df_hypo\n",
    "\n",
    "# Convert \"TotalCharges\" column to numeric type and then to integers\n",
    "df_temp[\"TotalCharges\"] = pd.to_numeric(df_temp[\"TotalCharges\"], errors=\"coerce\", downcast=\"integer\")\n",
    "\n",
    "# Calculate the point-biserial correlation between TotalCharges and Churn\n",
    "corr, p_value = pointbiserialr(df_temp[\"TotalCharges\"], df_temp[\"Churn\"])\n",
    "\n",
    "# Print the correlation coefficient and p-value\n",
    "print(\"Correlation coefficient:\", corr)\n",
    "print(\"P-value:\", p_value)\n",
    "\n",
    "# Plot the data points and visualize the relationship between TotalCharges and Churn\n",
    "# logistic regression for binary dependent variable (Churn)\n",
    "\n",
    "sns.lmplot(data=df_temp, x=\"TotalCharges\", y=\"Churn\", logistic=True, y_jitter=.03)\n",
    "plt.xlabel(\"Total Charges\")\n",
    "plt.ylabel(\"Churn (1=Churned, 0=Not Churned)\")\n",
    "plt.title(\"Total Charges vs Churn\")\n",
    "plt.show()"
   ]
  },
  {
   "cell_type": "markdown",
   "metadata": {},
   "source": [
    "The analysis shows a **weak negative correlation** between total charges and churn rates. As total charges increase, the likelihood of churn slightly decreases. The relationship is statistically significant (P-value < 0.05), but the effect is not very strong. Other factors may have a more significant impact on churn behavior."
   ]
  },
  {
   "cell_type": "markdown",
   "metadata": {},
   "source": [
    "##### 3. What is the impact of contract type on churn rates? Do customers on long-term contracts have significantly lower churn rates compared to those on short-term contracts?\n",
    "\n"
   ]
  },
  {
   "cell_type": "code",
   "execution_count": 68,
   "metadata": {},
   "outputs": [
    {
     "data": {
      "image/png": "[encoded data removed]",
      "text/plain": [
       "<Figure size 1000x600 with 1 Axes>"
      ]
     },
     "metadata": {},
     "output_type": "display_data"
    }
   ],
   "source": [
    "# Create a cross-tabulation (crosstab) of the categorical column and 'Churn' column\n",
    "cross_tab = pd.crosstab(Data_All['Contract'], Data_All['Churn'])\n",
    "\n",
    "# Plot the stacked bar plot using Seaborn\n",
    "\n",
    "ax = cross_tab.plot(kind=\"bar\", stacked=True, figsize=(10, 6))\n",
    "plt.title(\"Contract Duration by Churn\")\n",
    "plt.xlabel(\"Contract Duration\")\n",
    "plt.xticks(rotation=0)\n",
    "plt.ylabel(\"Count\")\n",
    "plt.legend(title=\"Churn\", loc=\"upper right\")\n",
    "plt.show()\n"
   ]
  },
  {
   "cell_type": "markdown",
   "metadata": {},
   "source": [
    "- Customers with short term (month-to-month) contracts have higher churn rates than customers with long term (one year+ contracts) \n",
    "- Possible reasons could include price sensitivity, competition, ineffective onboarding, and changing needs. To reduce short-term churn, focus on personalized experiences, competitive pricing, and improving onboarding processes. Building strong customer relationships and demonstrating long-term value can encourage customer loyalty."
   ]
  },
  {
   "cell_type": "markdown",
   "metadata": {},
   "source": [
    "##### 4. Are there significant differences in churn behavior between customers who have device protection and those who don't?"
   ]
  },
  {
   "cell_type": "code",
   "execution_count": 69,
   "metadata": {},
   "outputs": [
    {
     "data": {
      "image/png": "[encoded data removed]",
      "text/plain": [
       "<Figure size 1000x600 with 1 Axes>"
      ]
     },
     "metadata": {},
     "output_type": "display_data"
    }
   ],
   "source": [
    "# Create a cross-tabulation (crosstab) of the categorical column and 'Churn' column\n",
    "cross_tab = pd.crosstab(Data_All['DeviceProtection'], Data_All['Churn'])\n",
    "\n",
    "# Plot the stacked bar plot using Seaborn\n",
    "percentages = cross_tab.div(cross_tab.sum(1), axis=0) * 100\n",
    "\n",
    "# Plot the stacked bar plot using Seaborn\n",
    "ax = percentages.plot(kind=\"bar\", stacked=True, figsize=(10, 6))\n",
    "plt.title(\"Device Protection by Churn\")\n",
    "plt.xlabel(\"Device Protection\")\n",
    "plt.xticks(rotation=0)\n",
    "plt.ylabel(\"%\")\n",
    "plt.legend(title=\"Churn\", loc=\"upper right\")\n",
    "\n",
    "\n",
    "plt.show()"
   ]
  },
  {
   "cell_type": "markdown",
   "metadata": {},
   "source": [
    "- Customers without device protection are slightly more likelt to churn, although not significantly enough"
   ]
  },
  {
   "cell_type": "markdown",
   "metadata": {},
   "source": [
    "##### 5. What is the relationship between the availability of tech support and churn rates? Are customers with access to tech support more likely to remain with the company?"
   ]
  },
  {
   "cell_type": "code",
   "execution_count": 70,
   "metadata": {},
   "outputs": [
    {
     "data": {
      "image/png": "[encoded data removed]",
      "text/plain": [
       "<Figure size 1000x600 with 1 Axes>"
      ]
     },
     "metadata": {},
     "output_type": "display_data"
    }
   ],
   "source": [
    "# Create a cross-tabulation (crosstab) of the categorical column and 'Churn' column\n",
    "cross_tab = pd.crosstab(Data_All['TechSupport'], Data_All['Churn'])\n",
    "\n",
    "# Plot the stacked bar plot using Seaborn\n",
    "sns.set(style=\"whitegrid\")\n",
    "ax = cross_tab.plot(kind=\"bar\", stacked=True, figsize=(10, 6))\n",
    "plt.title(\"TechSupport by Churn\")\n",
    "plt.xlabel(\"TechSupport\")\n",
    "plt.xticks(rotation=0)\n",
    "plt.ylabel(\"count\")\n",
    "plt.legend(title=\"Churn\", loc=\"upper right\")\n",
    "\n",
    "\n",
    "plt.show()"
   ]
  },
  {
   "cell_type": "markdown",
   "metadata": {},
   "source": [
    "- Customers with no tech support were more likely to churn"
   ]
  },
  {
   "cell_type": "markdown",
   "metadata": {},
   "source": [
    "6. Do streaming services play a role in customer churn? Are customers with streaming services, such as StreamingTV and StreamingMovies, more likely to stay with the company?"
   ]
  },
  {
   "cell_type": "code",
   "execution_count": 71,
   "metadata": {},
   "outputs": [
    {
     "data": {
      "image/png": "[encoded data removed]",
      "text/plain": [
       "<Figure size 1500x600 with 2 Axes>"
      ]
     },
     "metadata": {},
     "output_type": "display_data"
    }
   ],
   "source": [
    "# Create a cross-tabulation (crosstab) of the two categorical columns and 'Churn' column\n",
    "cross_tab1 = pd.crosstab(Data_All['StreamingTV'], Data_All['Churn'])\n",
    "cross_tab2 = pd.crosstab(Data_All['StreamingMovies'], Data_All['Churn'])\n",
    "\n",
    "# Set up the subplots\n",
    "fig, axes = plt.subplots(1, 2, figsize=(15, 6))\n",
    "\n",
    "# Plot the first stacked bar chart\n",
    "cross_tab1.plot(kind=\"bar\", stacked=True, ax=axes[0])\n",
    "axes[0].set_title(\"Streaming TV by Churn\", fontsize=16)\n",
    "axes[0].set_xlabel(\"Streaming TV\", fontsize=15)\n",
    "axes[0].set_ylabel(\"Count\", fontsize=15)\n",
    "axes[0].legend(title=\"Churn\", loc=\"upper right\", fontsize=14)\n",
    "\n",
    "axes[0].set_xticklabels(axes[0].get_xticklabels(), rotation=45, ha='right', fontsize=13)\n",
    "# Plot the second stacked bar chart\n",
    "cross_tab2.plot(kind=\"bar\", stacked=True, ax=axes[1])\n",
    "axes[1].set_title(\"Streaming Movies by Churn\", fontsize=16)\n",
    "axes[1].set_xlabel(\"Streaming Movies\",fontsize=15)\n",
    "axes[1].set_ylabel(\"Count\", fontsize=15)\n",
    "axes[1].legend(title=\"Churn\", loc=\"upper right\", fontsize=14)\n",
    "\n",
    "axes[1].set_xticklabels(axes[1].get_xticklabels(), rotation=45, ha='right', fontsize=13)\n",
    "# Adjust layout and display\n",
    "plt.tight_layout()\n",
    "plt.show()"
   ]
  },
  {
   "cell_type": "markdown",
   "metadata": {},
   "source": [
    "- No significant relationship between streaming services and churn rates"
   ]
  },
  {
   "cell_type": "markdown",
   "metadata": {},
   "source": [
    "7. How does the choice of payment method impact churn rates? Are customers with specific payment methods more prone to churn than others?"
   ]
  },
  {
   "cell_type": "code",
   "execution_count": 72,
   "metadata": {},
   "outputs": [
    {
     "data": {
      "image/png": "[encoded data removed]",
      "text/plain": [
       "<Figure size 1000x600 with 1 Axes>"
      ]
     },
     "metadata": {},
     "output_type": "display_data"
    }
   ],
   "source": [
    "# Create a cross-tabulation (crosstab) of the categorical column and 'Churn' column\n",
    "cross_tab = pd.crosstab(Data_All['PaymentMethod'], Data_All['Churn'])\n",
    "\n",
    "# Plot the stacked bar plot using Seaborn\n",
    "sns.set(style=\"whitegrid\")\n",
    "ax = cross_tab.plot(kind=\"bar\", stacked=True, figsize=(10, 6))\n",
    "plt.title(\"Payment Method by Churn\")\n",
    "plt.xlabel(\"Payment Method\")\n",
    "plt.xticks(rotation=0)\n",
    "plt.ylabel(\"count\")\n",
    "plt.legend(title=\"Churn\", loc=\"upper right\")\n",
    "\n",
    "\n",
    "plt.show()"
   ]
  },
  {
   "cell_type": "markdown",
   "metadata": {},
   "source": [
    "- Customers who pay by electronic check were more likely to churn."
   ]
  },
  {
   "cell_type": "markdown",
   "metadata": {},
   "source": [
    "Lets look at correlation between numeric values and target variable (Churn)"
   ]
  },
  {
   "cell_type": "code",
   "execution_count": 73,
   "metadata": {},
   "outputs": [
    {
     "data": {
      "text/html": [
       "<div>\n",
       "<style scoped>\n",
       "    .dataframe tbody tr th:only-of-type {\n",
       "        vertical-align: middle;\n",
       "    }\n",
       "\n",
       "    .dataframe tbody tr th {\n",
       "        vertical-align: top;\n",
       "    }\n",
       "\n",
       "    .dataframe thead th {\n",
       "        text-align: right;\n",
       "    }\n",
       "</style>\n",
       "<table border=\"1\" class=\"dataframe\">\n",
       "  <thead>\n",
       "    <tr style=\"text-align: right;\">\n",
       "      <th></th>\n",
       "      <th>tenure</th>\n",
       "      <th>MonthlyCharges</th>\n",
       "      <th>TotalCharges</th>\n",
       "      <th>Churn</th>\n",
       "    </tr>\n",
       "  </thead>\n",
       "  <tbody>\n",
       "    <tr>\n",
       "      <th>tenure</th>\n",
       "      <td>1.000000</td>\n",
       "      <td>0.239642</td>\n",
       "      <td>0.826188</td>\n",
       "      <td>-0.352634</td>\n",
       "    </tr>\n",
       "    <tr>\n",
       "      <th>MonthlyCharges</th>\n",
       "      <td>0.239642</td>\n",
       "      <td>1.000000</td>\n",
       "      <td>0.646813</td>\n",
       "      <td>0.201995</td>\n",
       "    </tr>\n",
       "    <tr>\n",
       "      <th>TotalCharges</th>\n",
       "      <td>0.826188</td>\n",
       "      <td>0.646813</td>\n",
       "      <td>1.000000</td>\n",
       "      <td>-0.194628</td>\n",
       "    </tr>\n",
       "    <tr>\n",
       "      <th>Churn</th>\n",
       "      <td>-0.352634</td>\n",
       "      <td>0.201995</td>\n",
       "      <td>-0.194628</td>\n",
       "      <td>1.000000</td>\n",
       "    </tr>\n",
       "  </tbody>\n",
       "</table>\n",
       "</div>"
      ],
      "text/plain": [
       "                  tenure  MonthlyCharges  TotalCharges     Churn\n",
       "tenure          1.000000        0.239642      0.826188 -0.352634\n",
       "MonthlyCharges  0.239642        1.000000      0.646813  0.201995\n",
       "TotalCharges    0.826188        0.646813      1.000000 -0.194628\n",
       "Churn          -0.352634        0.201995     -0.194628  1.000000"
      ]
     },
     "execution_count": 73,
     "metadata": {},
     "output_type": "execute_result"
    }
   ],
   "source": [
    "numeric_columns = df_hypo.select_dtypes(include=['int64', 'float64'])\n",
    "numeric_columns.corr()"
   ]
  },
  {
   "cell_type": "code",
   "execution_count": 74,
   "metadata": {},
   "outputs": [
    {
     "data": {
      "image/png": "[encoded data removed]",
      "text/plain": [
       "<Figure size 600x600 with 2 Axes>"
      ]
     },
     "metadata": {},
     "output_type": "display_data"
    }
   ],
   "source": [
    "plt.figure(figsize=(6,6))\n",
    "sns.heatmap(numeric_columns.corr(),annot=True,cmap='coolwarm')\n",
    "plt.title('Correlation Matrix')\n",
    "plt.show()"
   ]
  },
  {
   "cell_type": "markdown",
   "metadata": {},
   "source": [
    "1. **tenure vs. Churn**: The negative correlation coefficient (-0.352634) indicates a moderate negative linear relationship between the two variables. As 'tenure' (the duration a customer has been with the company) increases, the 'Churn' rate (the likelihood of a customer churning) tends to decrease.\n",
    "\n",
    "2. **MonthlyCharges vs. Churn**: The positive correlation coefficient (0.201995) indicates a weak positive linear relationship between the two variables. As 'MonthlyCharges' increase, the 'Churn' rate tends to slightly increase. However, the correlation is not as strong as with 'tenure'.\n",
    "\n",
    "3. **TotalCharges vs. Churn**: The negative correlation (-0.194628) suggests a weak negative linear relationship between the two variables. As 'TotalCharges' (the total amount charged to the customer) increases, the 'Churn' rate tends to slightly decrease. However, similar to 'MonthlyCharges', the correlation is not as strong as with 'tenure'."
   ]
  },
  {
   "cell_type": "markdown",
   "metadata": {},
   "source": [
    "### Feature Processing & Engineering\n",
    "Here is the section to **clean**, **process** the dataset and **create new features**."
   ]
  },
  {
   "cell_type": "code",
   "execution_count": 75,
   "metadata": {},
   "outputs": [
    {
     "name": "stdout",
     "output_type": "stream",
     "text": [
      "<class 'pandas.core.frame.DataFrame'>\n",
      "RangeIndex: 5034 entries, 0 to 5033\n",
      "Data columns (total 20 columns):\n",
      " #   Column            Non-Null Count  Dtype  \n",
      "---  ------            --------------  -----  \n",
      " 0   gender            5034 non-null   object \n",
      " 1   SeniorCitizen     5034 non-null   object \n",
      " 2   Partner           5034 non-null   object \n",
      " 3   Dependents        5034 non-null   object \n",
      " 4   tenure            5034 non-null   int64  \n",
      " 5   PhoneService      5034 non-null   object \n",
      " 6   MultipleLines     5034 non-null   object \n",
      " 7   InternetService   5034 non-null   object \n",
      " 8   OnlineSecurity    5034 non-null   object \n",
      " 9   OnlineBackup      5034 non-null   object \n",
      " 10  DeviceProtection  5034 non-null   object \n",
      " 11  TechSupport       5034 non-null   object \n",
      " 12  StreamingTV       5034 non-null   object \n",
      " 13  StreamingMovies   5034 non-null   object \n",
      " 14  Contract          5034 non-null   object \n",
      " 15  PaperlessBilling  5034 non-null   object \n",
      " 16  PaymentMethod     5034 non-null   object \n",
      " 17  MonthlyCharges    5034 non-null   float64\n",
      " 18  TotalCharges      5034 non-null   float64\n",
      " 19  Churn             5034 non-null   object \n",
      "dtypes: float64(2), int64(1), object(17)\n",
      "memory usage: 786.7+ KB\n"
     ]
    }
   ],
   "source": [
    "Data_All.info()"
   ]
  },
  {
   "cell_type": "code",
   "execution_count": 76,
   "metadata": {},
   "outputs": [
    {
     "data": {
      "text/html": [
       "<div>\n",
       "<style scoped>\n",
       "    .dataframe tbody tr th:only-of-type {\n",
       "        vertical-align: middle;\n",
       "    }\n",
       "\n",
       "    .dataframe tbody tr th {\n",
       "        vertical-align: top;\n",
       "    }\n",
       "\n",
       "    .dataframe thead th {\n",
       "        text-align: right;\n",
       "    }\n",
       "</style>\n",
       "<table border=\"1\" class=\"dataframe\">\n",
       "  <thead>\n",
       "    <tr style=\"text-align: right;\">\n",
       "      <th></th>\n",
       "      <th>gender</th>\n",
       "      <th>SeniorCitizen</th>\n",
       "      <th>Partner</th>\n",
       "      <th>Dependents</th>\n",
       "      <th>tenure</th>\n",
       "      <th>PhoneService</th>\n",
       "      <th>MultipleLines</th>\n",
       "      <th>InternetService</th>\n",
       "      <th>OnlineSecurity</th>\n",
       "      <th>OnlineBackup</th>\n",
       "      <th>DeviceProtection</th>\n",
       "      <th>TechSupport</th>\n",
       "      <th>StreamingTV</th>\n",
       "      <th>StreamingMovies</th>\n",
       "      <th>Contract</th>\n",
       "      <th>PaperlessBilling</th>\n",
       "      <th>PaymentMethod</th>\n",
       "      <th>MonthlyCharges</th>\n",
       "      <th>TotalCharges</th>\n",
       "      <th>Churn</th>\n",
       "    </tr>\n",
       "  </thead>\n",
       "  <tbody>\n",
       "    <tr>\n",
       "      <th>0</th>\n",
       "      <td>Female</td>\n",
       "      <td>No</td>\n",
       "      <td>Yes</td>\n",
       "      <td>No</td>\n",
       "      <td>1</td>\n",
       "      <td>No</td>\n",
       "      <td>No</td>\n",
       "      <td>DSL</td>\n",
       "      <td>No</td>\n",
       "      <td>Yes</td>\n",
       "      <td>No</td>\n",
       "      <td>No</td>\n",
       "      <td>No</td>\n",
       "      <td>No</td>\n",
       "      <td>Month-to-month</td>\n",
       "      <td>Yes</td>\n",
       "      <td>Electronic check</td>\n",
       "      <td>29.850000</td>\n",
       "      <td>29.850000</td>\n",
       "      <td>No</td>\n",
       "    </tr>\n",
       "    <tr>\n",
       "      <th>1</th>\n",
       "      <td>Male</td>\n",
       "      <td>No</td>\n",
       "      <td>No</td>\n",
       "      <td>No</td>\n",
       "      <td>34</td>\n",
       "      <td>Yes</td>\n",
       "      <td>No</td>\n",
       "      <td>DSL</td>\n",
       "      <td>Yes</td>\n",
       "      <td>No</td>\n",
       "      <td>Yes</td>\n",
       "      <td>No</td>\n",
       "      <td>No</td>\n",
       "      <td>No</td>\n",
       "      <td>One year</td>\n",
       "      <td>No</td>\n",
       "      <td>Mailed check</td>\n",
       "      <td>56.950001</td>\n",
       "      <td>1889.500000</td>\n",
       "      <td>No</td>\n",
       "    </tr>\n",
       "    <tr>\n",
       "      <th>2</th>\n",
       "      <td>Male</td>\n",
       "      <td>No</td>\n",
       "      <td>No</td>\n",
       "      <td>No</td>\n",
       "      <td>2</td>\n",
       "      <td>Yes</td>\n",
       "      <td>No</td>\n",
       "      <td>DSL</td>\n",
       "      <td>Yes</td>\n",
       "      <td>Yes</td>\n",
       "      <td>No</td>\n",
       "      <td>No</td>\n",
       "      <td>No</td>\n",
       "      <td>No</td>\n",
       "      <td>Month-to-month</td>\n",
       "      <td>Yes</td>\n",
       "      <td>Mailed check</td>\n",
       "      <td>53.849998</td>\n",
       "      <td>108.150002</td>\n",
       "      <td>Yes</td>\n",
       "    </tr>\n",
       "    <tr>\n",
       "      <th>3</th>\n",
       "      <td>Male</td>\n",
       "      <td>No</td>\n",
       "      <td>No</td>\n",
       "      <td>No</td>\n",
       "      <td>45</td>\n",
       "      <td>No</td>\n",
       "      <td>No</td>\n",
       "      <td>DSL</td>\n",
       "      <td>Yes</td>\n",
       "      <td>No</td>\n",
       "      <td>Yes</td>\n",
       "      <td>Yes</td>\n",
       "      <td>No</td>\n",
       "      <td>No</td>\n",
       "      <td>One year</td>\n",
       "      <td>No</td>\n",
       "      <td>Bank transfer (automatic)</td>\n",
       "      <td>42.299999</td>\n",
       "      <td>1840.750000</td>\n",
       "      <td>No</td>\n",
       "    </tr>\n",
       "    <tr>\n",
       "      <th>4</th>\n",
       "      <td>Female</td>\n",
       "      <td>No</td>\n",
       "      <td>No</td>\n",
       "      <td>No</td>\n",
       "      <td>2</td>\n",
       "      <td>Yes</td>\n",
       "      <td>No</td>\n",
       "      <td>Fiber optic</td>\n",
       "      <td>No</td>\n",
       "      <td>No</td>\n",
       "      <td>No</td>\n",
       "      <td>No</td>\n",
       "      <td>No</td>\n",
       "      <td>No</td>\n",
       "      <td>Month-to-month</td>\n",
       "      <td>Yes</td>\n",
       "      <td>Electronic check</td>\n",
       "      <td>70.699997</td>\n",
       "      <td>151.649994</td>\n",
       "      <td>Yes</td>\n",
       "    </tr>\n",
       "  </tbody>\n",
       "</table>\n",
       "</div>"
      ],
      "text/plain": [
       "   gender SeniorCitizen Partner Dependents  tenure PhoneService MultipleLines  \\\n",
       "0  Female            No     Yes         No       1           No            No   \n",
       "1    Male            No      No         No      34          Yes            No   \n",
       "2    Male            No      No         No       2          Yes            No   \n",
       "3    Male            No      No         No      45           No            No   \n",
       "4  Female            No      No         No       2          Yes            No   \n",
       "\n",
       "  InternetService OnlineSecurity OnlineBackup DeviceProtection TechSupport  \\\n",
       "0             DSL             No          Yes               No          No   \n",
       "1             DSL            Yes           No              Yes          No   \n",
       "2             DSL            Yes          Yes               No          No   \n",
       "3             DSL            Yes           No              Yes         Yes   \n",
       "4     Fiber optic             No           No               No          No   \n",
       "\n",
       "  StreamingTV StreamingMovies        Contract PaperlessBilling  \\\n",
       "0          No              No  Month-to-month              Yes   \n",
       "1          No              No        One year               No   \n",
       "2          No              No  Month-to-month              Yes   \n",
       "3          No              No        One year               No   \n",
       "4          No              No  Month-to-month              Yes   \n",
       "\n",
       "               PaymentMethod  MonthlyCharges  TotalCharges Churn  \n",
       "0           Electronic check       29.850000     29.850000    No  \n",
       "1               Mailed check       56.950001   1889.500000    No  \n",
       "2               Mailed check       53.849998    108.150002   Yes  \n",
       "3  Bank transfer (automatic)       42.299999   1840.750000    No  \n",
       "4           Electronic check       70.699997    151.649994   Yes  "
      ]
     },
     "execution_count": 76,
     "metadata": {},
     "output_type": "execute_result"
    }
   ],
   "source": [
    "Data_All.head()"
   ]
  },
  {
   "cell_type": "code",
   "execution_count": 77,
   "metadata": {},
   "outputs": [
    {
     "name": "stdout",
     "output_type": "stream",
     "text": [
      "Column: gender - Unique Values: ['Female' 'Male']\n",
      "Column: SeniorCitizen - Unique Values: ['No' 'Yes']\n",
      "Column: Partner - Unique Values: ['Yes' 'No']\n",
      "Column: Dependents - Unique Values: ['No' 'Yes']\n",
      "Column: tenure - Unique Values: [ 1 34  2 45  8 22 10 28 62 13 16 58 49 25 69 52 71 21 12 30 47 72 17 27\n",
      "  5 46 11 70 63 43 15 60 18 66  9  3 31 50 64 56  7 42 35 48 29 65 38 68\n",
      " 32 55 37 36 41  6  4 33 67 23 57 61 14 20 53 40 59 24 44 19 54 51 26 39]\n",
      "Column: PhoneService - Unique Values: ['No' 'Yes']\n",
      "Column: MultipleLines - Unique Values: ['No' 'Yes' 'No phone service']\n",
      "Column: InternetService - Unique Values: ['DSL' 'Fiber optic' 'No']\n",
      "Column: OnlineSecurity - Unique Values: ['No' 'Yes' 'No internet service']\n",
      "Column: OnlineBackup - Unique Values: ['Yes' 'No' 'No internet service']\n",
      "Column: DeviceProtection - Unique Values: ['No' 'Yes' 'No internet service']\n",
      "Column: TechSupport - Unique Values: ['No' 'Yes' 'No internet service']\n",
      "Column: StreamingTV - Unique Values: ['No' 'Yes' 'No internet service']\n",
      "Column: StreamingMovies - Unique Values: ['No' 'Yes' 'No internet service']\n",
      "Column: Contract - Unique Values: ['Month-to-month' 'One year' 'Two year']\n",
      "Column: PaperlessBilling - Unique Values: ['Yes' 'No']\n",
      "Column: PaymentMethod - Unique Values: ['Electronic check' 'Mailed check' 'Bank transfer (automatic)'\n",
      " 'Credit card (automatic)']\n",
      "Column: MonthlyCharges - Unique Values: [ 29.85000038  56.95000076  53.84999847 ...  78.7         60.65\n",
      " 103.2       ]\n",
      "Column: TotalCharges - Unique Values: [  29.85000038 1889.5         108.15000153 ...  346.45        306.6\n",
      " 6844.5       ]\n",
      "Column: Churn - Unique Values: ['No' 'Yes']\n"
     ]
    }
   ],
   "source": [
    "# check unique values of each column\n",
    "for column in Data_All.columns:\n",
    "    print('Column: {} - Unique Values: {}'.format(column, Data_All[column].unique()))"
   ]
  },
  {
   "cell_type": "markdown",
   "metadata": {},
   "source": [
    "#### Mutual Information (MI) scores\n",
    "\n",
    "We calculate the mutual scores between categorical features and the target variable (Churn) in the test dataset. Mutual Information is a measure of the dependence between two variables, which quantifies how much knowing the value of one variable reduces uncertainty about the other variable.\n",
    "\n",
    "This helps identify which categorical features are more informative in relation to the target variable, making them potentially valuable for predicting or understanding the 'Churn' behavior."
   ]
  },
  {
   "cell_type": "code",
   "execution_count": 78,
   "metadata": {},
   "outputs": [
    {
     "name": "stdout",
     "output_type": "stream",
     "text": [
      "Feature: Contract, Mutual Information Score: 0.10284790516675524\n",
      "Feature: InternetService, Mutual Information Score: 0.05944428811167132\n",
      "Feature: PaymentMethod, Mutual Information Score: 0.04163984913943765\n",
      "Feature: TechSupport, Mutual Information Score: 0.030007109249305178\n",
      "Feature: OnlineSecurity, Mutual Information Score: 0.029670157336360276\n",
      "Feature: PaperlessBilling, Mutual Information Score: 0.019508874345666505\n",
      "Feature: OnlineBackup, Mutual Information Score: 0.015826778687180174\n",
      "Feature: Dependents, Mutual Information Score: 0.015615368107435551\n",
      "Feature: DeviceProtection, Mutual Information Score: 0.013717699147021103\n",
      "Feature: StreamingMovies, Mutual Information Score: 0.013349078621584257\n",
      "Feature: SeniorCitizen, Mutual Information Score: 0.010389723457655958\n",
      "Feature: Partner, Mutual Information Score: 0.010018147440621322\n",
      "Feature: StreamingTV, Mutual Information Score: 0.009953736504141789\n",
      "Feature: MultipleLines, Mutual Information Score: 0.0008281912846177519\n",
      "Feature: PhoneService, Mutual Information Score: 0.00010045042468448395\n",
      "Feature: gender, Mutual Information Score: 3.2190163546386152e-06\n"
     ]
    }
   ],
   "source": [
    "# Lets find out feature dependency on the target variable using mutual information score\n",
    "\n",
    "x_cat = Data_All.select_dtypes(include=object).drop('Churn', axis=1)\n",
    "y_cat = Data_All['Churn']\n",
    "\n",
    "mi_scores = []\n",
    "\n",
    "#  loop to calculate the Mutual Information Score for each categorical feature \n",
    "#  with respect to the 'Churn' target variable\n",
    "\n",
    "for column in x_cat.columns:\n",
    "    mi_score = mutual_info_score(x_cat[column], y_cat)\n",
    "    mi_scores.append((column, mi_score))\n",
    "\n",
    "# sort features by their importance dependency on the target variable, \n",
    "# with the most important ones at the top.\n",
    "\n",
    "mi_scores.sort(key=lambda x: x[1], reverse=True)\n",
    "\n",
    "for feature, score in mi_scores:\n",
    "    print(f\"Feature: {feature}, Mutual Information Score: {score}\")"
   ]
  },
  {
   "cell_type": "code",
   "execution_count": 79,
   "metadata": {},
   "outputs": [
    {
     "data": {
      "application/vnd.plotly.v1+json": {
       "config": {
        "plotlyServerURL": "https://plot.ly"
       },
       "data": [
        {
         "alignmentgroup": "True",
         "hovertemplate": "Mutual Information Score=%{x}<br>Features=%{y}<br>color=%{marker.color}<extra></extra>",
         "legendgroup": "",
         "marker": {
          "color": [
           0.10284790516675524,
           0.05944428811167132,
           0.04163984913943765,
           0.030007109249305178,
           0.029670157336360276,
           0.019508874345666505,
           0.015826778687180174,
           0.015615368107435551,
           0.013717699147021103,
           0.013349078621584257,
           0.010389723457655958,
           0.010018147440621322,
           0.009953736504141789,
           0.0008281912846177519,
           0.00010045042468448395,
           0.0000032190163546386152
          ],
          "coloraxis": "coloraxis",
          "pattern": {
           "shape": ""
          }
         },
         "name": "",
         "offsetgroup": "",
         "orientation": "h",
         "showlegend": false,
         "textposition": "auto",
         "type": "bar",
         "x": [
          0.10284790516675524,
          0.05944428811167132,
          0.04163984913943765,
          0.030007109249305178,
          0.029670157336360276,
          0.019508874345666505,
          0.015826778687180174,
          0.015615368107435551,
          0.013717699147021103,
          0.013349078621584257,
          0.010389723457655958,
          0.010018147440621322,
          0.009953736504141789,
          0.0008281912846177519,
          0.00010045042468448395,
          0.0000032190163546386152
         ],
         "xaxis": "x",
         "y": [
          "Contract",
          "InternetService",
          "PaymentMethod",
          "TechSupport",
          "OnlineSecurity",
          "PaperlessBilling",
          "OnlineBackup",
          "Dependents",
          "DeviceProtection",
          "StreamingMovies",
          "SeniorCitizen",
          "Partner",
          "StreamingTV",
          "MultipleLines",
          "PhoneService",
          "gender"
         ],
         "yaxis": "y"
        }
       ],
       "layout": {
        "barmode": "relative",
        "coloraxis": {
         "colorbar": {
          "title": {
           "text": "color"
          }
         },
         "colorscale": [
          [
           0,
           "#0d0887"
          ],
          [
           0.1111111111111111,
           "#46039f"
          ],
          [
           0.2222222222222222,
           "#7201a8"
          ],
          [
           0.3333333333333333,
           "#9c179e"
          ],
          [
           0.4444444444444444,
           "#bd3786"
          ],
          [
           0.5555555555555556,
           "#d8576b"
          ],
          [
           0.6666666666666666,
           "#ed7953"
          ],
          [
           0.7777777777777778,
           "#fb9f3a"
          ],
          [
           0.8888888888888888,
           "#fdca26"
          ],
          [
           1,
           "#f0f921"
          ]
         ]
        },
        "legend": {
         "tracegroupgap": 0
        },
        "template": {
         "data": {
          "bar": [
           {
            "error_x": {
             "color": "#2a3f5f"
            },
            "error_y": {
             "color": "#2a3f5f"
            },
            "marker": {
             "line": {
              "color": "#E5ECF6",
              "width": 0.5
             },
             "pattern": {
              "fillmode": "overlay",
              "size": 10,
              "solidity": 0.2
             }
            },
            "type": "bar"
           }
          ],
          "barpolar": [
           {
            "marker": {
             "line": {
              "color": "#E5ECF6",
              "width": 0.5
             },
             "pattern": {
              "fillmode": "overlay",
              "size": 10,
              "solidity": 0.2
             }
            },
            "type": "barpolar"
           }
          ],
          "carpet": [
           {
            "aaxis": {
             "endlinecolor": "#2a3f5f",
             "gridcolor": "white",
             "linecolor": "white",
             "minorgridcolor": "white",
             "startlinecolor": "#2a3f5f"
            },
            "baxis": {
             "endlinecolor": "#2a3f5f",
             "gridcolor": "white",
             "linecolor": "white",
             "minorgridcolor": "white",
             "startlinecolor": "#2a3f5f"
            },
            "type": "carpet"
           }
          ],
          "choropleth": [
           {
            "colorbar": {
             "outlinewidth": 0,
             "ticks": ""
            },
            "type": "choropleth"
           }
          ],
          "contour": [
           {
            "colorbar": {
             "outlinewidth": 0,
             "ticks": ""
            },
            "colorscale": [
             [
              0,
              "#0d0887"
             ],
             [
              0.1111111111111111,
              "#46039f"
             ],
             [
              0.2222222222222222,
              "#7201a8"
             ],
             [
              0.3333333333333333,
              "#9c179e"
             ],
             [
              0.4444444444444444,
              "#bd3786"
             ],
             [
              0.5555555555555556,
              "#d8576b"
             ],
             [
              0.6666666666666666,
              "#ed7953"
             ],
             [
              0.7777777777777778,
              "#fb9f3a"
             ],
             [
              0.8888888888888888,
              "#fdca26"
             ],
             [
              1,
              "#f0f921"
             ]
            ],
            "type": "contour"
           }
          ],
          "contourcarpet": [
           {
            "colorbar": {
             "outlinewidth": 0,
             "ticks": ""
            },
            "type": "contourcarpet"
           }
          ],
          "heatmap": [
           {
            "colorbar": {
             "outlinewidth": 0,
             "ticks": ""
            },
            "colorscale": [
             [
              0,
              "#0d0887"
             ],
             [
              0.1111111111111111,
              "#46039f"
             ],
             [
              0.2222222222222222,
              "#7201a8"
             ],
             [
              0.3333333333333333,
              "#9c179e"
             ],
             [
              0.4444444444444444,
              "#bd3786"
             ],
             [
              0.5555555555555556,
              "#d8576b"
             ],
             [
              0.6666666666666666,
              "#ed7953"
             ],
             [
              0.7777777777777778,
              "#fb9f3a"
             ],
             [
              0.8888888888888888,
              "#fdca26"
             ],
             [
              1,
              "#f0f921"
             ]
            ],
            "type": "heatmap"
           }
          ],
          "heatmapgl": [
           {
            "colorbar": {
             "outlinewidth": 0,
             "ticks": ""
            },
            "colorscale": [
             [
              0,
              "#0d0887"
             ],
             [
              0.1111111111111111,
              "#46039f"
             ],
             [
              0.2222222222222222,
              "#7201a8"
             ],
             [
              0.3333333333333333,
              "#9c179e"
             ],
             [
              0.4444444444444444,
              "#bd3786"
             ],
             [
              0.5555555555555556,
              "#d8576b"
             ],
             [
              0.6666666666666666,
              "#ed7953"
             ],
             [
              0.7777777777777778,
              "#fb9f3a"
             ],
             [
              0.8888888888888888,
              "#fdca26"
             ],
             [
              1,
              "#f0f921"
             ]
            ],
            "type": "heatmapgl"
           }
          ],
          "histogram": [
           {
            "marker": {
             "pattern": {
              "fillmode": "overlay",
              "size": 10,
              "solidity": 0.2
             }
            },
            "type": "histogram"
           }
          ],
          "histogram2d": [
           {
            "colorbar": {
             "outlinewidth": 0,
             "ticks": ""
            },
            "colorscale": [
             [
              0,
              "#0d0887"
             ],
             [
              0.1111111111111111,
              "#46039f"
             ],
             [
              0.2222222222222222,
              "#7201a8"
             ],
             [
              0.3333333333333333,
              "#9c179e"
             ],
             [
              0.4444444444444444,
              "#bd3786"
             ],
             [
              0.5555555555555556,
              "#d8576b"
             ],
             [
              0.6666666666666666,
              "#ed7953"
             ],
             [
              0.7777777777777778,
              "#fb9f3a"
             ],
             [
              0.8888888888888888,
              "#fdca26"
             ],
             [
              1,
              "#f0f921"
             ]
            ],
            "type": "histogram2d"
           }
          ],
          "histogram2dcontour": [
           {
            "colorbar": {
             "outlinewidth": 0,
             "ticks": ""
            },
            "colorscale": [
             [
              0,
              "#0d0887"
             ],
             [
              0.1111111111111111,
              "#46039f"
             ],
             [
              0.2222222222222222,
              "#7201a8"
             ],
             [
              0.3333333333333333,
              "#9c179e"
             ],
             [
              0.4444444444444444,
              "#bd3786"
             ],
             [
              0.5555555555555556,
              "#d8576b"
             ],
             [
              0.6666666666666666,
              "#ed7953"
             ],
             [
              0.7777777777777778,
              "#fb9f3a"
             ],
             [
              0.8888888888888888,
              "#fdca26"
             ],
             [
              1,
              "#f0f921"
             ]
            ],
            "type": "histogram2dcontour"
           }
          ],
          "mesh3d": [
           {
            "colorbar": {
             "outlinewidth": 0,
             "ticks": ""
            },
            "type": "mesh3d"
           }
          ],
          "parcoords": [
           {
            "line": {
             "colorbar": {
              "outlinewidth": 0,
              "ticks": ""
             }
            },
            "type": "parcoords"
           }
          ],
          "pie": [
           {
            "automargin": true,
            "type": "pie"
           }
          ],
          "scatter": [
           {
            "fillpattern": {
             "fillmode": "overlay",
             "size": 10,
             "solidity": 0.2
            },
            "type": "scatter"
           }
          ],
          "scatter3d": [
           {
            "line": {
             "colorbar": {
              "outlinewidth": 0,
              "ticks": ""
             }
            },
            "marker": {
             "colorbar": {
              "outlinewidth": 0,
              "ticks": ""
             }
            },
            "type": "scatter3d"
           }
          ],
          "scattercarpet": [
           {
            "marker": {
             "colorbar": {
              "outlinewidth": 0,
              "ticks": ""
             }
            },
            "type": "scattercarpet"
           }
          ],
          "scattergeo": [
           {
            "marker": {
             "colorbar": {
              "outlinewidth": 0,
              "ticks": ""
             }
            },
            "type": "scattergeo"
           }
          ],
          "scattergl": [
           {
            "marker": {
             "colorbar": {
              "outlinewidth": 0,
              "ticks": ""
             }
            },
            "type": "scattergl"
           }
          ],
          "scattermapbox": [
           {
            "marker": {
             "colorbar": {
              "outlinewidth": 0,
              "ticks": ""
             }
            },
            "type": "scattermapbox"
           }
          ],
          "scatterpolar": [
           {
            "marker": {
             "colorbar": {
              "outlinewidth": 0,
              "ticks": ""
             }
            },
            "type": "scatterpolar"
           }
          ],
          "scatterpolargl": [
           {
            "marker": {
             "colorbar": {
              "outlinewidth": 0,
              "ticks": ""
             }
            },
            "type": "scatterpolargl"
           }
          ],
          "scatterternary": [
           {
            "marker": {
             "colorbar": {
              "outlinewidth": 0,
              "ticks": ""
             }
            },
            "type": "scatterternary"
           }
          ],
          "surface": [
           {
            "colorbar": {
             "outlinewidth": 0,
             "ticks": ""
            },
            "colorscale": [
             [
              0,
              "#0d0887"
             ],
             [
              0.1111111111111111,
              "#46039f"
             ],
             [
              0.2222222222222222,
              "#7201a8"
             ],
             [
              0.3333333333333333,
              "#9c179e"
             ],
             [
              0.4444444444444444,
              "#bd3786"
             ],
             [
              0.5555555555555556,
              "#d8576b"
             ],
             [
              0.6666666666666666,
              "#ed7953"
             ],
             [
              0.7777777777777778,
              "#fb9f3a"
             ],
             [
              0.8888888888888888,
              "#fdca26"
             ],
             [
              1,
              "#f0f921"
             ]
            ],
            "type": "surface"
           }
          ],
          "table": [
           {
            "cells": {
             "fill": {
              "color": "#EBF0F8"
             },
             "line": {
              "color": "white"
             }
            },
            "header": {
             "fill": {
              "color": "#C8D4E3"
             },
             "line": {
              "color": "white"
             }
            },
            "type": "table"
           }
          ]
         },
         "layout": {
          "annotationdefaults": {
           "arrowcolor": "#2a3f5f",
           "arrowhead": 0,
           "arrowwidth": 1
          },
          "autotypenumbers": "strict",
          "coloraxis": {
           "colorbar": {
            "outlinewidth": 0,
            "ticks": ""
           }
          },
          "colorscale": {
           "diverging": [
            [
             0,
             "#8e0152"
            ],
            [
             0.1,
             "#c51b7d"
            ],
            [
             0.2,
             "#de77ae"
            ],
            [
             0.3,
             "#f1b6da"
            ],
            [
             0.4,
             "#fde0ef"
            ],
            [
             0.5,
             "#f7f7f7"
            ],
            [
             0.6,
             "#e6f5d0"
            ],
            [
             0.7,
             "#b8e186"
            ],
            [
             0.8,
             "#7fbc41"
            ],
            [
             0.9,
             "#4d9221"
            ],
            [
             1,
             "#276419"
            ]
           ],
           "sequential": [
            [
             0,
             "#0d0887"
            ],
            [
             0.1111111111111111,
             "#46039f"
            ],
            [
             0.2222222222222222,
             "#7201a8"
            ],
            [
             0.3333333333333333,
             "#9c179e"
            ],
            [
             0.4444444444444444,
             "#bd3786"
            ],
            [
             0.5555555555555556,
             "#d8576b"
            ],
            [
             0.6666666666666666,
             "#ed7953"
            ],
            [
             0.7777777777777778,
             "#fb9f3a"
            ],
            [
             0.8888888888888888,
             "#fdca26"
            ],
            [
             1,
             "#f0f921"
            ]
           ],
           "sequentialminus": [
            [
             0,
             "#0d0887"
            ],
            [
             0.1111111111111111,
             "#46039f"
            ],
            [
             0.2222222222222222,
             "#7201a8"
            ],
            [
             0.3333333333333333,
             "#9c179e"
            ],
            [
             0.4444444444444444,
             "#bd3786"
            ],
            [
             0.5555555555555556,
             "#d8576b"
            ],
            [
             0.6666666666666666,
             "#ed7953"
            ],
            [
             0.7777777777777778,
             "#fb9f3a"
            ],
            [
             0.8888888888888888,
             "#fdca26"
            ],
            [
             1,
             "#f0f921"
            ]
           ]
          },
          "colorway": [
           "#636efa",
           "#EF553B",
           "#00cc96",
           "#ab63fa",
           "#FFA15A",
           "#19d3f3",
           "#FF6692",
           "#B6E880",
           "#FF97FF",
           "#FECB52"
          ],
          "font": {
           "color": "#2a3f5f"
          },
          "geo": {
           "bgcolor": "white",
           "lakecolor": "white",
           "landcolor": "#E5ECF6",
           "showlakes": true,
           "showland": true,
           "subunitcolor": "white"
          },
          "hoverlabel": {
           "align": "left"
          },
          "hovermode": "closest",
          "mapbox": {
           "style": "light"
          },
          "paper_bgcolor": "white",
          "plot_bgcolor": "#E5ECF6",
          "polar": {
           "angularaxis": {
            "gridcolor": "white",
            "linecolor": "white",
            "ticks": ""
           },
           "bgcolor": "#E5ECF6",
           "radialaxis": {
            "gridcolor": "white",
            "linecolor": "white",
            "ticks": ""
           }
          },
          "scene": {
           "xaxis": {
            "backgroundcolor": "#E5ECF6",
            "gridcolor": "white",
            "gridwidth": 2,
            "linecolor": "white",
            "showbackground": true,
            "ticks": "",
            "zerolinecolor": "white"
           },
           "yaxis": {
            "backgroundcolor": "#E5ECF6",
            "gridcolor": "white",
            "gridwidth": 2,
            "linecolor": "white",
            "showbackground": true,
            "ticks": "",
            "zerolinecolor": "white"
           },
           "zaxis": {
            "backgroundcolor": "#E5ECF6",
            "gridcolor": "white",
            "gridwidth": 2,
            "linecolor": "white",
            "showbackground": true,
            "ticks": "",
            "zerolinecolor": "white"
           }
          },
          "shapedefaults": {
           "line": {
            "color": "#2a3f5f"
           }
          },
          "ternary": {
           "aaxis": {
            "gridcolor": "white",
            "linecolor": "white",
            "ticks": ""
           },
           "baxis": {
            "gridcolor": "white",
            "linecolor": "white",
            "ticks": ""
           },
           "bgcolor": "#E5ECF6",
           "caxis": {
            "gridcolor": "white",
            "linecolor": "white",
            "ticks": ""
           }
          },
          "title": {
           "x": 0.05
          },
          "xaxis": {
           "automargin": true,
           "gridcolor": "white",
           "linecolor": "white",
           "ticks": "",
           "title": {
            "standoff": 15
           },
           "zerolinecolor": "white",
           "zerolinewidth": 2
          },
          "yaxis": {
           "automargin": true,
           "gridcolor": "white",
           "linecolor": "white",
           "ticks": "",
           "title": {
            "standoff": 15
           },
           "zerolinecolor": "white",
           "zerolinewidth": 2
          }
         }
        },
        "title": {
         "text": "Categorical Features Relationship with Target (Churn)"
        },
        "xaxis": {
         "anchor": "y",
         "domain": [
          0,
          1
         ],
         "title": {
          "text": "Mutual Information Score"
         }
        },
        "yaxis": {
         "anchor": "x",
         "domain": [
          0,
          1
         ],
         "title": {
          "text": "Features"
         }
        }
       }
      }
     },
     "metadata": {},
     "output_type": "display_data"
    }
   ],
   "source": [
    "features = [score[0] for score in mi_scores]\n",
    "scores = [score[1] for score in mi_scores]\n",
    "\n",
    "# Create a bar plot using Plotly\n",
    "fig = px.bar(x=scores, y=features, orientation='h', color=scores,\n",
    "             labels={'x': 'Mutual Information Score', 'y': 'Features'},\n",
    "             title='Categorical Features Relationship with Target (Churn)',\n",
    "             template='plotly',\n",
    "             color_continuous_scale=px.colors.sequential.Plasma)\n",
    "\n",
    "fig.show()"
   ]
  },
  {
   "cell_type": "markdown",
   "metadata": {},
   "source": [
    "- The gender, Phoneservice and Multiplelines have a very low mutual score (close to 0). This suggests that they have little to no predictive power or relationship with the target variable. \n",
    "- Contract and Internet Service have the highest mutual scores. Different contract lengths and the type of internet service a customer has may be associated with different churn rates."
   ]
  },
  {
   "cell_type": "code",
   "execution_count": 80,
   "metadata": {},
   "outputs": [],
   "source": [
    "file_path = 'Screenshots\\Mutual_information_plot.png'\n",
    "\n",
    "# save the figure as a PNG image\n",
    "\n",
    "pio.write_image(fig, file_path)"
   ]
  },
  {
   "cell_type": "code",
   "execution_count": 81,
   "metadata": {},
   "outputs": [],
   "source": [
    "# drop columns\n",
    "\n",
    "Data_All.drop(columns=['gender','PhoneService', 'MultipleLines'], inplace=True)"
   ]
  },
  {
   "cell_type": "code",
   "execution_count": 82,
   "metadata": {},
   "outputs": [
    {
     "data": {
      "text/html": [
       "<div>\n",
       "<style scoped>\n",
       "    .dataframe tbody tr th:only-of-type {\n",
       "        vertical-align: middle;\n",
       "    }\n",
       "\n",
       "    .dataframe tbody tr th {\n",
       "        vertical-align: top;\n",
       "    }\n",
       "\n",
       "    .dataframe thead th {\n",
       "        text-align: right;\n",
       "    }\n",
       "</style>\n",
       "<table border=\"1\" class=\"dataframe\">\n",
       "  <thead>\n",
       "    <tr style=\"text-align: right;\">\n",
       "      <th></th>\n",
       "      <th>SeniorCitizen</th>\n",
       "      <th>Partner</th>\n",
       "      <th>Dependents</th>\n",
       "      <th>tenure</th>\n",
       "      <th>InternetService</th>\n",
       "      <th>OnlineSecurity</th>\n",
       "      <th>OnlineBackup</th>\n",
       "      <th>DeviceProtection</th>\n",
       "      <th>TechSupport</th>\n",
       "      <th>StreamingTV</th>\n",
       "      <th>StreamingMovies</th>\n",
       "      <th>Contract</th>\n",
       "      <th>PaperlessBilling</th>\n",
       "      <th>PaymentMethod</th>\n",
       "      <th>MonthlyCharges</th>\n",
       "      <th>TotalCharges</th>\n",
       "      <th>Churn</th>\n",
       "    </tr>\n",
       "  </thead>\n",
       "  <tbody>\n",
       "    <tr>\n",
       "      <th>0</th>\n",
       "      <td>No</td>\n",
       "      <td>Yes</td>\n",
       "      <td>No</td>\n",
       "      <td>1</td>\n",
       "      <td>DSL</td>\n",
       "      <td>No</td>\n",
       "      <td>Yes</td>\n",
       "      <td>No</td>\n",
       "      <td>No</td>\n",
       "      <td>No</td>\n",
       "      <td>No</td>\n",
       "      <td>Month-to-month</td>\n",
       "      <td>Yes</td>\n",
       "      <td>Electronic check</td>\n",
       "      <td>29.850000</td>\n",
       "      <td>29.850000</td>\n",
       "      <td>No</td>\n",
       "    </tr>\n",
       "    <tr>\n",
       "      <th>1</th>\n",
       "      <td>No</td>\n",
       "      <td>No</td>\n",
       "      <td>No</td>\n",
       "      <td>34</td>\n",
       "      <td>DSL</td>\n",
       "      <td>Yes</td>\n",
       "      <td>No</td>\n",
       "      <td>Yes</td>\n",
       "      <td>No</td>\n",
       "      <td>No</td>\n",
       "      <td>No</td>\n",
       "      <td>One year</td>\n",
       "      <td>No</td>\n",
       "      <td>Mailed check</td>\n",
       "      <td>56.950001</td>\n",
       "      <td>1889.500000</td>\n",
       "      <td>No</td>\n",
       "    </tr>\n",
       "    <tr>\n",
       "      <th>2</th>\n",
       "      <td>No</td>\n",
       "      <td>No</td>\n",
       "      <td>No</td>\n",
       "      <td>2</td>\n",
       "      <td>DSL</td>\n",
       "      <td>Yes</td>\n",
       "      <td>Yes</td>\n",
       "      <td>No</td>\n",
       "      <td>No</td>\n",
       "      <td>No</td>\n",
       "      <td>No</td>\n",
       "      <td>Month-to-month</td>\n",
       "      <td>Yes</td>\n",
       "      <td>Mailed check</td>\n",
       "      <td>53.849998</td>\n",
       "      <td>108.150002</td>\n",
       "      <td>Yes</td>\n",
       "    </tr>\n",
       "    <tr>\n",
       "      <th>3</th>\n",
       "      <td>No</td>\n",
       "      <td>No</td>\n",
       "      <td>No</td>\n",
       "      <td>45</td>\n",
       "      <td>DSL</td>\n",
       "      <td>Yes</td>\n",
       "      <td>No</td>\n",
       "      <td>Yes</td>\n",
       "      <td>Yes</td>\n",
       "      <td>No</td>\n",
       "      <td>No</td>\n",
       "      <td>One year</td>\n",
       "      <td>No</td>\n",
       "      <td>Bank transfer (automatic)</td>\n",
       "      <td>42.299999</td>\n",
       "      <td>1840.750000</td>\n",
       "      <td>No</td>\n",
       "    </tr>\n",
       "    <tr>\n",
       "      <th>4</th>\n",
       "      <td>No</td>\n",
       "      <td>No</td>\n",
       "      <td>No</td>\n",
       "      <td>2</td>\n",
       "      <td>Fiber optic</td>\n",
       "      <td>No</td>\n",
       "      <td>No</td>\n",
       "      <td>No</td>\n",
       "      <td>No</td>\n",
       "      <td>No</td>\n",
       "      <td>No</td>\n",
       "      <td>Month-to-month</td>\n",
       "      <td>Yes</td>\n",
       "      <td>Electronic check</td>\n",
       "      <td>70.699997</td>\n",
       "      <td>151.649994</td>\n",
       "      <td>Yes</td>\n",
       "    </tr>\n",
       "  </tbody>\n",
       "</table>\n",
       "</div>"
      ],
      "text/plain": [
       "  SeniorCitizen Partner Dependents  tenure InternetService OnlineSecurity  \\\n",
       "0            No     Yes         No       1             DSL             No   \n",
       "1            No      No         No      34             DSL            Yes   \n",
       "2            No      No         No       2             DSL            Yes   \n",
       "3            No      No         No      45             DSL            Yes   \n",
       "4            No      No         No       2     Fiber optic             No   \n",
       "\n",
       "  OnlineBackup DeviceProtection TechSupport StreamingTV StreamingMovies  \\\n",
       "0          Yes               No          No          No              No   \n",
       "1           No              Yes          No          No              No   \n",
       "2          Yes               No          No          No              No   \n",
       "3           No              Yes         Yes          No              No   \n",
       "4           No               No          No          No              No   \n",
       "\n",
       "         Contract PaperlessBilling              PaymentMethod  MonthlyCharges  \\\n",
       "0  Month-to-month              Yes           Electronic check       29.850000   \n",
       "1        One year               No               Mailed check       56.950001   \n",
       "2  Month-to-month              Yes               Mailed check       53.849998   \n",
       "3        One year               No  Bank transfer (automatic)       42.299999   \n",
       "4  Month-to-month              Yes           Electronic check       70.699997   \n",
       "\n",
       "   TotalCharges Churn  \n",
       "0     29.850000    No  \n",
       "1   1889.500000    No  \n",
       "2    108.150002   Yes  \n",
       "3   1840.750000    No  \n",
       "4    151.649994   Yes  "
      ]
     },
     "execution_count": 82,
     "metadata": {},
     "output_type": "execute_result"
    }
   ],
   "source": [
    "df_encode = Data_All.copy()\n",
    "df_encode.head()"
   ]
  },
  {
   "cell_type": "markdown",
   "metadata": {},
   "source": [
    "### Dataset Splitting"
   ]
  },
  {
   "cell_type": "code",
   "execution_count": 83,
   "metadata": {},
   "outputs": [],
   "source": [
    "X = df_encode.drop(columns=['Churn'])\n",
    "y = df_encode['Churn']"
   ]
  },
  {
   "cell_type": "markdown",
   "metadata": {},
   "source": [
    "### Label Encoding"
   ]
  },
  {
   "cell_type": "code",
   "execution_count": 84,
   "metadata": {},
   "outputs": [],
   "source": [
    "# Encode the target variable (Churn) to have 0 or 1 instead of No or Yes\n",
    "\n",
    "labelEncoder = LabelEncoder()\n",
    "\n",
    "y = labelEncoder.fit_transform(y)"
   ]
  },
  {
   "cell_type": "code",
   "execution_count": 86,
   "metadata": {},
   "outputs": [
    {
     "data": {
      "text/plain": [
       "((5034, 16), (5034,))"
      ]
     },
     "execution_count": 86,
     "metadata": {},
     "output_type": "execute_result"
    }
   ],
   "source": [
    "(X.shape, y.shape)"
   ]
  },
  {
   "cell_type": "code",
   "execution_count": 87,
   "metadata": {},
   "outputs": [
    {
     "name": "stdout",
     "output_type": "stream",
     "text": [
      "<class 'pandas.core.frame.DataFrame'>\n",
      "RangeIndex: 5034 entries, 0 to 5033\n",
      "Data columns (total 16 columns):\n",
      " #   Column            Non-Null Count  Dtype  \n",
      "---  ------            --------------  -----  \n",
      " 0   SeniorCitizen     5034 non-null   object \n",
      " 1   Partner           5034 non-null   object \n",
      " 2   Dependents        5034 non-null   object \n",
      " 3   tenure            5034 non-null   int64  \n",
      " 4   InternetService   5034 non-null   object \n",
      " 5   OnlineSecurity    5034 non-null   object \n",
      " 6   OnlineBackup      5034 non-null   object \n",
      " 7   DeviceProtection  5034 non-null   object \n",
      " 8   TechSupport       5034 non-null   object \n",
      " 9   StreamingTV       5034 non-null   object \n",
      " 10  StreamingMovies   5034 non-null   object \n",
      " 11  Contract          5034 non-null   object \n",
      " 12  PaperlessBilling  5034 non-null   object \n",
      " 13  PaymentMethod     5034 non-null   object \n",
      " 14  MonthlyCharges    5034 non-null   float64\n",
      " 15  TotalCharges      5034 non-null   float64\n",
      "dtypes: float64(2), int64(1), object(13)\n",
      "memory usage: 629.4+ KB\n"
     ]
    }
   ],
   "source": [
    "# view Data Types\n",
    "\n",
    "X.info()"
   ]
  },
  {
   "cell_type": "markdown",
   "metadata": {},
   "source": [
    "### Features encoding"
   ]
  },
  {
   "cell_type": "code",
   "execution_count": 88,
   "metadata": {},
   "outputs": [],
   "source": [
    "# One hot encoding for categorical columns\n",
    "\n",
    "categorical_columns = ['SeniorCitizen', 'Partner', 'Dependents',\n",
    "                       'InternetService', 'OnlineSecurity', 'OnlineBackup', 'DeviceProtection', \n",
    "                       'TechSupport', 'StreamingTV', 'StreamingMovies', 'Contract', \n",
    "                       'PaperlessBilling', 'PaymentMethod']\n",
    "\n",
    "# Create column transformer instance\n",
    "\n",
    "transformer = make_column_transformer(\n",
    "    (OneHotEncoder(sparse=False), categorical_columns)\n",
    ")"
   ]
  },
  {
   "cell_type": "code",
   "execution_count": 89,
   "metadata": {},
   "outputs": [],
   "source": [
    "transformed_data = transformer.fit_transform(X[categorical_columns])"
   ]
  },
  {
   "cell_type": "code",
   "execution_count": 90,
   "metadata": {},
   "outputs": [
    {
     "data": {
      "text/html": [
       "<div>\n",
       "<style scoped>\n",
       "    .dataframe tbody tr th:only-of-type {\n",
       "        vertical-align: middle;\n",
       "    }\n",
       "\n",
       "    .dataframe tbody tr th {\n",
       "        vertical-align: top;\n",
       "    }\n",
       "\n",
       "    .dataframe thead th {\n",
       "        text-align: right;\n",
       "    }\n",
       "</style>\n",
       "<table border=\"1\" class=\"dataframe\">\n",
       "  <thead>\n",
       "    <tr style=\"text-align: right;\">\n",
       "      <th></th>\n",
       "      <th>tenure</th>\n",
       "      <th>MonthlyCharges</th>\n",
       "      <th>TotalCharges</th>\n",
       "      <th>onehotencoder__SeniorCitizen_No</th>\n",
       "      <th>onehotencoder__SeniorCitizen_Yes</th>\n",
       "      <th>onehotencoder__Partner_No</th>\n",
       "      <th>onehotencoder__Partner_Yes</th>\n",
       "      <th>onehotencoder__Dependents_No</th>\n",
       "      <th>onehotencoder__Dependents_Yes</th>\n",
       "      <th>onehotencoder__InternetService_DSL</th>\n",
       "      <th>onehotencoder__InternetService_Fiber optic</th>\n",
       "      <th>onehotencoder__InternetService_No</th>\n",
       "      <th>onehotencoder__OnlineSecurity_No</th>\n",
       "      <th>onehotencoder__OnlineSecurity_No internet service</th>\n",
       "      <th>onehotencoder__OnlineSecurity_Yes</th>\n",
       "      <th>onehotencoder__OnlineBackup_No</th>\n",
       "      <th>onehotencoder__OnlineBackup_No internet service</th>\n",
       "      <th>onehotencoder__OnlineBackup_Yes</th>\n",
       "      <th>onehotencoder__DeviceProtection_No</th>\n",
       "      <th>onehotencoder__DeviceProtection_No internet service</th>\n",
       "      <th>onehotencoder__DeviceProtection_Yes</th>\n",
       "      <th>onehotencoder__TechSupport_No</th>\n",
       "      <th>onehotencoder__TechSupport_No internet service</th>\n",
       "      <th>onehotencoder__TechSupport_Yes</th>\n",
       "      <th>onehotencoder__StreamingTV_No</th>\n",
       "      <th>onehotencoder__StreamingTV_No internet service</th>\n",
       "      <th>onehotencoder__StreamingTV_Yes</th>\n",
       "      <th>onehotencoder__StreamingMovies_No</th>\n",
       "      <th>onehotencoder__StreamingMovies_No internet service</th>\n",
       "      <th>onehotencoder__StreamingMovies_Yes</th>\n",
       "      <th>onehotencoder__Contract_Month-to-month</th>\n",
       "      <th>onehotencoder__Contract_One year</th>\n",
       "      <th>onehotencoder__Contract_Two year</th>\n",
       "      <th>onehotencoder__PaperlessBilling_No</th>\n",
       "      <th>onehotencoder__PaperlessBilling_Yes</th>\n",
       "      <th>onehotencoder__PaymentMethod_Bank transfer (automatic)</th>\n",
       "      <th>onehotencoder__PaymentMethod_Credit card (automatic)</th>\n",
       "      <th>onehotencoder__PaymentMethod_Electronic check</th>\n",
       "      <th>onehotencoder__PaymentMethod_Mailed check</th>\n",
       "    </tr>\n",
       "  </thead>\n",
       "  <tbody>\n",
       "    <tr>\n",
       "      <th>0</th>\n",
       "      <td>1</td>\n",
       "      <td>29.850000</td>\n",
       "      <td>29.850000</td>\n",
       "      <td>1.0</td>\n",
       "      <td>0.0</td>\n",
       "      <td>0.0</td>\n",
       "      <td>1.0</td>\n",
       "      <td>1.0</td>\n",
       "      <td>0.0</td>\n",
       "      <td>1.0</td>\n",
       "      <td>0.0</td>\n",
       "      <td>0.0</td>\n",
       "      <td>1.0</td>\n",
       "      <td>0.0</td>\n",
       "      <td>0.0</td>\n",
       "      <td>0.0</td>\n",
       "      <td>0.0</td>\n",
       "      <td>1.0</td>\n",
       "      <td>1.0</td>\n",
       "      <td>0.0</td>\n",
       "      <td>0.0</td>\n",
       "      <td>1.0</td>\n",
       "      <td>0.0</td>\n",
       "      <td>0.0</td>\n",
       "      <td>1.0</td>\n",
       "      <td>0.0</td>\n",
       "      <td>0.0</td>\n",
       "      <td>1.0</td>\n",
       "      <td>0.0</td>\n",
       "      <td>0.0</td>\n",
       "      <td>1.0</td>\n",
       "      <td>0.0</td>\n",
       "      <td>0.0</td>\n",
       "      <td>0.0</td>\n",
       "      <td>1.0</td>\n",
       "      <td>0.0</td>\n",
       "      <td>0.0</td>\n",
       "      <td>1.0</td>\n",
       "      <td>0.0</td>\n",
       "    </tr>\n",
       "    <tr>\n",
       "      <th>1</th>\n",
       "      <td>34</td>\n",
       "      <td>56.950001</td>\n",
       "      <td>1889.500000</td>\n",
       "      <td>1.0</td>\n",
       "      <td>0.0</td>\n",
       "      <td>1.0</td>\n",
       "      <td>0.0</td>\n",
       "      <td>1.0</td>\n",
       "      <td>0.0</td>\n",
       "      <td>1.0</td>\n",
       "      <td>0.0</td>\n",
       "      <td>0.0</td>\n",
       "      <td>0.0</td>\n",
       "      <td>0.0</td>\n",
       "      <td>1.0</td>\n",
       "      <td>1.0</td>\n",
       "      <td>0.0</td>\n",
       "      <td>0.0</td>\n",
       "      <td>0.0</td>\n",
       "      <td>0.0</td>\n",
       "      <td>1.0</td>\n",
       "      <td>1.0</td>\n",
       "      <td>0.0</td>\n",
       "      <td>0.0</td>\n",
       "      <td>1.0</td>\n",
       "      <td>0.0</td>\n",
       "      <td>0.0</td>\n",
       "      <td>1.0</td>\n",
       "      <td>0.0</td>\n",
       "      <td>0.0</td>\n",
       "      <td>0.0</td>\n",
       "      <td>1.0</td>\n",
       "      <td>0.0</td>\n",
       "      <td>1.0</td>\n",
       "      <td>0.0</td>\n",
       "      <td>0.0</td>\n",
       "      <td>0.0</td>\n",
       "      <td>0.0</td>\n",
       "      <td>1.0</td>\n",
       "    </tr>\n",
       "    <tr>\n",
       "      <th>2</th>\n",
       "      <td>2</td>\n",
       "      <td>53.849998</td>\n",
       "      <td>108.150002</td>\n",
       "      <td>1.0</td>\n",
       "      <td>0.0</td>\n",
       "      <td>1.0</td>\n",
       "      <td>0.0</td>\n",
       "      <td>1.0</td>\n",
       "      <td>0.0</td>\n",
       "      <td>1.0</td>\n",
       "      <td>0.0</td>\n",
       "      <td>0.0</td>\n",
       "      <td>0.0</td>\n",
       "      <td>0.0</td>\n",
       "      <td>1.0</td>\n",
       "      <td>0.0</td>\n",
       "      <td>0.0</td>\n",
       "      <td>1.0</td>\n",
       "      <td>1.0</td>\n",
       "      <td>0.0</td>\n",
       "      <td>0.0</td>\n",
       "      <td>1.0</td>\n",
       "      <td>0.0</td>\n",
       "      <td>0.0</td>\n",
       "      <td>1.0</td>\n",
       "      <td>0.0</td>\n",
       "      <td>0.0</td>\n",
       "      <td>1.0</td>\n",
       "      <td>0.0</td>\n",
       "      <td>0.0</td>\n",
       "      <td>1.0</td>\n",
       "      <td>0.0</td>\n",
       "      <td>0.0</td>\n",
       "      <td>0.0</td>\n",
       "      <td>1.0</td>\n",
       "      <td>0.0</td>\n",
       "      <td>0.0</td>\n",
       "      <td>0.0</td>\n",
       "      <td>1.0</td>\n",
       "    </tr>\n",
       "    <tr>\n",
       "      <th>3</th>\n",
       "      <td>45</td>\n",
       "      <td>42.299999</td>\n",
       "      <td>1840.750000</td>\n",
       "      <td>1.0</td>\n",
       "      <td>0.0</td>\n",
       "      <td>1.0</td>\n",
       "      <td>0.0</td>\n",
       "      <td>1.0</td>\n",
       "      <td>0.0</td>\n",
       "      <td>1.0</td>\n",
       "      <td>0.0</td>\n",
       "      <td>0.0</td>\n",
       "      <td>0.0</td>\n",
       "      <td>0.0</td>\n",
       "      <td>1.0</td>\n",
       "      <td>1.0</td>\n",
       "      <td>0.0</td>\n",
       "      <td>0.0</td>\n",
       "      <td>0.0</td>\n",
       "      <td>0.0</td>\n",
       "      <td>1.0</td>\n",
       "      <td>0.0</td>\n",
       "      <td>0.0</td>\n",
       "      <td>1.0</td>\n",
       "      <td>1.0</td>\n",
       "      <td>0.0</td>\n",
       "      <td>0.0</td>\n",
       "      <td>1.0</td>\n",
       "      <td>0.0</td>\n",
       "      <td>0.0</td>\n",
       "      <td>0.0</td>\n",
       "      <td>1.0</td>\n",
       "      <td>0.0</td>\n",
       "      <td>1.0</td>\n",
       "      <td>0.0</td>\n",
       "      <td>1.0</td>\n",
       "      <td>0.0</td>\n",
       "      <td>0.0</td>\n",
       "      <td>0.0</td>\n",
       "    </tr>\n",
       "    <tr>\n",
       "      <th>4</th>\n",
       "      <td>2</td>\n",
       "      <td>70.699997</td>\n",
       "      <td>151.649994</td>\n",
       "      <td>1.0</td>\n",
       "      <td>0.0</td>\n",
       "      <td>1.0</td>\n",
       "      <td>0.0</td>\n",
       "      <td>1.0</td>\n",
       "      <td>0.0</td>\n",
       "      <td>0.0</td>\n",
       "      <td>1.0</td>\n",
       "      <td>0.0</td>\n",
       "      <td>1.0</td>\n",
       "      <td>0.0</td>\n",
       "      <td>0.0</td>\n",
       "      <td>1.0</td>\n",
       "      <td>0.0</td>\n",
       "      <td>0.0</td>\n",
       "      <td>1.0</td>\n",
       "      <td>0.0</td>\n",
       "      <td>0.0</td>\n",
       "      <td>1.0</td>\n",
       "      <td>0.0</td>\n",
       "      <td>0.0</td>\n",
       "      <td>1.0</td>\n",
       "      <td>0.0</td>\n",
       "      <td>0.0</td>\n",
       "      <td>1.0</td>\n",
       "      <td>0.0</td>\n",
       "      <td>0.0</td>\n",
       "      <td>1.0</td>\n",
       "      <td>0.0</td>\n",
       "      <td>0.0</td>\n",
       "      <td>0.0</td>\n",
       "      <td>1.0</td>\n",
       "      <td>0.0</td>\n",
       "      <td>0.0</td>\n",
       "      <td>1.0</td>\n",
       "      <td>0.0</td>\n",
       "    </tr>\n",
       "  </tbody>\n",
       "</table>\n",
       "</div>"
      ],
      "text/plain": [
       "   tenure  MonthlyCharges  TotalCharges  onehotencoder__SeniorCitizen_No  \\\n",
       "0       1       29.850000     29.850000                              1.0   \n",
       "1      34       56.950001   1889.500000                              1.0   \n",
       "2       2       53.849998    108.150002                              1.0   \n",
       "3      45       42.299999   1840.750000                              1.0   \n",
       "4       2       70.699997    151.649994                              1.0   \n",
       "\n",
       "   onehotencoder__SeniorCitizen_Yes  onehotencoder__Partner_No  \\\n",
       "0                               0.0                        0.0   \n",
       "1                               0.0                        1.0   \n",
       "2                               0.0                        1.0   \n",
       "3                               0.0                        1.0   \n",
       "4                               0.0                        1.0   \n",
       "\n",
       "   onehotencoder__Partner_Yes  onehotencoder__Dependents_No  \\\n",
       "0                         1.0                           1.0   \n",
       "1                         0.0                           1.0   \n",
       "2                         0.0                           1.0   \n",
       "3                         0.0                           1.0   \n",
       "4                         0.0                           1.0   \n",
       "\n",
       "   onehotencoder__Dependents_Yes  onehotencoder__InternetService_DSL  \\\n",
       "0                            0.0                                 1.0   \n",
       "1                            0.0                                 1.0   \n",
       "2                            0.0                                 1.0   \n",
       "3                            0.0                                 1.0   \n",
       "4                            0.0                                 0.0   \n",
       "\n",
       "   onehotencoder__InternetService_Fiber optic  \\\n",
       "0                                         0.0   \n",
       "1                                         0.0   \n",
       "2                                         0.0   \n",
       "3                                         0.0   \n",
       "4                                         1.0   \n",
       "\n",
       "   onehotencoder__InternetService_No  onehotencoder__OnlineSecurity_No  \\\n",
       "0                                0.0                               1.0   \n",
       "1                                0.0                               0.0   \n",
       "2                                0.0                               0.0   \n",
       "3                                0.0                               0.0   \n",
       "4                                0.0                               1.0   \n",
       "\n",
       "   onehotencoder__OnlineSecurity_No internet service  \\\n",
       "0                                                0.0   \n",
       "1                                                0.0   \n",
       "2                                                0.0   \n",
       "3                                                0.0   \n",
       "4                                                0.0   \n",
       "\n",
       "   onehotencoder__OnlineSecurity_Yes  onehotencoder__OnlineBackup_No  \\\n",
       "0                                0.0                             0.0   \n",
       "1                                1.0                             1.0   \n",
       "2                                1.0                             0.0   \n",
       "3                                1.0                             1.0   \n",
       "4                                0.0                             1.0   \n",
       "\n",
       "   onehotencoder__OnlineBackup_No internet service  \\\n",
       "0                                              0.0   \n",
       "1                                              0.0   \n",
       "2                                              0.0   \n",
       "3                                              0.0   \n",
       "4                                              0.0   \n",
       "\n",
       "   onehotencoder__OnlineBackup_Yes  onehotencoder__DeviceProtection_No  \\\n",
       "0                              1.0                                 1.0   \n",
       "1                              0.0                                 0.0   \n",
       "2                              1.0                                 1.0   \n",
       "3                              0.0                                 0.0   \n",
       "4                              0.0                                 1.0   \n",
       "\n",
       "   onehotencoder__DeviceProtection_No internet service  \\\n",
       "0                                                0.0     \n",
       "1                                                0.0     \n",
       "2                                                0.0     \n",
       "3                                                0.0     \n",
       "4                                                0.0     \n",
       "\n",
       "   onehotencoder__DeviceProtection_Yes  onehotencoder__TechSupport_No  \\\n",
       "0                                  0.0                            1.0   \n",
       "1                                  1.0                            1.0   \n",
       "2                                  0.0                            1.0   \n",
       "3                                  1.0                            0.0   \n",
       "4                                  0.0                            1.0   \n",
       "\n",
       "   onehotencoder__TechSupport_No internet service  \\\n",
       "0                                             0.0   \n",
       "1                                             0.0   \n",
       "2                                             0.0   \n",
       "3                                             0.0   \n",
       "4                                             0.0   \n",
       "\n",
       "   onehotencoder__TechSupport_Yes  onehotencoder__StreamingTV_No  \\\n",
       "0                             0.0                            1.0   \n",
       "1                             0.0                            1.0   \n",
       "2                             0.0                            1.0   \n",
       "3                             1.0                            1.0   \n",
       "4                             0.0                            1.0   \n",
       "\n",
       "   onehotencoder__StreamingTV_No internet service  \\\n",
       "0                                             0.0   \n",
       "1                                             0.0   \n",
       "2                                             0.0   \n",
       "3                                             0.0   \n",
       "4                                             0.0   \n",
       "\n",
       "   onehotencoder__StreamingTV_Yes  onehotencoder__StreamingMovies_No  \\\n",
       "0                             0.0                                1.0   \n",
       "1                             0.0                                1.0   \n",
       "2                             0.0                                1.0   \n",
       "3                             0.0                                1.0   \n",
       "4                             0.0                                1.0   \n",
       "\n",
       "   onehotencoder__StreamingMovies_No internet service  \\\n",
       "0                                                0.0    \n",
       "1                                                0.0    \n",
       "2                                                0.0    \n",
       "3                                                0.0    \n",
       "4                                                0.0    \n",
       "\n",
       "   onehotencoder__StreamingMovies_Yes  onehotencoder__Contract_Month-to-month  \\\n",
       "0                                 0.0                                     1.0   \n",
       "1                                 0.0                                     0.0   \n",
       "2                                 0.0                                     1.0   \n",
       "3                                 0.0                                     0.0   \n",
       "4                                 0.0                                     1.0   \n",
       "\n",
       "   onehotencoder__Contract_One year  onehotencoder__Contract_Two year  \\\n",
       "0                               0.0                               0.0   \n",
       "1                               1.0                               0.0   \n",
       "2                               0.0                               0.0   \n",
       "3                               1.0                               0.0   \n",
       "4                               0.0                               0.0   \n",
       "\n",
       "   onehotencoder__PaperlessBilling_No  onehotencoder__PaperlessBilling_Yes  \\\n",
       "0                                 0.0                                  1.0   \n",
       "1                                 1.0                                  0.0   \n",
       "2                                 0.0                                  1.0   \n",
       "3                                 1.0                                  0.0   \n",
       "4                                 0.0                                  1.0   \n",
       "\n",
       "   onehotencoder__PaymentMethod_Bank transfer (automatic)  \\\n",
       "0                                                0.0        \n",
       "1                                                0.0        \n",
       "2                                                0.0        \n",
       "3                                                1.0        \n",
       "4                                                0.0        \n",
       "\n",
       "   onehotencoder__PaymentMethod_Credit card (automatic)  \\\n",
       "0                                                0.0      \n",
       "1                                                0.0      \n",
       "2                                                0.0      \n",
       "3                                                0.0      \n",
       "4                                                0.0      \n",
       "\n",
       "   onehotencoder__PaymentMethod_Electronic check  \\\n",
       "0                                            1.0   \n",
       "1                                            0.0   \n",
       "2                                            0.0   \n",
       "3                                            0.0   \n",
       "4                                            1.0   \n",
       "\n",
       "   onehotencoder__PaymentMethod_Mailed check  \n",
       "0                                        0.0  \n",
       "1                                        1.0  \n",
       "2                                        1.0  \n",
       "3                                        0.0  \n",
       "4                                        0.0  "
      ]
     },
     "execution_count": 90,
     "metadata": {},
     "output_type": "execute_result"
    }
   ],
   "source": [
    "# Transformating back to a dataframe\n",
    "transformed_df = pd.DataFrame(transformed_data, columns=transformer.get_feature_names_out())\n",
    "\n",
    "# One-hot encoding removed an index. Let's put it back\n",
    "transformed_df.index = X.index\n",
    "\n",
    "# Joining tables\n",
    "X = pd.concat([X, transformed_df], axis=1)\n",
    "\n",
    "# Dropping old categorical columns\n",
    "X.drop(categorical_columns, axis=1, inplace=True)\n",
    "\n",
    "X.head()"
   ]
  },
  {
   "cell_type": "code",
   "execution_count": 91,
   "metadata": {},
   "outputs": [
    {
     "name": "stdout",
     "output_type": "stream",
     "text": [
      "Index(['tenure', 'MonthlyCharges', 'TotalCharges',\n",
      "       'onehotencoder__SeniorCitizen_No', 'onehotencoder__SeniorCitizen_Yes',\n",
      "       'onehotencoder__Partner_No', 'onehotencoder__Partner_Yes',\n",
      "       'onehotencoder__Dependents_No', 'onehotencoder__Dependents_Yes',\n",
      "       'onehotencoder__InternetService_DSL',\n",
      "       'onehotencoder__InternetService_Fiber optic',\n",
      "       'onehotencoder__InternetService_No', 'onehotencoder__OnlineSecurity_No',\n",
      "       'onehotencoder__OnlineSecurity_No internet service',\n",
      "       'onehotencoder__OnlineSecurity_Yes', 'onehotencoder__OnlineBackup_No',\n",
      "       'onehotencoder__OnlineBackup_No internet service',\n",
      "       'onehotencoder__OnlineBackup_Yes', 'onehotencoder__DeviceProtection_No',\n",
      "       'onehotencoder__DeviceProtection_No internet service',\n",
      "       'onehotencoder__DeviceProtection_Yes', 'onehotencoder__TechSupport_No',\n",
      "       'onehotencoder__TechSupport_No internet service',\n",
      "       'onehotencoder__TechSupport_Yes', 'onehotencoder__StreamingTV_No',\n",
      "       'onehotencoder__StreamingTV_No internet service',\n",
      "       'onehotencoder__StreamingTV_Yes', 'onehotencoder__StreamingMovies_No',\n",
      "       'onehotencoder__StreamingMovies_No internet service',\n",
      "       'onehotencoder__StreamingMovies_Yes',\n",
      "       'onehotencoder__Contract_Month-to-month',\n",
      "       'onehotencoder__Contract_One year', 'onehotencoder__Contract_Two year',\n",
      "       'onehotencoder__PaperlessBilling_No',\n",
      "       'onehotencoder__PaperlessBilling_Yes',\n",
      "       'onehotencoder__PaymentMethod_Bank transfer (automatic)',\n",
      "       'onehotencoder__PaymentMethod_Credit card (automatic)',\n",
      "       'onehotencoder__PaymentMethod_Electronic check',\n",
      "       'onehotencoder__PaymentMethod_Mailed check'],\n",
      "      dtype='object')\n"
     ]
    }
   ],
   "source": [
    "print(X.columns)"
   ]
  },
  {
   "cell_type": "code",
   "execution_count": 93,
   "metadata": {},
   "outputs": [],
   "source": [
    "# drop columns\n",
    "\n",
    "X.drop(columns=['onehotencoder__SeniorCitizen_No','onehotencoder__Partner_No', \n",
    "                'onehotencoder__Dependents_No', 'onehotencoder__OnlineSecurity_No',\n",
    "                'onehotencoder__OnlineBackup_No', 'onehotencoder__DeviceProtection_No',\n",
    "                'onehotencoder__TechSupport_No', 'onehotencoder__StreamingTV_No',\n",
    "                'onehotencoder__StreamingMovies_No', 'onehotencoder__PaperlessBilling_No',\n",
    "                  ], inplace=True)"
   ]
  },
  {
   "cell_type": "code",
   "execution_count": 94,
   "metadata": {},
   "outputs": [],
   "source": [
    "# Renaming columns\n",
    "\n",
    "X.columns = ['tenure', 'MonthlyCharges', 'TotalCharges',\n",
    "             'SeniorCitizen_Yes',\n",
    "             'Partner_Yes',\n",
    "             'Dependents_Yes',\n",
    "             'InternetService_DSL','InternetService_Fiber','InternetService_No',\n",
    "             'OnlineSecurity_NoInternetService','OnlineSecurity_Yes',\n",
    "             'OnlineBackup_NoInternetService','OnlineBackup_Yes',\n",
    "             'DeviceProtection_NoInternetService','DeviceProtection_Yes',\n",
    "             'TechSupport_NoInternetService','TechSupport_Yes',\n",
    "             'StreamingTV_NoInternetService','StreamingTV_Yes',\n",
    "             'StreamingMovies_NoInternetService','StreamingMovies_Yes',\n",
    "             'Contract_Month-to-month','Contract_One year', 'Contract_Two year',\n",
    "             'PaperlessBilling_Yes',\n",
    "             'PaymentMethod_BankTransfer','PaymentMethod_CreditCard','PaymentMethod_ElectronicCheck','PaymentMethod_MailedCheck']"
   ]
  },
  {
   "cell_type": "code",
   "execution_count": 95,
   "metadata": {},
   "outputs": [
    {
     "data": {
      "text/html": [
       "<div>\n",
       "<style scoped>\n",
       "    .dataframe tbody tr th:only-of-type {\n",
       "        vertical-align: middle;\n",
       "    }\n",
       "\n",
       "    .dataframe tbody tr th {\n",
       "        vertical-align: top;\n",
       "    }\n",
       "\n",
       "    .dataframe thead th {\n",
       "        text-align: right;\n",
       "    }\n",
       "</style>\n",
       "<table border=\"1\" class=\"dataframe\">\n",
       "  <thead>\n",
       "    <tr style=\"text-align: right;\">\n",
       "      <th></th>\n",
       "      <th>tenure</th>\n",
       "      <th>MonthlyCharges</th>\n",
       "      <th>TotalCharges</th>\n",
       "      <th>SeniorCitizen_Yes</th>\n",
       "      <th>Partner_Yes</th>\n",
       "      <th>Dependents_Yes</th>\n",
       "      <th>InternetService_DSL</th>\n",
       "      <th>InternetService_Fiber</th>\n",
       "      <th>InternetService_No</th>\n",
       "      <th>OnlineSecurity_NoInternetService</th>\n",
       "      <th>OnlineSecurity_Yes</th>\n",
       "      <th>OnlineBackup_NoInternetService</th>\n",
       "      <th>OnlineBackup_Yes</th>\n",
       "      <th>DeviceProtection_NoInternetService</th>\n",
       "      <th>DeviceProtection_Yes</th>\n",
       "      <th>TechSupport_NoInternetService</th>\n",
       "      <th>TechSupport_Yes</th>\n",
       "      <th>StreamingTV_NoInternetService</th>\n",
       "      <th>StreamingTV_Yes</th>\n",
       "      <th>StreamingMovies_NoInternetService</th>\n",
       "      <th>StreamingMovies_Yes</th>\n",
       "      <th>Contract_Month-to-month</th>\n",
       "      <th>Contract_One year</th>\n",
       "      <th>Contract_Two year</th>\n",
       "      <th>PaperlessBilling_Yes</th>\n",
       "      <th>PaymentMethod_BankTransfer</th>\n",
       "      <th>PaymentMethod_CreditCard</th>\n",
       "      <th>PaymentMethod_ElectronicCheck</th>\n",
       "      <th>PaymentMethod_MailedCheck</th>\n",
       "    </tr>\n",
       "  </thead>\n",
       "  <tbody>\n",
       "    <tr>\n",
       "      <th>0</th>\n",
       "      <td>1</td>\n",
       "      <td>29.850000</td>\n",
       "      <td>29.850000</td>\n",
       "      <td>0.0</td>\n",
       "      <td>1.0</td>\n",
       "      <td>0.0</td>\n",
       "      <td>1.0</td>\n",
       "      <td>0.0</td>\n",
       "      <td>0.0</td>\n",
       "      <td>0.0</td>\n",
       "      <td>0.0</td>\n",
       "      <td>0.0</td>\n",
       "      <td>1.0</td>\n",
       "      <td>0.0</td>\n",
       "      <td>0.0</td>\n",
       "      <td>0.0</td>\n",
       "      <td>0.0</td>\n",
       "      <td>0.0</td>\n",
       "      <td>0.0</td>\n",
       "      <td>0.0</td>\n",
       "      <td>0.0</td>\n",
       "      <td>1.0</td>\n",
       "      <td>0.0</td>\n",
       "      <td>0.0</td>\n",
       "      <td>1.0</td>\n",
       "      <td>0.0</td>\n",
       "      <td>0.0</td>\n",
       "      <td>1.0</td>\n",
       "      <td>0.0</td>\n",
       "    </tr>\n",
       "    <tr>\n",
       "      <th>1</th>\n",
       "      <td>34</td>\n",
       "      <td>56.950001</td>\n",
       "      <td>1889.500000</td>\n",
       "      <td>0.0</td>\n",
       "      <td>0.0</td>\n",
       "      <td>0.0</td>\n",
       "      <td>1.0</td>\n",
       "      <td>0.0</td>\n",
       "      <td>0.0</td>\n",
       "      <td>0.0</td>\n",
       "      <td>1.0</td>\n",
       "      <td>0.0</td>\n",
       "      <td>0.0</td>\n",
       "      <td>0.0</td>\n",
       "      <td>1.0</td>\n",
       "      <td>0.0</td>\n",
       "      <td>0.0</td>\n",
       "      <td>0.0</td>\n",
       "      <td>0.0</td>\n",
       "      <td>0.0</td>\n",
       "      <td>0.0</td>\n",
       "      <td>0.0</td>\n",
       "      <td>1.0</td>\n",
       "      <td>0.0</td>\n",
       "      <td>0.0</td>\n",
       "      <td>0.0</td>\n",
       "      <td>0.0</td>\n",
       "      <td>0.0</td>\n",
       "      <td>1.0</td>\n",
       "    </tr>\n",
       "    <tr>\n",
       "      <th>2</th>\n",
       "      <td>2</td>\n",
       "      <td>53.849998</td>\n",
       "      <td>108.150002</td>\n",
       "      <td>0.0</td>\n",
       "      <td>0.0</td>\n",
       "      <td>0.0</td>\n",
       "      <td>1.0</td>\n",
       "      <td>0.0</td>\n",
       "      <td>0.0</td>\n",
       "      <td>0.0</td>\n",
       "      <td>1.0</td>\n",
       "      <td>0.0</td>\n",
       "      <td>1.0</td>\n",
       "      <td>0.0</td>\n",
       "      <td>0.0</td>\n",
       "      <td>0.0</td>\n",
       "      <td>0.0</td>\n",
       "      <td>0.0</td>\n",
       "      <td>0.0</td>\n",
       "      <td>0.0</td>\n",
       "      <td>0.0</td>\n",
       "      <td>1.0</td>\n",
       "      <td>0.0</td>\n",
       "      <td>0.0</td>\n",
       "      <td>1.0</td>\n",
       "      <td>0.0</td>\n",
       "      <td>0.0</td>\n",
       "      <td>0.0</td>\n",
       "      <td>1.0</td>\n",
       "    </tr>\n",
       "    <tr>\n",
       "      <th>3</th>\n",
       "      <td>45</td>\n",
       "      <td>42.299999</td>\n",
       "      <td>1840.750000</td>\n",
       "      <td>0.0</td>\n",
       "      <td>0.0</td>\n",
       "      <td>0.0</td>\n",
       "      <td>1.0</td>\n",
       "      <td>0.0</td>\n",
       "      <td>0.0</td>\n",
       "      <td>0.0</td>\n",
       "      <td>1.0</td>\n",
       "      <td>0.0</td>\n",
       "      <td>0.0</td>\n",
       "      <td>0.0</td>\n",
       "      <td>1.0</td>\n",
       "      <td>0.0</td>\n",
       "      <td>1.0</td>\n",
       "      <td>0.0</td>\n",
       "      <td>0.0</td>\n",
       "      <td>0.0</td>\n",
       "      <td>0.0</td>\n",
       "      <td>0.0</td>\n",
       "      <td>1.0</td>\n",
       "      <td>0.0</td>\n",
       "      <td>0.0</td>\n",
       "      <td>1.0</td>\n",
       "      <td>0.0</td>\n",
       "      <td>0.0</td>\n",
       "      <td>0.0</td>\n",
       "    </tr>\n",
       "    <tr>\n",
       "      <th>4</th>\n",
       "      <td>2</td>\n",
       "      <td>70.699997</td>\n",
       "      <td>151.649994</td>\n",
       "      <td>0.0</td>\n",
       "      <td>0.0</td>\n",
       "      <td>0.0</td>\n",
       "      <td>0.0</td>\n",
       "      <td>1.0</td>\n",
       "      <td>0.0</td>\n",
       "      <td>0.0</td>\n",
       "      <td>0.0</td>\n",
       "      <td>0.0</td>\n",
       "      <td>0.0</td>\n",
       "      <td>0.0</td>\n",
       "      <td>0.0</td>\n",
       "      <td>0.0</td>\n",
       "      <td>0.0</td>\n",
       "      <td>0.0</td>\n",
       "      <td>0.0</td>\n",
       "      <td>0.0</td>\n",
       "      <td>0.0</td>\n",
       "      <td>1.0</td>\n",
       "      <td>0.0</td>\n",
       "      <td>0.0</td>\n",
       "      <td>1.0</td>\n",
       "      <td>0.0</td>\n",
       "      <td>0.0</td>\n",
       "      <td>1.0</td>\n",
       "      <td>0.0</td>\n",
       "    </tr>\n",
       "  </tbody>\n",
       "</table>\n",
       "</div>"
      ],
      "text/plain": [
       "   tenure  MonthlyCharges  TotalCharges  SeniorCitizen_Yes  Partner_Yes  \\\n",
       "0       1       29.850000     29.850000                0.0          1.0   \n",
       "1      34       56.950001   1889.500000                0.0          0.0   \n",
       "2       2       53.849998    108.150002                0.0          0.0   \n",
       "3      45       42.299999   1840.750000                0.0          0.0   \n",
       "4       2       70.699997    151.649994                0.0          0.0   \n",
       "\n",
       "   Dependents_Yes  InternetService_DSL  InternetService_Fiber  \\\n",
       "0             0.0                  1.0                    0.0   \n",
       "1             0.0                  1.0                    0.0   \n",
       "2             0.0                  1.0                    0.0   \n",
       "3             0.0                  1.0                    0.0   \n",
       "4             0.0                  0.0                    1.0   \n",
       "\n",
       "   InternetService_No  OnlineSecurity_NoInternetService  OnlineSecurity_Yes  \\\n",
       "0                 0.0                               0.0                 0.0   \n",
       "1                 0.0                               0.0                 1.0   \n",
       "2                 0.0                               0.0                 1.0   \n",
       "3                 0.0                               0.0                 1.0   \n",
       "4                 0.0                               0.0                 0.0   \n",
       "\n",
       "   OnlineBackup_NoInternetService  OnlineBackup_Yes  \\\n",
       "0                             0.0               1.0   \n",
       "1                             0.0               0.0   \n",
       "2                             0.0               1.0   \n",
       "3                             0.0               0.0   \n",
       "4                             0.0               0.0   \n",
       "\n",
       "   DeviceProtection_NoInternetService  DeviceProtection_Yes  \\\n",
       "0                                 0.0                   0.0   \n",
       "1                                 0.0                   1.0   \n",
       "2                                 0.0                   0.0   \n",
       "3                                 0.0                   1.0   \n",
       "4                                 0.0                   0.0   \n",
       "\n",
       "   TechSupport_NoInternetService  TechSupport_Yes  \\\n",
       "0                            0.0              0.0   \n",
       "1                            0.0              0.0   \n",
       "2                            0.0              0.0   \n",
       "3                            0.0              1.0   \n",
       "4                            0.0              0.0   \n",
       "\n",
       "   StreamingTV_NoInternetService  StreamingTV_Yes  \\\n",
       "0                            0.0              0.0   \n",
       "1                            0.0              0.0   \n",
       "2                            0.0              0.0   \n",
       "3                            0.0              0.0   \n",
       "4                            0.0              0.0   \n",
       "\n",
       "   StreamingMovies_NoInternetService  StreamingMovies_Yes  \\\n",
       "0                                0.0                  0.0   \n",
       "1                                0.0                  0.0   \n",
       "2                                0.0                  0.0   \n",
       "3                                0.0                  0.0   \n",
       "4                                0.0                  0.0   \n",
       "\n",
       "   Contract_Month-to-month  Contract_One year  Contract_Two year  \\\n",
       "0                      1.0                0.0                0.0   \n",
       "1                      0.0                1.0                0.0   \n",
       "2                      1.0                0.0                0.0   \n",
       "3                      0.0                1.0                0.0   \n",
       "4                      1.0                0.0                0.0   \n",
       "\n",
       "   PaperlessBilling_Yes  PaymentMethod_BankTransfer  PaymentMethod_CreditCard  \\\n",
       "0                   1.0                         0.0                       0.0   \n",
       "1                   0.0                         0.0                       0.0   \n",
       "2                   1.0                         0.0                       0.0   \n",
       "3                   0.0                         1.0                       0.0   \n",
       "4                   1.0                         0.0                       0.0   \n",
       "\n",
       "   PaymentMethod_ElectronicCheck  PaymentMethod_MailedCheck  \n",
       "0                            1.0                        0.0  \n",
       "1                            0.0                        1.0  \n",
       "2                            0.0                        1.0  \n",
       "3                            0.0                        0.0  \n",
       "4                            1.0                        0.0  "
      ]
     },
     "execution_count": 95,
     "metadata": {},
     "output_type": "execute_result"
    }
   ],
   "source": [
    "X.head()"
   ]
  },
  {
   "cell_type": "code",
   "execution_count": 96,
   "metadata": {},
   "outputs": [
    {
     "data": {
      "text/plain": [
       "tenure                                0\n",
       "MonthlyCharges                        0\n",
       "TotalCharges                          0\n",
       "SeniorCitizen_Yes                     0\n",
       "Partner_Yes                           0\n",
       "Dependents_Yes                        0\n",
       "InternetService_DSL                   0\n",
       "InternetService_Fiber                 0\n",
       "InternetService_No                    0\n",
       "OnlineSecurity_NoInternetService      0\n",
       "OnlineSecurity_Yes                    0\n",
       "OnlineBackup_NoInternetService        0\n",
       "OnlineBackup_Yes                      0\n",
       "DeviceProtection_NoInternetService    0\n",
       "DeviceProtection_Yes                  0\n",
       "TechSupport_NoInternetService         0\n",
       "TechSupport_Yes                       0\n",
       "StreamingTV_NoInternetService         0\n",
       "StreamingTV_Yes                       0\n",
       "StreamingMovies_NoInternetService     0\n",
       "StreamingMovies_Yes                   0\n",
       "Contract_Month-to-month               0\n",
       "Contract_One year                     0\n",
       "Contract_Two year                     0\n",
       "PaperlessBilling_Yes                  0\n",
       "PaymentMethod_BankTransfer            0\n",
       "PaymentMethod_CreditCard              0\n",
       "PaymentMethod_ElectronicCheck         0\n",
       "PaymentMethod_MailedCheck             0\n",
       "dtype: int64"
      ]
     },
     "execution_count": 96,
     "metadata": {},
     "output_type": "execute_result"
    }
   ],
   "source": [
    "# check for missing values\n",
    "\n",
    "X.isnull().sum()"
   ]
  },
  {
   "cell_type": "markdown",
   "metadata": {},
   "source": [
    "### Features Scaling"
   ]
  },
  {
   "cell_type": "code",
   "execution_count": 97,
   "metadata": {},
   "outputs": [],
   "source": [
    "# standardization for numeric values\n",
    "\n",
    "cols = ['tenure', 'MonthlyCharges', 'TotalCharges']\n",
    "\n",
    "scaler = StandardScaler()\n",
    "\n",
    "X_scaled = scaler.fit_transform(X[cols])"
   ]
  },
  {
   "cell_type": "code",
   "execution_count": 98,
   "metadata": {},
   "outputs": [],
   "source": [
    "# Create new DataFrames with the scaled values\n",
    "X_scaled_df = pd.DataFrame(X_scaled, columns=cols, index=X.index)\n",
    "\n",
    "# Drop the original unscaled columns\n",
    "X.drop(cols, axis=1, inplace=True)\n",
    "\n",
    "# Concatenate the scaled columns with the original DataFrames\n",
    "X = pd.concat([X, X_scaled_df], axis=1)"
   ]
  },
  {
   "cell_type": "code",
   "execution_count": 99,
   "metadata": {},
   "outputs": [
    {
     "data": {
      "text/html": [
       "<div>\n",
       "<style scoped>\n",
       "    .dataframe tbody tr th:only-of-type {\n",
       "        vertical-align: middle;\n",
       "    }\n",
       "\n",
       "    .dataframe tbody tr th {\n",
       "        vertical-align: top;\n",
       "    }\n",
       "\n",
       "    .dataframe thead th {\n",
       "        text-align: right;\n",
       "    }\n",
       "</style>\n",
       "<table border=\"1\" class=\"dataframe\">\n",
       "  <thead>\n",
       "    <tr style=\"text-align: right;\">\n",
       "      <th></th>\n",
       "      <th>SeniorCitizen_Yes</th>\n",
       "      <th>Partner_Yes</th>\n",
       "      <th>Dependents_Yes</th>\n",
       "      <th>InternetService_DSL</th>\n",
       "      <th>InternetService_Fiber</th>\n",
       "      <th>InternetService_No</th>\n",
       "      <th>OnlineSecurity_NoInternetService</th>\n",
       "      <th>OnlineSecurity_Yes</th>\n",
       "      <th>OnlineBackup_NoInternetService</th>\n",
       "      <th>OnlineBackup_Yes</th>\n",
       "      <th>DeviceProtection_NoInternetService</th>\n",
       "      <th>DeviceProtection_Yes</th>\n",
       "      <th>TechSupport_NoInternetService</th>\n",
       "      <th>TechSupport_Yes</th>\n",
       "      <th>StreamingTV_NoInternetService</th>\n",
       "      <th>StreamingTV_Yes</th>\n",
       "      <th>StreamingMovies_NoInternetService</th>\n",
       "      <th>StreamingMovies_Yes</th>\n",
       "      <th>Contract_Month-to-month</th>\n",
       "      <th>Contract_One year</th>\n",
       "      <th>Contract_Two year</th>\n",
       "      <th>PaperlessBilling_Yes</th>\n",
       "      <th>PaymentMethod_BankTransfer</th>\n",
       "      <th>PaymentMethod_CreditCard</th>\n",
       "      <th>PaymentMethod_ElectronicCheck</th>\n",
       "      <th>PaymentMethod_MailedCheck</th>\n",
       "      <th>tenure</th>\n",
       "      <th>MonthlyCharges</th>\n",
       "      <th>TotalCharges</th>\n",
       "    </tr>\n",
       "  </thead>\n",
       "  <tbody>\n",
       "    <tr>\n",
       "      <th>0</th>\n",
       "      <td>0.0</td>\n",
       "      <td>1.0</td>\n",
       "      <td>0.0</td>\n",
       "      <td>1.0</td>\n",
       "      <td>0.0</td>\n",
       "      <td>0.0</td>\n",
       "      <td>0.0</td>\n",
       "      <td>0.0</td>\n",
       "      <td>0.0</td>\n",
       "      <td>1.0</td>\n",
       "      <td>0.0</td>\n",
       "      <td>0.0</td>\n",
       "      <td>0.0</td>\n",
       "      <td>0.0</td>\n",
       "      <td>0.0</td>\n",
       "      <td>0.0</td>\n",
       "      <td>0.0</td>\n",
       "      <td>0.0</td>\n",
       "      <td>1.0</td>\n",
       "      <td>0.0</td>\n",
       "      <td>0.0</td>\n",
       "      <td>1.0</td>\n",
       "      <td>0.0</td>\n",
       "      <td>0.0</td>\n",
       "      <td>1.0</td>\n",
       "      <td>0.0</td>\n",
       "      <td>-1.290184</td>\n",
       "      <td>-1.172700</td>\n",
       "      <td>-1.001315</td>\n",
       "    </tr>\n",
       "    <tr>\n",
       "      <th>1</th>\n",
       "      <td>0.0</td>\n",
       "      <td>0.0</td>\n",
       "      <td>0.0</td>\n",
       "      <td>1.0</td>\n",
       "      <td>0.0</td>\n",
       "      <td>0.0</td>\n",
       "      <td>0.0</td>\n",
       "      <td>1.0</td>\n",
       "      <td>0.0</td>\n",
       "      <td>0.0</td>\n",
       "      <td>0.0</td>\n",
       "      <td>1.0</td>\n",
       "      <td>0.0</td>\n",
       "      <td>0.0</td>\n",
       "      <td>0.0</td>\n",
       "      <td>0.0</td>\n",
       "      <td>0.0</td>\n",
       "      <td>0.0</td>\n",
       "      <td>0.0</td>\n",
       "      <td>1.0</td>\n",
       "      <td>0.0</td>\n",
       "      <td>0.0</td>\n",
       "      <td>0.0</td>\n",
       "      <td>0.0</td>\n",
       "      <td>0.0</td>\n",
       "      <td>1.0</td>\n",
       "      <td>0.056283</td>\n",
       "      <td>-0.271320</td>\n",
       "      <td>-0.181408</td>\n",
       "    </tr>\n",
       "    <tr>\n",
       "      <th>2</th>\n",
       "      <td>0.0</td>\n",
       "      <td>0.0</td>\n",
       "      <td>0.0</td>\n",
       "      <td>1.0</td>\n",
       "      <td>0.0</td>\n",
       "      <td>0.0</td>\n",
       "      <td>0.0</td>\n",
       "      <td>1.0</td>\n",
       "      <td>0.0</td>\n",
       "      <td>1.0</td>\n",
       "      <td>0.0</td>\n",
       "      <td>0.0</td>\n",
       "      <td>0.0</td>\n",
       "      <td>0.0</td>\n",
       "      <td>0.0</td>\n",
       "      <td>0.0</td>\n",
       "      <td>0.0</td>\n",
       "      <td>0.0</td>\n",
       "      <td>1.0</td>\n",
       "      <td>0.0</td>\n",
       "      <td>0.0</td>\n",
       "      <td>1.0</td>\n",
       "      <td>0.0</td>\n",
       "      <td>0.0</td>\n",
       "      <td>0.0</td>\n",
       "      <td>1.0</td>\n",
       "      <td>-1.249382</td>\n",
       "      <td>-0.374430</td>\n",
       "      <td>-0.966794</td>\n",
       "    </tr>\n",
       "    <tr>\n",
       "      <th>3</th>\n",
       "      <td>0.0</td>\n",
       "      <td>0.0</td>\n",
       "      <td>0.0</td>\n",
       "      <td>1.0</td>\n",
       "      <td>0.0</td>\n",
       "      <td>0.0</td>\n",
       "      <td>0.0</td>\n",
       "      <td>1.0</td>\n",
       "      <td>0.0</td>\n",
       "      <td>0.0</td>\n",
       "      <td>0.0</td>\n",
       "      <td>1.0</td>\n",
       "      <td>0.0</td>\n",
       "      <td>1.0</td>\n",
       "      <td>0.0</td>\n",
       "      <td>0.0</td>\n",
       "      <td>0.0</td>\n",
       "      <td>0.0</td>\n",
       "      <td>0.0</td>\n",
       "      <td>1.0</td>\n",
       "      <td>0.0</td>\n",
       "      <td>0.0</td>\n",
       "      <td>1.0</td>\n",
       "      <td>0.0</td>\n",
       "      <td>0.0</td>\n",
       "      <td>0.0</td>\n",
       "      <td>0.505106</td>\n",
       "      <td>-0.758597</td>\n",
       "      <td>-0.202901</td>\n",
       "    </tr>\n",
       "    <tr>\n",
       "      <th>4</th>\n",
       "      <td>0.0</td>\n",
       "      <td>0.0</td>\n",
       "      <td>0.0</td>\n",
       "      <td>0.0</td>\n",
       "      <td>1.0</td>\n",
       "      <td>0.0</td>\n",
       "      <td>0.0</td>\n",
       "      <td>0.0</td>\n",
       "      <td>0.0</td>\n",
       "      <td>0.0</td>\n",
       "      <td>0.0</td>\n",
       "      <td>0.0</td>\n",
       "      <td>0.0</td>\n",
       "      <td>0.0</td>\n",
       "      <td>0.0</td>\n",
       "      <td>0.0</td>\n",
       "      <td>0.0</td>\n",
       "      <td>0.0</td>\n",
       "      <td>1.0</td>\n",
       "      <td>0.0</td>\n",
       "      <td>0.0</td>\n",
       "      <td>1.0</td>\n",
       "      <td>0.0</td>\n",
       "      <td>0.0</td>\n",
       "      <td>1.0</td>\n",
       "      <td>0.0</td>\n",
       "      <td>-1.249382</td>\n",
       "      <td>0.186022</td>\n",
       "      <td>-0.947615</td>\n",
       "    </tr>\n",
       "  </tbody>\n",
       "</table>\n",
       "</div>"
      ],
      "text/plain": [
       "   SeniorCitizen_Yes  Partner_Yes  Dependents_Yes  InternetService_DSL  \\\n",
       "0                0.0          1.0             0.0                  1.0   \n",
       "1                0.0          0.0             0.0                  1.0   \n",
       "2                0.0          0.0             0.0                  1.0   \n",
       "3                0.0          0.0             0.0                  1.0   \n",
       "4                0.0          0.0             0.0                  0.0   \n",
       "\n",
       "   InternetService_Fiber  InternetService_No  \\\n",
       "0                    0.0                 0.0   \n",
       "1                    0.0                 0.0   \n",
       "2                    0.0                 0.0   \n",
       "3                    0.0                 0.0   \n",
       "4                    1.0                 0.0   \n",
       "\n",
       "   OnlineSecurity_NoInternetService  OnlineSecurity_Yes  \\\n",
       "0                               0.0                 0.0   \n",
       "1                               0.0                 1.0   \n",
       "2                               0.0                 1.0   \n",
       "3                               0.0                 1.0   \n",
       "4                               0.0                 0.0   \n",
       "\n",
       "   OnlineBackup_NoInternetService  OnlineBackup_Yes  \\\n",
       "0                             0.0               1.0   \n",
       "1                             0.0               0.0   \n",
       "2                             0.0               1.0   \n",
       "3                             0.0               0.0   \n",
       "4                             0.0               0.0   \n",
       "\n",
       "   DeviceProtection_NoInternetService  DeviceProtection_Yes  \\\n",
       "0                                 0.0                   0.0   \n",
       "1                                 0.0                   1.0   \n",
       "2                                 0.0                   0.0   \n",
       "3                                 0.0                   1.0   \n",
       "4                                 0.0                   0.0   \n",
       "\n",
       "   TechSupport_NoInternetService  TechSupport_Yes  \\\n",
       "0                            0.0              0.0   \n",
       "1                            0.0              0.0   \n",
       "2                            0.0              0.0   \n",
       "3                            0.0              1.0   \n",
       "4                            0.0              0.0   \n",
       "\n",
       "   StreamingTV_NoInternetService  StreamingTV_Yes  \\\n",
       "0                            0.0              0.0   \n",
       "1                            0.0              0.0   \n",
       "2                            0.0              0.0   \n",
       "3                            0.0              0.0   \n",
       "4                            0.0              0.0   \n",
       "\n",
       "   StreamingMovies_NoInternetService  StreamingMovies_Yes  \\\n",
       "0                                0.0                  0.0   \n",
       "1                                0.0                  0.0   \n",
       "2                                0.0                  0.0   \n",
       "3                                0.0                  0.0   \n",
       "4                                0.0                  0.0   \n",
       "\n",
       "   Contract_Month-to-month  Contract_One year  Contract_Two year  \\\n",
       "0                      1.0                0.0                0.0   \n",
       "1                      0.0                1.0                0.0   \n",
       "2                      1.0                0.0                0.0   \n",
       "3                      0.0                1.0                0.0   \n",
       "4                      1.0                0.0                0.0   \n",
       "\n",
       "   PaperlessBilling_Yes  PaymentMethod_BankTransfer  PaymentMethod_CreditCard  \\\n",
       "0                   1.0                         0.0                       0.0   \n",
       "1                   0.0                         0.0                       0.0   \n",
       "2                   1.0                         0.0                       0.0   \n",
       "3                   0.0                         1.0                       0.0   \n",
       "4                   1.0                         0.0                       0.0   \n",
       "\n",
       "   PaymentMethod_ElectronicCheck  PaymentMethod_MailedCheck    tenure  \\\n",
       "0                            1.0                        0.0 -1.290184   \n",
       "1                            0.0                        1.0  0.056283   \n",
       "2                            0.0                        1.0 -1.249382   \n",
       "3                            0.0                        0.0  0.505106   \n",
       "4                            1.0                        0.0 -1.249382   \n",
       "\n",
       "   MonthlyCharges  TotalCharges  \n",
       "0       -1.172700     -1.001315  \n",
       "1       -0.271320     -0.181408  \n",
       "2       -0.374430     -0.966794  \n",
       "3       -0.758597     -0.202901  \n",
       "4        0.186022     -0.947615  "
      ]
     },
     "execution_count": 99,
     "metadata": {},
     "output_type": "execute_result"
    }
   ],
   "source": [
    "X.head()"
   ]
  },
  {
   "cell_type": "markdown",
   "metadata": {},
   "source": [
    "### Train set Balancing (SMOTE Algorithm)"
   ]
  },
  {
   "cell_type": "markdown",
   "metadata": {},
   "source": [
    "SMOTE (Synthetic Minority Over-sampling Technique) is a method used to address class imbalance in a binary classification problem. \n",
    "\n",
    "Earlier we realised that our target vaiable has a class imbalance. One class (the minority class) has significantly fewer instances than the other class (the majority class). This imbalance can negatively impact the performance of machine learning models, as they might become biased toward the majority class.\n",
    "\n",
    "SMOTE will aim to balance the class distribution by generating synthetic samples until the minority class has the same number of instances as the majority class. By creating synthetic samples, SMOTE helps the model better capture the patterns in the minority class and prevents it from favoring the majority class due to the imbalance. "
   ]
  },
  {
   "cell_type": "code",
   "execution_count": 100,
   "metadata": {},
   "outputs": [],
   "source": [
    "# apply SMOTE to the training data (oversampling)\n",
    "\n",
    "smote = SMOTE(random_state=42, k_neighbors=5, sampling_strategy='auto')\n",
    "\n",
    "X_resampled, y_resampled = smote.fit_resample(X, y)"
   ]
  },
  {
   "cell_type": "markdown",
   "metadata": {},
   "source": [
    "#### Train-test split"
   ]
  },
  {
   "cell_type": "code",
   "execution_count": 101,
   "metadata": {},
   "outputs": [],
   "source": [
    "# Split the data into training and testing sets\n",
    "\n",
    "X_train, X_test, y_train, y_test = train_test_split(X_resampled, y_resampled, test_size=0.2, random_state=42, stratify=y_resampled)"
   ]
  },
  {
   "cell_type": "code",
   "execution_count": 102,
   "metadata": {},
   "outputs": [
    {
     "data": {
      "text/plain": [
       "((5916, 29), (5916, 1))"
      ]
     },
     "execution_count": 102,
     "metadata": {},
     "output_type": "execute_result"
    }
   ],
   "source": [
    "# check shape after resampling\n",
    "\n",
    "pd.DataFrame(X_train).shape, pd.DataFrame(y_train).shape"
   ]
  },
  {
   "cell_type": "code",
   "execution_count": 103,
   "metadata": {},
   "outputs": [
    {
     "data": {
      "text/plain": [
       "0    2958\n",
       "1    2958\n",
       "Name: count, dtype: int64"
      ]
     },
     "execution_count": 103,
     "metadata": {},
     "output_type": "execute_result"
    }
   ],
   "source": [
    "# view class distribution\n",
    "\n",
    "pd.value_counts(pd.Series(y_train))"
   ]
  },
  {
   "cell_type": "markdown",
   "metadata": {},
   "source": [
    "Our train dataset is now balaced"
   ]
  },
  {
   "cell_type": "code",
   "execution_count": 104,
   "metadata": {},
   "outputs": [
    {
     "data": {
      "image/png": "[encoded data removed]",
      "text/plain": [
       "<Figure size 1000x600 with 2 Axes>"
      ]
     },
     "metadata": {},
     "output_type": "display_data"
    }
   ],
   "source": [
    "# create subplots to compare unbalanced and balanced data\n",
    "\n",
    "fig, axes = plt.subplots(1, 2, figsize=(10, 6))\n",
    "\n",
    "# Plot the first bar graph for the original distribution\n",
    "unique, counts = np.unique(y, return_counts=True)\n",
    "axes[0].bar(unique, counts)\n",
    "axes[0].set_xticks([0, 1])\n",
    "axes[0].set_xticklabels(['Not Churned', 'Churned'])\n",
    "axes[0].set_ylabel('Number of Instances')\n",
    "axes[0].set_title('Original Distribution')\n",
    "\n",
    "# Plot the second bar graph for a separate y value\n",
    "unique2, counts2 = np.unique(y_train, return_counts=True) \n",
    "axes[1].bar(unique2, counts2)\n",
    "axes[1].set_xticks([0, 1])  # Adjust as needed\n",
    "axes[1].set_xticklabels(['Not Churned', 'Churned'])  # Adjust labels\n",
    "axes[1].set_ylabel('Number of Instances')\n",
    "axes[1].set_title('Balanced Distribution')\n",
    "\n",
    "# Adjust spacing between subplots\n",
    "plt.tight_layout()\n",
    "\n",
    "# Display the subplots\n",
    "plt.show()"
   ]
  },
  {
   "cell_type": "markdown",
   "metadata": {},
   "source": [
    "## 4. Modeling \n",
    "Here is the section to **build**, **train**, **evaluate** and **compare** the models to each others."
   ]
  },
  {
   "cell_type": "markdown",
   "metadata": {},
   "source": [
    "### Model 1. Logistic Regression Model"
   ]
  },
  {
   "cell_type": "code",
   "execution_count": 105,
   "metadata": {},
   "outputs": [
    {
     "data": {
      "text/html": [
       "<style>#sk-container-id-1 {color: black;}#sk-container-id-1 pre{padding: 0;}#sk-container-id-1 div.sk-toggleable {background-color: white;}#sk-container-id-1 label.sk-toggleable__label {cursor: pointer;display: block;width: 100%;margin-bottom: 0;padding: 0.3em;box-sizing: border-box;text-align: center;}#sk-container-id-1 label.sk-toggleable__label-arrow:before {content: \"▸\";float: left;margin-right: 0.25em;color: #696969;}#sk-container-id-1 label.sk-toggleable__label-arrow:hover:before {color: black;}#sk-container-id-1 div.sk-estimator:hover label.sk-toggleable__label-arrow:before {color: black;}#sk-container-id-1 div.sk-toggleable__content {max-height: 0;max-width: 0;overflow: hidden;text-align: left;background-color: #f0f8ff;}#sk-container-id-1 div.sk-toggleable__content pre {margin: 0.2em;color: black;border-radius: 0.25em;background-color: #f0f8ff;}#sk-container-id-1 input.sk-toggleable__control:checked~div.sk-toggleable__content {max-height: 200px;max-width: 100%;overflow: auto;}#sk-container-id-1 input.sk-toggleable__control:checked~label.sk-toggleable__label-arrow:before {content: \"▾\";}#sk-container-id-1 div.sk-estimator input.sk-toggleable__control:checked~label.sk-toggleable__label {background-color: #d4ebff;}#sk-container-id-1 div.sk-label input.sk-toggleable__control:checked~label.sk-toggleable__label {background-color: #d4ebff;}#sk-container-id-1 input.sk-hidden--visually {border: 0;clip: rect(1px 1px 1px 1px);clip: rect(1px, 1px, 1px, 1px);height: 1px;margin: -1px;overflow: hidden;padding: 0;position: absolute;width: 1px;}#sk-container-id-1 div.sk-estimator {font-family: monospace;background-color: #f0f8ff;border: 1px dotted black;border-radius: 0.25em;box-sizing: border-box;margin-bottom: 0.5em;}#sk-container-id-1 div.sk-estimator:hover {background-color: #d4ebff;}#sk-container-id-1 div.sk-parallel-item::after {content: \"\";width: 100%;border-bottom: 1px solid gray;flex-grow: 1;}#sk-container-id-1 div.sk-label:hover label.sk-toggleable__label {background-color: #d4ebff;}#sk-container-id-1 div.sk-serial::before {content: \"\";position: absolute;border-left: 1px solid gray;box-sizing: border-box;top: 0;bottom: 0;left: 50%;z-index: 0;}#sk-container-id-1 div.sk-serial {display: flex;flex-direction: column;align-items: center;background-color: white;padding-right: 0.2em;padding-left: 0.2em;position: relative;}#sk-container-id-1 div.sk-item {position: relative;z-index: 1;}#sk-container-id-1 div.sk-parallel {display: flex;align-items: stretch;justify-content: center;background-color: white;position: relative;}#sk-container-id-1 div.sk-item::before, #sk-container-id-1 div.sk-parallel-item::before {content: \"\";position: absolute;border-left: 1px solid gray;box-sizing: border-box;top: 0;bottom: 0;left: 50%;z-index: -1;}#sk-container-id-1 div.sk-parallel-item {display: flex;flex-direction: column;z-index: 1;position: relative;background-color: white;}#sk-container-id-1 div.sk-parallel-item:first-child::after {align-self: flex-end;width: 50%;}#sk-container-id-1 div.sk-parallel-item:last-child::after {align-self: flex-start;width: 50%;}#sk-container-id-1 div.sk-parallel-item:only-child::after {width: 0;}#sk-container-id-1 div.sk-dashed-wrapped {border: 1px dashed gray;margin: 0 0.4em 0.5em 0.4em;box-sizing: border-box;padding-bottom: 0.4em;background-color: white;}#sk-container-id-1 div.sk-label label {font-family: monospace;font-weight: bold;display: inline-block;line-height: 1.2em;}#sk-container-id-1 div.sk-label-container {text-align: center;}#sk-container-id-1 div.sk-container {/* jupyter's `normalize.less` sets `[hidden] { display: none; }` but bootstrap.min.css set `[hidden] { display: none !important; }` so we also need the `!important` here to be able to override the default hidden behavior on the sphinx rendered scikit-learn.org. See: https://github.com/scikit-learn/scikit-learn/issues/21755 */display: inline-block !important;position: relative;}#sk-container-id-1 div.sk-text-repr-fallback {display: none;}</style><div id=\"sk-container-id-1\" class=\"sk-top-container\"><div class=\"sk-text-repr-fallback\"><pre>LogisticRegression(random_state=42)</pre><b>In a Jupyter environment, please rerun this cell to show the HTML representation or trust the notebook. <br />On GitHub, the HTML representation is unable to render, please try loading this page with nbviewer.org.</b></div><div class=\"sk-container\" hidden><div class=\"sk-item\"><div class=\"sk-estimator sk-toggleable\"><input class=\"sk-toggleable__control sk-hidden--visually\" id=\"sk-estimator-id-1\" type=\"checkbox\" checked><label for=\"sk-estimator-id-1\" class=\"sk-toggleable__label sk-toggleable__label-arrow\">LogisticRegression</label><div class=\"sk-toggleable__content\"><pre>LogisticRegression(random_state=42)</pre></div></div></div></div></div>"
      ],
      "text/plain": [
       "LogisticRegression(random_state=42)"
      ]
     },
     "execution_count": 105,
     "metadata": {},
     "output_type": "execute_result"
    }
   ],
   "source": [
    "LR = LogisticRegression(random_state=42)\n",
    "\n",
    "# Train the model\n",
    "LR.fit(X_train, y_train)"
   ]
  },
  {
   "cell_type": "markdown",
   "metadata": {},
   "source": [
    "### Model 2. K-nearest Neighbors"
   ]
  },
  {
   "cell_type": "code",
   "execution_count": 106,
   "metadata": {},
   "outputs": [
    {
     "data": {
      "text/html": [
       "<style>#sk-container-id-2 {color: black;}#sk-container-id-2 pre{padding: 0;}#sk-container-id-2 div.sk-toggleable {background-color: white;}#sk-container-id-2 label.sk-toggleable__label {cursor: pointer;display: block;width: 100%;margin-bottom: 0;padding: 0.3em;box-sizing: border-box;text-align: center;}#sk-container-id-2 label.sk-toggleable__label-arrow:before {content: \"▸\";float: left;margin-right: 0.25em;color: #696969;}#sk-container-id-2 label.sk-toggleable__label-arrow:hover:before {color: black;}#sk-container-id-2 div.sk-estimator:hover label.sk-toggleable__label-arrow:before {color: black;}#sk-container-id-2 div.sk-toggleable__content {max-height: 0;max-width: 0;overflow: hidden;text-align: left;background-color: #f0f8ff;}#sk-container-id-2 div.sk-toggleable__content pre {margin: 0.2em;color: black;border-radius: 0.25em;background-color: #f0f8ff;}#sk-container-id-2 input.sk-toggleable__control:checked~div.sk-toggleable__content {max-height: 200px;max-width: 100%;overflow: auto;}#sk-container-id-2 input.sk-toggleable__control:checked~label.sk-toggleable__label-arrow:before {content: \"▾\";}#sk-container-id-2 div.sk-estimator input.sk-toggleable__control:checked~label.sk-toggleable__label {background-color: #d4ebff;}#sk-container-id-2 div.sk-label input.sk-toggleable__control:checked~label.sk-toggleable__label {background-color: #d4ebff;}#sk-container-id-2 input.sk-hidden--visually {border: 0;clip: rect(1px 1px 1px 1px);clip: rect(1px, 1px, 1px, 1px);height: 1px;margin: -1px;overflow: hidden;padding: 0;position: absolute;width: 1px;}#sk-container-id-2 div.sk-estimator {font-family: monospace;background-color: #f0f8ff;border: 1px dotted black;border-radius: 0.25em;box-sizing: border-box;margin-bottom: 0.5em;}#sk-container-id-2 div.sk-estimator:hover {background-color: #d4ebff;}#sk-container-id-2 div.sk-parallel-item::after {content: \"\";width: 100%;border-bottom: 1px solid gray;flex-grow: 1;}#sk-container-id-2 div.sk-label:hover label.sk-toggleable__label {background-color: #d4ebff;}#sk-container-id-2 div.sk-serial::before {content: \"\";position: absolute;border-left: 1px solid gray;box-sizing: border-box;top: 0;bottom: 0;left: 50%;z-index: 0;}#sk-container-id-2 div.sk-serial {display: flex;flex-direction: column;align-items: center;background-color: white;padding-right: 0.2em;padding-left: 0.2em;position: relative;}#sk-container-id-2 div.sk-item {position: relative;z-index: 1;}#sk-container-id-2 div.sk-parallel {display: flex;align-items: stretch;justify-content: center;background-color: white;position: relative;}#sk-container-id-2 div.sk-item::before, #sk-container-id-2 div.sk-parallel-item::before {content: \"\";position: absolute;border-left: 1px solid gray;box-sizing: border-box;top: 0;bottom: 0;left: 50%;z-index: -1;}#sk-container-id-2 div.sk-parallel-item {display: flex;flex-direction: column;z-index: 1;position: relative;background-color: white;}#sk-container-id-2 div.sk-parallel-item:first-child::after {align-self: flex-end;width: 50%;}#sk-container-id-2 div.sk-parallel-item:last-child::after {align-self: flex-start;width: 50%;}#sk-container-id-2 div.sk-parallel-item:only-child::after {width: 0;}#sk-container-id-2 div.sk-dashed-wrapped {border: 1px dashed gray;margin: 0 0.4em 0.5em 0.4em;box-sizing: border-box;padding-bottom: 0.4em;background-color: white;}#sk-container-id-2 div.sk-label label {font-family: monospace;font-weight: bold;display: inline-block;line-height: 1.2em;}#sk-container-id-2 div.sk-label-container {text-align: center;}#sk-container-id-2 div.sk-container {/* jupyter's `normalize.less` sets `[hidden] { display: none; }` but bootstrap.min.css set `[hidden] { display: none !important; }` so we also need the `!important` here to be able to override the default hidden behavior on the sphinx rendered scikit-learn.org. See: https://github.com/scikit-learn/scikit-learn/issues/21755 */display: inline-block !important;position: relative;}#sk-container-id-2 div.sk-text-repr-fallback {display: none;}</style><div id=\"sk-container-id-2\" class=\"sk-top-container\"><div class=\"sk-text-repr-fallback\"><pre>KNeighborsClassifier()</pre><b>In a Jupyter environment, please rerun this cell to show the HTML representation or trust the notebook. <br />On GitHub, the HTML representation is unable to render, please try loading this page with nbviewer.org.</b></div><div class=\"sk-container\" hidden><div class=\"sk-item\"><div class=\"sk-estimator sk-toggleable\"><input class=\"sk-toggleable__control sk-hidden--visually\" id=\"sk-estimator-id-2\" type=\"checkbox\" checked><label for=\"sk-estimator-id-2\" class=\"sk-toggleable__label sk-toggleable__label-arrow\">KNeighborsClassifier</label><div class=\"sk-toggleable__content\"><pre>KNeighborsClassifier()</pre></div></div></div></div></div>"
      ],
      "text/plain": [
       "KNeighborsClassifier()"
      ]
     },
     "execution_count": 106,
     "metadata": {},
     "output_type": "execute_result"
    }
   ],
   "source": [
    "knn = KNeighborsClassifier()\n",
    "\n",
    "\n",
    "knn.fit(X_train, y_train)"
   ]
  },
  {
   "cell_type": "markdown",
   "metadata": {},
   "source": [
    "### Model 3. Random Forest Classifier"
   ]
  },
  {
   "cell_type": "code",
   "execution_count": 107,
   "metadata": {},
   "outputs": [
    {
     "data": {
      "text/html": [
       "<style>#sk-container-id-3 {color: black;}#sk-container-id-3 pre{padding: 0;}#sk-container-id-3 div.sk-toggleable {background-color: white;}#sk-container-id-3 label.sk-toggleable__label {cursor: pointer;display: block;width: 100%;margin-bottom: 0;padding: 0.3em;box-sizing: border-box;text-align: center;}#sk-container-id-3 label.sk-toggleable__label-arrow:before {content: \"▸\";float: left;margin-right: 0.25em;color: #696969;}#sk-container-id-3 label.sk-toggleable__label-arrow:hover:before {color: black;}#sk-container-id-3 div.sk-estimator:hover label.sk-toggleable__label-arrow:before {color: black;}#sk-container-id-3 div.sk-toggleable__content {max-height: 0;max-width: 0;overflow: hidden;text-align: left;background-color: #f0f8ff;}#sk-container-id-3 div.sk-toggleable__content pre {margin: 0.2em;color: black;border-radius: 0.25em;background-color: #f0f8ff;}#sk-container-id-3 input.sk-toggleable__control:checked~div.sk-toggleable__content {max-height: 200px;max-width: 100%;overflow: auto;}#sk-container-id-3 input.sk-toggleable__control:checked~label.sk-toggleable__label-arrow:before {content: \"▾\";}#sk-container-id-3 div.sk-estimator input.sk-toggleable__control:checked~label.sk-toggleable__label {background-color: #d4ebff;}#sk-container-id-3 div.sk-label input.sk-toggleable__control:checked~label.sk-toggleable__label {background-color: #d4ebff;}#sk-container-id-3 input.sk-hidden--visually {border: 0;clip: rect(1px 1px 1px 1px);clip: rect(1px, 1px, 1px, 1px);height: 1px;margin: -1px;overflow: hidden;padding: 0;position: absolute;width: 1px;}#sk-container-id-3 div.sk-estimator {font-family: monospace;background-color: #f0f8ff;border: 1px dotted black;border-radius: 0.25em;box-sizing: border-box;margin-bottom: 0.5em;}#sk-container-id-3 div.sk-estimator:hover {background-color: #d4ebff;}#sk-container-id-3 div.sk-parallel-item::after {content: \"\";width: 100%;border-bottom: 1px solid gray;flex-grow: 1;}#sk-container-id-3 div.sk-label:hover label.sk-toggleable__label {background-color: #d4ebff;}#sk-container-id-3 div.sk-serial::before {content: \"\";position: absolute;border-left: 1px solid gray;box-sizing: border-box;top: 0;bottom: 0;left: 50%;z-index: 0;}#sk-container-id-3 div.sk-serial {display: flex;flex-direction: column;align-items: center;background-color: white;padding-right: 0.2em;padding-left: 0.2em;position: relative;}#sk-container-id-3 div.sk-item {position: relative;z-index: 1;}#sk-container-id-3 div.sk-parallel {display: flex;align-items: stretch;justify-content: center;background-color: white;position: relative;}#sk-container-id-3 div.sk-item::before, #sk-container-id-3 div.sk-parallel-item::before {content: \"\";position: absolute;border-left: 1px solid gray;box-sizing: border-box;top: 0;bottom: 0;left: 50%;z-index: -1;}#sk-container-id-3 div.sk-parallel-item {display: flex;flex-direction: column;z-index: 1;position: relative;background-color: white;}#sk-container-id-3 div.sk-parallel-item:first-child::after {align-self: flex-end;width: 50%;}#sk-container-id-3 div.sk-parallel-item:last-child::after {align-self: flex-start;width: 50%;}#sk-container-id-3 div.sk-parallel-item:only-child::after {width: 0;}#sk-container-id-3 div.sk-dashed-wrapped {border: 1px dashed gray;margin: 0 0.4em 0.5em 0.4em;box-sizing: border-box;padding-bottom: 0.4em;background-color: white;}#sk-container-id-3 div.sk-label label {font-family: monospace;font-weight: bold;display: inline-block;line-height: 1.2em;}#sk-container-id-3 div.sk-label-container {text-align: center;}#sk-container-id-3 div.sk-container {/* jupyter's `normalize.less` sets `[hidden] { display: none; }` but bootstrap.min.css set `[hidden] { display: none !important; }` so we also need the `!important` here to be able to override the default hidden behavior on the sphinx rendered scikit-learn.org. See: https://github.com/scikit-learn/scikit-learn/issues/21755 */display: inline-block !important;position: relative;}#sk-container-id-3 div.sk-text-repr-fallback {display: none;}</style><div id=\"sk-container-id-3\" class=\"sk-top-container\"><div class=\"sk-text-repr-fallback\"><pre>RandomForestClassifier(random_state=42)</pre><b>In a Jupyter environment, please rerun this cell to show the HTML representation or trust the notebook. <br />On GitHub, the HTML representation is unable to render, please try loading this page with nbviewer.org.</b></div><div class=\"sk-container\" hidden><div class=\"sk-item\"><div class=\"sk-estimator sk-toggleable\"><input class=\"sk-toggleable__control sk-hidden--visually\" id=\"sk-estimator-id-3\" type=\"checkbox\" checked><label for=\"sk-estimator-id-3\" class=\"sk-toggleable__label sk-toggleable__label-arrow\">RandomForestClassifier</label><div class=\"sk-toggleable__content\"><pre>RandomForestClassifier(random_state=42)</pre></div></div></div></div></div>"
      ],
      "text/plain": [
       "RandomForestClassifier(random_state=42)"
      ]
     },
     "execution_count": 107,
     "metadata": {},
     "output_type": "execute_result"
    }
   ],
   "source": [
    "rfm = RandomForestClassifier(random_state=42)\n",
    "\n",
    "# Train the model\n",
    "rfm.fit(X_train, y_train)"
   ]
  },
  {
   "cell_type": "markdown",
   "metadata": {},
   "source": [
    "### Model 4. Support Vector Machines Classifier"
   ]
  },
  {
   "cell_type": "code",
   "execution_count": 108,
   "metadata": {},
   "outputs": [
    {
     "data": {
      "text/html": [
       "<style>#sk-container-id-4 {color: black;}#sk-container-id-4 pre{padding: 0;}#sk-container-id-4 div.sk-toggleable {background-color: white;}#sk-container-id-4 label.sk-toggleable__label {cursor: pointer;display: block;width: 100%;margin-bottom: 0;padding: 0.3em;box-sizing: border-box;text-align: center;}#sk-container-id-4 label.sk-toggleable__label-arrow:before {content: \"▸\";float: left;margin-right: 0.25em;color: #696969;}#sk-container-id-4 label.sk-toggleable__label-arrow:hover:before {color: black;}#sk-container-id-4 div.sk-estimator:hover label.sk-toggleable__label-arrow:before {color: black;}#sk-container-id-4 div.sk-toggleable__content {max-height: 0;max-width: 0;overflow: hidden;text-align: left;background-color: #f0f8ff;}#sk-container-id-4 div.sk-toggleable__content pre {margin: 0.2em;color: black;border-radius: 0.25em;background-color: #f0f8ff;}#sk-container-id-4 input.sk-toggleable__control:checked~div.sk-toggleable__content {max-height: 200px;max-width: 100%;overflow: auto;}#sk-container-id-4 input.sk-toggleable__control:checked~label.sk-toggleable__label-arrow:before {content: \"▾\";}#sk-container-id-4 div.sk-estimator input.sk-toggleable__control:checked~label.sk-toggleable__label {background-color: #d4ebff;}#sk-container-id-4 div.sk-label input.sk-toggleable__control:checked~label.sk-toggleable__label {background-color: #d4ebff;}#sk-container-id-4 input.sk-hidden--visually {border: 0;clip: rect(1px 1px 1px 1px);clip: rect(1px, 1px, 1px, 1px);height: 1px;margin: -1px;overflow: hidden;padding: 0;position: absolute;width: 1px;}#sk-container-id-4 div.sk-estimator {font-family: monospace;background-color: #f0f8ff;border: 1px dotted black;border-radius: 0.25em;box-sizing: border-box;margin-bottom: 0.5em;}#sk-container-id-4 div.sk-estimator:hover {background-color: #d4ebff;}#sk-container-id-4 div.sk-parallel-item::after {content: \"\";width: 100%;border-bottom: 1px solid gray;flex-grow: 1;}#sk-container-id-4 div.sk-label:hover label.sk-toggleable__label {background-color: #d4ebff;}#sk-container-id-4 div.sk-serial::before {content: \"\";position: absolute;border-left: 1px solid gray;box-sizing: border-box;top: 0;bottom: 0;left: 50%;z-index: 0;}#sk-container-id-4 div.sk-serial {display: flex;flex-direction: column;align-items: center;background-color: white;padding-right: 0.2em;padding-left: 0.2em;position: relative;}#sk-container-id-4 div.sk-item {position: relative;z-index: 1;}#sk-container-id-4 div.sk-parallel {display: flex;align-items: stretch;justify-content: center;background-color: white;position: relative;}#sk-container-id-4 div.sk-item::before, #sk-container-id-4 div.sk-parallel-item::before {content: \"\";position: absolute;border-left: 1px solid gray;box-sizing: border-box;top: 0;bottom: 0;left: 50%;z-index: -1;}#sk-container-id-4 div.sk-parallel-item {display: flex;flex-direction: column;z-index: 1;position: relative;background-color: white;}#sk-container-id-4 div.sk-parallel-item:first-child::after {align-self: flex-end;width: 50%;}#sk-container-id-4 div.sk-parallel-item:last-child::after {align-self: flex-start;width: 50%;}#sk-container-id-4 div.sk-parallel-item:only-child::after {width: 0;}#sk-container-id-4 div.sk-dashed-wrapped {border: 1px dashed gray;margin: 0 0.4em 0.5em 0.4em;box-sizing: border-box;padding-bottom: 0.4em;background-color: white;}#sk-container-id-4 div.sk-label label {font-family: monospace;font-weight: bold;display: inline-block;line-height: 1.2em;}#sk-container-id-4 div.sk-label-container {text-align: center;}#sk-container-id-4 div.sk-container {/* jupyter's `normalize.less` sets `[hidden] { display: none; }` but bootstrap.min.css set `[hidden] { display: none !important; }` so we also need the `!important` here to be able to override the default hidden behavior on the sphinx rendered scikit-learn.org. See: https://github.com/scikit-learn/scikit-learn/issues/21755 */display: inline-block !important;position: relative;}#sk-container-id-4 div.sk-text-repr-fallback {display: none;}</style><div id=\"sk-container-id-4\" class=\"sk-top-container\"><div class=\"sk-text-repr-fallback\"><pre>SVC(random_state=42)</pre><b>In a Jupyter environment, please rerun this cell to show the HTML representation or trust the notebook. <br />On GitHub, the HTML representation is unable to render, please try loading this page with nbviewer.org.</b></div><div class=\"sk-container\" hidden><div class=\"sk-item\"><div class=\"sk-estimator sk-toggleable\"><input class=\"sk-toggleable__control sk-hidden--visually\" id=\"sk-estimator-id-4\" type=\"checkbox\" checked><label for=\"sk-estimator-id-4\" class=\"sk-toggleable__label sk-toggleable__label-arrow\">SVC</label><div class=\"sk-toggleable__content\"><pre>SVC(random_state=42)</pre></div></div></div></div></div>"
      ],
      "text/plain": [
       "SVC(random_state=42)"
      ]
     },
     "execution_count": 108,
     "metadata": {},
     "output_type": "execute_result"
    }
   ],
   "source": [
    "svm = SVC(random_state=42)\n",
    "\n",
    "# Train the model\n",
    "svm.fit(X_train, y_train)"
   ]
  },
  {
   "cell_type": "markdown",
   "metadata": {},
   "source": [
    "### Model 5. Gradient Boosting"
   ]
  },
  {
   "cell_type": "code",
   "execution_count": 109,
   "metadata": {},
   "outputs": [
    {
     "data": {
      "text/html": [
       "<style>#sk-container-id-5 {color: black;}#sk-container-id-5 pre{padding: 0;}#sk-container-id-5 div.sk-toggleable {background-color: white;}#sk-container-id-5 label.sk-toggleable__label {cursor: pointer;display: block;width: 100%;margin-bottom: 0;padding: 0.3em;box-sizing: border-box;text-align: center;}#sk-container-id-5 label.sk-toggleable__label-arrow:before {content: \"▸\";float: left;margin-right: 0.25em;color: #696969;}#sk-container-id-5 label.sk-toggleable__label-arrow:hover:before {color: black;}#sk-container-id-5 div.sk-estimator:hover label.sk-toggleable__label-arrow:before {color: black;}#sk-container-id-5 div.sk-toggleable__content {max-height: 0;max-width: 0;overflow: hidden;text-align: left;background-color: #f0f8ff;}#sk-container-id-5 div.sk-toggleable__content pre {margin: 0.2em;color: black;border-radius: 0.25em;background-color: #f0f8ff;}#sk-container-id-5 input.sk-toggleable__control:checked~div.sk-toggleable__content {max-height: 200px;max-width: 100%;overflow: auto;}#sk-container-id-5 input.sk-toggleable__control:checked~label.sk-toggleable__label-arrow:before {content: \"▾\";}#sk-container-id-5 div.sk-estimator input.sk-toggleable__control:checked~label.sk-toggleable__label {background-color: #d4ebff;}#sk-container-id-5 div.sk-label input.sk-toggleable__control:checked~label.sk-toggleable__label {background-color: #d4ebff;}#sk-container-id-5 input.sk-hidden--visually {border: 0;clip: rect(1px 1px 1px 1px);clip: rect(1px, 1px, 1px, 1px);height: 1px;margin: -1px;overflow: hidden;padding: 0;position: absolute;width: 1px;}#sk-container-id-5 div.sk-estimator {font-family: monospace;background-color: #f0f8ff;border: 1px dotted black;border-radius: 0.25em;box-sizing: border-box;margin-bottom: 0.5em;}#sk-container-id-5 div.sk-estimator:hover {background-color: #d4ebff;}#sk-container-id-5 div.sk-parallel-item::after {content: \"\";width: 100%;border-bottom: 1px solid gray;flex-grow: 1;}#sk-container-id-5 div.sk-label:hover label.sk-toggleable__label {background-color: #d4ebff;}#sk-container-id-5 div.sk-serial::before {content: \"\";position: absolute;border-left: 1px solid gray;box-sizing: border-box;top: 0;bottom: 0;left: 50%;z-index: 0;}#sk-container-id-5 div.sk-serial {display: flex;flex-direction: column;align-items: center;background-color: white;padding-right: 0.2em;padding-left: 0.2em;position: relative;}#sk-container-id-5 div.sk-item {position: relative;z-index: 1;}#sk-container-id-5 div.sk-parallel {display: flex;align-items: stretch;justify-content: center;background-color: white;position: relative;}#sk-container-id-5 div.sk-item::before, #sk-container-id-5 div.sk-parallel-item::before {content: \"\";position: absolute;border-left: 1px solid gray;box-sizing: border-box;top: 0;bottom: 0;left: 50%;z-index: -1;}#sk-container-id-5 div.sk-parallel-item {display: flex;flex-direction: column;z-index: 1;position: relative;background-color: white;}#sk-container-id-5 div.sk-parallel-item:first-child::after {align-self: flex-end;width: 50%;}#sk-container-id-5 div.sk-parallel-item:last-child::after {align-self: flex-start;width: 50%;}#sk-container-id-5 div.sk-parallel-item:only-child::after {width: 0;}#sk-container-id-5 div.sk-dashed-wrapped {border: 1px dashed gray;margin: 0 0.4em 0.5em 0.4em;box-sizing: border-box;padding-bottom: 0.4em;background-color: white;}#sk-container-id-5 div.sk-label label {font-family: monospace;font-weight: bold;display: inline-block;line-height: 1.2em;}#sk-container-id-5 div.sk-label-container {text-align: center;}#sk-container-id-5 div.sk-container {/* jupyter's `normalize.less` sets `[hidden] { display: none; }` but bootstrap.min.css set `[hidden] { display: none !important; }` so we also need the `!important` here to be able to override the default hidden behavior on the sphinx rendered scikit-learn.org. See: https://github.com/scikit-learn/scikit-learn/issues/21755 */display: inline-block !important;position: relative;}#sk-container-id-5 div.sk-text-repr-fallback {display: none;}</style><div id=\"sk-container-id-5\" class=\"sk-top-container\"><div class=\"sk-text-repr-fallback\"><pre>GradientBoostingClassifier(random_state=42)</pre><b>In a Jupyter environment, please rerun this cell to show the HTML representation or trust the notebook. <br />On GitHub, the HTML representation is unable to render, please try loading this page with nbviewer.org.</b></div><div class=\"sk-container\" hidden><div class=\"sk-item\"><div class=\"sk-estimator sk-toggleable\"><input class=\"sk-toggleable__control sk-hidden--visually\" id=\"sk-estimator-id-5\" type=\"checkbox\" checked><label for=\"sk-estimator-id-5\" class=\"sk-toggleable__label sk-toggleable__label-arrow\">GradientBoostingClassifier</label><div class=\"sk-toggleable__content\"><pre>GradientBoostingClassifier(random_state=42)</pre></div></div></div></div></div>"
      ],
      "text/plain": [
       "GradientBoostingClassifier(random_state=42)"
      ]
     },
     "execution_count": 109,
     "metadata": {},
     "output_type": "execute_result"
    }
   ],
   "source": [
    "gb = GradientBoostingClassifier(random_state=42)\n",
    "\n",
    "# Train the model\n",
    "gb.fit(X_train, y_train)"
   ]
  },
  {
   "cell_type": "markdown",
   "metadata": {},
   "source": [
    "### Model 6. XGBoost"
   ]
  },
  {
   "cell_type": "code",
   "execution_count": 110,
   "metadata": {},
   "outputs": [
    {
     "data": {
      "text/html": [
       "<style>#sk-container-id-6 {color: black;}#sk-container-id-6 pre{padding: 0;}#sk-container-id-6 div.sk-toggleable {background-color: white;}#sk-container-id-6 label.sk-toggleable__label {cursor: pointer;display: block;width: 100%;margin-bottom: 0;padding: 0.3em;box-sizing: border-box;text-align: center;}#sk-container-id-6 label.sk-toggleable__label-arrow:before {content: \"▸\";float: left;margin-right: 0.25em;color: #696969;}#sk-container-id-6 label.sk-toggleable__label-arrow:hover:before {color: black;}#sk-container-id-6 div.sk-estimator:hover label.sk-toggleable__label-arrow:before {color: black;}#sk-container-id-6 div.sk-toggleable__content {max-height: 0;max-width: 0;overflow: hidden;text-align: left;background-color: #f0f8ff;}#sk-container-id-6 div.sk-toggleable__content pre {margin: 0.2em;color: black;border-radius: 0.25em;background-color: #f0f8ff;}#sk-container-id-6 input.sk-toggleable__control:checked~div.sk-toggleable__content {max-height: 200px;max-width: 100%;overflow: auto;}#sk-container-id-6 input.sk-toggleable__control:checked~label.sk-toggleable__label-arrow:before {content: \"▾\";}#sk-container-id-6 div.sk-estimator input.sk-toggleable__control:checked~label.sk-toggleable__label {background-color: #d4ebff;}#sk-container-id-6 div.sk-label input.sk-toggleable__control:checked~label.sk-toggleable__label {background-color: #d4ebff;}#sk-container-id-6 input.sk-hidden--visually {border: 0;clip: rect(1px 1px 1px 1px);clip: rect(1px, 1px, 1px, 1px);height: 1px;margin: -1px;overflow: hidden;padding: 0;position: absolute;width: 1px;}#sk-container-id-6 div.sk-estimator {font-family: monospace;background-color: #f0f8ff;border: 1px dotted black;border-radius: 0.25em;box-sizing: border-box;margin-bottom: 0.5em;}#sk-container-id-6 div.sk-estimator:hover {background-color: #d4ebff;}#sk-container-id-6 div.sk-parallel-item::after {content: \"\";width: 100%;border-bottom: 1px solid gray;flex-grow: 1;}#sk-container-id-6 div.sk-label:hover label.sk-toggleable__label {background-color: #d4ebff;}#sk-container-id-6 div.sk-serial::before {content: \"\";position: absolute;border-left: 1px solid gray;box-sizing: border-box;top: 0;bottom: 0;left: 50%;z-index: 0;}#sk-container-id-6 div.sk-serial {display: flex;flex-direction: column;align-items: center;background-color: white;padding-right: 0.2em;padding-left: 0.2em;position: relative;}#sk-container-id-6 div.sk-item {position: relative;z-index: 1;}#sk-container-id-6 div.sk-parallel {display: flex;align-items: stretch;justify-content: center;background-color: white;position: relative;}#sk-container-id-6 div.sk-item::before, #sk-container-id-6 div.sk-parallel-item::before {content: \"\";position: absolute;border-left: 1px solid gray;box-sizing: border-box;top: 0;bottom: 0;left: 50%;z-index: -1;}#sk-container-id-6 div.sk-parallel-item {display: flex;flex-direction: column;z-index: 1;position: relative;background-color: white;}#sk-container-id-6 div.sk-parallel-item:first-child::after {align-self: flex-end;width: 50%;}#sk-container-id-6 div.sk-parallel-item:last-child::after {align-self: flex-start;width: 50%;}#sk-container-id-6 div.sk-parallel-item:only-child::after {width: 0;}#sk-container-id-6 div.sk-dashed-wrapped {border: 1px dashed gray;margin: 0 0.4em 0.5em 0.4em;box-sizing: border-box;padding-bottom: 0.4em;background-color: white;}#sk-container-id-6 div.sk-label label {font-family: monospace;font-weight: bold;display: inline-block;line-height: 1.2em;}#sk-container-id-6 div.sk-label-container {text-align: center;}#sk-container-id-6 div.sk-container {/* jupyter's `normalize.less` sets `[hidden] { display: none; }` but bootstrap.min.css set `[hidden] { display: none !important; }` so we also need the `!important` here to be able to override the default hidden behavior on the sphinx rendered scikit-learn.org. See: https://github.com/scikit-learn/scikit-learn/issues/21755 */display: inline-block !important;position: relative;}#sk-container-id-6 div.sk-text-repr-fallback {display: none;}</style><div id=\"sk-container-id-6\" class=\"sk-top-container\"><div class=\"sk-text-repr-fallback\"><pre>XGBClassifier(base_score=None, booster=None, callbacks=None,\n",
       "              colsample_bylevel=None, colsample_bynode=None,\n",
       "              colsample_bytree=None, device=None, early_stopping_rounds=None,\n",
       "              enable_categorical=False, eval_metric=None, feature_types=None,\n",
       "              gamma=None, grow_policy=None, importance_type=None,\n",
       "              interaction_constraints=None, learning_rate=None, max_bin=None,\n",
       "              max_cat_threshold=None, max_cat_to_onehot=None,\n",
       "              max_delta_step=None, max_depth=None, max_leaves=None,\n",
       "              min_child_weight=None, missing=nan, monotone_constraints=None,\n",
       "              multi_strategy=None, n_estimators=None, n_jobs=None,\n",
       "              num_parallel_tree=None, random_state=42, ...)</pre><b>In a Jupyter environment, please rerun this cell to show the HTML representation or trust the notebook. <br />On GitHub, the HTML representation is unable to render, please try loading this page with nbviewer.org.</b></div><div class=\"sk-container\" hidden><div class=\"sk-item\"><div class=\"sk-estimator sk-toggleable\"><input class=\"sk-toggleable__control sk-hidden--visually\" id=\"sk-estimator-id-6\" type=\"checkbox\" checked><label for=\"sk-estimator-id-6\" class=\"sk-toggleable__label sk-toggleable__label-arrow\">XGBClassifier</label><div class=\"sk-toggleable__content\"><pre>XGBClassifier(base_score=None, booster=None, callbacks=None,\n",
       "              colsample_bylevel=None, colsample_bynode=None,\n",
       "              colsample_bytree=None, device=None, early_stopping_rounds=None,\n",
       "              enable_categorical=False, eval_metric=None, feature_types=None,\n",
       "              gamma=None, grow_policy=None, importance_type=None,\n",
       "              interaction_constraints=None, learning_rate=None, max_bin=None,\n",
       "              max_cat_threshold=None, max_cat_to_onehot=None,\n",
       "              max_delta_step=None, max_depth=None, max_leaves=None,\n",
       "              min_child_weight=None, missing=nan, monotone_constraints=None,\n",
       "              multi_strategy=None, n_estimators=None, n_jobs=None,\n",
       "              num_parallel_tree=None, random_state=42, ...)</pre></div></div></div></div></div>"
      ],
      "text/plain": [
       "XGBClassifier(base_score=None, booster=None, callbacks=None,\n",
       "              colsample_bylevel=None, colsample_bynode=None,\n",
       "              colsample_bytree=None, device=None, early_stopping_rounds=None,\n",
       "              enable_categorical=False, eval_metric=None, feature_types=None,\n",
       "              gamma=None, grow_policy=None, importance_type=None,\n",
       "              interaction_constraints=None, learning_rate=None, max_bin=None,\n",
       "              max_cat_threshold=None, max_cat_to_onehot=None,\n",
       "              max_delta_step=None, max_depth=None, max_leaves=None,\n",
       "              min_child_weight=None, missing=nan, monotone_constraints=None,\n",
       "              multi_strategy=None, n_estimators=None, n_jobs=None,\n",
       "              num_parallel_tree=None, random_state=42, ...)"
      ]
     },
     "execution_count": 110,
     "metadata": {},
     "output_type": "execute_result"
    }
   ],
   "source": [
    "xgb = XGBClassifier(random_state=42)\n",
    "\n",
    "# Train the model\n",
    "xgb.fit(X_train, y_train)"
   ]
  },
  {
   "cell_type": "markdown",
   "metadata": {},
   "source": [
    "## 5. Model Evaluation\n",
    "We create a pandas dataframe that will allow us to compare our models."
   ]
  },
  {
   "cell_type": "markdown",
   "metadata": {},
   "source": [
    "### K-Fold Cross-Validation"
   ]
  },
  {
   "cell_type": "markdown",
   "metadata": {},
   "source": [
    "k-fold cross-validation  estimates the performance on our models across multiple subsets of the data (k-folds), providing a comprehensive evaluation of their generalization ability. The model is trained and evaluated k times, with each fold serving as the validation set once. This process helps estimate the model's performance across different subsets of the data.\n",
    "\n",
    "It helps estimate how well a model will perform on new, unseen data and provides insights into its stability and consistency."
   ]
  },
  {
   "cell_type": "code",
   "execution_count": 111,
   "metadata": {},
   "outputs": [
    {
     "data": {
      "text/html": [
       "<div>\n",
       "<style scoped>\n",
       "    .dataframe tbody tr th:only-of-type {\n",
       "        vertical-align: middle;\n",
       "    }\n",
       "\n",
       "    .dataframe tbody tr th {\n",
       "        vertical-align: top;\n",
       "    }\n",
       "\n",
       "    .dataframe thead th {\n",
       "        text-align: right;\n",
       "    }\n",
       "</style>\n",
       "<table border=\"1\" class=\"dataframe\">\n",
       "  <thead>\n",
       "    <tr style=\"text-align: right;\">\n",
       "      <th></th>\n",
       "      <th>Model</th>\n",
       "      <th>Mean Accuracy</th>\n",
       "      <th>Std Deviation</th>\n",
       "    </tr>\n",
       "  </thead>\n",
       "  <tbody>\n",
       "    <tr>\n",
       "      <th>5</th>\n",
       "      <td>XGBoost</td>\n",
       "      <td>0.847025</td>\n",
       "      <td>0.005085</td>\n",
       "    </tr>\n",
       "    <tr>\n",
       "      <th>2</th>\n",
       "      <td>Random Forest</td>\n",
       "      <td>0.846347</td>\n",
       "      <td>0.008105</td>\n",
       "    </tr>\n",
       "    <tr>\n",
       "      <th>4</th>\n",
       "      <td>Gradient Boosting</td>\n",
       "      <td>0.839249</td>\n",
       "      <td>0.010839</td>\n",
       "    </tr>\n",
       "    <tr>\n",
       "      <th>3</th>\n",
       "      <td>SVC</td>\n",
       "      <td>0.801553</td>\n",
       "      <td>0.011875</td>\n",
       "    </tr>\n",
       "    <tr>\n",
       "      <th>1</th>\n",
       "      <td>K nearest neighbors</td>\n",
       "      <td>0.791750</td>\n",
       "      <td>0.011208</td>\n",
       "    </tr>\n",
       "    <tr>\n",
       "      <th>0</th>\n",
       "      <td>Logistic Regression</td>\n",
       "      <td>0.776366</td>\n",
       "      <td>0.016447</td>\n",
       "    </tr>\n",
       "  </tbody>\n",
       "</table>\n",
       "</div>"
      ],
      "text/plain": [
       "                 Model  Mean Accuracy  Std Deviation\n",
       "5              XGBoost       0.847025       0.005085\n",
       "2        Random Forest       0.846347       0.008105\n",
       "4    Gradient Boosting       0.839249       0.010839\n",
       "3                  SVC       0.801553       0.011875\n",
       "1  K nearest neighbors       0.791750       0.011208\n",
       "0  Logistic Regression       0.776366       0.016447"
      ]
     },
     "execution_count": 111,
     "metadata": {},
     "output_type": "execute_result"
    }
   ],
   "source": [
    "# Create a dataframe with the K-fold Cross-Validation results\n",
    "\n",
    "models = [\n",
    "    ('Logistic Regression', LR),\n",
    "    ('K nearest neighbors', knn),\n",
    "    ('Random Forest', rfm),\n",
    "    ('SVC', svm),\n",
    "    ('Gradient Boosting', gb),\n",
    "    ('XGBoost', xgb)\n",
    "]\n",
    "\n",
    "# number of k-folds\n",
    "k = 5\n",
    "\n",
    "results = []\n",
    "\n",
    "for name, model in models:\n",
    "    kf = KFold(n_splits=k, shuffle=True, random_state=42)  # Create a KFold object\n",
    "    scores = cross_val_score(model, X_train, y_train, cv=kf, scoring='accuracy')\n",
    "\n",
    "    # Append results to the list\n",
    "    results.append((name, scores.mean(), scores.std()))\n",
    "\n",
    "results_df = pd.DataFrame(results, columns=['Model', 'Mean Accuracy', 'Std Deviation'])\n",
    "\n",
    "results_df.sort_values(by='Mean Accuracy', ascending=False)"
   ]
  },
  {
   "cell_type": "markdown",
   "metadata": {},
   "source": [
    "The output of our k-fold cross-validation is the mean accuracy and std deviation.\n",
    "\n",
    "1. **Average Accuracy** is the mean across all k folds during the cross-validation process. Higher mean accuracy values indicate better predictive performance.\n",
    "2. **Standard Deviation** measures the variability or spread of accuracy values across the k folds. A lower standard deviation suggests that the model's performance is consistent across different subsets of the data (folds), while a higher standard deviation indicates that the model's performance varies more widely. Smaller standard deviations are generally desirable because they indicate a more stable model.\n",
    "\n",
    "The **XGBoost** model has the highest mean accuracy (0.847025) **85%** among the evaluated models. This means that, on average, the model correctly predicted the target variable for about 85% of the data points in each fold. It performs well on average across different folds, and it has a relatively low standard deviation (0.0050), indicating consistent performance."
   ]
  },
  {
   "cell_type": "markdown",
   "metadata": {},
   "source": [
    "### Classification Report"
   ]
  },
  {
   "cell_type": "code",
   "execution_count": 112,
   "metadata": {},
   "outputs": [
    {
     "data": {
      "text/html": [
       "<div>\n",
       "<style scoped>\n",
       "    .dataframe tbody tr th:only-of-type {\n",
       "        vertical-align: middle;\n",
       "    }\n",
       "\n",
       "    .dataframe tbody tr th {\n",
       "        vertical-align: top;\n",
       "    }\n",
       "\n",
       "    .dataframe thead th {\n",
       "        text-align: right;\n",
       "    }\n",
       "</style>\n",
       "<table border=\"1\" class=\"dataframe\">\n",
       "  <thead>\n",
       "    <tr style=\"text-align: right;\">\n",
       "      <th></th>\n",
       "      <th>Model</th>\n",
       "      <th>Accuracy</th>\n",
       "      <th>Precision</th>\n",
       "      <th>Recall</th>\n",
       "      <th>F1-Score</th>\n",
       "    </tr>\n",
       "  </thead>\n",
       "  <tbody>\n",
       "    <tr>\n",
       "      <th>2</th>\n",
       "      <td>Random Forest</td>\n",
       "      <td>0.856757</td>\n",
       "      <td>0.846457</td>\n",
       "      <td>0.871622</td>\n",
       "      <td>0.858855</td>\n",
       "    </tr>\n",
       "    <tr>\n",
       "      <th>5</th>\n",
       "      <td>XGBoost</td>\n",
       "      <td>0.852027</td>\n",
       "      <td>0.850606</td>\n",
       "      <td>0.854054</td>\n",
       "      <td>0.852326</td>\n",
       "    </tr>\n",
       "    <tr>\n",
       "      <th>4</th>\n",
       "      <td>Gradient Boosting</td>\n",
       "      <td>0.843919</td>\n",
       "      <td>0.820933</td>\n",
       "      <td>0.879730</td>\n",
       "      <td>0.849315</td>\n",
       "    </tr>\n",
       "    <tr>\n",
       "      <th>3</th>\n",
       "      <td>SVM</td>\n",
       "      <td>0.795270</td>\n",
       "      <td>0.776933</td>\n",
       "      <td>0.828378</td>\n",
       "      <td>0.801831</td>\n",
       "    </tr>\n",
       "    <tr>\n",
       "      <th>1</th>\n",
       "      <td>k-NN</td>\n",
       "      <td>0.789189</td>\n",
       "      <td>0.736726</td>\n",
       "      <td>0.900000</td>\n",
       "      <td>0.810219</td>\n",
       "    </tr>\n",
       "    <tr>\n",
       "      <th>0</th>\n",
       "      <td>Logistic Regression</td>\n",
       "      <td>0.781081</td>\n",
       "      <td>0.756158</td>\n",
       "      <td>0.829730</td>\n",
       "      <td>0.791237</td>\n",
       "    </tr>\n",
       "  </tbody>\n",
       "</table>\n",
       "</div>"
      ],
      "text/plain": [
       "                 Model  Accuracy  Precision    Recall  F1-Score\n",
       "2        Random Forest  0.856757   0.846457  0.871622  0.858855\n",
       "5              XGBoost  0.852027   0.850606  0.854054  0.852326\n",
       "4    Gradient Boosting  0.843919   0.820933  0.879730  0.849315\n",
       "3                  SVM  0.795270   0.776933  0.828378  0.801831\n",
       "1                 k-NN  0.789189   0.736726  0.900000  0.810219\n",
       "0  Logistic Regression  0.781081   0.756158  0.829730  0.791237"
      ]
     },
     "execution_count": 112,
     "metadata": {},
     "output_type": "execute_result"
    }
   ],
   "source": [
    "model_names = ['Logistic Regression', 'k-NN', 'Random Forest', 'SVM', 'Gradient Boosting', 'XGBoost']\n",
    "models = [LR, knn, rfm, svm, gb, xgb] # our trained models\n",
    "model_names_list = []\n",
    "accuracy_scores = []\n",
    "precision_scores = []\n",
    "recall_scores = []\n",
    "f1_scores = []\n",
    "\n",
    "# Loop through each model to calculate metrics and store information\n",
    "for name, model in zip(model_names, models):\n",
    "    # Make predictions on the test data\n",
    "    y_pred = model.predict(X_test)\n",
    "    \n",
    "    # Calculate accuracy, precision, recall, and F1-score\n",
    "    accuracy = accuracy_score(y_test, y_pred)\n",
    "    precision = precision_score(y_test, y_pred)\n",
    "    recall = recall_score(y_test, y_pred)\n",
    "    f1 = f1_score(y_test, y_pred)\n",
    "    \n",
    "    # Store model name and metrics\n",
    "    model_names_list.append(name)\n",
    "    accuracy_scores.append(accuracy)\n",
    "    precision_scores.append(precision)\n",
    "    recall_scores.append(recall)\n",
    "    f1_scores.append(f1)\n",
    "\n",
    "# Create a DataFrame with the calculated metrics\n",
    "metrics_df = pd.DataFrame({\n",
    "    'Model': model_names_list,\n",
    "    'Accuracy': accuracy_scores,\n",
    "    'Precision': precision_scores,\n",
    "    'Recall': recall_scores,\n",
    "    'F1-Score': f1_scores\n",
    "})\n",
    "\n",
    "# Display the DataFrame\n",
    "metrics_df.sort_values(by='Accuracy', ascending=False)"
   ]
  },
  {
   "cell_type": "markdown",
   "metadata": {},
   "source": [
    "- The random forest model is our highest performing model with an accuracy of 0.856757 / **86%**.\n",
    "\n",
    "**Accuracy**: Accuracy is a measure of the overall correctness of predictions made by the model. It indicates the proportion of correctly classified instances out of the total number of instances.\n",
    "\n",
    "**Precision**: Precision is a metric that measures the proportion of true positive predictions (*correctly predicted positive instances*) out of all instances predicted as positive. It assesses the model's ability to avoid false positives.\n",
    "\n",
    "**Recall**: Recall, also known as *sensitivity* or true positive rate, measures the proportion of true positive predictions out of all actual positive instances. It assesses the model's ability to capture all positive instances.\n",
    "\n",
    "**F1-Score**: The F1-Score is the harmonic mean of precision and recall. It provides a balanced measure that considers both false positives and false negatives. It is particularly useful when dealing with imbalanced datasets.\n",
    "\n",
    "- Our top 3 models (Random Forest, XGBoost and Gradient Boosting) are all tree based models, specifically ensemble learning techniques that combine multiple individual trees to improve overall performance and robustness. They reduce overfitting by averaging or boosting the individual trees' predictions. They offer a combination of powerful features that make them robust, accurate, and versatile for classification tasks across a wide range of domains and data characteristics."
   ]
  },
  {
   "cell_type": "code",
   "execution_count": 114,
   "metadata": {},
   "outputs": [
    {
     "data": {
      "application/vnd.plotly.v1+json": {
       "config": {
        "plotlyServerURL": "https://plot.ly"
       },
       "data": [
        {
         "alignmentgroup": "True",
         "hovertemplate": "Model Name=%{x}<br>Accuracy Score=%{y}<extra></extra>",
         "legendgroup": "Logistic Regression",
         "marker": {
          "color": "#636efa",
          "pattern": {
           "shape": ""
          }
         },
         "name": "Logistic Regression",
         "offsetgroup": "Logistic Regression",
         "orientation": "v",
         "showlegend": true,
         "textposition": "auto",
         "type": "bar",
         "x": [
          "Logistic Regression"
         ],
         "xaxis": "x",
         "y": [
          0.7810810810810811
         ],
         "yaxis": "y"
        },
        {
         "alignmentgroup": "True",
         "hovertemplate": "Model Name=%{x}<br>Accuracy Score=%{y}<extra></extra>",
         "legendgroup": "k-NN",
         "marker": {
          "color": "#EF553B",
          "pattern": {
           "shape": ""
          }
         },
         "name": "k-NN",
         "offsetgroup": "k-NN",
         "orientation": "v",
         "showlegend": true,
         "textposition": "auto",
         "type": "bar",
         "x": [
          "k-NN"
         ],
         "xaxis": "x",
         "y": [
          0.7891891891891892
         ],
         "yaxis": "y"
        },
        {
         "alignmentgroup": "True",
         "hovertemplate": "Model Name=%{x}<br>Accuracy Score=%{y}<extra></extra>",
         "legendgroup": "SVM",
         "marker": {
          "color": "#00cc96",
          "pattern": {
           "shape": ""
          }
         },
         "name": "SVM",
         "offsetgroup": "SVM",
         "orientation": "v",
         "showlegend": true,
         "textposition": "auto",
         "type": "bar",
         "x": [
          "SVM"
         ],
         "xaxis": "x",
         "y": [
          0.7952702702702703
         ],
         "yaxis": "y"
        },
        {
         "alignmentgroup": "True",
         "hovertemplate": "Model Name=%{x}<br>Accuracy Score=%{y}<extra></extra>",
         "legendgroup": "Gradient Boosting",
         "marker": {
          "color": "#ab63fa",
          "pattern": {
           "shape": ""
          }
         },
         "name": "Gradient Boosting",
         "offsetgroup": "Gradient Boosting",
         "orientation": "v",
         "showlegend": true,
         "textposition": "auto",
         "type": "bar",
         "x": [
          "Gradient Boosting"
         ],
         "xaxis": "x",
         "y": [
          0.8439189189189189
         ],
         "yaxis": "y"
        },
        {
         "alignmentgroup": "True",
         "hovertemplate": "Model Name=%{x}<br>Accuracy Score=%{y}<extra></extra>",
         "legendgroup": "XGBoost",
         "marker": {
          "color": "#FFA15A",
          "pattern": {
           "shape": ""
          }
         },
         "name": "XGBoost",
         "offsetgroup": "XGBoost",
         "orientation": "v",
         "showlegend": true,
         "textposition": "auto",
         "type": "bar",
         "x": [
          "XGBoost"
         ],
         "xaxis": "x",
         "y": [
          0.852027027027027
         ],
         "yaxis": "y"
        },
        {
         "alignmentgroup": "True",
         "hovertemplate": "Model Name=%{x}<br>Accuracy Score=%{y}<extra></extra>",
         "legendgroup": "Random Forest",
         "marker": {
          "color": "#19d3f3",
          "pattern": {
           "shape": ""
          }
         },
         "name": "Random Forest",
         "offsetgroup": "Random Forest",
         "orientation": "v",
         "showlegend": true,
         "textposition": "auto",
         "type": "bar",
         "x": [
          "Random Forest"
         ],
         "xaxis": "x",
         "y": [
          0.8567567567567568
         ],
         "yaxis": "y"
        }
       ],
       "layout": {
        "barmode": "relative",
        "legend": {
         "title": {
          "text": "Model Name"
         },
         "tracegroupgap": 0
        },
        "template": {
         "data": {
          "bar": [
           {
            "error_x": {
             "color": "#2a3f5f"
            },
            "error_y": {
             "color": "#2a3f5f"
            },
            "marker": {
             "line": {
              "color": "#E5ECF6",
              "width": 0.5
             },
             "pattern": {
              "fillmode": "overlay",
              "size": 10,
              "solidity": 0.2
             }
            },
            "type": "bar"
           }
          ],
          "barpolar": [
           {
            "marker": {
             "line": {
              "color": "#E5ECF6",
              "width": 0.5
             },
             "pattern": {
              "fillmode": "overlay",
              "size": 10,
              "solidity": 0.2
             }
            },
            "type": "barpolar"
           }
          ],
          "carpet": [
           {
            "aaxis": {
             "endlinecolor": "#2a3f5f",
             "gridcolor": "white",
             "linecolor": "white",
             "minorgridcolor": "white",
             "startlinecolor": "#2a3f5f"
            },
            "baxis": {
             "endlinecolor": "#2a3f5f",
             "gridcolor": "white",
             "linecolor": "white",
             "minorgridcolor": "white",
             "startlinecolor": "#2a3f5f"
            },
            "type": "carpet"
           }
          ],
          "choropleth": [
           {
            "colorbar": {
             "outlinewidth": 0,
             "ticks": ""
            },
            "type": "choropleth"
           }
          ],
          "contour": [
           {
            "colorbar": {
             "outlinewidth": 0,
             "ticks": ""
            },
            "colorscale": [
             [
              0,
              "#0d0887"
             ],
             [
              0.1111111111111111,
              "#46039f"
             ],
             [
              0.2222222222222222,
              "#7201a8"
             ],
             [
              0.3333333333333333,
              "#9c179e"
             ],
             [
              0.4444444444444444,
              "#bd3786"
             ],
             [
              0.5555555555555556,
              "#d8576b"
             ],
             [
              0.6666666666666666,
              "#ed7953"
             ],
             [
              0.7777777777777778,
              "#fb9f3a"
             ],
             [
              0.8888888888888888,
              "#fdca26"
             ],
             [
              1,
              "#f0f921"
             ]
            ],
            "type": "contour"
           }
          ],
          "contourcarpet": [
           {
            "colorbar": {
             "outlinewidth": 0,
             "ticks": ""
            },
            "type": "contourcarpet"
           }
          ],
          "heatmap": [
           {
            "colorbar": {
             "outlinewidth": 0,
             "ticks": ""
            },
            "colorscale": [
             [
              0,
              "#0d0887"
             ],
             [
              0.1111111111111111,
              "#46039f"
             ],
             [
              0.2222222222222222,
              "#7201a8"
             ],
             [
              0.3333333333333333,
              "#9c179e"
             ],
             [
              0.4444444444444444,
              "#bd3786"
             ],
             [
              0.5555555555555556,
              "#d8576b"
             ],
             [
              0.6666666666666666,
              "#ed7953"
             ],
             [
              0.7777777777777778,
              "#fb9f3a"
             ],
             [
              0.8888888888888888,
              "#fdca26"
             ],
             [
              1,
              "#f0f921"
             ]
            ],
            "type": "heatmap"
           }
          ],
          "heatmapgl": [
           {
            "colorbar": {
             "outlinewidth": 0,
             "ticks": ""
            },
            "colorscale": [
             [
              0,
              "#0d0887"
             ],
             [
              0.1111111111111111,
              "#46039f"
             ],
             [
              0.2222222222222222,
              "#7201a8"
             ],
             [
              0.3333333333333333,
              "#9c179e"
             ],
             [
              0.4444444444444444,
              "#bd3786"
             ],
             [
              0.5555555555555556,
              "#d8576b"
             ],
             [
              0.6666666666666666,
              "#ed7953"
             ],
             [
              0.7777777777777778,
              "#fb9f3a"
             ],
             [
              0.8888888888888888,
              "#fdca26"
             ],
             [
              1,
              "#f0f921"
             ]
            ],
            "type": "heatmapgl"
           }
          ],
          "histogram": [
           {
            "marker": {
             "pattern": {
              "fillmode": "overlay",
              "size": 10,
              "solidity": 0.2
             }
            },
            "type": "histogram"
           }
          ],
          "histogram2d": [
           {
            "colorbar": {
             "outlinewidth": 0,
             "ticks": ""
            },
            "colorscale": [
             [
              0,
              "#0d0887"
             ],
             [
              0.1111111111111111,
              "#46039f"
             ],
             [
              0.2222222222222222,
              "#7201a8"
             ],
             [
              0.3333333333333333,
              "#9c179e"
             ],
             [
              0.4444444444444444,
              "#bd3786"
             ],
             [
              0.5555555555555556,
              "#d8576b"
             ],
             [
              0.6666666666666666,
              "#ed7953"
             ],
             [
              0.7777777777777778,
              "#fb9f3a"
             ],
             [
              0.8888888888888888,
              "#fdca26"
             ],
             [
              1,
              "#f0f921"
             ]
            ],
            "type": "histogram2d"
           }
          ],
          "histogram2dcontour": [
           {
            "colorbar": {
             "outlinewidth": 0,
             "ticks": ""
            },
            "colorscale": [
             [
              0,
              "#0d0887"
             ],
             [
              0.1111111111111111,
              "#46039f"
             ],
             [
              0.2222222222222222,
              "#7201a8"
             ],
             [
              0.3333333333333333,
              "#9c179e"
             ],
             [
              0.4444444444444444,
              "#bd3786"
             ],
             [
              0.5555555555555556,
              "#d8576b"
             ],
             [
              0.6666666666666666,
              "#ed7953"
             ],
             [
              0.7777777777777778,
              "#fb9f3a"
             ],
             [
              0.8888888888888888,
              "#fdca26"
             ],
             [
              1,
              "#f0f921"
             ]
            ],
            "type": "histogram2dcontour"
           }
          ],
          "mesh3d": [
           {
            "colorbar": {
             "outlinewidth": 0,
             "ticks": ""
            },
            "type": "mesh3d"
           }
          ],
          "parcoords": [
           {
            "line": {
             "colorbar": {
              "outlinewidth": 0,
              "ticks": ""
             }
            },
            "type": "parcoords"
           }
          ],
          "pie": [
           {
            "automargin": true,
            "type": "pie"
           }
          ],
          "scatter": [
           {
            "fillpattern": {
             "fillmode": "overlay",
             "size": 10,
             "solidity": 0.2
            },
            "type": "scatter"
           }
          ],
          "scatter3d": [
           {
            "line": {
             "colorbar": {
              "outlinewidth": 0,
              "ticks": ""
             }
            },
            "marker": {
             "colorbar": {
              "outlinewidth": 0,
              "ticks": ""
             }
            },
            "type": "scatter3d"
           }
          ],
          "scattercarpet": [
           {
            "marker": {
             "colorbar": {
              "outlinewidth": 0,
              "ticks": ""
             }
            },
            "type": "scattercarpet"
           }
          ],
          "scattergeo": [
           {
            "marker": {
             "colorbar": {
              "outlinewidth": 0,
              "ticks": ""
             }
            },
            "type": "scattergeo"
           }
          ],
          "scattergl": [
           {
            "marker": {
             "colorbar": {
              "outlinewidth": 0,
              "ticks": ""
             }
            },
            "type": "scattergl"
           }
          ],
          "scattermapbox": [
           {
            "marker": {
             "colorbar": {
              "outlinewidth": 0,
              "ticks": ""
             }
            },
            "type": "scattermapbox"
           }
          ],
          "scatterpolar": [
           {
            "marker": {
             "colorbar": {
              "outlinewidth": 0,
              "ticks": ""
             }
            },
            "type": "scatterpolar"
           }
          ],
          "scatterpolargl": [
           {
            "marker": {
             "colorbar": {
              "outlinewidth": 0,
              "ticks": ""
             }
            },
            "type": "scatterpolargl"
           }
          ],
          "scatterternary": [
           {
            "marker": {
             "colorbar": {
              "outlinewidth": 0,
              "ticks": ""
             }
            },
            "type": "scatterternary"
           }
          ],
          "surface": [
           {
            "colorbar": {
             "outlinewidth": 0,
             "ticks": ""
            },
            "colorscale": [
             [
              0,
              "#0d0887"
             ],
             [
              0.1111111111111111,
              "#46039f"
             ],
             [
              0.2222222222222222,
              "#7201a8"
             ],
             [
              0.3333333333333333,
              "#9c179e"
             ],
             [
              0.4444444444444444,
              "#bd3786"
             ],
             [
              0.5555555555555556,
              "#d8576b"
             ],
             [
              0.6666666666666666,
              "#ed7953"
             ],
             [
              0.7777777777777778,
              "#fb9f3a"
             ],
             [
              0.8888888888888888,
              "#fdca26"
             ],
             [
              1,
              "#f0f921"
             ]
            ],
            "type": "surface"
           }
          ],
          "table": [
           {
            "cells": {
             "fill": {
              "color": "#EBF0F8"
             },
             "line": {
              "color": "white"
             }
            },
            "header": {
             "fill": {
              "color": "#C8D4E3"
             },
             "line": {
              "color": "white"
             }
            },
            "type": "table"
           }
          ]
         },
         "layout": {
          "annotationdefaults": {
           "arrowcolor": "#2a3f5f",
           "arrowhead": 0,
           "arrowwidth": 1
          },
          "autotypenumbers": "strict",
          "coloraxis": {
           "colorbar": {
            "outlinewidth": 0,
            "ticks": ""
           }
          },
          "colorscale": {
           "diverging": [
            [
             0,
             "#8e0152"
            ],
            [
             0.1,
             "#c51b7d"
            ],
            [
             0.2,
             "#de77ae"
            ],
            [
             0.3,
             "#f1b6da"
            ],
            [
             0.4,
             "#fde0ef"
            ],
            [
             0.5,
             "#f7f7f7"
            ],
            [
             0.6,
             "#e6f5d0"
            ],
            [
             0.7,
             "#b8e186"
            ],
            [
             0.8,
             "#7fbc41"
            ],
            [
             0.9,
             "#4d9221"
            ],
            [
             1,
             "#276419"
            ]
           ],
           "sequential": [
            [
             0,
             "#0d0887"
            ],
            [
             0.1111111111111111,
             "#46039f"
            ],
            [
             0.2222222222222222,
             "#7201a8"
            ],
            [
             0.3333333333333333,
             "#9c179e"
            ],
            [
             0.4444444444444444,
             "#bd3786"
            ],
            [
             0.5555555555555556,
             "#d8576b"
            ],
            [
             0.6666666666666666,
             "#ed7953"
            ],
            [
             0.7777777777777778,
             "#fb9f3a"
            ],
            [
             0.8888888888888888,
             "#fdca26"
            ],
            [
             1,
             "#f0f921"
            ]
           ],
           "sequentialminus": [
            [
             0,
             "#0d0887"
            ],
            [
             0.1111111111111111,
             "#46039f"
            ],
            [
             0.2222222222222222,
             "#7201a8"
            ],
            [
             0.3333333333333333,
             "#9c179e"
            ],
            [
             0.4444444444444444,
             "#bd3786"
            ],
            [
             0.5555555555555556,
             "#d8576b"
            ],
            [
             0.6666666666666666,
             "#ed7953"
            ],
            [
             0.7777777777777778,
             "#fb9f3a"
            ],
            [
             0.8888888888888888,
             "#fdca26"
            ],
            [
             1,
             "#f0f921"
            ]
           ]
          },
          "colorway": [
           "#636efa",
           "#EF553B",
           "#00cc96",
           "#ab63fa",
           "#FFA15A",
           "#19d3f3",
           "#FF6692",
           "#B6E880",
           "#FF97FF",
           "#FECB52"
          ],
          "font": {
           "color": "#2a3f5f"
          },
          "geo": {
           "bgcolor": "white",
           "lakecolor": "white",
           "landcolor": "#E5ECF6",
           "showlakes": true,
           "showland": true,
           "subunitcolor": "white"
          },
          "hoverlabel": {
           "align": "left"
          },
          "hovermode": "closest",
          "mapbox": {
           "style": "light"
          },
          "paper_bgcolor": "white",
          "plot_bgcolor": "#E5ECF6",
          "polar": {
           "angularaxis": {
            "gridcolor": "white",
            "linecolor": "white",
            "ticks": ""
           },
           "bgcolor": "#E5ECF6",
           "radialaxis": {
            "gridcolor": "white",
            "linecolor": "white",
            "ticks": ""
           }
          },
          "scene": {
           "xaxis": {
            "backgroundcolor": "#E5ECF6",
            "gridcolor": "white",
            "gridwidth": 2,
            "linecolor": "white",
            "showbackground": true,
            "ticks": "",
            "zerolinecolor": "white"
           },
           "yaxis": {
            "backgroundcolor": "#E5ECF6",
            "gridcolor": "white",
            "gridwidth": 2,
            "linecolor": "white",
            "showbackground": true,
            "ticks": "",
            "zerolinecolor": "white"
           },
           "zaxis": {
            "backgroundcolor": "#E5ECF6",
            "gridcolor": "white",
            "gridwidth": 2,
            "linecolor": "white",
            "showbackground": true,
            "ticks": "",
            "zerolinecolor": "white"
           }
          },
          "shapedefaults": {
           "line": {
            "color": "#2a3f5f"
           }
          },
          "ternary": {
           "aaxis": {
            "gridcolor": "white",
            "linecolor": "white",
            "ticks": ""
           },
           "baxis": {
            "gridcolor": "white",
            "linecolor": "white",
            "ticks": ""
           },
           "bgcolor": "#E5ECF6",
           "caxis": {
            "gridcolor": "white",
            "linecolor": "white",
            "ticks": ""
           }
          },
          "title": {
           "x": 0.05
          },
          "xaxis": {
           "automargin": true,
           "gridcolor": "white",
           "linecolor": "white",
           "ticks": "",
           "title": {
            "standoff": 15
           },
           "zerolinecolor": "white",
           "zerolinewidth": 2
          },
          "yaxis": {
           "automargin": true,
           "gridcolor": "white",
           "linecolor": "white",
           "ticks": "",
           "title": {
            "standoff": 15
           },
           "zerolinecolor": "white",
           "zerolinewidth": 2
          }
         }
        },
        "title": {
         "text": "Model Performance Metrics (Accuracy)"
        },
        "xaxis": {
         "anchor": "y",
         "categoryarray": [
          "Logistic Regression",
          "k-NN",
          "SVM",
          "Gradient Boosting",
          "XGBoost",
          "Random Forest"
         ],
         "categoryorder": "array",
         "domain": [
          0,
          1
         ],
         "title": {
          "text": "Model Name"
         }
        },
        "yaxis": {
         "anchor": "x",
         "domain": [
          0,
          1
         ],
         "title": {
          "text": "Accuracy Score"
         }
        }
       }
      }
     },
     "metadata": {},
     "output_type": "display_data"
    }
   ],
   "source": [
    "# Sort the DataFrame by the 'Accuracy' column in ascending order\n",
    "metrics_df_sorted = metrics_df.sort_values(by='Accuracy')\n",
    "\n",
    "# Create the plot\n",
    "fig = px.bar(metrics_df_sorted, x='Model', y='Accuracy', color='Model',\n",
    "             title='Model Performance Metrics (Accuracy)',\n",
    "             labels={'Model': 'Model Name', 'Accuracy': 'Accuracy Score'}\n",
    "            )\n",
    "\n",
    "# Show the plot\n",
    "fig.show()"
   ]
  },
  {
   "cell_type": "markdown",
   "metadata": {},
   "source": [
    "These are the performancemetrics from our classification report that help us see how our models are performing.\n",
    "\n",
    "1. **Accuracy**: Accuracy measures the proportion of correctly predicted instances out of the total instances in the dataset. It is an important metric for classification tasks. Our Random Forest model has the highest accuracy (0.8567). This means that around 86% of the predictions made by the Random Forest model were correct. Since our data is balanced, we want to use the accuracy score as our main evaluation metric.\n",
    "\n",
    "In balanced data, there is less risk of the model being biased towards one class due to class imbalance. As a result, accuracy effectively captures the model's ability to correctly classify instances from both classes equally. When the classes are balanced, a high accuracy score indicates that the model is performing well across both classes and is making accurate predictions overall.\n",
    "\n",
    "2. **Precision**: Precision quantifies how many of the positive predictions made by the model were actually correct. It's the ratio of true positives (correctly predicted positives) to the total number of instances predicted as positive. A higher precision indicates fewer false positives. In the Random Forest model, the precision is approximately 0.8465, meaning that about 85% of the positive predictions made by the model were accurate.\n",
    "\n",
    "3. **Recall**: Recall, also known as *sensitivity* or true positive rate, measures the proportion of actual positive instances that were correctly predicted by the model. It's the ratio of true positives to the total number of actual positives. A higher recall indicates fewer false negatives. In the Random Forest model, the recall is approximately 0.8716, indicating that about 87% of the actual positive instances were correctly identified by the model.\n",
    "\n",
    "4. **F1-Score**: The F1-Score is the harmonic mean of precision and recall. It combines both precision and recall into a single metric. The F1-Score gives us a balanced measure of a model's performance, considering both false positives and false negatives. In the Random Forest model, the F1-Score is approximately 0.8588, which takes into account both precision and recall."
   ]
  },
  {
   "cell_type": "code",
   "execution_count": 115,
   "metadata": {},
   "outputs": [],
   "source": [
    "file_path = 'Screenshots\\Model_Performance_Accuracy.png'\n",
    "\n",
    "# save the figure as a PNG image\n",
    "\n",
    "pio.write_image(fig, file_path)"
   ]
  },
  {
   "cell_type": "markdown",
   "metadata": {},
   "source": [
    "### Hyperparameter tuning \n",
    "\n",
    "We will Fine-tune our top 3 models using a ` RandomizedSearchCV`  (that is in sklearn.model_selection\n",
    ") to find the best hyperparameters and achieve the maximum performance of each of the Top 3 models, then compare them again to select the best one."
   ]
  },
  {
   "cell_type": "markdown",
   "metadata": {},
   "source": [
    "#### 1. Tuning Model 1 (Random Forest)"
   ]
  },
  {
   "cell_type": "code",
   "execution_count": 116,
   "metadata": {},
   "outputs": [
    {
     "data": {
      "text/plain": [
       "{'bootstrap': True,\n",
       " 'ccp_alpha': 0.0,\n",
       " 'class_weight': None,\n",
       " 'criterion': 'gini',\n",
       " 'max_depth': None,\n",
       " 'max_features': 'sqrt',\n",
       " 'max_leaf_nodes': None,\n",
       " 'max_samples': None,\n",
       " 'min_impurity_decrease': 0.0,\n",
       " 'min_samples_leaf': 1,\n",
       " 'min_samples_split': 2,\n",
       " 'min_weight_fraction_leaf': 0.0,\n",
       " 'n_estimators': 100,\n",
       " 'n_jobs': None,\n",
       " 'oob_score': False,\n",
       " 'random_state': 42,\n",
       " 'verbose': 0,\n",
       " 'warm_start': False}"
      ]
     },
     "execution_count": 116,
     "metadata": {},
     "output_type": "execute_result"
    }
   ],
   "source": [
    "# Check current model parameters\n",
    "\n",
    "current_params = rfm.get_params()\n",
    "current_params"
   ]
  },
  {
   "cell_type": "code",
   "execution_count": 117,
   "metadata": {},
   "outputs": [
    {
     "name": "stdout",
     "output_type": "stream",
     "text": [
      "Fitting 5 folds for each of 150 candidates, totalling 750 fits\n"
     ]
    },
    {
     "data": {
      "text/plain": [
       "{'n_estimators': 300,\n",
       " 'min_samples_split': 3,\n",
       " 'min_samples_leaf': 1,\n",
       " 'max_features': 'log2',\n",
       " 'max_depth': 25,\n",
       " 'criterion': 'gini',\n",
       " 'class_weight': None}"
      ]
     },
     "execution_count": 117,
     "metadata": {},
     "output_type": "execute_result"
    }
   ],
   "source": [
    "# Random Forest tuning\n",
    "\n",
    "# Define the parameter distributions for hyperparameter tuning\n",
    "param_grid = {\n",
    "  'n_estimators': [20, 50, 100, 200, 300],\n",
    "  'max_depth': [None, 10, 15, 20, 25],\n",
    "  'min_samples_split': [2, 3, 4, 5, 6],\n",
    "  'min_samples_leaf': [1, 2, 3, 4, 5],\n",
    "  'class_weight': ['balanced', None],\n",
    "  'max_features': ['auto', 'sqrt', 'log2'],\n",
    "  'criterion': ['gini', 'entropy']\n",
    "}\n",
    "\n",
    "# Initialize RandomizedSearchCV with the RandomForestClassifier model and parameter distributions\n",
    "random_search_rf = RandomizedSearchCV(estimator=rfm, param_distributions=param_grid, \n",
    "                                      scoring='accuracy', n_iter=150, random_state=42,\n",
    "                                      cv=5, n_jobs=-1, verbose = 1)\n",
    "\n",
    "# fit best estimator on train data\n",
    "random_search_rf.fit(X_train, y_train)\n",
    "\n",
    "# best parameters\n",
    "best_params = random_search_rf.best_params_\n",
    "\n",
    "# mean accuracy score of the best estimator\n",
    "best_score = random_search_rf.best_score_\n",
    "\n",
    "best_params"
   ]
  },
  {
   "cell_type": "code",
   "execution_count": 118,
   "metadata": {},
   "outputs": [
    {
     "data": {
      "text/plain": [
       "0.8493911493911493"
      ]
     },
     "execution_count": 118,
     "metadata": {},
     "output_type": "execute_result"
    }
   ],
   "source": [
    "# mean accuracy score of the best estimator\n",
    "\n",
    "best_score"
   ]
  },
  {
   "cell_type": "code",
   "execution_count": 119,
   "metadata": {},
   "outputs": [],
   "source": [
    "# Fit tuned model on train data\n",
    "\n",
    "tuned_rf_model = random_search_rf.best_estimator_\n",
    "tuned_rf_model.fit(X_train, y_train)\n",
    "\n",
    "# make the predictions\n",
    "random_search_rf_pred = tuned_rf_model.predict(X_test)\n",
    "original_rf_model = rfm.predict(X_test)"
   ]
  },
  {
   "cell_type": "markdown",
   "metadata": {},
   "source": [
    "Let's compare the tuned model and the original model performance"
   ]
  },
  {
   "cell_type": "code",
   "execution_count": 120,
   "metadata": {},
   "outputs": [
    {
     "data": {
      "text/html": [
       "<div>\n",
       "<style scoped>\n",
       "    .dataframe tbody tr th:only-of-type {\n",
       "        vertical-align: middle;\n",
       "    }\n",
       "\n",
       "    .dataframe tbody tr th {\n",
       "        vertical-align: top;\n",
       "    }\n",
       "\n",
       "    .dataframe thead th {\n",
       "        text-align: right;\n",
       "    }\n",
       "</style>\n",
       "<table border=\"1\" class=\"dataframe\">\n",
       "  <thead>\n",
       "    <tr style=\"text-align: right;\">\n",
       "      <th></th>\n",
       "      <th>Total Precision</th>\n",
       "      <th>Total Recall</th>\n",
       "      <th>Total F1-Score</th>\n",
       "      <th>Accuracy</th>\n",
       "    </tr>\n",
       "  </thead>\n",
       "  <tbody>\n",
       "    <tr>\n",
       "      <th>Original Random Forest</th>\n",
       "      <td>0.857072</td>\n",
       "      <td>0.856757</td>\n",
       "      <td>0.856725</td>\n",
       "      <td>0.856757</td>\n",
       "    </tr>\n",
       "    <tr>\n",
       "      <th>Tuned Random Forest</th>\n",
       "      <td>0.857668</td>\n",
       "      <td>0.857432</td>\n",
       "      <td>0.857409</td>\n",
       "      <td>0.857432</td>\n",
       "    </tr>\n",
       "  </tbody>\n",
       "</table>\n",
       "</div>"
      ],
      "text/plain": [
       "                        Total Precision  Total Recall  Total F1-Score  \\\n",
       "Original Random Forest         0.857072      0.856757        0.856725   \n",
       "Tuned Random Forest            0.857668      0.857432        0.857409   \n",
       "\n",
       "                        Accuracy  \n",
       "Original Random Forest  0.856757  \n",
       "Tuned Random Forest     0.857432  "
      ]
     },
     "execution_count": 120,
     "metadata": {},
     "output_type": "execute_result"
    }
   ],
   "source": [
    "# Calculate the classification report\n",
    "\n",
    "report = classification_report(y_test, original_rf_model, output_dict=True)\n",
    "report_2 = classification_report(y_test, random_search_rf_pred, output_dict=True)\n",
    "\n",
    "# Extract precision, recall, f1-score, and accuracy metrics for both classes\n",
    "\n",
    "precision = ((report['1']['precision'] + report['0']['precision'])) / 2\n",
    "recall = ((report['1']['recall'] + report['0']['recall'])) / 2\n",
    "f1 = ((report['1']['f1-score'] + report['0']['f1-score'])) / 2\n",
    "\n",
    "precision2 = ((report_2['1']['precision'] + report_2['0']['precision'])) / 2\n",
    "recall2 = ((report_2['1']['recall'] + report_2['0']['recall'])) / 2\n",
    "f12 = ((report_2['1']['f1-score'] + report_2['0']['f1-score'])) / 2\n",
    "\n",
    "# Create dictionaries for metrics\n",
    "metrics_original_Random_Forest = {\n",
    "    'Total Precision': precision,\n",
    "    'Total Recall': recall,\n",
    "    'Total F1-Score': f1,\n",
    "    'Accuracy': report['accuracy']\n",
    "}\n",
    "\n",
    "metrics_Tuned_Random_Forest = {\n",
    "    'Total Precision': precision2,\n",
    "    'Total Recall': recall2,\n",
    "    'Total F1-Score': f12,\n",
    "    'Accuracy': report_2['accuracy']\n",
    "}\n",
    "\n",
    "# Create DataFrames from the metrics dictionaries\n",
    "metrics_df_original = pd.DataFrame(metrics_original_Random_Forest, index=['Original Random Forest'])\n",
    "metrics_df_tuned = pd.DataFrame(metrics_Tuned_Random_Forest, index=['Tuned Random Forest'])\n",
    "\n",
    "# Concatenate the DataFrames vertically to combine the metrics\n",
    "combined_metrics_df = pd.concat([metrics_df_original, metrics_df_tuned])\n",
    "\n",
    "combined_metrics_df"
   ]
  },
  {
   "cell_type": "markdown",
   "metadata": {},
   "source": [
    "- Our Model has barely improved, still at **86%** "
   ]
  },
  {
   "cell_type": "code",
   "execution_count": 121,
   "metadata": {},
   "outputs": [
    {
     "data": {
      "text/plain": [
       "array([[625, 115],\n",
       "       [ 96, 644]], dtype=int64)"
      ]
     },
     "execution_count": 121,
     "metadata": {},
     "output_type": "execute_result"
    }
   ],
   "source": [
    "# construct the confusion matrix for tuned model\n",
    "confusion_matrix_rf = confusion_matrix(y_test, random_search_rf_pred)\n",
    "\n",
    "confusion_matrix_rf"
   ]
  },
  {
   "cell_type": "code",
   "execution_count": 122,
   "metadata": {},
   "outputs": [
    {
     "data": {
      "image/png": "[encoded data removed]",
      "text/plain": [
       "<Figure size 600x600 with 1 Axes>"
      ]
     },
     "metadata": {},
     "output_type": "display_data"
    }
   ],
   "source": [
    "plt.figure(figsize=(6, 6))\n",
    "sns.heatmap(confusion_matrix_rf, annot=True, fmt='d', cmap='Blues', cbar=False,\n",
    "            xticklabels=['No Churn', 'Churn'],\n",
    "            yticklabels=['No Churn', 'Churn'])\n",
    "plt.xlabel('Predicted')\n",
    "plt.ylabel('Actual')\n",
    "plt.title('Confusion Matrix')\n",
    "plt.show()"
   ]
  },
  {
   "cell_type": "markdown",
   "metadata": {},
   "source": [
    "- 625 instances were correctly classified as True Negatives (TN).\n",
    "- 644 instances were correctly classified as True Positives (TP).\n",
    "- 115 instances were classified as False Positives (FP).\n",
    "- 96 instances were classified as False Negatives (FN)."
   ]
  },
  {
   "cell_type": "markdown",
   "metadata": {},
   "source": [
    "#### 2. Tuning Model 1 (XGBoost)"
   ]
  },
  {
   "cell_type": "code",
   "execution_count": 123,
   "metadata": {},
   "outputs": [
    {
     "data": {
      "text/plain": [
       "{'objective': 'binary:logistic',\n",
       " 'base_score': None,\n",
       " 'booster': None,\n",
       " 'callbacks': None,\n",
       " 'colsample_bylevel': None,\n",
       " 'colsample_bynode': None,\n",
       " 'colsample_bytree': None,\n",
       " 'device': None,\n",
       " 'early_stopping_rounds': None,\n",
       " 'enable_categorical': False,\n",
       " 'eval_metric': None,\n",
       " 'feature_types': None,\n",
       " 'gamma': None,\n",
       " 'grow_policy': None,\n",
       " 'importance_type': None,\n",
       " 'interaction_constraints': None,\n",
       " 'learning_rate': None,\n",
       " 'max_bin': None,\n",
       " 'max_cat_threshold': None,\n",
       " 'max_cat_to_onehot': None,\n",
       " 'max_delta_step': None,\n",
       " 'max_depth': None,\n",
       " 'max_leaves': None,\n",
       " 'min_child_weight': None,\n",
       " 'missing': nan,\n",
       " 'monotone_constraints': None,\n",
       " 'multi_strategy': None,\n",
       " 'n_estimators': None,\n",
       " 'n_jobs': None,\n",
       " 'num_parallel_tree': None,\n",
       " 'random_state': 42,\n",
       " 'reg_alpha': None,\n",
       " 'reg_lambda': None,\n",
       " 'sampling_method': None,\n",
       " 'scale_pos_weight': None,\n",
       " 'subsample': None,\n",
       " 'tree_method': None,\n",
       " 'validate_parameters': None,\n",
       " 'verbosity': None}"
      ]
     },
     "execution_count": 123,
     "metadata": {},
     "output_type": "execute_result"
    }
   ],
   "source": [
    "# Check current model parameters\n",
    "\n",
    "current_params = xgb.get_params()\n",
    "current_params"
   ]
  },
  {
   "cell_type": "code",
   "execution_count": 124,
   "metadata": {},
   "outputs": [
    {
     "name": "stdout",
     "output_type": "stream",
     "text": [
      "Fitting 5 folds for each of 150 candidates, totalling 750 fits\n"
     ]
    },
    {
     "data": {
      "text/plain": [
       "{'n_estimators': 20,\n",
       " 'min_samples_split': 3,\n",
       " 'min_samples_leaf': 3,\n",
       " 'max_features': 'log2',\n",
       " 'max_depth': 10,\n",
       " 'criterion': 'entropy',\n",
       " 'class_weight': None}"
      ]
     },
     "execution_count": 124,
     "metadata": {},
     "output_type": "execute_result"
    }
   ],
   "source": [
    "# XGBoost model tuning\n",
    "\n",
    "param_dist = {\n",
    "    'n_estimators': [None, 50, 100, 200, 300],\n",
    "    'max_depth': [None, 3, 5, 7, 10],\n",
    "    'min_child_weight': [None, 1, 2, 4, 6],\n",
    "    'subsample': [None, 0.1, 0.2, 0.4, 0.6],\n",
    "    'gamma': [None, 0, 0.1, 0.2, 0.3],\n",
    "    'learning_rate': [None, 0.1, 0.2, 0.3],\n",
    "    'reg_alpha': [None, 0, 0.1, 0.5, 1],\n",
    "    'reg_lambda': [None, 0, 0.1, 0.5, 1],\n",
    "}\n",
    "\n",
    "# Initialize RandomizedSearchCV\n",
    "random_search_xgb = RandomizedSearchCV(estimator=xgb, param_distributions=param_grid, scoring='accuracy',\n",
    "                                     cv=5, n_jobs=-1, random_state=42, n_iter=150, verbose = 1)\n",
    "\n",
    "# fit best estimator on train data\n",
    "random_search_xgb.fit(X_train, y_train)\n",
    "\n",
    "# best parameters\n",
    "best_params = random_search_xgb.best_params_\n",
    "\n",
    "# mean accuracy score of the best estimator\n",
    "best_score = random_search_xgb.best_score_\n",
    "\n",
    "best_params"
   ]
  },
  {
   "cell_type": "code",
   "execution_count": 125,
   "metadata": {},
   "outputs": [
    {
     "data": {
      "text/plain": [
       "0.8493915777569624"
      ]
     },
     "execution_count": 125,
     "metadata": {},
     "output_type": "execute_result"
    }
   ],
   "source": [
    "# mean accuracy score of the best estimator\n",
    "\n",
    "best_score"
   ]
  },
  {
   "cell_type": "code",
   "execution_count": 126,
   "metadata": {},
   "outputs": [],
   "source": [
    "# Fit tuned model on train data\n",
    "tuned_xgb_model = random_search_xgb.best_estimator_\n",
    "tuned_xgb_model.fit(X_train, y_train)\n",
    "\n",
    "# make the predictions\n",
    "random_search_xgb_pred = tuned_xgb_model.predict(X_test)\n",
    "original_xgb_model = xgb.predict(X_test)"
   ]
  },
  {
   "cell_type": "code",
   "execution_count": 127,
   "metadata": {},
   "outputs": [
    {
     "data": {
      "text/html": [
       "<div>\n",
       "<style scoped>\n",
       "    .dataframe tbody tr th:only-of-type {\n",
       "        vertical-align: middle;\n",
       "    }\n",
       "\n",
       "    .dataframe tbody tr th {\n",
       "        vertical-align: top;\n",
       "    }\n",
       "\n",
       "    .dataframe thead th {\n",
       "        text-align: right;\n",
       "    }\n",
       "</style>\n",
       "<table border=\"1\" class=\"dataframe\">\n",
       "  <thead>\n",
       "    <tr style=\"text-align: right;\">\n",
       "      <th></th>\n",
       "      <th>Total Precision</th>\n",
       "      <th>Total Recall</th>\n",
       "      <th>Total F1-Score</th>\n",
       "      <th>Accuracy</th>\n",
       "    </tr>\n",
       "  </thead>\n",
       "  <tbody>\n",
       "    <tr>\n",
       "      <th>Original XGBoost</th>\n",
       "      <td>0.852033</td>\n",
       "      <td>0.852027</td>\n",
       "      <td>0.852026</td>\n",
       "      <td>0.852027</td>\n",
       "    </tr>\n",
       "    <tr>\n",
       "      <th>Tuned XGBoost</th>\n",
       "      <td>0.855718</td>\n",
       "      <td>0.854730</td>\n",
       "      <td>0.854629</td>\n",
       "      <td>0.854730</td>\n",
       "    </tr>\n",
       "  </tbody>\n",
       "</table>\n",
       "</div>"
      ],
      "text/plain": [
       "                  Total Precision  Total Recall  Total F1-Score  Accuracy\n",
       "Original XGBoost         0.852033      0.852027        0.852026  0.852027\n",
       "Tuned XGBoost            0.855718      0.854730        0.854629  0.854730"
      ]
     },
     "execution_count": 127,
     "metadata": {},
     "output_type": "execute_result"
    }
   ],
   "source": [
    "# Calculate the classification report\n",
    "\n",
    "report = classification_report(y_test, original_xgb_model, output_dict=True)\n",
    "report_2 = classification_report(y_test, random_search_xgb_pred, output_dict=True)\n",
    "\n",
    "# Extract precision, recall, f1-score, and accuracy metrics for both classes\n",
    "\n",
    "precision = ((report['1']['precision'] + report['0']['precision'])) / 2\n",
    "recall = ((report['1']['recall'] + report['0']['recall'])) / 2\n",
    "f1 = ((report['1']['f1-score'] + report['0']['f1-score'])) / 2\n",
    "\n",
    "precision2 = ((report_2['1']['precision'] + report_2['0']['precision'])) / 2\n",
    "recall2 = ((report_2['1']['recall'] + report_2['0']['recall'])) / 2\n",
    "f12 = ((report_2['1']['f1-score'] + report_2['0']['f1-score'])) / 2\n",
    "\n",
    "# Create dictionaries for saving metrics\n",
    "metrics_original_XGB = {\n",
    "    'Total Precision': precision,\n",
    "    'Total Recall': recall,\n",
    "    'Total F1-Score': f1,\n",
    "    'Accuracy': report['accuracy']\n",
    "}\n",
    "\n",
    "metrics_Tuned_XGB = {\n",
    "    'Total Precision': precision2,\n",
    "    'Total Recall': recall2,\n",
    "    'Total F1-Score': f12,\n",
    "    'Accuracy': report_2['accuracy']\n",
    "}\n",
    "\n",
    "# Create DataFrames from the metrics dictionaries\n",
    "metrics_df_original = pd.DataFrame(metrics_original_XGB, index=['Original XGBoost'])\n",
    "metrics_df_xgb = pd.DataFrame(metrics_Tuned_XGB, index=['Tuned XGBoost'])\n",
    "\n",
    "# Concatenate the DataFrames vertically to combine the metrics\n",
    "combined_metrics_df = pd.concat([metrics_df_original, metrics_df_xgb])\n",
    "\n",
    "combined_metrics_df"
   ]
  },
  {
   "cell_type": "code",
   "execution_count": 128,
   "metadata": {},
   "outputs": [
    {
     "data": {
      "text/plain": [
       "array([[613, 127],\n",
       "       [ 88, 652]], dtype=int64)"
      ]
     },
     "execution_count": 128,
     "metadata": {},
     "output_type": "execute_result"
    }
   ],
   "source": [
    "# construct the confusion matrix for tuned model\n",
    "confusion_matrix_xgb = confusion_matrix(y_test, random_search_xgb_pred)\n",
    "\n",
    "confusion_matrix_xgb"
   ]
  },
  {
   "cell_type": "code",
   "execution_count": 129,
   "metadata": {},
   "outputs": [
    {
     "data": {
      "image/png": "[encoded data removed]",
      "text/plain": [
       "<Figure size 600x600 with 1 Axes>"
      ]
     },
     "metadata": {},
     "output_type": "display_data"
    }
   ],
   "source": [
    "plt.figure(figsize=(6, 6))\n",
    "sns.heatmap(confusion_matrix_xgb, annot=True, fmt='d', cmap='Blues', cbar=False,\n",
    "            xticklabels=['No Churn', 'Churn'],\n",
    "            yticklabels=['No Churn', 'Churn'])\n",
    "plt.xlabel('Predicted')\n",
    "plt.ylabel('Actual')\n",
    "plt.title('Confusion Matrix')\n",
    "plt.show()"
   ]
  },
  {
   "cell_type": "markdown",
   "metadata": {},
   "source": [
    "- 613 instances were correctly classified as True Negatives (TN).\n",
    "- 652 instances were correctly classified as True Positives (TP).\n",
    "- 127 instances were classified as False Positives (FP).\n",
    "- 88 instances were classified as False Negatives (FN)."
   ]
  },
  {
   "cell_type": "markdown",
   "metadata": {},
   "source": [
    "#### 3. Tuning Model 3 (Gradient Boosting)"
   ]
  },
  {
   "cell_type": "code",
   "execution_count": 130,
   "metadata": {},
   "outputs": [
    {
     "data": {
      "text/plain": [
       "{'ccp_alpha': 0.0,\n",
       " 'criterion': 'friedman_mse',\n",
       " 'init': None,\n",
       " 'learning_rate': 0.1,\n",
       " 'loss': 'log_loss',\n",
       " 'max_depth': 3,\n",
       " 'max_features': None,\n",
       " 'max_leaf_nodes': None,\n",
       " 'min_impurity_decrease': 0.0,\n",
       " 'min_samples_leaf': 1,\n",
       " 'min_samples_split': 2,\n",
       " 'min_weight_fraction_leaf': 0.0,\n",
       " 'n_estimators': 100,\n",
       " 'n_iter_no_change': None,\n",
       " 'random_state': 42,\n",
       " 'subsample': 1.0,\n",
       " 'tol': 0.0001,\n",
       " 'validation_fraction': 0.1,\n",
       " 'verbose': 0,\n",
       " 'warm_start': False}"
      ]
     },
     "execution_count": 130,
     "metadata": {},
     "output_type": "execute_result"
    }
   ],
   "source": [
    "# Check current model parameters\n",
    "\n",
    "current_params = gb.get_params()\n",
    "current_params"
   ]
  },
  {
   "cell_type": "code",
   "execution_count": 131,
   "metadata": {},
   "outputs": [
    {
     "name": "stdout",
     "output_type": "stream",
     "text": [
      "Fitting 5 folds for each of 150 candidates, totalling 750 fits\n"
     ]
    },
    {
     "data": {
      "text/plain": [
       "{'subsample': 0.8,\n",
       " 'n_estimators': 200,\n",
       " 'min_samples_split': 8,\n",
       " 'min_samples_leaf': 4,\n",
       " 'min_impurity_decrease': 0.2,\n",
       " 'max_features': None,\n",
       " 'max_depth': 5,\n",
       " 'learning_rate': 0.1,\n",
       " 'criterion': 'friedman_mse',\n",
       " 'ccp_alpha': 0.0}"
      ]
     },
     "execution_count": 131,
     "metadata": {},
     "output_type": "execute_result"
    }
   ],
   "source": [
    "# Gradient boost tuning\n",
    "\n",
    "param_grid = {\n",
    "    'n_estimators': [None, 50, 100, 200, 300],\n",
    "    'learning_rate': [None, 0.1, 0.2, 0.3, 0.4],\n",
    "    'max_depth': [None, 3, 5, 7, 10],\n",
    "    'subsample': [0.8, 0.9, 1.0, 1.1, 1.2],\n",
    "    'min_samples_split': [2, 3, 5, 8, 10],\n",
    "    'min_samples_leaf': [1, 2, 3, 4, 8],\n",
    "    'max_features': [None, 'sqrt', 'log2'],\n",
    "    'criterion': ['friedman_mse', 'mse', 'mae'],\n",
    "    'min_impurity_decrease': [0.0, 0.1, 0.2],\n",
    "    'ccp_alpha': [0.0, 0.1, 0.2]\n",
    "}\n",
    "\n",
    "# Initialize RandomizedSearchCV\n",
    "random_search_gb = RandomizedSearchCV(estimator=gb, param_distributions=param_grid, scoring='accuracy',\n",
    "                                      cv=5,n_jobs=-1, n_iter=150, random_state=42, verbose = 2)\n",
    "\n",
    "# fit best estimator on train data\n",
    "random_search_gb.fit(X_train, y_train)\n",
    "\n",
    "# best parameters\n",
    "best_params = random_search_gb.best_params_\n",
    "\n",
    "# mean accuracy score of the best estimator\n",
    "best_score = random_search_gb.best_score_\n",
    "\n",
    "best_params"
   ]
  },
  {
   "cell_type": "code",
   "execution_count": 132,
   "metadata": {},
   "outputs": [
    {
     "data": {
      "text/plain": [
       "0.8537860398437322"
      ]
     },
     "execution_count": 132,
     "metadata": {},
     "output_type": "execute_result"
    }
   ],
   "source": [
    "# mean accuracy score of the best estimator\n",
    "\n",
    "best_score"
   ]
  },
  {
   "cell_type": "code",
   "execution_count": 133,
   "metadata": {},
   "outputs": [],
   "source": [
    "# Fit tuned model on train data\n",
    "tuned_gb_model = random_search_gb.best_estimator_\n",
    "tuned_gb_model.fit(X_train, y_train)\n",
    "\n",
    "# make the predictions\n",
    "random_search_gb_pred = tuned_gb_model.predict(X_test)\n",
    "original_gb_model = gb.predict(X_test)"
   ]
  },
  {
   "cell_type": "code",
   "execution_count": 134,
   "metadata": {},
   "outputs": [
    {
     "data": {
      "text/html": [
       "<div>\n",
       "<style scoped>\n",
       "    .dataframe tbody tr th:only-of-type {\n",
       "        vertical-align: middle;\n",
       "    }\n",
       "\n",
       "    .dataframe tbody tr th {\n",
       "        vertical-align: top;\n",
       "    }\n",
       "\n",
       "    .dataframe thead th {\n",
       "        text-align: right;\n",
       "    }\n",
       "</style>\n",
       "<table border=\"1\" class=\"dataframe\">\n",
       "  <thead>\n",
       "    <tr style=\"text-align: right;\">\n",
       "      <th></th>\n",
       "      <th>Total Precision</th>\n",
       "      <th>Total Recall</th>\n",
       "      <th>Total F1-Score</th>\n",
       "      <th>Accuracy</th>\n",
       "    </tr>\n",
       "  </thead>\n",
       "  <tbody>\n",
       "    <tr>\n",
       "      <th>Original Gradient Boosting</th>\n",
       "      <td>0.845692</td>\n",
       "      <td>0.843919</td>\n",
       "      <td>0.843719</td>\n",
       "      <td>0.843919</td>\n",
       "    </tr>\n",
       "    <tr>\n",
       "      <th>Tuned Gradient Boosting</th>\n",
       "      <td>0.857721</td>\n",
       "      <td>0.857432</td>\n",
       "      <td>0.857404</td>\n",
       "      <td>0.857432</td>\n",
       "    </tr>\n",
       "  </tbody>\n",
       "</table>\n",
       "</div>"
      ],
      "text/plain": [
       "                            Total Precision  Total Recall  Total F1-Score  \\\n",
       "Original Gradient Boosting         0.845692      0.843919        0.843719   \n",
       "Tuned Gradient Boosting            0.857721      0.857432        0.857404   \n",
       "\n",
       "                            Accuracy  \n",
       "Original Gradient Boosting  0.843919  \n",
       "Tuned Gradient Boosting     0.857432  "
      ]
     },
     "execution_count": 134,
     "metadata": {},
     "output_type": "execute_result"
    }
   ],
   "source": [
    "# Calculate the classification report\n",
    "\n",
    "report = classification_report(y_test, original_gb_model, output_dict=True)\n",
    "report_2 = classification_report(y_test, random_search_gb_pred, output_dict=True)\n",
    "\n",
    "\n",
    "# Extract precision, recall, f1-score, and accuracy metrics for both classes\n",
    "\n",
    "precision = ((report['1']['precision'] + report['0']['precision'])) / 2\n",
    "recall = ((report['1']['recall'] + report['0']['recall'])) / 2\n",
    "f1 = ((report['1']['f1-score'] + report['0']['f1-score'])) / 2\n",
    "\n",
    "precision2 = ((report_2['1']['precision'] + report_2['0']['precision'])) / 2\n",
    "recall2 = ((report_2['1']['recall'] + report_2['0']['recall'])) / 2\n",
    "f12 = ((report_2['1']['f1-score'] + report_2['0']['f1-score'])) / 2\n",
    "\n",
    "# Create dictionaries for metrics\n",
    "metrics_original_GB = {\n",
    "    'Total Precision': precision,\n",
    "    'Total Recall': recall,\n",
    "    'Total F1-Score': f1,\n",
    "    'Accuracy': report['accuracy']\n",
    "}\n",
    "\n",
    "metrics_Tuned_GB = {\n",
    "    'Total Precision': precision2,\n",
    "    'Total Recall': recall2,\n",
    "    'Total F1-Score': f12,\n",
    "    'Accuracy': report_2['accuracy']\n",
    "}\n",
    "\n",
    "# Create DataFrames from the metrics dictionaries\n",
    "metrics_df_original = pd.DataFrame(metrics_original_GB, index=['Original Gradient Boosting'])\n",
    "metrics_df_gb = pd.DataFrame(metrics_Tuned_GB, index=['Tuned Gradient Boosting'])\n",
    "\n",
    "# Concatenate the DataFrames vertically to combine the metrics\n",
    "combined_metrics_df = pd.concat([metrics_df_original, metrics_df_gb])\n",
    "\n",
    "combined_metrics_df"
   ]
  },
  {
   "cell_type": "code",
   "execution_count": 135,
   "metadata": {},
   "outputs": [
    {
     "data": {
      "text/plain": [
       "array([[624, 116],\n",
       "       [ 95, 645]], dtype=int64)"
      ]
     },
     "execution_count": 135,
     "metadata": {},
     "output_type": "execute_result"
    }
   ],
   "source": [
    "# construct the confusion matrix for tuned model\n",
    "confusion_matrix_gb = confusion_matrix(y_test, random_search_gb_pred)\n",
    "\n",
    "confusion_matrix_gb"
   ]
  },
  {
   "cell_type": "code",
   "execution_count": 136,
   "metadata": {},
   "outputs": [
    {
     "data": {
      "image/png": "[encoded data removed]",
      "text/plain": [
       "<Figure size 600x600 with 1 Axes>"
      ]
     },
     "metadata": {},
     "output_type": "display_data"
    }
   ],
   "source": [
    "plt.figure(figsize=(6, 6))\n",
    "sns.heatmap(confusion_matrix_gb, annot=True, fmt='d', cmap='Blues', cbar=False,\n",
    "            xticklabels=['No Churn', 'Churn'],\n",
    "            yticklabels=['No Churn', 'Churn'])\n",
    "plt.xlabel('Predicted')\n",
    "plt.ylabel('Actual')\n",
    "plt.title('Confusion Matrix')\n",
    "plt.show()"
   ]
  },
  {
   "cell_type": "markdown",
   "metadata": {},
   "source": [
    "- 624 instances were correctly classified as True Negatives (TN).\n",
    "- 645 instances were correctly classified as True Positives (TP).\n",
    "- 116 instances were classified as False Positives (FP).\n",
    "- 95 instances were classified as False Negatives (FN)."
   ]
  },
  {
   "cell_type": "markdown",
   "metadata": {},
   "source": [
    "- After tuning all our models, the Random Forest Model has the highest accuracy of 0.869595(**87%**). We will save this model and use it on unseen data to make predictions."
   ]
  },
  {
   "cell_type": "markdown",
   "metadata": {},
   "source": [
    "### Export key components\n",
    "Here is the section to **export** the important ML objects that will be use to develop an app: *Encoder, Scaler, ColumnTransformer, Model, Pipeline, etc*."
   ]
  },
  {
   "cell_type": "code",
   "execution_count": 137,
   "metadata": {},
   "outputs": [],
   "source": [
    "destination = \"Toolkit\"\n",
    "\n",
    "#create a directory if it doesn't exist\n",
    "if not os.path.exists(destination):\n",
    "    os.makedirs(destination)\n",
    "\n",
    "#Create a dictionary  to store the object and their filename\n",
    "models ={\n",
    "    \"model\":tuned_rf_model,\n",
    "}\n",
    "\n",
    "#Loop through the model and save using joblib.dump()\n",
    "for name,model in models.items():\n",
    "    file_path =os.path.join(destination,f\"{name}.joblib\")\n",
    "    joblib.dump(model,file_path)"
   ]
  },
  {
   "cell_type": "markdown",
   "metadata": {},
   "source": [
    "### Future Predictions"
   ]
  },
  {
   "cell_type": "markdown",
   "metadata": {},
   "source": [
    "#### Preprocessing of test data"
   ]
  },
  {
   "cell_type": "code",
   "execution_count": 138,
   "metadata": {},
   "outputs": [
    {
     "name": "stdout",
     "output_type": "stream",
     "text": [
      "<class 'pandas.core.frame.DataFrame'>\n",
      "RangeIndex: 1997 entries, 0 to 1996\n",
      "Data columns (total 20 columns):\n",
      " #   Column            Non-Null Count  Dtype  \n",
      "---  ------            --------------  -----  \n",
      " 0   customerID        1997 non-null   object \n",
      " 1   gender            1997 non-null   object \n",
      " 2   SeniorCitizen     1997 non-null   object \n",
      " 3   Partner           1997 non-null   object \n",
      " 4   Dependents        1997 non-null   object \n",
      " 5   tenure            1997 non-null   int64  \n",
      " 6   PhoneService      1997 non-null   object \n",
      " 7   MultipleLines     1997 non-null   object \n",
      " 8   InternetService   1997 non-null   object \n",
      " 9   OnlineSecurity    1997 non-null   object \n",
      " 10  OnlineBackup      1997 non-null   object \n",
      " 11  DeviceProtection  1997 non-null   object \n",
      " 12  TechSupport       1997 non-null   object \n",
      " 13  StreamingTV       1997 non-null   object \n",
      " 14  StreamingMovies   1997 non-null   object \n",
      " 15  Contract          1997 non-null   object \n",
      " 16  PaperlessBilling  1997 non-null   object \n",
      " 17  PaymentMethod     1997 non-null   object \n",
      " 18  MonthlyCharges    1997 non-null   float64\n",
      " 19  TotalCharges      1997 non-null   float64\n",
      "dtypes: float64(2), int64(1), object(17)\n",
      "memory usage: 312.2+ KB\n"
     ]
    }
   ],
   "source": [
    "test = pd.read_csv('Dataset\\Test_Data.csv')\n",
    "test.info()"
   ]
  },
  {
   "cell_type": "code",
   "execution_count": 139,
   "metadata": {},
   "outputs": [],
   "source": [
    "# Store the CustomerID column before dropping it from the test data\n",
    "customerID = test['customerID']\n",
    "\n",
    "# drop columns from test set\n",
    "\n",
    "test.drop(columns=['gender','PhoneService', 'MultipleLines', 'customerID'],axis = 1, inplace=True)"
   ]
  },
  {
   "cell_type": "code",
   "execution_count": 140,
   "metadata": {},
   "outputs": [
    {
     "data": {
      "text/html": [
       "<div>\n",
       "<style scoped>\n",
       "    .dataframe tbody tr th:only-of-type {\n",
       "        vertical-align: middle;\n",
       "    }\n",
       "\n",
       "    .dataframe tbody tr th {\n",
       "        vertical-align: top;\n",
       "    }\n",
       "\n",
       "    .dataframe thead th {\n",
       "        text-align: right;\n",
       "    }\n",
       "</style>\n",
       "<table border=\"1\" class=\"dataframe\">\n",
       "  <thead>\n",
       "    <tr style=\"text-align: right;\">\n",
       "      <th></th>\n",
       "      <th>tenure</th>\n",
       "      <th>MonthlyCharges</th>\n",
       "      <th>TotalCharges</th>\n",
       "      <th>onehotencoder__SeniorCitizen_No</th>\n",
       "      <th>onehotencoder__SeniorCitizen_Yes</th>\n",
       "      <th>onehotencoder__Partner_No</th>\n",
       "      <th>onehotencoder__Partner_Yes</th>\n",
       "      <th>onehotencoder__Dependents_No</th>\n",
       "      <th>onehotencoder__Dependents_Yes</th>\n",
       "      <th>onehotencoder__InternetService_DSL</th>\n",
       "      <th>onehotencoder__InternetService_Fiber optic</th>\n",
       "      <th>onehotencoder__InternetService_No</th>\n",
       "      <th>onehotencoder__OnlineSecurity_No</th>\n",
       "      <th>onehotencoder__OnlineSecurity_No internet service</th>\n",
       "      <th>onehotencoder__OnlineSecurity_Yes</th>\n",
       "      <th>onehotencoder__OnlineBackup_No</th>\n",
       "      <th>onehotencoder__OnlineBackup_No internet service</th>\n",
       "      <th>onehotencoder__OnlineBackup_Yes</th>\n",
       "      <th>onehotencoder__DeviceProtection_No</th>\n",
       "      <th>onehotencoder__DeviceProtection_No internet service</th>\n",
       "      <th>onehotencoder__DeviceProtection_Yes</th>\n",
       "      <th>onehotencoder__TechSupport_No</th>\n",
       "      <th>onehotencoder__TechSupport_No internet service</th>\n",
       "      <th>onehotencoder__TechSupport_Yes</th>\n",
       "      <th>onehotencoder__StreamingTV_No</th>\n",
       "      <th>onehotencoder__StreamingTV_No internet service</th>\n",
       "      <th>onehotencoder__StreamingTV_Yes</th>\n",
       "      <th>onehotencoder__StreamingMovies_No</th>\n",
       "      <th>onehotencoder__StreamingMovies_No internet service</th>\n",
       "      <th>onehotencoder__StreamingMovies_Yes</th>\n",
       "      <th>onehotencoder__Contract_Month-to-month</th>\n",
       "      <th>onehotencoder__Contract_One year</th>\n",
       "      <th>onehotencoder__Contract_Two year</th>\n",
       "      <th>onehotencoder__PaperlessBilling_No</th>\n",
       "      <th>onehotencoder__PaperlessBilling_Yes</th>\n",
       "      <th>onehotencoder__PaymentMethod_Bank transfer (automatic)</th>\n",
       "      <th>onehotencoder__PaymentMethod_Credit card (automatic)</th>\n",
       "      <th>onehotencoder__PaymentMethod_Electronic check</th>\n",
       "      <th>onehotencoder__PaymentMethod_Mailed check</th>\n",
       "    </tr>\n",
       "  </thead>\n",
       "  <tbody>\n",
       "    <tr>\n",
       "      <th>0</th>\n",
       "      <td>12</td>\n",
       "      <td>84.45</td>\n",
       "      <td>1059.55</td>\n",
       "      <td>1.0</td>\n",
       "      <td>0.0</td>\n",
       "      <td>1.0</td>\n",
       "      <td>0.0</td>\n",
       "      <td>1.0</td>\n",
       "      <td>0.0</td>\n",
       "      <td>0.0</td>\n",
       "      <td>1.0</td>\n",
       "      <td>0.0</td>\n",
       "      <td>1.0</td>\n",
       "      <td>0.0</td>\n",
       "      <td>0.0</td>\n",
       "      <td>1.0</td>\n",
       "      <td>0.0</td>\n",
       "      <td>0.0</td>\n",
       "      <td>1.0</td>\n",
       "      <td>0.0</td>\n",
       "      <td>0.0</td>\n",
       "      <td>1.0</td>\n",
       "      <td>0.0</td>\n",
       "      <td>0.0</td>\n",
       "      <td>0.0</td>\n",
       "      <td>0.0</td>\n",
       "      <td>1.0</td>\n",
       "      <td>1.0</td>\n",
       "      <td>0.0</td>\n",
       "      <td>0.0</td>\n",
       "      <td>1.0</td>\n",
       "      <td>0.0</td>\n",
       "      <td>0.0</td>\n",
       "      <td>0.0</td>\n",
       "      <td>1.0</td>\n",
       "      <td>0.0</td>\n",
       "      <td>0.0</td>\n",
       "      <td>1.0</td>\n",
       "      <td>0.0</td>\n",
       "    </tr>\n",
       "    <tr>\n",
       "      <th>1</th>\n",
       "      <td>9</td>\n",
       "      <td>20.40</td>\n",
       "      <td>181.80</td>\n",
       "      <td>1.0</td>\n",
       "      <td>0.0</td>\n",
       "      <td>1.0</td>\n",
       "      <td>0.0</td>\n",
       "      <td>1.0</td>\n",
       "      <td>0.0</td>\n",
       "      <td>0.0</td>\n",
       "      <td>0.0</td>\n",
       "      <td>1.0</td>\n",
       "      <td>0.0</td>\n",
       "      <td>1.0</td>\n",
       "      <td>0.0</td>\n",
       "      <td>0.0</td>\n",
       "      <td>1.0</td>\n",
       "      <td>0.0</td>\n",
       "      <td>0.0</td>\n",
       "      <td>1.0</td>\n",
       "      <td>0.0</td>\n",
       "      <td>0.0</td>\n",
       "      <td>1.0</td>\n",
       "      <td>0.0</td>\n",
       "      <td>0.0</td>\n",
       "      <td>1.0</td>\n",
       "      <td>0.0</td>\n",
       "      <td>0.0</td>\n",
       "      <td>1.0</td>\n",
       "      <td>0.0</td>\n",
       "      <td>1.0</td>\n",
       "      <td>0.0</td>\n",
       "      <td>0.0</td>\n",
       "      <td>1.0</td>\n",
       "      <td>0.0</td>\n",
       "      <td>0.0</td>\n",
       "      <td>0.0</td>\n",
       "      <td>0.0</td>\n",
       "      <td>1.0</td>\n",
       "    </tr>\n",
       "    <tr>\n",
       "      <th>2</th>\n",
       "      <td>27</td>\n",
       "      <td>81.70</td>\n",
       "      <td>2212.55</td>\n",
       "      <td>1.0</td>\n",
       "      <td>0.0</td>\n",
       "      <td>1.0</td>\n",
       "      <td>0.0</td>\n",
       "      <td>1.0</td>\n",
       "      <td>0.0</td>\n",
       "      <td>1.0</td>\n",
       "      <td>0.0</td>\n",
       "      <td>0.0</td>\n",
       "      <td>0.0</td>\n",
       "      <td>0.0</td>\n",
       "      <td>1.0</td>\n",
       "      <td>1.0</td>\n",
       "      <td>0.0</td>\n",
       "      <td>0.0</td>\n",
       "      <td>0.0</td>\n",
       "      <td>0.0</td>\n",
       "      <td>1.0</td>\n",
       "      <td>0.0</td>\n",
       "      <td>0.0</td>\n",
       "      <td>1.0</td>\n",
       "      <td>0.0</td>\n",
       "      <td>0.0</td>\n",
       "      <td>1.0</td>\n",
       "      <td>0.0</td>\n",
       "      <td>0.0</td>\n",
       "      <td>1.0</td>\n",
       "      <td>0.0</td>\n",
       "      <td>1.0</td>\n",
       "      <td>0.0</td>\n",
       "      <td>1.0</td>\n",
       "      <td>0.0</td>\n",
       "      <td>0.0</td>\n",
       "      <td>0.0</td>\n",
       "      <td>1.0</td>\n",
       "      <td>0.0</td>\n",
       "    </tr>\n",
       "    <tr>\n",
       "      <th>3</th>\n",
       "      <td>27</td>\n",
       "      <td>79.50</td>\n",
       "      <td>2180.55</td>\n",
       "      <td>1.0</td>\n",
       "      <td>0.0</td>\n",
       "      <td>1.0</td>\n",
       "      <td>0.0</td>\n",
       "      <td>0.0</td>\n",
       "      <td>1.0</td>\n",
       "      <td>0.0</td>\n",
       "      <td>1.0</td>\n",
       "      <td>0.0</td>\n",
       "      <td>1.0</td>\n",
       "      <td>0.0</td>\n",
       "      <td>0.0</td>\n",
       "      <td>1.0</td>\n",
       "      <td>0.0</td>\n",
       "      <td>0.0</td>\n",
       "      <td>1.0</td>\n",
       "      <td>0.0</td>\n",
       "      <td>0.0</td>\n",
       "      <td>0.0</td>\n",
       "      <td>0.0</td>\n",
       "      <td>1.0</td>\n",
       "      <td>1.0</td>\n",
       "      <td>0.0</td>\n",
       "      <td>0.0</td>\n",
       "      <td>1.0</td>\n",
       "      <td>0.0</td>\n",
       "      <td>0.0</td>\n",
       "      <td>1.0</td>\n",
       "      <td>0.0</td>\n",
       "      <td>0.0</td>\n",
       "      <td>0.0</td>\n",
       "      <td>1.0</td>\n",
       "      <td>0.0</td>\n",
       "      <td>0.0</td>\n",
       "      <td>1.0</td>\n",
       "      <td>0.0</td>\n",
       "    </tr>\n",
       "    <tr>\n",
       "      <th>4</th>\n",
       "      <td>1</td>\n",
       "      <td>89.15</td>\n",
       "      <td>89.15</td>\n",
       "      <td>1.0</td>\n",
       "      <td>0.0</td>\n",
       "      <td>0.0</td>\n",
       "      <td>1.0</td>\n",
       "      <td>0.0</td>\n",
       "      <td>1.0</td>\n",
       "      <td>0.0</td>\n",
       "      <td>1.0</td>\n",
       "      <td>0.0</td>\n",
       "      <td>1.0</td>\n",
       "      <td>0.0</td>\n",
       "      <td>0.0</td>\n",
       "      <td>1.0</td>\n",
       "      <td>0.0</td>\n",
       "      <td>0.0</td>\n",
       "      <td>1.0</td>\n",
       "      <td>0.0</td>\n",
       "      <td>0.0</td>\n",
       "      <td>1.0</td>\n",
       "      <td>0.0</td>\n",
       "      <td>0.0</td>\n",
       "      <td>0.0</td>\n",
       "      <td>0.0</td>\n",
       "      <td>1.0</td>\n",
       "      <td>0.0</td>\n",
       "      <td>0.0</td>\n",
       "      <td>1.0</td>\n",
       "      <td>1.0</td>\n",
       "      <td>0.0</td>\n",
       "      <td>0.0</td>\n",
       "      <td>1.0</td>\n",
       "      <td>0.0</td>\n",
       "      <td>0.0</td>\n",
       "      <td>0.0</td>\n",
       "      <td>0.0</td>\n",
       "      <td>1.0</td>\n",
       "    </tr>\n",
       "  </tbody>\n",
       "</table>\n",
       "</div>"
      ],
      "text/plain": [
       "   tenure  MonthlyCharges  TotalCharges  onehotencoder__SeniorCitizen_No  \\\n",
       "0      12           84.45       1059.55                              1.0   \n",
       "1       9           20.40        181.80                              1.0   \n",
       "2      27           81.70       2212.55                              1.0   \n",
       "3      27           79.50       2180.55                              1.0   \n",
       "4       1           89.15         89.15                              1.0   \n",
       "\n",
       "   onehotencoder__SeniorCitizen_Yes  onehotencoder__Partner_No  \\\n",
       "0                               0.0                        1.0   \n",
       "1                               0.0                        1.0   \n",
       "2                               0.0                        1.0   \n",
       "3                               0.0                        1.0   \n",
       "4                               0.0                        0.0   \n",
       "\n",
       "   onehotencoder__Partner_Yes  onehotencoder__Dependents_No  \\\n",
       "0                         0.0                           1.0   \n",
       "1                         0.0                           1.0   \n",
       "2                         0.0                           1.0   \n",
       "3                         0.0                           0.0   \n",
       "4                         1.0                           0.0   \n",
       "\n",
       "   onehotencoder__Dependents_Yes  onehotencoder__InternetService_DSL  \\\n",
       "0                            0.0                                 0.0   \n",
       "1                            0.0                                 0.0   \n",
       "2                            0.0                                 1.0   \n",
       "3                            1.0                                 0.0   \n",
       "4                            1.0                                 0.0   \n",
       "\n",
       "   onehotencoder__InternetService_Fiber optic  \\\n",
       "0                                         1.0   \n",
       "1                                         0.0   \n",
       "2                                         0.0   \n",
       "3                                         1.0   \n",
       "4                                         1.0   \n",
       "\n",
       "   onehotencoder__InternetService_No  onehotencoder__OnlineSecurity_No  \\\n",
       "0                                0.0                               1.0   \n",
       "1                                1.0                               0.0   \n",
       "2                                0.0                               0.0   \n",
       "3                                0.0                               1.0   \n",
       "4                                0.0                               1.0   \n",
       "\n",
       "   onehotencoder__OnlineSecurity_No internet service  \\\n",
       "0                                                0.0   \n",
       "1                                                1.0   \n",
       "2                                                0.0   \n",
       "3                                                0.0   \n",
       "4                                                0.0   \n",
       "\n",
       "   onehotencoder__OnlineSecurity_Yes  onehotencoder__OnlineBackup_No  \\\n",
       "0                                0.0                             1.0   \n",
       "1                                0.0                             0.0   \n",
       "2                                1.0                             1.0   \n",
       "3                                0.0                             1.0   \n",
       "4                                0.0                             1.0   \n",
       "\n",
       "   onehotencoder__OnlineBackup_No internet service  \\\n",
       "0                                              0.0   \n",
       "1                                              1.0   \n",
       "2                                              0.0   \n",
       "3                                              0.0   \n",
       "4                                              0.0   \n",
       "\n",
       "   onehotencoder__OnlineBackup_Yes  onehotencoder__DeviceProtection_No  \\\n",
       "0                              0.0                                 1.0   \n",
       "1                              0.0                                 0.0   \n",
       "2                              0.0                                 0.0   \n",
       "3                              0.0                                 1.0   \n",
       "4                              0.0                                 1.0   \n",
       "\n",
       "   onehotencoder__DeviceProtection_No internet service  \\\n",
       "0                                                0.0     \n",
       "1                                                1.0     \n",
       "2                                                0.0     \n",
       "3                                                0.0     \n",
       "4                                                0.0     \n",
       "\n",
       "   onehotencoder__DeviceProtection_Yes  onehotencoder__TechSupport_No  \\\n",
       "0                                  0.0                            1.0   \n",
       "1                                  0.0                            0.0   \n",
       "2                                  1.0                            0.0   \n",
       "3                                  0.0                            0.0   \n",
       "4                                  0.0                            1.0   \n",
       "\n",
       "   onehotencoder__TechSupport_No internet service  \\\n",
       "0                                             0.0   \n",
       "1                                             1.0   \n",
       "2                                             0.0   \n",
       "3                                             0.0   \n",
       "4                                             0.0   \n",
       "\n",
       "   onehotencoder__TechSupport_Yes  onehotencoder__StreamingTV_No  \\\n",
       "0                             0.0                            0.0   \n",
       "1                             0.0                            0.0   \n",
       "2                             1.0                            0.0   \n",
       "3                             1.0                            1.0   \n",
       "4                             0.0                            0.0   \n",
       "\n",
       "   onehotencoder__StreamingTV_No internet service  \\\n",
       "0                                             0.0   \n",
       "1                                             1.0   \n",
       "2                                             0.0   \n",
       "3                                             0.0   \n",
       "4                                             0.0   \n",
       "\n",
       "   onehotencoder__StreamingTV_Yes  onehotencoder__StreamingMovies_No  \\\n",
       "0                             1.0                                1.0   \n",
       "1                             0.0                                0.0   \n",
       "2                             1.0                                0.0   \n",
       "3                             0.0                                1.0   \n",
       "4                             1.0                                0.0   \n",
       "\n",
       "   onehotencoder__StreamingMovies_No internet service  \\\n",
       "0                                                0.0    \n",
       "1                                                1.0    \n",
       "2                                                0.0    \n",
       "3                                                0.0    \n",
       "4                                                0.0    \n",
       "\n",
       "   onehotencoder__StreamingMovies_Yes  onehotencoder__Contract_Month-to-month  \\\n",
       "0                                 0.0                                     1.0   \n",
       "1                                 0.0                                     1.0   \n",
       "2                                 1.0                                     0.0   \n",
       "3                                 0.0                                     1.0   \n",
       "4                                 1.0                                     1.0   \n",
       "\n",
       "   onehotencoder__Contract_One year  onehotencoder__Contract_Two year  \\\n",
       "0                               0.0                               0.0   \n",
       "1                               0.0                               0.0   \n",
       "2                               1.0                               0.0   \n",
       "3                               0.0                               0.0   \n",
       "4                               0.0                               0.0   \n",
       "\n",
       "   onehotencoder__PaperlessBilling_No  onehotencoder__PaperlessBilling_Yes  \\\n",
       "0                                 0.0                                  1.0   \n",
       "1                                 1.0                                  0.0   \n",
       "2                                 1.0                                  0.0   \n",
       "3                                 0.0                                  1.0   \n",
       "4                                 1.0                                  0.0   \n",
       "\n",
       "   onehotencoder__PaymentMethod_Bank transfer (automatic)  \\\n",
       "0                                                0.0        \n",
       "1                                                0.0        \n",
       "2                                                0.0        \n",
       "3                                                0.0        \n",
       "4                                                0.0        \n",
       "\n",
       "   onehotencoder__PaymentMethod_Credit card (automatic)  \\\n",
       "0                                                0.0      \n",
       "1                                                0.0      \n",
       "2                                                0.0      \n",
       "3                                                0.0      \n",
       "4                                                0.0      \n",
       "\n",
       "   onehotencoder__PaymentMethod_Electronic check  \\\n",
       "0                                            1.0   \n",
       "1                                            0.0   \n",
       "2                                            1.0   \n",
       "3                                            1.0   \n",
       "4                                            0.0   \n",
       "\n",
       "   onehotencoder__PaymentMethod_Mailed check  \n",
       "0                                        0.0  \n",
       "1                                        1.0  \n",
       "2                                        0.0  \n",
       "3                                        0.0  \n",
       "4                                        1.0  "
      ]
     },
     "execution_count": 140,
     "metadata": {},
     "output_type": "execute_result"
    }
   ],
   "source": [
    "# Encoding categorical values with One-Hot ecndoder\n",
    "\n",
    "cat_cols = ['SeniorCitizen', 'Partner', 'Dependents',\n",
    "            'InternetService', 'OnlineSecurity', 'OnlineBackup', 'DeviceProtection', \n",
    "            'TechSupport', 'StreamingTV', 'StreamingMovies', 'Contract', \n",
    "            'PaperlessBilling', 'PaymentMethod']\n",
    "\n",
    "transformer = make_column_transformer(\n",
    "    (OneHotEncoder(sparse=False), cat_cols)\n",
    ")\n",
    "\n",
    "transformed_data = transformer.fit_transform(test[cat_cols])\n",
    "\n",
    "# Transformating back to a dataframe\n",
    "transformed_df = pd.DataFrame(transformed_data, columns=transformer.get_feature_names_out())\n",
    "\n",
    "# One-hot encoding removed an index. Let's put it back\n",
    "transformed_df.index = test.index\n",
    "\n",
    "# Joining tables\n",
    "test = pd.concat([test, transformed_df], axis=1)\n",
    "\n",
    "# Dropping old categorical columns\n",
    "test.drop(cat_cols, axis=1, inplace=True)\n",
    "\n",
    "test.head()"
   ]
  },
  {
   "cell_type": "code",
   "execution_count": 141,
   "metadata": {},
   "outputs": [],
   "source": [
    "# drop columns\n",
    "\n",
    "test.drop(columns=['onehotencoder__SeniorCitizen_No','onehotencoder__Partner_No', \n",
    "                'onehotencoder__Dependents_No', 'onehotencoder__OnlineSecurity_No',\n",
    "                'onehotencoder__OnlineBackup_No', 'onehotencoder__DeviceProtection_No',\n",
    "                'onehotencoder__TechSupport_No', 'onehotencoder__StreamingTV_No',\n",
    "                'onehotencoder__StreamingMovies_No', 'onehotencoder__PaperlessBilling_No',\n",
    "                  ], inplace=True)"
   ]
  },
  {
   "cell_type": "code",
   "execution_count": 142,
   "metadata": {},
   "outputs": [],
   "source": [
    "# Renaming columns\n",
    "\n",
    "test.columns = ['tenure', 'MonthlyCharges', 'TotalCharges',\n",
    "             'SeniorCitizen_Yes',\n",
    "             'Partner_Yes',\n",
    "             'Dependents_Yes',\n",
    "             'InternetService_DSL','InternetService_Fiber','InternetService_No',\n",
    "             'OnlineSecurity_NoInternetService','OnlineSecurity_Yes',\n",
    "             'OnlineBackup_NoInternetService','OnlineBackup_Yes',\n",
    "             'DeviceProtection_NoInternetService','DeviceProtection_Yes',\n",
    "             'TechSupport_NoInternetService','TechSupport_Yes',\n",
    "             'StreamingTV_NoInternetService','StreamingTV_Yes',\n",
    "             'StreamingMovies_NoInternetService','StreamingMovies_Yes',\n",
    "             'Contract_Month-to-month','Contract_One year', 'Contract_Two year',\n",
    "             'PaperlessBilling_Yes',\n",
    "             'PaymentMethod_BankTransfer','PaymentMethod_CreditCard','PaymentMethod_ElectronicCheck','PaymentMethod_MailedCheck']"
   ]
  },
  {
   "cell_type": "code",
   "execution_count": 143,
   "metadata": {},
   "outputs": [
    {
     "data": {
      "text/html": [
       "<div>\n",
       "<style scoped>\n",
       "    .dataframe tbody tr th:only-of-type {\n",
       "        vertical-align: middle;\n",
       "    }\n",
       "\n",
       "    .dataframe tbody tr th {\n",
       "        vertical-align: top;\n",
       "    }\n",
       "\n",
       "    .dataframe thead th {\n",
       "        text-align: right;\n",
       "    }\n",
       "</style>\n",
       "<table border=\"1\" class=\"dataframe\">\n",
       "  <thead>\n",
       "    <tr style=\"text-align: right;\">\n",
       "      <th></th>\n",
       "      <th>SeniorCitizen_Yes</th>\n",
       "      <th>Partner_Yes</th>\n",
       "      <th>Dependents_Yes</th>\n",
       "      <th>InternetService_DSL</th>\n",
       "      <th>InternetService_Fiber</th>\n",
       "      <th>InternetService_No</th>\n",
       "      <th>OnlineSecurity_NoInternetService</th>\n",
       "      <th>OnlineSecurity_Yes</th>\n",
       "      <th>OnlineBackup_NoInternetService</th>\n",
       "      <th>OnlineBackup_Yes</th>\n",
       "      <th>DeviceProtection_NoInternetService</th>\n",
       "      <th>DeviceProtection_Yes</th>\n",
       "      <th>TechSupport_NoInternetService</th>\n",
       "      <th>TechSupport_Yes</th>\n",
       "      <th>StreamingTV_NoInternetService</th>\n",
       "      <th>StreamingTV_Yes</th>\n",
       "      <th>StreamingMovies_NoInternetService</th>\n",
       "      <th>StreamingMovies_Yes</th>\n",
       "      <th>Contract_Month-to-month</th>\n",
       "      <th>Contract_One year</th>\n",
       "      <th>Contract_Two year</th>\n",
       "      <th>PaperlessBilling_Yes</th>\n",
       "      <th>PaymentMethod_BankTransfer</th>\n",
       "      <th>PaymentMethod_CreditCard</th>\n",
       "      <th>PaymentMethod_ElectronicCheck</th>\n",
       "      <th>PaymentMethod_MailedCheck</th>\n",
       "      <th>tenure</th>\n",
       "      <th>MonthlyCharges</th>\n",
       "      <th>TotalCharges</th>\n",
       "    </tr>\n",
       "  </thead>\n",
       "  <tbody>\n",
       "    <tr>\n",
       "      <th>0</th>\n",
       "      <td>0.0</td>\n",
       "      <td>0.0</td>\n",
       "      <td>0.0</td>\n",
       "      <td>0.0</td>\n",
       "      <td>1.0</td>\n",
       "      <td>0.0</td>\n",
       "      <td>0.0</td>\n",
       "      <td>0.0</td>\n",
       "      <td>0.0</td>\n",
       "      <td>0.0</td>\n",
       "      <td>0.0</td>\n",
       "      <td>0.0</td>\n",
       "      <td>0.0</td>\n",
       "      <td>0.0</td>\n",
       "      <td>0.0</td>\n",
       "      <td>1.0</td>\n",
       "      <td>0.0</td>\n",
       "      <td>0.0</td>\n",
       "      <td>1.0</td>\n",
       "      <td>0.0</td>\n",
       "      <td>0.0</td>\n",
       "      <td>1.0</td>\n",
       "      <td>0.0</td>\n",
       "      <td>0.0</td>\n",
       "      <td>1.0</td>\n",
       "      <td>0.0</td>\n",
       "      <td>-0.808517</td>\n",
       "      <td>0.679346</td>\n",
       "      <td>-0.520729</td>\n",
       "    </tr>\n",
       "    <tr>\n",
       "      <th>1</th>\n",
       "      <td>0.0</td>\n",
       "      <td>0.0</td>\n",
       "      <td>0.0</td>\n",
       "      <td>0.0</td>\n",
       "      <td>0.0</td>\n",
       "      <td>1.0</td>\n",
       "      <td>1.0</td>\n",
       "      <td>0.0</td>\n",
       "      <td>1.0</td>\n",
       "      <td>0.0</td>\n",
       "      <td>1.0</td>\n",
       "      <td>0.0</td>\n",
       "      <td>1.0</td>\n",
       "      <td>0.0</td>\n",
       "      <td>1.0</td>\n",
       "      <td>0.0</td>\n",
       "      <td>1.0</td>\n",
       "      <td>0.0</td>\n",
       "      <td>1.0</td>\n",
       "      <td>0.0</td>\n",
       "      <td>0.0</td>\n",
       "      <td>0.0</td>\n",
       "      <td>0.0</td>\n",
       "      <td>0.0</td>\n",
       "      <td>0.0</td>\n",
       "      <td>1.0</td>\n",
       "      <td>-0.930399</td>\n",
       "      <td>-1.448044</td>\n",
       "      <td>-0.909246</td>\n",
       "    </tr>\n",
       "    <tr>\n",
       "      <th>2</th>\n",
       "      <td>0.0</td>\n",
       "      <td>0.0</td>\n",
       "      <td>0.0</td>\n",
       "      <td>1.0</td>\n",
       "      <td>0.0</td>\n",
       "      <td>0.0</td>\n",
       "      <td>0.0</td>\n",
       "      <td>1.0</td>\n",
       "      <td>0.0</td>\n",
       "      <td>0.0</td>\n",
       "      <td>0.0</td>\n",
       "      <td>1.0</td>\n",
       "      <td>0.0</td>\n",
       "      <td>1.0</td>\n",
       "      <td>0.0</td>\n",
       "      <td>1.0</td>\n",
       "      <td>0.0</td>\n",
       "      <td>1.0</td>\n",
       "      <td>0.0</td>\n",
       "      <td>1.0</td>\n",
       "      <td>0.0</td>\n",
       "      <td>0.0</td>\n",
       "      <td>0.0</td>\n",
       "      <td>0.0</td>\n",
       "      <td>1.0</td>\n",
       "      <td>0.0</td>\n",
       "      <td>-0.199108</td>\n",
       "      <td>0.588006</td>\n",
       "      <td>-0.010377</td>\n",
       "    </tr>\n",
       "    <tr>\n",
       "      <th>3</th>\n",
       "      <td>0.0</td>\n",
       "      <td>0.0</td>\n",
       "      <td>1.0</td>\n",
       "      <td>0.0</td>\n",
       "      <td>1.0</td>\n",
       "      <td>0.0</td>\n",
       "      <td>0.0</td>\n",
       "      <td>0.0</td>\n",
       "      <td>0.0</td>\n",
       "      <td>0.0</td>\n",
       "      <td>0.0</td>\n",
       "      <td>0.0</td>\n",
       "      <td>0.0</td>\n",
       "      <td>1.0</td>\n",
       "      <td>0.0</td>\n",
       "      <td>0.0</td>\n",
       "      <td>0.0</td>\n",
       "      <td>0.0</td>\n",
       "      <td>1.0</td>\n",
       "      <td>0.0</td>\n",
       "      <td>0.0</td>\n",
       "      <td>1.0</td>\n",
       "      <td>0.0</td>\n",
       "      <td>0.0</td>\n",
       "      <td>1.0</td>\n",
       "      <td>0.0</td>\n",
       "      <td>-0.199108</td>\n",
       "      <td>0.514934</td>\n",
       "      <td>-0.024542</td>\n",
       "    </tr>\n",
       "    <tr>\n",
       "      <th>4</th>\n",
       "      <td>0.0</td>\n",
       "      <td>1.0</td>\n",
       "      <td>1.0</td>\n",
       "      <td>0.0</td>\n",
       "      <td>1.0</td>\n",
       "      <td>0.0</td>\n",
       "      <td>0.0</td>\n",
       "      <td>0.0</td>\n",
       "      <td>0.0</td>\n",
       "      <td>0.0</td>\n",
       "      <td>0.0</td>\n",
       "      <td>0.0</td>\n",
       "      <td>0.0</td>\n",
       "      <td>0.0</td>\n",
       "      <td>0.0</td>\n",
       "      <td>1.0</td>\n",
       "      <td>0.0</td>\n",
       "      <td>1.0</td>\n",
       "      <td>1.0</td>\n",
       "      <td>0.0</td>\n",
       "      <td>0.0</td>\n",
       "      <td>0.0</td>\n",
       "      <td>0.0</td>\n",
       "      <td>0.0</td>\n",
       "      <td>0.0</td>\n",
       "      <td>1.0</td>\n",
       "      <td>-1.255417</td>\n",
       "      <td>0.835454</td>\n",
       "      <td>-0.950256</td>\n",
       "    </tr>\n",
       "  </tbody>\n",
       "</table>\n",
       "</div>"
      ],
      "text/plain": [
       "   SeniorCitizen_Yes  Partner_Yes  Dependents_Yes  InternetService_DSL  \\\n",
       "0                0.0          0.0             0.0                  0.0   \n",
       "1                0.0          0.0             0.0                  0.0   \n",
       "2                0.0          0.0             0.0                  1.0   \n",
       "3                0.0          0.0             1.0                  0.0   \n",
       "4                0.0          1.0             1.0                  0.0   \n",
       "\n",
       "   InternetService_Fiber  InternetService_No  \\\n",
       "0                    1.0                 0.0   \n",
       "1                    0.0                 1.0   \n",
       "2                    0.0                 0.0   \n",
       "3                    1.0                 0.0   \n",
       "4                    1.0                 0.0   \n",
       "\n",
       "   OnlineSecurity_NoInternetService  OnlineSecurity_Yes  \\\n",
       "0                               0.0                 0.0   \n",
       "1                               1.0                 0.0   \n",
       "2                               0.0                 1.0   \n",
       "3                               0.0                 0.0   \n",
       "4                               0.0                 0.0   \n",
       "\n",
       "   OnlineBackup_NoInternetService  OnlineBackup_Yes  \\\n",
       "0                             0.0               0.0   \n",
       "1                             1.0               0.0   \n",
       "2                             0.0               0.0   \n",
       "3                             0.0               0.0   \n",
       "4                             0.0               0.0   \n",
       "\n",
       "   DeviceProtection_NoInternetService  DeviceProtection_Yes  \\\n",
       "0                                 0.0                   0.0   \n",
       "1                                 1.0                   0.0   \n",
       "2                                 0.0                   1.0   \n",
       "3                                 0.0                   0.0   \n",
       "4                                 0.0                   0.0   \n",
       "\n",
       "   TechSupport_NoInternetService  TechSupport_Yes  \\\n",
       "0                            0.0              0.0   \n",
       "1                            1.0              0.0   \n",
       "2                            0.0              1.0   \n",
       "3                            0.0              1.0   \n",
       "4                            0.0              0.0   \n",
       "\n",
       "   StreamingTV_NoInternetService  StreamingTV_Yes  \\\n",
       "0                            0.0              1.0   \n",
       "1                            1.0              0.0   \n",
       "2                            0.0              1.0   \n",
       "3                            0.0              0.0   \n",
       "4                            0.0              1.0   \n",
       "\n",
       "   StreamingMovies_NoInternetService  StreamingMovies_Yes  \\\n",
       "0                                0.0                  0.0   \n",
       "1                                1.0                  0.0   \n",
       "2                                0.0                  1.0   \n",
       "3                                0.0                  0.0   \n",
       "4                                0.0                  1.0   \n",
       "\n",
       "   Contract_Month-to-month  Contract_One year  Contract_Two year  \\\n",
       "0                      1.0                0.0                0.0   \n",
       "1                      1.0                0.0                0.0   \n",
       "2                      0.0                1.0                0.0   \n",
       "3                      1.0                0.0                0.0   \n",
       "4                      1.0                0.0                0.0   \n",
       "\n",
       "   PaperlessBilling_Yes  PaymentMethod_BankTransfer  PaymentMethod_CreditCard  \\\n",
       "0                   1.0                         0.0                       0.0   \n",
       "1                   0.0                         0.0                       0.0   \n",
       "2                   0.0                         0.0                       0.0   \n",
       "3                   1.0                         0.0                       0.0   \n",
       "4                   0.0                         0.0                       0.0   \n",
       "\n",
       "   PaymentMethod_ElectronicCheck  PaymentMethod_MailedCheck    tenure  \\\n",
       "0                            1.0                        0.0 -0.808517   \n",
       "1                            0.0                        1.0 -0.930399   \n",
       "2                            1.0                        0.0 -0.199108   \n",
       "3                            1.0                        0.0 -0.199108   \n",
       "4                            0.0                        1.0 -1.255417   \n",
       "\n",
       "   MonthlyCharges  TotalCharges  \n",
       "0        0.679346     -0.520729  \n",
       "1       -1.448044     -0.909246  \n",
       "2        0.588006     -0.010377  \n",
       "3        0.514934     -0.024542  \n",
       "4        0.835454     -0.950256  "
      ]
     },
     "execution_count": 143,
     "metadata": {},
     "output_type": "execute_result"
    }
   ],
   "source": [
    "# Scaling numerical columns\n",
    "\n",
    "cols = ['tenure', 'MonthlyCharges', 'TotalCharges']\n",
    "\n",
    "scaler = StandardScaler()\n",
    "\n",
    "test_scaled = scaler.fit_transform(test[cols])\n",
    "\n",
    "# Create new DataFrames with the scaled values\n",
    "test_scaled_df = pd.DataFrame(test_scaled, columns=cols, index=test.index)\n",
    "\n",
    "# Drop the original unscaled columns\n",
    "test.drop(cols, axis=1, inplace=True)\n",
    "\n",
    "# Concatenate the scaled columns with the original DataFrames\n",
    "test = pd.concat([test, test_scaled_df], axis=1)\n",
    "\n",
    "test.head()"
   ]
  },
  {
   "cell_type": "markdown",
   "metadata": {},
   "source": [
    "#### Predictions"
   ]
  },
  {
   "cell_type": "code",
   "execution_count": 144,
   "metadata": {},
   "outputs": [
    {
     "data": {
      "text/plain": [
       "Predicted_Label\n",
       "No                 1407\n",
       "Yes                 590\n",
       "Name: count, dtype: int64"
      ]
     },
     "execution_count": 144,
     "metadata": {},
     "output_type": "execute_result"
    }
   ],
   "source": [
    "# Load the model\n",
    "loaded_model = load('Toolkit\\model.joblib')\n",
    "\n",
    "# Predict the labels on the preprocessed test data using the trained model\n",
    "predictions = loaded_model.predict(test)\n",
    "\n",
    "# Create a DataFrame to store the predictions\n",
    "predictions_df = pd.DataFrame(predictions, columns=['Predicted_Label'])\n",
    "\n",
    "# Map the numerical predictions to 'no' and 'yes'\n",
    "predictions_df['Predicted_Label'] = predictions_df['Predicted_Label'].map({0: 'No', 1: 'Yes'})\n",
    "\n",
    "# predictions_df['customerID'] = customerID\n",
    "\n",
    "predictions_df.value_counts()"
   ]
  },
  {
   "cell_type": "markdown",
   "metadata": {},
   "source": [
    "The predictions yielded 1407 instances classified as Not Churn and 590 instances classified as Churn."
   ]
  },
  {
   "cell_type": "code",
   "execution_count": 145,
   "metadata": {},
   "outputs": [
    {
     "data": {
      "image/png": "[encoded data removed]",
      "text/plain": [
       "<Figure size 400x400 with 1 Axes>"
      ]
     },
     "metadata": {},
     "output_type": "display_data"
    }
   ],
   "source": [
    "label_counts = predictions_df['Predicted_Label'].value_counts()\n",
    "\n",
    "# Convert the counts to numeric values\n",
    "count_values = label_counts.values\n",
    " \n",
    "# Create a pie chart using pyplot to visulaize churn rate\n",
    "\n",
    "plt.figure(figsize=(4, 4))\n",
    "\n",
    "plt.pie(count_values, labels=label_counts.index, colors=['LightBlue','LightSkyBlue'], startangle=50, shadow=True, radius=2,\n",
    "     explode=(0,0.2),autopct='%1.0f%%', pctdistance=0.75 ,  )\n",
    "Circle=plt.Circle((0,0), 1, color='white')\n",
    "c= plt.gcf()\n",
    "\n",
    "c.gca().add_artist(Circle)\n",
    "plt.axis('equal')  # Equal aspect ratio ensures that the pie chart is drawn as a circle.\n",
    "plt.title('Churn rate among customers')\n",
    "plt.show()"
   ]
  },
  {
   "cell_type": "markdown",
   "metadata": {},
   "source": [
    "## Conclusion"
   ]
  },
  {
   "cell_type": "markdown",
   "metadata": {},
   "source": [
    "- Number of months the customer has stayed with the company (tenure) and the contract term of the customer (contract) are the most important features that have strong correlation with churn of the customer\n",
    "\n",
    "- Vodafone should  enhance Early Customer Experience because in the first 5-10 months,  customer tenure shows a higher churn rate, suggesting that customer experience in the initial stages is vital. Focusing on improving onboarding processes, service quality, and addressing customer concerns during this crucial period with tech support can enhance customer satisfaction and loyalty.\n",
    "\n",
    "- Vodafone should Promote Long-Term Contracts, since the analysis indicates that customers with month-to-month contracts have a significantly higher churn rate compared to those with one-year or two-year contracts. Encouraging customers to opt for longer-term contracts through incentives, benefits, and increased tech support can potentially reduce churn rates and foster customer commitment.\n",
    "\n",
    "- Hyperparameter tuning does not always drasitically improve model performance\n",
    "\n",
    "- With 80/20 train/eval split, the random forest model achieved an accuracy of ~86%\n",
    "\n",
    "- Gradient Boosting models perform well on classification tasks, compared to other regular ML models"
   ]
  }
 ],
 "metadata": {
  "kernelspec": {
   "display_name": "Python 3 (ipykernel)",
   "language": "python",
   "name": "python3"
  },
  "language_info": {
   "codemirror_mode": {
    "name": "ipython",
    "version": 3
   },
   "file_extension": ".py",
   "mimetype": "text/x-python",
   "name": "python",
   "nbconvert_exporter": "python",
   "pygments_lexer": "ipython3",
   "version": "3.12.1"
  }
 },
 "nbformat": 4,
 "nbformat_minor": 4
}
